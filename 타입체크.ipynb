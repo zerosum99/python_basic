{
 "cells": [
  {
   "cell_type": "code",
   "execution_count": 3,
   "metadata": {},
   "outputs": [],
   "source": [
    "def typecheck(s,i,f) :\n",
    "    result = []\n",
    "    if isinstance(s, str) :\n",
    "        result.append(True)\n",
    "    else :\n",
    "        result.append(False)\n",
    "        \n",
    "    if isinstance(int(i), int) :\n",
    "        result.append(True)\n",
    "    else :\n",
    "        result.append(False)\n",
    "        \n",
    "    if isinstance(float(f), float) :\n",
    "        result.append(True)\n",
    "    else :\n",
    "        result.append(False)\n",
    "        \n",
    "    return result"
   ]
  },
  {
   "cell_type": "code",
   "execution_count": 4,
   "metadata": {},
   "outputs": [
    {
     "name": "stdout",
     "output_type": "stream",
     "text": [
      " 문자열 rr\n",
      "  정 수 100\n",
      "  실 수 100\n"
     ]
    }
   ],
   "source": [
    "while True :\n",
    "    s = input(\" 문자열 \") \n",
    "    i = input(\"  정 수 \")\n",
    "    f = input(\"  실 수 \")\n",
    "\n",
    "    tk = typecheck(s,i,f)\n",
    "    if sum(tk) == 3 :\n",
    "        break\n",
    "    else :\n",
    "        continue\n",
    "    "
   ]
  },
  {
   "cell_type": "code",
   "execution_count": null,
   "metadata": {},
   "outputs": [],
   "source": []
  }
 ],
 "metadata": {
  "kernelspec": {
   "display_name": "Python 3",
   "language": "python",
   "name": "python3"
  },
  "language_info": {
   "codemirror_mode": {
    "name": "ipython",
    "version": 3
   },
   "file_extension": ".py",
   "mimetype": "text/x-python",
   "name": "python",
   "nbconvert_exporter": "python",
   "pygments_lexer": "ipython3",
   "version": "3.7.7"
  }
 },
 "nbformat": 4,
 "nbformat_minor": 4
}
