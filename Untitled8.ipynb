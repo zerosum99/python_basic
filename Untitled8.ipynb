{
 "cells": [
  {
   "cell_type": "code",
   "execution_count": 1,
   "metadata": {},
   "outputs": [
    {
     "name": "stdout",
     "output_type": "stream",
     "text": [
      " : 3\n"
     ]
    }
   ],
   "source": [
    "s = input(\" : \")"
   ]
  },
  {
   "cell_type": "code",
   "execution_count": 2,
   "metadata": {},
   "outputs": [
    {
     "name": "stdout",
     "output_type": "stream",
     "text": [
      "Diamond 의 길이를 입력하세요(2~30) : 3\n",
      "  *\n",
      " ***\n",
      "*****\n",
      " ***\n",
      "  *\n"
     ]
    }
   ],
   "source": [
    "line = int(input(\"Diamond 의 길이를 입력하세요(2~30) : \"))\n",
    "\n",
    "for x in range(1, line * 2, 2):\n",
    "    print((\" \" * ( (line * 2 - 1 - x) // 2 )) + (\"*\" * x))\n",
    "\n",
    "for y in range(line * 2-3, 0, -2):\n",
    "    print((\" \" * ( (line * 2 - 1 - y) // 2 )) + \"*\" * y)"
   ]
  },
  {
   "cell_type": "code",
   "execution_count": 5,
   "metadata": {},
   "outputs": [
    {
     "name": "stdout",
     "output_type": "stream",
     "text": [
      "  3\n",
      " 333\n",
      "33333\n"
     ]
    }
   ],
   "source": [
    "for x in range(1, line * 2, 2):\n",
    "    print((\" \" * ( (line * 2 - 1 - x) // 2 )) + (f\"{s}\" * x))"
   ]
  },
  {
   "cell_type": "code",
   "execution_count": 4,
   "metadata": {},
   "outputs": [
    {
     "name": "stdout",
     "output_type": "stream",
     "text": [
      " ***\n",
      "  *\n"
     ]
    }
   ],
   "source": [
    "for y in range(line * 2-3, 0, -2):\n",
    "    print((\" \" * ( (line * 2 - 1 - y) // 2 )) + \"*\" * y)"
   ]
  },
  {
   "cell_type": "code",
   "execution_count": 40,
   "metadata": {},
   "outputs": [
    {
     "name": "stdout",
     "output_type": "stream",
     "text": [
      "  3\n",
      "3 5 7 5 3 \n",
      "3 5 7 5 3 \n",
      "3 5 7 5 3 \n",
      "3 5 7 5 3 \n"
     ]
    }
   ],
   "source": [
    "s = 3\n",
    "line = 3\n",
    "n = 5\n",
    "for i in range(n) :\n",
    "    x = 0\n",
    "    if i == 0 :\n",
    "        print((\" \" * ( (line * 2 - 1) // 2 )) + (f\"{s}\"))\n",
    "        continue\n",
    "        \n",
    "    for j in range(0,n) :\n",
    "        if (j == n//2) :\n",
    "            x = s + j *2 \n",
    "            \n",
    "        if (j > n//2) :\n",
    "            x = x -2 \n",
    "        \n",
    "        print(s+ j*2 if (j <= n//2) else  x , end=\" \")\n",
    "        \n",
    "    print()"
   ]
  },
  {
   "cell_type": "code",
   "execution_count": null,
   "metadata": {},
   "outputs": [],
   "source": []
  },
  {
   "cell_type": "code",
   "execution_count": 46,
   "metadata": {},
   "outputs": [
    {
     "name": "stdout",
     "output_type": "stream",
     "text": [
      "   3 5 7 5 3 \n",
      "   3 5 7 5 3 \n",
      "   3 5 7 5 3 \n"
     ]
    }
   ],
   "source": [
    "for i in range(line ):\n",
    "    print((\" \" * ( (line * 2 ) // 2 )), end=\"\")\n",
    "    for j in range(0,n) :\n",
    "        if (j == n//2) :\n",
    "            x = s + j *2 \n",
    "            \n",
    "        if (j > n//2) :\n",
    "            x = x -2 \n",
    "        \n",
    "        print(s+ j*2 if (j <= n//2) else  x , end=\" \")\n",
    "    print()"
   ]
  },
  {
   "cell_type": "code",
   "execution_count": null,
   "metadata": {},
   "outputs": [],
   "source": [
    "total = []\n",
    "for index in range(1, line + 1):\n",
    "list_data = []\n",
    "range_value = 2 * index - 1\n",
    "if index > (line / 2) + 1:\n",
    "range_value = line * 2 - (index* 2 - 1)\n",
    "for j_index in range(range_value):\n",
    "if j_index <= range_value / 2:\n",
    "if len(list_data) == 0:\n",
    "list_data.append(str(first))\n",
    "else:\n",
    "list_data.append(str(int(list_data[len(list_data) - 1]) + 2))\n",
    "else:\n",
    "list_data.append(str(int(list_data[len(list_data) - 1]) - 2))\n",
    "# blank maker\n",
    "line_value = line - len(list_data)\n",
    "for sub_index in range(line_value):\n",
    "if sub_index < line_value / 2:\n",
    "list_data.insert(0, ' ')\n",
    "else:\n",
    "list_data.append(' ')\n",
    "total.append(list_data)\n",
    "for tot in total:\n",
    "print(' '.join(tot))"
   ]
  }
 ],
 "metadata": {
  "kernelspec": {
   "display_name": "Python 3",
   "language": "python",
   "name": "python3"
  },
  "language_info": {
   "codemirror_mode": {
    "name": "ipython",
    "version": 3
   },
   "file_extension": ".py",
   "mimetype": "text/x-python",
   "name": "python",
   "nbconvert_exporter": "python",
   "pygments_lexer": "ipython3",
   "version": "3.7.7"
  }
 },
 "nbformat": 4,
 "nbformat_minor": 4
}
