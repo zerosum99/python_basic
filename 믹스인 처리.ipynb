{
 "cells": [
  {
   "cell_type": "code",
   "execution_count": null,
   "metadata": {
    "collapsed": true
   },
   "outputs": [],
   "source": [
    "import collections"
   ]
  },
  {
   "cell_type": "code",
   "execution_count": null,
   "metadata": {
    "collapsed": true
   },
   "outputs": [],
   "source": [
    "dir(collections)"
   ]
  },
  {
   "cell_type": "code",
   "execution_count": null,
   "metadata": {
    "collapsed": true
   },
   "outputs": [],
   "source": [
    "import numbers\n",
    "\n",
    "print(dir(numbers))"
   ]
  },
  {
   "cell_type": "code",
   "execution_count": null,
   "metadata": {
    "collapsed": true
   },
   "outputs": [],
   "source": [
    "import numbers\n",
    "   \n",
    "print(issubclass(float, numbers.Real))\n",
    "print(issubclass(int, numbers.Integral))\n",
    "print(issubclass(complex, numbers.Complex))\n",
    "\n",
    "print(issubclass(float, numbers.Number))\n",
    "print(issubclass(int, numbers.Number))\n",
    "print(issubclass(complex, numbers.Number))"
   ]
  },
  {
   "cell_type": "code",
   "execution_count": null,
   "metadata": {
    "collapsed": true
   },
   "outputs": [],
   "source": [
    "import numbers\n",
    "   \n",
    "print(isinstance(1.0, numbers.Real))\n",
    "print(isinstance(1, numbers.Integral))\n",
    "print(isinstance(True, numbers.Integral))\n",
    "print(isinstance(10 + 5j, numbers.Complex))\n",
    "\n",
    "print(isinstance(1.0, numbers.Number))\n",
    "print(isinstance(1, numbers.Number))\n",
    "print(isinstance(1+1j, numbers.Number))"
   ]
  },
  {
   "cell_type": "code",
   "execution_count": null,
   "metadata": {
    "collapsed": true
   },
   "outputs": [],
   "source": [
    "print(int.__bases__)\n",
    "print(numbers.Integral.__bases__)\n",
    "print(numbers.Rational.__bases__)\n",
    "print(numbers.Real.__bases__)\n",
    "print(numbers.Complex.__bases__)"
   ]
  },
  {
   "cell_type": "code",
   "execution_count": null,
   "metadata": {
    "collapsed": true
   },
   "outputs": [],
   "source": [
    "import collections\n",
    "\n",
    "dir(collections.abc)"
   ]
  },
  {
   "cell_type": "code",
   "execution_count": null,
   "metadata": {
    "collapsed": true
   },
   "outputs": [],
   "source": [
    "class A() :\n",
    "    a = numbers.ABCMeta('ints',(object,),{})\n",
    "    \n",
    "a = A()\n",
    "print(a)\n",
    "print(A.a)"
   ]
  },
  {
   "cell_type": "code",
   "execution_count": null,
   "metadata": {
    "collapsed": true
   },
   "outputs": [],
   "source": [
    "from abc import ABCMeta, abstractproperty\n",
    "\n",
    "class C(metaclass=ABCMeta):\n",
    "    @abstractproperty\n",
    "    def x(self):\n",
    "        pass\n",
    "\n",
    "\n",
    "class D(C):\n",
    "    def __init__(self, x) :\n",
    "        self._x = x        \n",
    "    @property\n",
    "    def x(self):\n",
    "        return self._x   \n",
    "    @x.setter\n",
    "    def x(self, val):\n",
    "        self._x = val\n",
    "        \n",
    "d = D(10) \n",
    "print(d)\n",
    "print(d.x)\n",
    "d.x = 99\n",
    "print(d.x)"
   ]
  },
  {
   "cell_type": "code",
   "execution_count": null,
   "metadata": {
    "collapsed": true
   },
   "outputs": [],
   "source": [
    "dir(abc)"
   ]
  },
  {
   "cell_type": "code",
   "execution_count": null,
   "metadata": {
    "collapsed": true
   },
   "outputs": [],
   "source": [
    "from abc import ABCMeta, abstractmethod\n",
    "\n",
    "class C(metaclass=ABCMeta):\n",
    "    @property\n",
    "    def x(self):\n",
    "        return self._x \n",
    "\n",
    "    @x.setter\n",
    "    @abstractmethod\n",
    "    def x(self, val):\n",
    "        pass\n",
    "    \n",
    "class D(C):\n",
    "    def __init__(self, x) :\n",
    "        self._x = x\n",
    "        \n",
    "    @C.x.setter\n",
    "    def x(self, val):\n",
    "        self._x = val\n",
    "        \n",
    "d = D(10) \n",
    "print(d)\n",
    "print(d.x)\n",
    "d.x = 99\n",
    "print(d.x)"
   ]
  },
  {
   "cell_type": "code",
   "execution_count": null,
   "metadata": {
    "collapsed": true
   },
   "outputs": [],
   "source": [
    "import numpy as np\n",
    "\n",
    "a = np.array([[1,2,3],[3,4,5]])\n",
    "# fancy는 row, columnes을 array로 처리 가능\n",
    "b = a[[1],[2]] \n",
    "# fancy와 일반 index 차이는 fancy 결과는 항상 array\n",
    "print(b, type(b))\n",
    "print(a[1,2], type(a[1,2]))\n",
    "\n",
    "# fancyindex에 새로운  array를 넣으면 새로운 array 생성\n",
    "c = a[[1,1]] \n",
    "print(c)\n",
    "c[0,1] = 100\n",
    "print(c)\n",
    "print(a)"
   ]
  },
  {
   "cell_type": "code",
   "execution_count": null,
   "metadata": {
    "collapsed": true
   },
   "outputs": [],
   "source": [
    "dir(str)"
   ]
  },
  {
   "cell_type": "code",
   "execution_count": null,
   "metadata": {
    "collapsed": true
   },
   "outputs": [],
   "source": [
    "import numbers\n",
    "print(dir(numbers))"
   ]
  },
  {
   "cell_type": "code",
   "execution_count": null,
   "metadata": {
    "collapsed": true
   },
   "outputs": [],
   "source": [
    "import abc\n",
    "print(dir(abc))"
   ]
  },
  {
   "cell_type": "markdown",
   "metadata": {},
   "source": [
    "# Mixin\n",
    "믹스 인은 특별한 종류의 다중 상속입니다. 믹스 인이 사용되는 두 가지 주요 상황이 있습니다 :\n",
    "\n",
    "한 클래스에 대해 많은 선택 기능을 제공하려고합니다.\n",
    "\n",
    "많은 다른 클래스에서 하나의 특정 기능을 사용하려고합니다."
   ]
  },
  {
   "cell_type": "code",
   "execution_count": null,
   "metadata": {
    "collapsed": true
   },
   "outputs": [],
   "source": [
    "# 많은 다른 클래스에서 하나의 특정 기능을 사용하려고합니다.\n",
    "\n",
    "class HasMethod1(object):\n",
    "    def method(self):\n",
    "        return 1\n",
    "\n",
    "class HasMethod2(object):\n",
    "    def method(self):\n",
    "        return 2\n",
    "\n",
    "class UsesMethod10(object):\n",
    "    def usesMethod(self):\n",
    "        return self.method() + 10\n",
    "\n",
    "class UsesMethod20(object):\n",
    "    def usesMethod(self):\n",
    "        return self.method() + 20\n",
    "\n",
    "class C1_10(HasMethod1, UsesMethod10): pass\n",
    "class C1_20(HasMethod1, UsesMethod20): pass\n",
    "class C2_10(HasMethod2, UsesMethod10): pass\n",
    "class C2_20(HasMethod2, UsesMethod20): pass\n",
    "\n",
    "print(C1_10().usesMethod() == 11)\n",
    "print(C1_20().usesMethod() == 21)\n",
    "print(C2_10().usesMethod() == 12)\n",
    "print(C2_20().usesMethod() == 22)\n",
    "\n",
    "# Nothing prevents implementing the method\n",
    "# on the base class like in Definition 1:\n",
    "\n",
    "class C3_10(UsesMethod10):\n",
    "    def method(self):\n",
    "        return 3\n",
    "\n",
    "print(C3_10().usesMethod() == 13)"
   ]
  },
  {
   "cell_type": "code",
   "execution_count": null,
   "metadata": {
    "collapsed": true
   },
   "outputs": [],
   "source": [
    "# 한 클래스에 대해 많은 선택 기능을 제공하려고합니다.\n",
    "class HasMethod1(object):\n",
    "    def hasmethod1(self):\n",
    "        return 1\n",
    "\n",
    "class HasMethod2(object):\n",
    "    def hasmethod2(self):\n",
    "        return 2\n",
    "\n",
    "class UsesMethod10(object):\n",
    "    def usesmethod10(self):\n",
    "        return self.method() + 10\n",
    "\n",
    "class UsesMethod20(object):\n",
    "    def usesmethod20(self):\n",
    "        return self.method() + 20\n",
    "\n",
    "class C1(HasMethod1,HasMethod2, UsesMethod10,UsesMethod20): \n",
    "    def method(self) :\n",
    "        return 10\n",
    "\n",
    "\n",
    "c = C1()\n",
    "print(c.hasmethod1())\n",
    "print(c.hasmethod2())\n",
    "print(c.usesmethod10())\n",
    "print(c.usesmethod20())"
   ]
  },
  {
   "cell_type": "code",
   "execution_count": null,
   "metadata": {
    "collapsed": true
   },
   "outputs": [],
   "source": [
    "import collections.abc as abc\n",
    "print(abc.Sequence.__bases__)\n",
    "s = abc.Sized.__dict__.keys()\n",
    "i = abc.Iterable.__dict__.keys()\n",
    "c = abc.Container.__dict__.keys()\n",
    "d1 = s^i\n",
    "d2 = s^c\n",
    "print(d1 | d2)\n"
   ]
  },
  {
   "cell_type": "code",
   "execution_count": null,
   "metadata": {
    "collapsed": true
   },
   "outputs": [],
   "source": [
    "import collections.abc as abc\n",
    "print(abc.Mapping.__bases__)\n",
    "s = abc.Sized.__dict__.keys()\n",
    "i = abc.Iterable.__dict__.keys()\n",
    "c = abc.Container.__dict__.keys()\n",
    "d1 = s^i\n",
    "d2 = s^c\n",
    "print(d1 | d2)"
   ]
  },
  {
   "cell_type": "markdown",
   "metadata": {},
   "source": [
    "##  추상화 데이터 타입을 상속하기\n",
    "\n",
    "      collections.abc 내의 추상화 데이터 타입을 가지고 상속할 경우는 해당 추상화 메소드에 대해\n",
    "      실행할 수 있는 메소드로 구현이 필요.\n",
    "      \n",
    "      일부 메소드는 추상화메소드가 아니므로 직접 실행이 가능 "
   ]
  },
  {
   "cell_type": "code",
   "execution_count": null,
   "metadata": {
    "collapsed": true
   },
   "outputs": [],
   "source": [
    "'AsyncIterable', 'AsyncIterator', 'Awaitable', 'ByteString', 'Callable', 'Container', 'Coroutine', 'Generator', 'Hashable', 'ItemsView', 'Iterable', 'Iterator', 'KeysView', 'Mapping', 'MappingView', 'MutableMapping', 'MutableSequence', 'MutableSet', 'Sequence', 'Set', 'Sized', 'ValuesView', "
   ]
  },
  {
   "cell_type": "code",
   "execution_count": null,
   "metadata": {
    "collapsed": true
   },
   "outputs": [],
   "source": [
    "import collections.abc as abc\n",
    "print(abc.Sequence.__bases__)\n",
    "\n",
    "st = abc.Sequence.__dict__.keys()\n",
    "s = abc.Sized.__dict__.keys()\n",
    "i = abc.Iterable.__dict__.keys()\n",
    "c = abc.Container.__dict__.keys()\n",
    "\n",
    "s1 = st - s\n",
    "s2 = st - i\n",
    "s3 = st - c\n",
    "s4 = s1 - i\n",
    "s5 = s1 - c\n",
    "print(s4 | s5 )"
   ]
  },
  {
   "cell_type": "code",
   "execution_count": null,
   "metadata": {
    "collapsed": true
   },
   "outputs": [],
   "source": [
    "import collections.abc as abc\n",
    "print(abc.Mapping.__bases__)\n",
    "\n",
    "st = abc.Mapping.__dict__.keys()\n",
    "s = abc.Sized.__dict__.keys()\n",
    "i = abc.Iterable.__dict__.keys()\n",
    "c = abc.Container.__dict__.keys()\n",
    "\n",
    "s1 = st - s\n",
    "s2 = st - i\n",
    "s3 = st - c\n",
    "s4 = s1 - i\n",
    "s5 = s1 - c\n",
    "print(s4 | s5 )"
   ]
  },
  {
   "cell_type": "code",
   "execution_count": null,
   "metadata": {
    "collapsed": true
   },
   "outputs": [],
   "source": [
    "import collections.abc as abc\n",
    "print(abc.Set.__bases__)\n",
    "\n",
    "st = abc.Set.__dict__.keys()\n",
    "s = abc.Sized.__dict__.keys()\n",
    "i = abc.Iterable.__dict__.keys()\n",
    "c = abc.Container.__dict__.keys()\n",
    "\n",
    "s1 = st - s\n",
    "s2 = st - i\n",
    "s3 = st - c\n",
    "s4 = s1 - i\n",
    "s5 = s1 - c\n",
    "print(s4 | s5 )"
   ]
  },
  {
   "cell_type": "code",
   "execution_count": null,
   "metadata": {
    "collapsed": true
   },
   "outputs": [],
   "source": [
    "import collections\n",
    "\n",
    "class ListBasedSet(collections.abc.Set):\n",
    "    ''' Alternate set implementation favoring space over speed\n",
    "        and not requiring the set elements to be hashable. '''\n",
    "    def __init__(self, iterable):\n",
    "        self.elements = lst = []\n",
    "        for value in iterable:\n",
    "            if value not in lst:\n",
    "                lst.append(value)\n",
    "\n",
    "    def __iter__(self):\n",
    "        return iter(self.elements)\n",
    "\n",
    "    def __contains__(self, value):\n",
    "        return value in self.elements\n",
    "\n",
    "    def __len__(self):\n",
    "        return len(self.elements)\n",
    "\n",
    "s1 = ListBasedSet('abcdef')\n",
    "s2 = ListBasedSet('defghi')\n",
    "overlap = s1 & s2            # The __and__() method is supported automatically\n",
    "\n",
    "print(overlap.__dict__)"
   ]
  },
  {
   "cell_type": "markdown",
   "metadata": {},
   "source": [
    "##  내장 데이터 타입을 상속하기\n",
    "\n",
    "      내장 데이터 타입을 상속할 경우는 기본적으로 base class로 초기화해야함"
   ]
  },
  {
   "cell_type": "code",
   "execution_count": null,
   "metadata": {
    "collapsed": true
   },
   "outputs": [],
   "source": [
    "\n",
    "class ListBasedSet(set):\n",
    "    ''' Alternate set implementation favoring space over speed\n",
    "        and not requiring the set elements to be hashable. '''\n",
    "    def __init__(self, iterable):\n",
    "        set.__init__(self,iterable)\n",
    "\n",
    "s1 = ListBasedSet('abcdef')\n",
    "print(s1)\n",
    "s2 = ListBasedSet('defghi')\n",
    "print(s2)\n",
    "overlap = s1.intersection(s2)            # The __and__() method is supported automatically\n",
    "\n",
    "print(overlap)\n",
    "print(s1.__and__(s2))\n",
    "print(s1 & s2)"
   ]
  },
  {
   "cell_type": "code",
   "execution_count": null,
   "metadata": {
    "collapsed": true
   },
   "outputs": [],
   "source": [
    "print(dir(set))"
   ]
  },
  {
   "cell_type": "code",
   "execution_count": null,
   "metadata": {
    "collapsed": true
   },
   "outputs": [],
   "source": [
    "type(collections.abc.Set.__and__)"
   ]
  },
  {
   "cell_type": "code",
   "execution_count": null,
   "metadata": {
    "collapsed": true
   },
   "outputs": [],
   "source": [
    "import mixin\n",
    "print(dir(mixin))\n",
    "print(help(mixin.mixin))"
   ]
  },
  {
   "cell_type": "code",
   "execution_count": null,
   "metadata": {
    "collapsed": true
   },
   "outputs": [],
   "source": [
    "!pip install mixin --upgrade"
   ]
  },
  {
   "cell_type": "markdown",
   "metadata": {},
   "source": [
    "## mixin 모듈 사용하기 \n",
    "\n",
    "   mixin 모듈은 기본적으로 상속을 하지않고 데코레이터를 기반으로 mixin을 연결해서 처리함\n",
    "   "
   ]
  },
  {
   "cell_type": "code",
   "execution_count": null,
   "metadata": {
    "collapsed": true
   },
   "outputs": [],
   "source": [
    "from mixin import Mixin, mixin\n",
    "\n",
    "class MixinA(Mixin):\n",
    "    def func_mixin_a(self):\n",
    "        return 'do_func_mixin_a'\n",
    "    \n",
    "class MixinB(Mixin):\n",
    "    def func_mixin_a(self):\n",
    "        return 'do_func_mixin_b'\n",
    "    \n",
    "@mixin(MixinA)\n",
    "@mixin(MixinB)\n",
    "class A(object): \n",
    "    pass\n",
    "\n",
    "a = A()\n",
    "print(a.func_mixin_a())\n",
    "\n",
    "@mixin(MixinB)\n",
    "@mixin(MixinA)\n",
    "class B(object): \n",
    "    pass\n",
    "\n",
    "b = B()\n",
    "print(b.func_mixin_a())"
   ]
  },
  {
   "cell_type": "markdown",
   "metadata": {},
   "source": [
    "### mixin은 상속시 에러 처리"
   ]
  },
  {
   "cell_type": "code",
   "execution_count": null,
   "metadata": {
    "collapsed": true
   },
   "outputs": [],
   "source": [
    "from mixin import Mixin, mixin\n",
    "class MixinA(Mixin):\n",
    "    def func_mixin_a(self):\n",
    "        return 'do_func_mixin_a'\n",
    "    \n",
    "\n",
    "class A(MixinA): pass\n",
    "\n",
    "a = A()\n",
    "print(a.func_mixin_a())"
   ]
  },
  {
   "cell_type": "markdown",
   "metadata": {},
   "source": [
    "###  mixin을 통한 여러 class 연결하기\n",
    "\n",
    "     mixin 모듈내의 mixin 함수를 이용해서 데코레이터를 연속해서 사용해서 여러 개의 클래스를 연결함"
   ]
  },
  {
   "cell_type": "code",
   "execution_count": null,
   "metadata": {
    "collapsed": true
   },
   "outputs": [],
   "source": [
    "class MixinA(Mixin):\n",
    "     def func_mixin_a(self):\n",
    "        return 'do_func_mixin_a'\n",
    "\n",
    "@mixin(MixinA)\n",
    "class MixinB(Mixin):\n",
    "    def func_mixin_b(self):\n",
    "        return 'do_func_mixin_b'\n",
    "    \n",
    "@mixin(MixinB)\n",
    "class M(object): pass\n",
    "\n",
    "m = M()\n",
    "print(m.func_mixin_a())\n",
    "\n",
    "print(m.func_mixin_b())\n"
   ]
  },
  {
   "cell_type": "markdown",
   "metadata": {},
   "source": [
    "## Python class member 관리하기\n",
    "\n",
    "    python은 class 변수와 메소드(인스턴스 메소드 포함)를 class에서 관리한다.\n",
    "    \n",
    "    class의 인스턴스는 단순히 __init__ 내의 변수만을 관리(인스턴스 메소드는 미존재)\n",
    "    \n",
    "    대신 instance는 object scope에 따라 class 내의 모든 멤버를 직접 접근이 가능함\n",
    "    "
   ]
  },
  {
   "cell_type": "code",
   "execution_count": null,
   "metadata": {
    "collapsed": true,
    "scrolled": true
   },
   "outputs": [],
   "source": [
    "class NP(object):\n",
    "    phrase = [\"green\", \"ideas\"]\n",
    "    def length(self):\n",
    "        return len(self.phrase)\n",
    "    \n",
    "a = NP()\n",
    "print(NP.phrase)\n",
    "print(a.length())\n",
    "print(a.phrase)"
   ]
  },
  {
   "cell_type": "code",
   "execution_count": null,
   "metadata": {
    "collapsed": true
   },
   "outputs": [],
   "source": [
    "# 클래스 정의\n",
    "class Token(object):\n",
    "    #생성자 초기화 정의\n",
    "    #파라미터는 인스턴스 내의 변수\n",
    "    def __init__(self, t):\n",
    "        self.t = t\n",
    "\n",
    "#class로 instance 생성시 __init__에 초기값을  부여\n",
    "c = Token('instance variable')\n",
    "print(c.__dict__)"
   ]
  },
  {
   "cell_type": "code",
   "execution_count": null,
   "metadata": {
    "collapsed": true
   },
   "outputs": [],
   "source": [
    "class Struggle:\n",
    "    def __len__(self): return 23\n",
    "    \n",
    "from collections import abc\n",
    "print(isinstance(Struggle(), abc.Sized))\n",
    "print(issubclass(Struggle, abc.Sized))"
   ]
  },
  {
   "cell_type": "code",
   "execution_count": null,
   "metadata": {
    "collapsed": true
   },
   "outputs": [],
   "source": [
    "from collections import abc\n",
    "print(dir(abc))"
   ]
  },
  {
   "cell_type": "code",
   "execution_count": null,
   "metadata": {
    "collapsed": true
   },
   "outputs": [],
   "source": [
    "print(abc.Container)\n",
    "\n",
    "print(abc.Container.__contains__([1,2,3],1))"
   ]
  },
  {
   "cell_type": "code",
   "execution_count": null,
   "metadata": {
    "collapsed": true
   },
   "outputs": [],
   "source": [
    "'s' in 'str'"
   ]
  },
  {
   "cell_type": "code",
   "execution_count": null,
   "metadata": {
    "collapsed": true
   },
   "outputs": [],
   "source": [
    "help(str.__contains__)"
   ]
  },
  {
   "cell_type": "code",
   "execution_count": null,
   "metadata": {
    "collapsed": true
   },
   "outputs": [],
   "source": [
    "'str'.__contains__('s')"
   ]
  },
  {
   "cell_type": "code",
   "execution_count": null,
   "metadata": {
    "collapsed": true
   },
   "outputs": [],
   "source": [
    "class CD(abc.Container) :\n",
    "    def __init__(self,val) :\n",
    "        self._str = val\n",
    "    \n",
    "    def __contains__(self,val) :\n",
    "        return val in self._str\n",
    "    \n",
    "c = CD(\"abc\")\n",
    "print( 'c' in c)\n",
    "print( c.__contains__('c'))"
   ]
  },
  {
   "cell_type": "code",
   "execution_count": null,
   "metadata": {
    "collapsed": true
   },
   "outputs": [],
   "source": [
    "print(abc.Container.__bases__)\n",
    "#__contains__"
   ]
  },
  {
   "cell_type": "code",
   "execution_count": null,
   "metadata": {
    "collapsed": true
   },
   "outputs": [],
   "source": [
    "print(abc.Iterable.__bases__)\n",
    "# __iter__"
   ]
  },
  {
   "cell_type": "code",
   "execution_count": null,
   "metadata": {
    "collapsed": true
   },
   "outputs": [],
   "source": [
    "print(abc.Sized.__bases__)\n",
    "#__len__"
   ]
  },
  {
   "cell_type": "code",
   "execution_count": null,
   "metadata": {
    "collapsed": true
   },
   "outputs": [],
   "source": [
    "print(abc.Sequence.__bases__)\n",
    "print(abc.Set.__bases__)\n",
    "print(abc.Mapping.__bases__)"
   ]
  },
  {
   "cell_type": "code",
   "execution_count": null,
   "metadata": {
    "collapsed": true
   },
   "outputs": [],
   "source": [
    "print(abc.MutableSequence.__bases__)"
   ]
  },
  {
   "cell_type": "code",
   "execution_count": null,
   "metadata": {
    "collapsed": true
   },
   "outputs": [],
   "source": [
    "print(abc.Iterable.__bases__)\n",
    "# __iter__\n",
    "print(abc.Iterator.__bases__)\n",
    "\n",
    "print(dir(abc.Iterator))"
   ]
  },
  {
   "cell_type": "code",
   "execution_count": null,
   "metadata": {
    "collapsed": true,
    "scrolled": true
   },
   "outputs": [],
   "source": [
    "#mapping view\n",
    "print(abc.Set.__bases__)\n",
    "print(abc.MappingView.__bases__)\n",
    "print(abc.KeysView.__bases__)\n",
    "print(abc.ValuesView.__bases__)\n",
    "print(abc.ItemsView.__bases__)\n",
    "\n",
    "a = {'a':1, 'b':2} \n",
    "print(type(a.keys()), isinstance(a.keys(), abc.KeysView))\n",
    "print(type(a.keys()), issubclass(a.keys().__class__, abc.KeysView))"
   ]
  },
  {
   "cell_type": "code",
   "execution_count": null,
   "metadata": {
    "collapsed": true
   },
   "outputs": [],
   "source": [
    "\n",
    "from abc import ABC, abstractmethod\n",
    "class A(ABC):\n",
    "    @abstractmethod\n",
    "    def foo(self):\n",
    "        pass\n",
    "    \n",
    "class B(A):\n",
    "    pass\n",
    "\n",
    "class C(B):\n",
    "    def foo(self):\n",
    "        print('Hello, World ccc')\n",
    "    \n",
    "c = C()\n",
    "c.foo()\n",
    "\n",
    "print(A.__bases__)\n",
    "print(B.__bases__)\n",
    "print(C.__bases__)\n",
    "\n",
    "print(A.__dict__)\n",
    "print(B.__dict__)\n",
    "print(C.__dict__)"
   ]
  },
  {
   "cell_type": "code",
   "execution_count": null,
   "metadata": {
    "collapsed": true
   },
   "outputs": [],
   "source": [
    "from abc import ABCMeta\n",
    "\n",
    "print(ABCMeta.__bases__)\n",
    "print(ABCMeta.mro(ABCMeta))\n"
   ]
  },
  {
   "cell_type": "code",
   "execution_count": null,
   "metadata": {
    "collapsed": true
   },
   "outputs": [],
   "source": [
    "from abc import ABCMeta\n",
    "\n",
    "class MyABC(metaclass=ABCMeta):\n",
    "    pass\n",
    "\n",
    "class MyCon(MyABC) :\n",
    "    pass\n",
    "a = MyCon()\n",
    "print(type(MyABC))\n",
    "print(type(MyCon))\n",
    "print(MyCon.__bases__)\n",
    "print( issubclass(MyCon, MyABC))\n",
    "print( isinstance(a, MyABC))"
   ]
  },
  {
   "cell_type": "code",
   "execution_count": null,
   "metadata": {
    "collapsed": true
   },
   "outputs": [],
   "source": [
    "from abc import ABCMeta\n",
    "\n",
    "class MyABC(metaclass=ABCMeta):\n",
    "    pass\n",
    "\n",
    "MyABC.register(tuple)\n",
    "print(type(MyABC))\n",
    "print( issubclass(list, MyABC))\n",
    "print( issubclass(tuple, MyABC))"
   ]
  },
  {
   "cell_type": "code",
   "execution_count": null,
   "metadata": {
    "collapsed": true
   },
   "outputs": [],
   "source": [
    "class Foo:\n",
    "    def __getitem__(self, index):\n",
    "        pass\n",
    "    def __len__(self):\n",
    "        return len(self)\n",
    "    def get_iterator(self):\n",
    "        return iter(self)\n",
    "\n",
    "class MyIterable(metaclass=ABCMeta):\n",
    "\n",
    "    @abstractmethod\n",
    "    def __iter__(self):\n",
    "        while False:\n",
    "            yield None\n",
    "\n",
    "    def get_iterator(self):\n",
    "        return self.__iter__()\n",
    "\n",
    "    @classmethod\n",
    "    def __subclasshook__(cls, C):\n",
    "        print(\" call \")\n",
    "        if cls is MyIterable:\n",
    "            if any(\"__iter__\" in B.__dict__ for B in C.__mro__):\n",
    "                return True\n",
    "        return NotImplemented\n",
    "\n",
    "MyIterable.register(Foo)\n",
    "\n",
    "print(issubclass(Foo, MyIterable))\n",
    "print(isinstance(Foo(), MyIterable))\n",
    "print(Foo.__dict__)"
   ]
  },
  {
   "cell_type": "code",
   "execution_count": null,
   "metadata": {
    "collapsed": true
   },
   "outputs": [],
   "source": [
    "class Container(metaclass=ABCMeta):\n",
    "    __slots__ = ()\n",
    "\n",
    "    @abstractmethod\n",
    "    def __contains__(self, x):\n",
    "        return False\n",
    "\n",
    "    @classmethod\n",
    "    def __subclasshook__(cls, C):\n",
    "        if cls is Container:\n",
    "            if any(\"__contains__\" in B.__dict__ for B in C.__mro__):\n",
    "                return True\n",
    "        return NotImplemented\n",
    "    \n",
    "class ContainAllTheThings(object):\n",
    "    def __contains__(self, item):\n",
    "        return True\n",
    "    \n",
    "print(issubclass(ContainAllTheThings, Container))\n",
    "print(isinstance(ContainAllTheThings(),Container))\n",
    "\n",
    "print(ContainAllTheThings.__bases__)\n",
    "print(Container.__bases__)"
   ]
  },
  {
   "cell_type": "code",
   "execution_count": null,
   "metadata": {
    "collapsed": true
   },
   "outputs": [],
   "source": [
    "from abc import ABCMeta, abstractmethod\n",
    "\n",
    "class Base(object):\n",
    "    __metaclass__ = ABCMeta\n",
    "\n",
    "    @abstractmethod\n",
    "    def foo(self):\n",
    "        pass\n",
    "\n",
    "    @abstractmethod\n",
    "    def bar(self):\n",
    "        pass\n",
    "\n",
    "\n",
    "class Concrete(Base):\n",
    "    def foo(self):\n",
    "        print(self, \"c foo\")\n",
    "\n",
    "\n",
    "\n",
    "\n",
    "c = Concrete()\n",
    "print(Concrete.__bases__)\n",
    "print(Concrete.mro())\n",
    "if isinstance(c,Base) :\n",
    "    print(\"ccc\")\n",
    "    c.foo()\n",
    "    c.bar()"
   ]
  },
  {
   "cell_type": "code",
   "execution_count": null,
   "metadata": {
    "collapsed": true
   },
   "outputs": [],
   "source": [
    "class A(metaclass = ABCMeta) :\n",
    "    \n",
    "    @classmethod\n",
    "    def __subclasshook__(cls,C) :\n",
    "        print(\" call A\")\n",
    "        return False\n",
    "\n",
    "class B(A) :\n",
    "    \n",
    "    def __init__(self,num):\n",
    "        pass\n",
    "    \n",
    "print(issubclass(A, ABCMeta))\n",
    "print(B.mro())     \n",
    "a = B(10)\n",
    "print(isinstance(a,A))\n",
    "print(issubclass(B,A))\n",
    "print(A.__subclasshook__(B))"
   ]
  },
  {
   "cell_type": "code",
   "execution_count": null,
   "metadata": {
    "collapsed": true
   },
   "outputs": [],
   "source": [
    "class A() :\n",
    "    __metaclass__ = ABCMeta\n",
    "    @classmethod\n",
    "    def __subclasshook__(cls,C) :\n",
    "        print(\" call A\")\n",
    "        return False\n",
    "\n",
    "class B(A) :\n",
    "    \n",
    "    def __init__(self,num):\n",
    "        pass\n",
    "    \n",
    "print(issubclass(A, ABCMeta))\n",
    "print(B.mro())   \n",
    "a = B(10)\n",
    "print(isinstance(a,A))\n",
    "print(issubclass(B,A))\n",
    "print(A.__subclasshook__(B))"
   ]
  },
  {
   "cell_type": "code",
   "execution_count": null,
   "metadata": {
    "collapsed": true
   },
   "outputs": [],
   "source": [
    "int.__subclasshook__(1.0)"
   ]
  },
  {
   "cell_type": "code",
   "execution_count": null,
   "metadata": {
    "collapsed": true
   },
   "outputs": [],
   "source": [
    "import abc\n",
    "dir(abc)"
   ]
  },
  {
   "cell_type": "code",
   "execution_count": null,
   "metadata": {
    "collapsed": true
   },
   "outputs": [],
   "source": [
    "import abc\n",
    "\n",
    "print(type(abc.ABC))\n",
    "\n",
    "class C(ABC) :\n",
    "    @abc.abstractclassmethod\n",
    "    def clsmethod(cls) :\n",
    "        return\n",
    "    @abc.abstractstaticmethod\n",
    "    def bmethod() :\n",
    "        return\n",
    "\n",
    "class CC(C) :\n",
    "    @classmethod\n",
    "    def clsmethod(cls) :\n",
    "        return \" concrete classmethod CC=> a\"\n",
    "    @staticmethod\n",
    "    def bmethod() :\n",
    "        return \" concrete staticmethod CC=> b\"\n",
    "c = CC()\n",
    "print(type(CC))\n",
    "print(CC.__bases__)\n",
    "print(c.clsmethod())\n",
    "print(c.bmethod())"
   ]
  },
  {
   "cell_type": "code",
   "execution_count": null,
   "metadata": {
    "collapsed": true,
    "scrolled": true
   },
   "outputs": [],
   "source": [
    "class C(ABCMeta) :\n",
    "    @classmethod\n",
    "    def __subclasshook__(cls,C) :\n",
    "        print(\" call C\")\n",
    "        return True\n",
    "\n",
    "print(type(ABCMeta))\n",
    "print(C.__class__)\n",
    "print(issubclass(C, ABCMeta))\n",
    "print(dir(C))\n"
   ]
  },
  {
   "cell_type": "code",
   "execution_count": null,
   "metadata": {
    "collapsed": true
   },
   "outputs": [],
   "source": [
    "print(dir(dict))"
   ]
  },
  {
   "cell_type": "code",
   "execution_count": null,
   "metadata": {
    "collapsed": true
   },
   "outputs": [],
   "source": [
    "l = {'a':1}\n",
    "print(l.fromkeys('a'))"
   ]
  },
  {
   "cell_type": "code",
   "execution_count": null,
   "metadata": {
    "collapsed": true
   },
   "outputs": [],
   "source": [
    "d = dict.fromkeys([1,2,3])\n",
    "print(d)"
   ]
  },
  {
   "cell_type": "code",
   "execution_count": null,
   "metadata": {
    "collapsed": true
   },
   "outputs": [],
   "source": [
    "import abc\n",
    "class C(object,metaclass=abc.ABCMeta) :\n",
    "    @classmethod\n",
    "    def __subclasshook__(cls,C) :\n",
    "        print(\" call C\")\n",
    "        return True\n",
    "    \n",
    "    \n",
    "class D(C) :\n",
    "    pass\n",
    "print(type(ABCMeta))\n",
    "\n",
    "#The main purpose of a metaclass is to change the class automatically,\n",
    "print(C.__class__)\n",
    "print(issubclass(D, abc.ABCMeta))\n",
    "print(issubclass(D, object))\n",
    "\n",
    "print(dir(C))\n"
   ]
  },
  {
   "cell_type": "code",
   "execution_count": null,
   "metadata": {
    "collapsed": true
   },
   "outputs": [],
   "source": [
    "import abc\n",
    "class C(object) :\n",
    "    __metaclass__=abc.ABCMeta\n",
    "   \n",
    "    @classmethod\n",
    "    def __subclasshook__(cls,C) :\n",
    "        print(\" call C\")\n",
    "        return True\n",
    "    \n",
    "    \n",
    "class D(C) :\n",
    "    pass\n",
    "\n",
    "print(type(ABCMeta))\n",
    "\n",
    "#The main purpose of a metaclass is to change the class automatically,\n",
    "print(C.__metaclass__)\n",
    "print(issubclass(D, abc.ABCMeta))\n",
    "print(issubclass(D, object))\n",
    "\n",
    "print(dir(D))\n"
   ]
  },
  {
   "cell_type": "code",
   "execution_count": null,
   "metadata": {
    "collapsed": true
   },
   "outputs": [],
   "source": [
    "import abc\n",
    "class C(abc.ABC) :\n",
    "       \n",
    "    @classmethod\n",
    "    def __subclasshook__(cls,C) :\n",
    "        print(\" call C\")\n",
    "        return True\n",
    "    \n",
    "    \n",
    "class D(C) :\n",
    "    pass\n",
    "\n",
    "\n",
    "#The main purpose of a metaclass is to change the class automatically,\n",
    "\n",
    "print(issubclass(D, abc.ABC))\n",
    "print(issubclass(D, object))\n",
    "\n",
    "print(dir(D))"
   ]
  },
  {
   "cell_type": "code",
   "execution_count": null,
   "metadata": {
    "collapsed": true
   },
   "outputs": [],
   "source": [
    "class silly(object):\n",
    "    def __metaclass__(*argv):\n",
    "        return type.__name__,type.__bases__\n",
    "    \n",
    "name = silly\n",
    "print(name)\n",
    "\n",
    "print(silly.__metaclass__())\n"
   ]
  },
  {
   "cell_type": "code",
   "execution_count": null,
   "metadata": {
    "collapsed": true
   },
   "outputs": [],
   "source": [
    "class silly(object):\n",
    "    __metaclass__ = 'silly'\n",
    "    \n",
    "name = silly\n",
    "print(name)"
   ]
  },
  {
   "cell_type": "code",
   "execution_count": null,
   "metadata": {
    "collapsed": true
   },
   "outputs": [],
   "source": [
    "dir(type)"
   ]
  },
  {
   "cell_type": "code",
   "execution_count": null,
   "metadata": {
    "collapsed": true
   },
   "outputs": [],
   "source": [
    "class SimpleMeta1(type):\n",
    "    def __init__(cls, name, bases, nmspc):\n",
    "        super(SimpleMeta1, cls).__init__(name, bases, nmspc)\n",
    "        cls.uses_metaclass = lambda self : \"Yes!\"\n",
    "\n",
    "class Simple1(object):\n",
    "    __metaclass__ = SimpleMeta1\n",
    "    def foo(self): pass\n",
    "    @staticmethod\n",
    "    def bar(): pass\n",
    "\n",
    "simple = Simple1()\n",
    "print([m for m in dir(simple) if not m.startswith('__')])\n",
    "# A new method has been injected by the metaclass:\n",
    "print(simple.__metaclass__.__dict__)"
   ]
  },
  {
   "cell_type": "code",
   "execution_count": null,
   "metadata": {
    "collapsed": true
   },
   "outputs": [],
   "source": [
    "def howdy(self, you):\n",
    "    print(\"Howdy, \" + you)\n",
    "\n",
    "MyList = type('MyList', (list,), dict(x=42, howdy=howdy))\n",
    "\n",
    "ml = MyList()\n",
    "ml.append(\"Camembert\")\n",
    "print(ml)\n",
    "print(MyList.__dict__)\n",
    "print(ml.x)\n",
    "ml.howdy(\"John\")\n",
    "\n",
    "print(ml.__class__)\n",
    "print(ml.__class__.__class__)"
   ]
  },
  {
   "cell_type": "code",
   "execution_count": null,
   "metadata": {
    "collapsed": true
   },
   "outputs": [],
   "source": [
    "class Simple4(object):\n",
    "    def __init__(self) :\n",
    "        self.uses_metaclass = lambda self : \"Yes!\"\n",
    "    @staticmethod\n",
    "    def __metaclass__(name='Simple4', bases=(object,), nmspc={}):\n",
    "        Simple4 = type(name, bases, nmspc)\n",
    "        \n",
    "        return  Simple4\n",
    "\n",
    "simple = Simple4()\n",
    "print(simple)\n",
    "print(simple.__class__)\n",
    "print(Simple4.__dict__)\n",
    "print(simple.uses_metaclass(simple))"
   ]
  },
  {
   "cell_type": "code",
   "execution_count": null,
   "metadata": {
    "collapsed": true
   },
   "outputs": [],
   "source": [
    "# __new__ 메쏘드에 인자의 내용을 출력하고 \n",
    "# type____ new__ 를 call의 결과를 반환한다는 점을 제외하고는 아무 일도하지 않는 것이 좋습니다 :\n",
    "\n",
    "class LittleMeta(type):\n",
    "    def __new__(cls, clsname, superclasses, attributedict):\n",
    "        print(\"clsname: \", clsname)\n",
    "        print(\"superclasses: \", superclasses)\n",
    "        print(\"attributedict: \", attributedict)\n",
    "        return type.__new__(cls, clsname, superclasses, attributedict)\n",
    "    \n",
    "class S:\n",
    "    pass\n",
    "\n",
    "class A(S, metaclass=LittleMeta):\n",
    "    pass\n",
    "\n",
    "a = A()\n",
    "\n",
    "print(a)"
   ]
  },
  {
   "cell_type": "code",
   "execution_count": null,
   "metadata": {
    "collapsed": true
   },
   "outputs": [],
   "source": [
    "class A(list, metaclass=type):\n",
    "    pass\n",
    "\n",
    "a = A()\n",
    "a.append(30)\n",
    "print(a)"
   ]
  },
  {
   "cell_type": "code",
   "execution_count": null,
   "metadata": {
    "collapsed": true
   },
   "outputs": [],
   "source": [
    "class B(list):\n",
    "    pass\n",
    "\n",
    "b = B()\n",
    "b.append(30)\n",
    "print(b)"
   ]
  },
  {
   "cell_type": "code",
   "execution_count": null,
   "metadata": {
    "collapsed": true
   },
   "outputs": [],
   "source": [
    "A = type('A',(list,),dict(list.__dict__))\n",
    "c = A()\n",
    "\n",
    "c.append(30)\n",
    "print(c)"
   ]
  },
  {
   "cell_type": "code",
   "execution_count": null,
   "metadata": {
    "collapsed": true
   },
   "outputs": [],
   "source": [
    "dict(list.__dict__)"
   ]
  },
  {
   "cell_type": "code",
   "execution_count": null,
   "metadata": {
    "collapsed": true
   },
   "outputs": [],
   "source": [
    "import abc\n",
    "\n",
    "\n",
    "class PB(metaclass=abc.ABCMeta):\n",
    "\n",
    "    @abc.abstractmethod\n",
    "    def load(self, input):\n",
    "        \"\"\"Retrieve data from the input source\n",
    "        and return an object.\n",
    "        \"\"\"\n",
    "\n",
    "    @abc.abstractmethod\n",
    "    def save(self, output, data):\n",
    "        \"\"\"Save the data object to the output.\"\"\"\n",
    "        \n",
    "class LocalBaseClass:\n",
    "    pass\n",
    "\n",
    "\n",
    "@PB.register\n",
    "class RegImp(LocalBaseClass):\n",
    "\n",
    "    def load(self, input):\n",
    "        return input.read()\n",
    "\n",
    "    def save(self, output, data):\n",
    "        return output.write(data)\n",
    "\n",
    "\n",
    "if __name__ == '__main__':\n",
    "    print('Subclass:', issubclass(RegImp,PB))\n",
    "    print('Instance:', isinstance(RegImp(),PB))"
   ]
  },
  {
   "cell_type": "code",
   "execution_count": null,
   "metadata": {
    "collapsed": true
   },
   "outputs": [],
   "source": [
    "import abc\n",
    "\n",
    "\n",
    "class PB(metaclass=abc.ABCMeta):\n",
    "\n",
    "    @abc.abstractmethod\n",
    "    def load(self, input):\n",
    "        \"\"\"Retrieve data from the input source\n",
    "        and return an object.\n",
    "        \"\"\"\n",
    "\n",
    "    @abc.abstractmethod\n",
    "    def save(self, output, data):\n",
    "        \"\"\"Save the data object to the output.\"\"\"\n",
    "    \n",
    "class SubImp(PB):\n",
    "\n",
    "    def load(self, input):\n",
    "        return input.read()\n",
    "\n",
    "    def save(self, output, data):\n",
    "        return output.write(data)\n",
    "\n",
    "\n",
    "if __name__ == '__main__':\n",
    "    print('Subclass:', issubclass(SubImp,PB))\n",
    "    print('Instance:', isinstance(SubImp(),PB))"
   ]
  },
  {
   "cell_type": "code",
   "execution_count": null,
   "metadata": {
    "collapsed": true
   },
   "outputs": [],
   "source": [
    "import abc\n",
    "\n",
    "\n",
    "class PB(metaclass=abc.ABCMeta):\n",
    "\n",
    "    @abc.abstractmethod\n",
    "    def load(self, input):\n",
    "        \"\"\"Retrieve data from the input source\n",
    "        and return an object.\n",
    "        \"\"\"\n",
    "\n",
    "    @abc.abstractmethod\n",
    "    def save(self, output, data):\n",
    "        \"\"\"Save the data object to the output.\"\"\"\n",
    "\n",
    "class LocalBaseClass:\n",
    "    pass\n",
    "\n",
    "#등록해서 추상화 class 처리\n",
    "@PB.register\n",
    "class RegImp(LocalBaseClass):\n",
    "\n",
    "    def load(self, input):\n",
    "        return input.read()\n",
    "\n",
    "    def save(self, output, data):\n",
    "        return output.write(data)\n",
    "    \n",
    "# 직접 상속받아 추상화 class 처리  \n",
    "class SubImp(PB):\n",
    "\n",
    "    def load(self, input):\n",
    "        return input.read()\n",
    "\n",
    "    def save(self, output, data):\n",
    "        return output.write(data)\n",
    "    \n",
    "#register에 등록된 클래스는 subclass에 포함되지 않음\n",
    "for sc in PB.__subclasses__():\n",
    "    print(sc.__name__)"
   ]
  },
  {
   "cell_type": "code",
   "execution_count": null,
   "metadata": {
    "collapsed": true
   },
   "outputs": [],
   "source": [
    "type(PB) "
   ]
  },
  {
   "cell_type": "code",
   "execution_count": null,
   "metadata": {
    "collapsed": true
   },
   "outputs": [],
   "source": [
    "#추상 클래스를 올바르게 설정하기 쉽도록 메타 클래스를 자동으로 설정하는 기본 클래스가 제공\n",
    "\n",
    "import abc\n",
    "\n",
    "\n",
    "class PB(abc.ABC):\n",
    "\n",
    "    @abc.abstractmethod\n",
    "    def load(self, input):\n",
    "        \"\"\"Retrieve data from the input source\n",
    "        and return an object.\n",
    "        \"\"\"\n",
    "\n",
    "    @abc.abstractmethod\n",
    "    def save(self, output, data):\n",
    "        \"\"\"Save the data object to the output.\"\"\"\n",
    "    \n",
    "class SubImp(PB):\n",
    "\n",
    "    def load(self, input):\n",
    "        return input.read()\n",
    "\n",
    "    def save(self, output, data):\n",
    "        return output.write(data)\n",
    "\n",
    "\n",
    "if __name__ == '__main__':\n",
    "    print('Subclass:', issubclass(SubImp,PB))\n",
    "    print('Instance:', isinstance(SubImp(),PB))"
   ]
  },
  {
   "cell_type": "code",
   "execution_count": null,
   "metadata": {
    "collapsed": true
   },
   "outputs": [],
   "source": [
    "dir(abc.ABC)"
   ]
  },
  {
   "cell_type": "code",
   "execution_count": null,
   "metadata": {
    "collapsed": true
   },
   "outputs": [],
   "source": [
    "dir(abc.ABCMeta)"
   ]
  },
  {
   "cell_type": "code",
   "execution_count": null,
   "metadata": {
    "collapsed": true
   },
   "outputs": [],
   "source": [
    "type(abc.ABC)"
   ]
  },
  {
   "cell_type": "code",
   "execution_count": null,
   "metadata": {
    "collapsed": true
   },
   "outputs": [],
   "source": [
    "type(abc.ABCMeta)"
   ]
  },
  {
   "cell_type": "code",
   "execution_count": null,
   "metadata": {
    "collapsed": true
   },
   "outputs": [],
   "source": [
    "import abc\n",
    "\n",
    "\n",
    "class Base(abc.ABC):\n",
    "\n",
    "    @property\n",
    "    @abc.abstractmethod\n",
    "    def value(self):\n",
    "        return 'Should never reach here'\n",
    "\n",
    "    @property\n",
    "    @abc.abstractmethod\n",
    "    def constant(self):\n",
    "        return 'Should never reach here'\n",
    "\n",
    "\n",
    "class Implementation(Base):\n",
    "\n",
    "    @property\n",
    "    def value(self):\n",
    "        return 'concrete property'\n",
    "    '''\n",
    "    @property\n",
    "    def constant(self):\n",
    "        return 'set by a class attribute'\n",
    "    '''\n",
    "\n",
    "i = Implementation()\n",
    "print('Implementation.value   :', i.value)\n",
    "print('Implementation.constant:', i.constant)"
   ]
  },
  {
   "cell_type": "code",
   "execution_count": null,
   "metadata": {
    "collapsed": true
   },
   "outputs": [],
   "source": [
    "import abc\n",
    "\n",
    "class B(abc.ABC):\n",
    "\n",
    "    @classmethod\n",
    "    @abc.abstractmethod\n",
    "    def f1(cls, *args):\n",
    "        return 'abstract class method f1'\n",
    "\n",
    "    @staticmethod\n",
    "    @abc.abstractmethod\n",
    "    def f2():\n",
    "        return 'abstract static f2'\n",
    "    \n",
    "class Impl(B):\n",
    "   \n",
    "    def do_something(self):\n",
    "        return ' instance method '\n",
    "\n",
    "    @classmethod\n",
    "    def f1(cls, *args):\n",
    "        return 'concrete class method f1'\n",
    "\n",
    "    @staticmethod\n",
    "    def f2():\n",
    "        return ' concrete static f2'\n",
    "\n",
    "    \n",
    "i = Impl()\n",
    "print(i.do_something())\n",
    "print(i.f1())\n",
    "print(i.f2())\n",
    "\n",
    "print(Impl.f1())\n",
    "print(Impl.f2())"
   ]
  },
  {
   "cell_type": "code",
   "execution_count": null,
   "metadata": {
    "collapsed": true
   },
   "outputs": [],
   "source": [
    "import abc\n",
    "\n",
    "\n",
    "class Base(abc.ABC):\n",
    "\n",
    "    @property\n",
    "    @abc.abstractmethod\n",
    "    def value(self):\n",
    "        return 'Should never reach here'\n",
    "\n",
    "    @value.setter\n",
    "    @abc.abstractmethod\n",
    "    def value(self, new_value):\n",
    "        return\n",
    "    \n",
    "class PartialImplementation(Base):\n",
    "\n",
    "    @property\n",
    "    def value(self):\n",
    "        return 'Read-only'\n",
    "\n",
    "\n",
    "class Implementation(Base):\n",
    "\n",
    "    _value = 'Default value'\n",
    "\n",
    "    @property\n",
    "    def value(self):\n",
    "        return self._value\n",
    "\n",
    "    @value.setter\n",
    "    def value(self, new_value):\n",
    "        self._value = new_value\n",
    "        \n",
    "\n",
    "p = PartialImplementation()\n",
    "print('PartialImplementation.value:', p.value)\n",
    "\n",
    "try:\n",
    "    p.value = 'Alteration'\n",
    "    print('PartialImplementation.value:', p.value)\n",
    "except Exception as err:\n",
    "    print('ERROR:', str(err))\n",
    "\n",
    "i = Implementation()\n",
    "print('Implementation.value:', i.value)\n",
    "\n",
    "i.value = 'New value'\n",
    "print('Changed value:', i.value)"
   ]
  },
  {
   "cell_type": "code",
   "execution_count": null,
   "metadata": {
    "collapsed": true
   },
   "outputs": [],
   "source": [
    "import abc\n",
    "\n",
    "\n",
    "class Base(abc.ABC):\n",
    "    \n",
    "\n",
    "    @property\n",
    "    @abc.abstractmethod\n",
    "    def value(self):\n",
    "        return 'Should never reach here'\n",
    "\n",
    "    @value.setter\n",
    "    @abc.abstractmethod\n",
    "    def value(self, new_value):\n",
    "        return\n",
    "    \n",
    "class PartialImplementation(Base):\n",
    "\n",
    "    @property\n",
    "    def value(self):\n",
    "        return 'Read-only'\n",
    "    \n",
    "p = PartialImplementation()\n",
    "print('PartialImplementation.value:', p.value)\n",
    "\n",
    "print(p.value)\n"
   ]
  },
  {
   "cell_type": "markdown",
   "metadata": {},
   "source": [
    "## 메타클래스\n",
    "메타클래스는 다른 클래스를 인스턴스로 가지고 있는 클래스이다. Python 3에서는 다른 메타클래스를 만들거나 런타임에 클래스를 동적으로 만드는 데 사용되는 내장 metaclass 유형이 계속 지원되므로 다음과 같은 구문을 사용할 수 있다."
   ]
  },
  {
   "cell_type": "code",
   "execution_count": null,
   "metadata": {
    "collapsed": true
   },
   "outputs": [],
   "source": [
    "\n",
    "def __init__(self,name) :\n",
    "    self.name = name\n",
    "    \n",
    "\n",
    "ClassA = type('ClassA', \n",
    "   (object,), \n",
    "   {'__init__' : __init__,'getName': lambda self : self.name})\n",
    "\n",
    "a = ClassA('dahl')\n",
    "print(a)\n",
    "print(a.getName)\n",
    "print(a.getName())"
   ]
  },
  {
   "cell_type": "code",
   "execution_count": null,
   "metadata": {
    "collapsed": true
   },
   "outputs": [],
   "source": [
    "def __init__(self,name) :\n",
    "    self.name = name\n",
    "d = {'__init__' : __init__,'getName': lambda self : self.name}\n",
    "\n",
    "class meta(type):\n",
    "    def __new__(cls, className, baseClasses, dictOfMethods):\n",
    "        return type.__new__(cls, className, baseClasses, dictOfMethods)\n",
    "    \n",
    "b = meta('ClassA',(object,), d)\n",
    "\n",
    "b = ClassA('dahl')\n",
    "print(b)\n",
    "print(b.getName)\n",
    "print(b.getName())"
   ]
  },
  {
   "cell_type": "code",
   "execution_count": null,
   "metadata": {
    "collapsed": true
   },
   "outputs": [],
   "source": [
    "import abc\n",
    "\n",
    "def amethod(self) :\n",
    "    return ' abc method'\n",
    "\n",
    "AClass = abc.ABCMeta('AClass',(object,),{'amethod':amethod})\n",
    "\n",
    "print(type(AClass))\n",
    "\n",
    "class Concrete(AClass) :\n",
    "    def __init__(self) :\n",
    "        pass\n",
    "    def amethod(self) :\n",
    "        return ' concrete method'\n",
    "    \n",
    "cc = Concrete() \n",
    "print(cc.amethod())\n"
   ]
  },
  {
   "cell_type": "code",
   "execution_count": null,
   "metadata": {
    "collapsed": true
   },
   "outputs": [],
   "source": [
    "import abc\n",
    "\n",
    "class Aclass(metaclass=abc.ABCMeta) :\n",
    "    @abc.abstractmethod\n",
    "    def amethod(self) :\n",
    "        return ' abc method'\n",
    "\n",
    "\n",
    "print(type(AClass))\n",
    "c = Aclass()\n",
    "print(c.amethod())\n",
    "\n",
    "class Concrete(AClass) :\n",
    "    def __init__(self) :\n",
    "        pass\n",
    "    def amethod(self) :\n",
    "        return ' concrete method'\n",
    "    \n",
    "cc = Concrete() \n",
    "print(cc.amethod())"
   ]
  },
  {
   "cell_type": "code",
   "execution_count": null,
   "metadata": {
    "collapsed": true
   },
   "outputs": [],
   "source": [
    "\n",
    "def meth(self):\n",
    "    print(\"Calling method\")\n",
    "\n",
    "class MyMeta(type):\n",
    "    def __new__(cls, name, baseClasses, classdict):\n",
    "        \n",
    "        return type.__new__(cls, name, baseClasses, classdict)\n",
    "    \n",
    "    @classmethod\n",
    "    def __prepare__(cls, name, baseClasses):\n",
    "        return {'meth':meth}\n",
    "    \n",
    "\n",
    "\n",
    "class Test(metaclass = MyMeta):\n",
    "    attr = 'an attribute'\n",
    "    def __init__(self):\n",
    "         pass\n",
    "        \n",
    "print(type(MyMeta))\n",
    "print(dir(MyMeta))\n",
    "print(type(Test))\n",
    "print(dir(Test))\n",
    "    \n",
    "t = Test()\n",
    "print(t.attr)\n",
    "print(t.meth())"
   ]
  },
  {
   "cell_type": "code",
   "execution_count": null,
   "metadata": {
    "collapsed": true
   },
   "outputs": [],
   "source": [
    "\n",
    "\n",
    "class OClass(type):\n",
    "    def __new__(cls, name, bases, namespace, **kwds):\n",
    "        result = type.__new__(cls, name, bases, namespace)\n",
    "        result.members = tuple(namespace)\n",
    "        return result\n",
    "    @classmethod\n",
    "    def __prepare__(metacls, name, bases, **kwds):\n",
    "        return { }\n",
    "    \n",
    "\n",
    "class A(metaclass=OClass):\n",
    "    def __init__(self) :\n",
    "        pass\n",
    "    def one(self): pass\n",
    "    def two(self): pass\n",
    "    def three(self): pass\n",
    "    def four(self): pass\n",
    "\n",
    "print(A.members)\n",
    "print(type(A.__dict__))\n",
    "a = A()\n",
    "print(dir(a))\n",
    "print(a.__dict__)"
   ]
  },
  {
   "cell_type": "code",
   "execution_count": null,
   "metadata": {
    "collapsed": true
   },
   "outputs": [],
   "source": [
    "print(collections.OrderedDict())"
   ]
  },
  {
   "cell_type": "markdown",
   "metadata": {},
   "source": [
    "## class 정의가 실행되는 순서\n",
    "\n",
    " 1. 적절한 메타 클래스를 결정 : the appropriate metaclass is determined\n",
    "         . if no bases and no explicit metaclass are given, then type() is used\n",
    "         . if an explicit metaclass is given and it is not an instance of type(), then it is used directly as the metaclass\n",
    "         . if an instance of type() is given as the explicit metaclass, or bases are defined, then the most derived metaclass \n",
    "           is used\n",
    " 2. 클래스 namespace를 준비 : the class namespace is prepared\n",
    "         . Once the appropriate metaclass has been identified, then the class namespace is prepared. If the metaclass has\n",
    "           a __prepare__ attribute, it is called as namespace = metaclass.__prepare__(name, bases, **kwds)\n",
    " 3. 클래스 body를 실행 : the class body is executed\n",
    "         . The class body is executed (approximately) as exec(body, globals(), namespace)\n",
    " 4. 클래스 object를 만듬  : the class object is created\n",
    "         . Once the class namespace has been populated by executing the class body, the class object is created by calling\n",
    "           metaclass(name, bases, namespace, **kwds) \n"
   ]
  },
  {
   "cell_type": "code",
   "execution_count": null,
   "metadata": {
    "collapsed": true
   },
   "outputs": [],
   "source": [
    "# 메타 클래스 정의\n",
    "class Meta(type) :\n",
    "    def __new__(cls, name, bases, namespace):\n",
    "        result = type.__new__(cls, name, bases, namespace)\n",
    "        result.members = tuple(namespace)\n",
    "        return result\n",
    "    @classmethod\n",
    "    def __prepare__(metacls, name, bases):\n",
    "        return { }\n",
    "    \n",
    "# class 정의 및 metaclass 지정\n",
    "class A(metaclass=Meta):\n",
    "    def __init__(self) :\n",
    "        pass\n",
    "    def one(self): pass\n",
    "    def two(self): pass\n",
    "    def three(self): pass\n",
    "    def four(self): pass\n",
    "    \n",
    "a = A()\n",
    "print(\"the appropriate metaclass is determined ==> \")\n",
    "print(type(A))\n",
    "print(\"the class namespace is prepared  ===>\")\n",
    "print(A.__dict__)"
   ]
  },
  {
   "cell_type": "code",
   "execution_count": null,
   "metadata": {
    "collapsed": true
   },
   "outputs": [],
   "source": [
    "help(type.__prepare__)"
   ]
  },
  {
   "cell_type": "code",
   "execution_count": null,
   "metadata": {
    "collapsed": true
   },
   "outputs": [],
   "source": [
    "a = type.__prepare__('AClass',(object,))\n",
    "print(a)"
   ]
  },
  {
   "cell_type": "code",
   "execution_count": null,
   "metadata": {
    "collapsed": true
   },
   "outputs": [],
   "source": [
    "# 메타 클래스 정의\n",
    "class Meta(type) :\n",
    "    def __new__(cls, name, bases, namespace):\n",
    "        result = type.__new__(cls, name, bases, namespace)\n",
    "        return result\n",
    "    @classmethod\n",
    "    def __prepare__(metacls, name, bases):\n",
    "        return { }\n",
    "    \n",
    "# class 정의 및 metaclass 지정\n",
    "class A(metaclass=Meta):\n",
    "    def __init__(self) :\n",
    "        pass\n",
    "    def one(self): pass\n",
    "    def two(self): pass\n",
    "    def three(self): pass\n",
    "    def four(self): pass\n",
    "    \n",
    "a = A()\n",
    "print(\"the appropriate metaclass is determined ==> \")\n",
    "print(type(A))\n",
    "print(\"the class namespace is prepared  ===>\")\n",
    "print(A.__dict__)"
   ]
  },
  {
   "cell_type": "code",
   "execution_count": null,
   "metadata": {
    "collapsed": true
   },
   "outputs": [],
   "source": [
    "# 메타 클래스 정의\n",
    "class Meta(type) :\n",
    "    def __new__(cls, name, bases, namespace):\n",
    "        print(\"before name space \", namespace)\n",
    "        result = type.__new__(cls, name, bases, namespace)\n",
    "        \n",
    "        return result\n",
    "    @classmethod\n",
    "    def __prepare__(metacls, name, bases):\n",
    "        return {\" abc\" : \"abc\" }\n",
    "    \n",
    "print(Meta)\n",
    "print(Meta.__prepare__('aaa',(object,)))\n",
    "\n",
    "\n",
    "  \n",
    "# class 정의 및 metaclass 지정\n",
    "class A(metaclass=Meta):\n",
    "    def __init__(self) :\n",
    "        pass\n",
    "    def one(self): pass\n",
    "    def two(self): pass\n",
    "    def three(self): pass\n",
    "    def four(self): pass\n",
    "    \n",
    "a = A()\n",
    "print(\"the appropriate metaclass is determined ==> \")\n",
    "print(type(A))\n",
    "print(\"the class namespace is prepared  ===>\")\n",
    "print(A.__dict__)\n"
   ]
  },
  {
   "cell_type": "code",
   "execution_count": null,
   "metadata": {
    "collapsed": true
   },
   "outputs": [],
   "source": [
    "class A :\n",
    "    pass\n",
    "\n",
    "a = A()\n",
    "print(A.__class__)\n",
    "print(A.__bases__)\n",
    "print(a.__class__)"
   ]
  },
  {
   "cell_type": "code",
   "execution_count": null,
   "metadata": {
    "collapsed": true
   },
   "outputs": [],
   "source": [
    "class Meta(type) :\n",
    "    pass\n",
    "class A(metaclass= Meta):\n",
    "    pass\n",
    "\n",
    "a = A()\n",
    "print(A.__class__)\n",
    "print(A.__bases__)\n",
    "print(a.__class__)"
   ]
  },
  {
   "cell_type": "code",
   "execution_count": null,
   "metadata": {
    "collapsed": true
   },
   "outputs": [],
   "source": [
    "class Meta(type) :\n",
    "    pass\n",
    "\n",
    "class A( metaclass=Meta):\n",
    "    pass\n",
    "\n",
    "a = Meta('B',(object,),{})\n",
    "print(A.__class__)\n",
    "print(A.__bases__)\n",
    "print(a.__class__)\n",
    "print(a.__bases__)"
   ]
  },
  {
   "cell_type": "code",
   "execution_count": null,
   "metadata": {
    "collapsed": true
   },
   "outputs": [],
   "source": [
    "a = type('Aclass',(object,),{})\n",
    "print(a.__dict__)"
   ]
  },
  {
   "cell_type": "code",
   "execution_count": null,
   "metadata": {
    "collapsed": true
   },
   "outputs": [],
   "source": [
    "class A() :\n",
    "    pass\n",
    "\n",
    "b = A()\n",
    "print(a.__dict__)"
   ]
  },
  {
   "cell_type": "code",
   "execution_count": null,
   "metadata": {
    "collapsed": true
   },
   "outputs": [],
   "source": [
    "print(None.__class__)\n",
    "print(None.__class__.__class__)\n",
    "print(isinstance(None, None.__class__))\n",
    "print(isinstance(None.__class__, type))"
   ]
  },
  {
   "cell_type": "code",
   "execution_count": null,
   "metadata": {
    "collapsed": true
   },
   "outputs": [],
   "source": [
    "def func() :\n",
    "    return None\n",
    "\n",
    "if func() :\n",
    "    print(\" True \")\n",
    "else :\n",
    "    print(\" False \")  "
   ]
  },
  {
   "cell_type": "code",
   "execution_count": null,
   "metadata": {
    "collapsed": true
   },
   "outputs": [],
   "source": [
    "type(NotImplemented)"
   ]
  },
  {
   "cell_type": "code",
   "execution_count": null,
   "metadata": {
    "collapsed": true
   },
   "outputs": [],
   "source": [
    "print(NotImplemented.__class__)\n",
    "print(NotImplemented.__class__.__class__)\n",
    "print(isinstance(NotImplemented, NotImplemented.__class__))\n",
    "print(isinstance(NotImplemented.__class__, type))"
   ]
  },
  {
   "cell_type": "code",
   "execution_count": null,
   "metadata": {
    "collapsed": true
   },
   "outputs": [],
   "source": [
    "def func(num=0) :\n",
    "    if num == 1 :\n",
    "        return NotImplemented\n",
    "    else :\n",
    "        return 0\n",
    "\n",
    "if func(1) :\n",
    "    print(\" True \")\n",
    "else :\n",
    "    print(\" False \")"
   ]
  },
  {
   "cell_type": "code",
   "execution_count": null,
   "metadata": {
    "collapsed": true
   },
   "outputs": [],
   "source": [
    "Ellipsis\n",
    "print(Ellipsis.__class__)\n",
    "print(Ellipsis.__class__.__class__)\n",
    "print(isinstance(Ellipsis, Ellipsis.__class__))\n",
    "print(isinstance(Ellipsis.__class__, type))"
   ]
  },
  {
   "cell_type": "code",
   "execution_count": null,
   "metadata": {
    "collapsed": true
   },
   "outputs": [],
   "source": [
    "def func(num=0) :\n",
    "    if num == 1 :\n",
    "        return Ellipsis\n",
    "    else :\n",
    "        return 0\n",
    "\n",
    "if func(1) :\n",
    "    print(\" True \")\n",
    "else :\n",
    "    print(\" False \")"
   ]
  },
  {
   "cell_type": "code",
   "execution_count": null,
   "metadata": {
    "collapsed": true
   },
   "outputs": [],
   "source": [
    "import numpy as np\n",
    "t = np.random.rand(2, 3, 4, 5)\n",
    "\n",
    "# select 1st element from last dimension, copy rest\n",
    "print(t[..., 0].shape)\n",
    "\n",
    "# select 1st element from first dimension, copy rest\n",
    "print(t[0, ...].shape) \n"
   ]
  },
  {
   "cell_type": "code",
   "execution_count": null,
   "metadata": {
    "collapsed": true
   },
   "outputs": [],
   "source": [
    "l = [1,2,3,4]\n",
    "print(l[...])"
   ]
  },
  {
   "cell_type": "code",
   "execution_count": null,
   "metadata": {
    "collapsed": true
   },
   "outputs": [],
   "source": [
    "dir(frozenset)"
   ]
  },
  {
   "cell_type": "code",
   "execution_count": null,
   "metadata": {
    "collapsed": true
   },
   "outputs": [],
   "source": [
    "   \n",
    "class B(object):\n",
    "    def c(self):\n",
    "         return \" B class \"\n",
    "\n",
    "b = B()\n",
    "print(b.c)\n",
    "print(B.__dict__[\"c\"])\n",
    "\n",
    "print(B.__dict__[\"c\"].__get__(b, B))"
   ]
  },
  {
   "cell_type": "code",
   "execution_count": null,
   "metadata": {
    "collapsed": true
   },
   "outputs": [],
   "source": [
    "class B(object):\n",
    "    def c(self):\n",
    "        pass\n",
    "    \n",
    "print(B.c.__get__(b,B))\n",
    "print(B.c.__class__)"
   ]
  },
  {
   "cell_type": "code",
   "execution_count": null,
   "metadata": {
    "collapsed": true
   },
   "outputs": [],
   "source": [
    "def a() :\n",
    "    return \" function a\"\n",
    "\n",
    "print(a)\n",
    "print(\"get \",a.__get__(a,a.__class__))\n",
    "print(a.__class__)\n"
   ]
  },
  {
   "cell_type": "code",
   "execution_count": null,
   "metadata": {
    "collapsed": true
   },
   "outputs": [],
   "source": [
    "type(a.__get__)"
   ]
  },
  {
   "cell_type": "code",
   "execution_count": null,
   "metadata": {
    "collapsed": true
   },
   "outputs": [],
   "source": [
    "print(int.__add__.__get__(1,int))\n",
    "print(int.__add__(1,2))"
   ]
  },
  {
   "cell_type": "code",
   "execution_count": null,
   "metadata": {
    "collapsed": true
   },
   "outputs": [],
   "source": [
    "a.__class__.__get__"
   ]
  },
  {
   "cell_type": "code",
   "execution_count": null,
   "metadata": {
    "collapsed": true
   },
   "outputs": [],
   "source": [
    "B.c.__class__.__get__"
   ]
  },
  {
   "cell_type": "code",
   "execution_count": null,
   "metadata": {
    "collapsed": true
   },
   "outputs": [],
   "source": [
    "class B(object):\n",
    "    def c(self):\n",
    "        pass\n",
    "def a() :\n",
    "    return \" function a\"   \n",
    "print(callable(B))\n",
    "print(callable(a))\n",
    "print(callable(B.c))"
   ]
  },
  {
   "cell_type": "code",
   "execution_count": null,
   "metadata": {
    "collapsed": true
   },
   "outputs": [],
   "source": [
    "dir(B.c)"
   ]
  },
  {
   "cell_type": "code",
   "execution_count": null,
   "metadata": {
    "collapsed": true
   },
   "outputs": [],
   "source": [
    "class A(object):\n",
    "    def c(self):\n",
    "        pass\n",
    "class B(object):\n",
    "    def __call__(self) :\n",
    "        pass\n",
    "    def c(self):\n",
    "        pass\n",
    "    \n",
    "b = B()\n",
    "print(callable(b))\n",
    "a = A()\n",
    "print(callable(a))"
   ]
  },
  {
   "cell_type": "code",
   "execution_count": null,
   "metadata": {
    "collapsed": true
   },
   "outputs": [],
   "source": [
    "print(type(classmethod))\n",
    "print(type(staticmethod))\n",
    "\n",
    "class C(object):\n",
    "    @classmethod\n",
    "    def c(cls):\n",
    "        pass\n",
    "    @staticmethod\n",
    "    def s() :\n",
    "        pass\n",
    "    \n",
    "print(type(C.c))\n",
    "print(type(C.s))\n",
    "print(C.__dict__)"
   ]
  },
  {
   "cell_type": "code",
   "execution_count": null,
   "metadata": {
    "collapsed": true
   },
   "outputs": [],
   "source": [
    "print(type(bin))"
   ]
  },
  {
   "cell_type": "code",
   "execution_count": null,
   "metadata": {
    "collapsed": true
   },
   "outputs": [],
   "source": [
    "import numbers\n",
    "\n",
    "print(isinstance(1,numbers.Integral))\n",
    "print(isinstance(True,numbers.Integral))\n",
    "\n",
    "print(isinstance(1,numbers.Real))\n",
    "print(isinstance(100.2,numbers.Real))\n",
    "\n",
    "print(isinstance(1,numbers.Complex))\n",
    "print(isinstance(100.2,numbers.Complex))\n"
   ]
  },
  {
   "cell_type": "code",
   "execution_count": null,
   "metadata": {
    "collapsed": true
   },
   "outputs": [],
   "source": [
    "import numbers\n",
    "\n",
    "print(issubclass(int,numbers.Integral))\n",
    "print(issubclass(bool,numbers.Integral))\n",
    "\n",
    "print(issubclass(int,numbers.Real))\n",
    "print(issubclass(float,numbers.Real))\n",
    "\n",
    "print(issubclass(int,numbers.Complex))\n",
    "print(issubclass(float,numbers.Complex))\n",
    "print(issubclass(complex,numbers.Complex))"
   ]
  },
  {
   "cell_type": "code",
   "execution_count": null,
   "metadata": {
    "collapsed": true
   },
   "outputs": [],
   "source": [
    "import collections.abc\n",
    "\n",
    "s = 'strings'\n",
    "print(isinstance(s,collections.abc.Sequence))\n",
    "print(isinstance(s,collections.abc.MutableSequence))\n",
    "l = list(s)\n",
    "print(isinstance(l,collections.abc.Sequence))\n",
    "print(isinstance(l,collections.abc.MutableSequence))\n",
    "b = bytearray(s,encoding='utf-8')\n",
    "print(b)\n",
    "print(isinstance(b,collections.abc.Sequence))\n",
    "print(isinstance(b,collections.abc.MutableSequence))"
   ]
  },
  {
   "cell_type": "code",
   "execution_count": null,
   "metadata": {
    "collapsed": true
   },
   "outputs": [],
   "source": [
    "import collections.abc\n",
    "\n",
    "d = {1:1,2:2}\n",
    "print(isinstance(d,collections.abc.Mapping))\n",
    "print(isinstance(d,collections.abc.MutableMapping))\n",
    "print(issubclass(dict,collections.abc.Mapping))\n",
    "print(issubclass(dict,collections.abc.MutableMapping))"
   ]
  },
  {
   "cell_type": "code",
   "execution_count": null,
   "metadata": {
    "collapsed": true
   },
   "outputs": [],
   "source": [
    "import collections.abc\n",
    "\n",
    "s = {1,2,3,4}\n",
    "print(isinstance(s,collections.abc.Set))\n",
    "print(isinstance(s,collections.abc.MutableSet))\n",
    "print(issubclass(set,collections.abc.Set))\n",
    "print(issubclass(set,collections.abc.MutableSet))\n",
    "\n",
    "fs = frozenset({1,2,3,4})\n",
    "print(isinstance(fs,collections.abc.Set))\n",
    "print(isinstance(fs,collections.abc.MutableSet))\n",
    "print(issubclass(frozenset,collections.abc.Set))\n",
    "print(issubclass(frozenset,collections.abc.MutableSet))"
   ]
  },
  {
   "cell_type": "code",
   "execution_count": null,
   "metadata": {
    "collapsed": true
   },
   "outputs": [],
   "source": [
    "\n",
    "\n",
    "class MetaY(type):\n",
    "    pass\n",
    "\n",
    "class Y(metaclass=MetaY) : \n",
    "    pass\n",
    "\n",
    "\n",
    "print(type(Y) == MetaY)\n",
    "print(isinstance(Y, type) == True)\n",
    "print(isinstance(Y, MetaY) == True)\n",
    "\n"
   ]
  },
  {
   "cell_type": "code",
   "execution_count": null,
   "metadata": {
    "collapsed": true
   },
   "outputs": [],
   "source": [
    "class X:\n",
    "    pass\n",
    "\n",
    "print(type(X()) == X)\n",
    "print(type(X) == type)\n",
    "print(isinstance(X, type) == True)"
   ]
  },
  {
   "cell_type": "code",
   "execution_count": null,
   "metadata": {
    "collapsed": true
   },
   "outputs": [],
   "source": [
    "print(type(object()) == object)\n",
    "print(type(object) == type)\n",
    "print(isinstance(object, type) == True)"
   ]
  },
  {
   "cell_type": "code",
   "execution_count": null,
   "metadata": {
    "collapsed": true
   },
   "outputs": [],
   "source": [
    "print(type(\"abc\") == str)\n",
    "print(isinstance(str, type) == True)\n",
    "\n",
    "print(type(1) == int)\n",
    "print(isinstance(int, type) == True)"
   ]
  },
  {
   "cell_type": "code",
   "execution_count": null,
   "metadata": {
    "collapsed": true
   },
   "outputs": [],
   "source": [
    "%%writefile data.txt"
   ]
  },
  {
   "cell_type": "code",
   "execution_count": null,
   "metadata": {
    "collapsed": true
   },
   "outputs": [],
   "source": [
    "import io\n",
    "f = io.StringIO(\"some initial text data\")\n",
    "print(type(io.StringIO))\n",
    "print(f)\n",
    "print(f.read())\n",
    "f1 = open(\"data.txt\",\"w\")\n",
    "f1.write(\" Hello world \")\n",
    "print(f1)\n",
    "f1.close()\n",
    "f2 = open(\"data.txt\",\"r\")\n",
    "print(f2)\n",
    "print(f2.read())\n",
    "dir(f)"
   ]
  },
  {
   "cell_type": "code",
   "execution_count": null,
   "metadata": {
    "collapsed": true
   },
   "outputs": [],
   "source": [
    "help(io.StringIO.write)"
   ]
  },
  {
   "cell_type": "code",
   "execution_count": null,
   "metadata": {
    "collapsed": true
   },
   "outputs": [],
   "source": [
    "import io\n",
    "\n",
    "output = io.StringIO()\n",
    "print(output)\n",
    "output.write('First line.\\n')\n",
    "print('Second line.', file=output)\n",
    "\n",
    "# Retrieve file contents -- this will be\n",
    "# 'First line.\\nSecond line.\\n'\n",
    "contents = output.getvalue()\n",
    "print(contents)\n",
    "\n",
    "# Close object and discard memory buffer --\n",
    "# .getvalue() will now raise an exception.\n",
    "output.close()"
   ]
  },
  {
   "cell_type": "code",
   "execution_count": null,
   "metadata": {
    "collapsed": true
   },
   "outputs": [],
   "source": [
    "print(type(io.StringIO))\n",
    "print(type(open(\"data.txt\",\"r\")))\n",
    "print(type(io.StringIO()))\n",
    "dir(io.StringIO())"
   ]
  },
  {
   "cell_type": "code",
   "execution_count": 12,
   "metadata": {},
   "outputs": [
    {
     "name": "stdout",
     "output_type": "stream",
     "text": [
      "hi, I'm going out\n"
     ]
    },
    {
     "ename": "UnsupportedOperation",
     "evalue": "not readable",
     "output_type": "error",
     "traceback": [
      "\u001b[0;31m---------------------------------------------------------------------------\u001b[0m",
      "\u001b[0;31mUnsupportedOperation\u001b[0m                      Traceback (most recent call last)",
      "\u001b[0;32m<ipython-input-12-d62d37c62f8d>\u001b[0m in \u001b[0;36m<module>\u001b[0;34m()\u001b[0m\n\u001b[1;32m      4\u001b[0m \u001b[1;33m\u001b[0m\u001b[0m\n\u001b[1;32m      5\u001b[0m \u001b[0mprint\u001b[0m\u001b[1;33m(\u001b[0m\u001b[1;34m\"hi, I'm going out\"\u001b[0m\u001b[1;33m)\u001b[0m\u001b[1;33m\u001b[0m\u001b[0m\n\u001b[0;32m----> 6\u001b[0;31m \u001b[0mprint\u001b[0m\u001b[1;33m(\u001b[0m\u001b[0msys\u001b[0m\u001b[1;33m.\u001b[0m\u001b[0m__stdout__\u001b[0m\u001b[1;33m.\u001b[0m\u001b[0mread\u001b[0m\u001b[1;33m(\u001b[0m\u001b[1;33m)\u001b[0m\u001b[1;33m)\u001b[0m\u001b[1;33m\u001b[0m\u001b[0m\n\u001b[0m\u001b[1;32m      7\u001b[0m \u001b[0mprint\u001b[0m\u001b[1;33m(\u001b[0m\u001b[1;34m\"-----\"\u001b[0m\u001b[1;33m)\u001b[0m\u001b[1;33m\u001b[0m\u001b[0m\n\u001b[1;32m      8\u001b[0m \u001b[1;33m\u001b[0m\u001b[0m\n",
      "\u001b[0;31mUnsupportedOperation\u001b[0m: not readable"
     ]
    }
   ],
   "source": [
    "import sys, io\n",
    "\n",
    "out = io.StringIO()\n",
    "\n",
    "print(\"hi, I'm going out\")\n",
    "print(sys.__stdout__.read())\n",
    "print(\"-----\")\n",
    "\n",
    "out.write(s.read())\n",
    "print(out.getvalue())\n"
   ]
  },
  {
   "cell_type": "code",
   "execution_count": 4,
   "metadata": {},
   "outputs": [
    {
     "name": "stdout",
     "output_type": "stream",
     "text": [
      "Help on built-in function print in module builtins:\n",
      "\n",
      "print(...)\n",
      "    print(value, ..., sep=' ', end='\\n', file=sys.stdout, flush=False)\n",
      "    \n",
      "    Prints the values to a stream, or to sys.stdout by default.\n",
      "    Optional keyword arguments:\n",
      "    file:  a file-like object (stream); defaults to the current sys.stdout.\n",
      "    sep:   string inserted between values, default a space.\n",
      "    end:   string appended after the last value, default a newline.\n",
      "    flush: whether to forcibly flush the stream.\n",
      "\n"
     ]
    }
   ],
   "source": [
    "help(print)"
   ]
  },
  {
   "cell_type": "code",
   "execution_count": 17,
   "metadata": {},
   "outputs": [
    {
     "name": "stdout",
     "output_type": "stream",
     "text": [
      "<class 'io.IOBase'>\n",
      "<class 'abc.ABCMeta'>\n",
      "(<class '_io._IOBase'>,)\n",
      "<class 'io.RawIOBase'>\n",
      "<class 'abc.ABCMeta'>\n",
      "(<class '_io._RawIOBase'>, <class 'io.IOBase'>)\n",
      "<class 'io.BufferedIOBase'>\n",
      "<class 'abc.ABCMeta'>\n",
      "(<class '_io._BufferedIOBase'>, <class 'io.IOBase'>)\n",
      "<class 'io.TextIOBase'>\n",
      "<class 'abc.ABCMeta'>\n",
      "(<class '_io._TextIOBase'>, <class 'io.IOBase'>)\n"
     ]
    }
   ],
   "source": [
    "import io\n",
    "print(io.IOBase)\n",
    "print(io.IOBase.__class__)\n",
    "print(io.IOBase.__bases__)\n",
    "print(io.RawIOBase)\n",
    "print(io.RawIOBase.__class__)\n",
    "print(io.RawIOBase.__bases__)\n",
    "print(io.BufferedIOBase)\n",
    "print(io.BufferedIOBase.__class__)\n",
    "print(io.BufferedIOBase.__bases__)\n",
    "print(io.TextIOBase)\n",
    "print(io.TextIOBase.__class__)\n",
    "print(io.TextIOBase.__bases__)"
   ]
  },
  {
   "cell_type": "code",
   "execution_count": 22,
   "metadata": {},
   "outputs": [
    {
     "name": "stdout",
     "output_type": "stream",
     "text": [
      "True\n",
      "True\n",
      "True\n",
      "True\n"
     ]
    }
   ],
   "source": [
    "import io\n",
    "f = open(\"data.txt\",'r')\n",
    "print(isinstance(f,io.TextIOBase ))\n",
    "print(issubclass(f.__class__,io.TextIOBase ))\n",
    "\n",
    "out = io.StringIO()\n",
    "print(isinstance(out,io.TextIOBase ))\n",
    "print(issubclass(out.__class__,io.TextIOBase ))"
   ]
  },
  {
   "cell_type": "code",
   "execution_count": 27,
   "metadata": {},
   "outputs": [
    {
     "name": "stdout",
     "output_type": "stream",
     "text": [
      "True\n",
      "True\n",
      "True\n",
      "True\n"
     ]
    }
   ],
   "source": [
    "import io\n",
    "f1 = open(\"data.txt\", \"rb\", buffering=0)\n",
    "print(isinstance(f1,io.BufferedIOBase ))\n",
    "print(issubclass(f1.__class__,io.BufferedIOBase ))\n",
    "\n",
    "f = io.BytesIO(b\"some initial binary data: \\x00\\x01\")\n",
    "print(isinstance(f,io.BufferedIOBase ))\n",
    "print(issubclass(f.__class__,io.BufferedIOBase ))"
   ]
  },
  {
   "cell_type": "code",
   "execution_count": 29,
   "metadata": {},
   "outputs": [
    {
     "name": "stdout",
     "output_type": "stream",
     "text": [
      "False\n",
      "False\n",
      "True\n",
      "True\n"
     ]
    }
   ],
   "source": [
    "import io\n",
    "f1 = open(\"data.txt\", \"rb\", buffering=0)\n",
    "print(isinstance(f1,io.BufferedIOBase ))\n",
    "print(issubclass(f1.__class__,io.BufferedIOBase ))\n",
    "\n",
    "print(isinstance(f1,io.RawIOBase ))\n",
    "print(issubclass(f1.__class__,io.RawIOBase ))"
   ]
  },
  {
   "cell_type": "code",
   "execution_count": 86,
   "metadata": {},
   "outputs": [
    {
     "name": "stdout",
     "output_type": "stream",
     "text": [
      "{'errors': <attribute 'errors' of '_io._TextIOBase' objects>, 'newlines': <attribute 'newlines' of '_io._TextIOBase' objects>, 'read': <method 'read' of '_io._TextIOBase' objects>, 'readline': <method 'readline' of '_io._TextIOBase' objects>, 'detach': <method 'detach' of '_io._TextIOBase' objects>, '__doc__': \"Base class for text I/O.\\n\\nThis class provides a character and line based interface to stream\\nI/O. There is no readinto method because Python's character strings\\nare immutable. There is no public constructor.\\n\", 'write': <method 'write' of '_io._TextIOBase' objects>, 'encoding': <attribute 'encoding' of '_io._TextIOBase' objects>}\n"
     ]
    }
   ],
   "source": [
    "import io\n",
    "print(io._io._TextIOBase.__dict__)"
   ]
  },
  {
   "cell_type": "code",
   "execution_count": 88,
   "metadata": {},
   "outputs": [
    {
     "name": "stdout",
     "output_type": "stream",
     "text": [
      "<class 'io.TextIOBase'>\n",
      "(<class '_io._TextIOBase'>, <class 'io.IOBase'>)\n",
      "(<class '_io._IOBase'>,)\n",
      "<class '_io.TextIOWrapper'>\n",
      "(<class '_io._TextIOBase'>,)\n",
      "<_io.TextIOWrapper name='data.txt' mode='r' encoding='cp949'>\n"
     ]
    }
   ],
   "source": [
    "\n",
    "print(io.TextIOBase)\n",
    "print(io.TextIOBase.__bases__)\n",
    "\n",
    "print(io._io._TextIOBase.__bases__)\n",
    "\n",
    "print(io.TextIOWrapper)\n",
    "print(io.TextIOWrapper.__bases__)\n",
    "\n",
    "f = open('data.txt')\n",
    "print(f)"
   ]
  },
  {
   "cell_type": "code",
   "execution_count": 33,
   "metadata": {},
   "outputs": [
    {
     "name": "stdout",
     "output_type": "stream",
     "text": [
      "Help on class FileIO in module io:\n",
      "\n",
      "class FileIO(_RawIOBase)\n",
      " |  Open a file.\n",
      " |  \n",
      " |  The mode can be 'r' (default), 'w', 'x' or 'a' for reading,\n",
      " |  writing, exclusive creation or appending.  The file will be created if it\n",
      " |  doesn't exist when opened for writing or appending; it will be truncated\n",
      " |  when opened for writing.  A FileExistsError will be raised if it already\n",
      " |  exists when opened for creating. Opening a file for creating implies\n",
      " |  writing so this mode behaves in a similar way to 'w'.Add a '+' to the mode\n",
      " |  to allow simultaneous reading and writing. A custom opener can be used by\n",
      " |  passing a callable as *opener*. The underlying file descriptor for the file\n",
      " |  object is then obtained by calling opener with (*name*, *flags*).\n",
      " |  *opener* must return an open file descriptor (passing os.open as *opener*\n",
      " |  results in functionality similar to passing None).\n",
      " |  \n",
      " |  Method resolution order:\n",
      " |      FileIO\n",
      " |      _RawIOBase\n",
      " |      _IOBase\n",
      " |      builtins.object\n",
      " |  \n",
      " |  Methods defined here:\n",
      " |  \n",
      " |  __getattribute__(self, name, /)\n",
      " |      Return getattr(self, name).\n",
      " |  \n",
      " |  __getstate__(...)\n",
      " |  \n",
      " |  __init__(self, /, *args, **kwargs)\n",
      " |      Initialize self.  See help(type(self)) for accurate signature.\n",
      " |  \n",
      " |  __new__(*args, **kwargs) from builtins.type\n",
      " |      Create and return a new object.  See help(type) for accurate signature.\n",
      " |  \n",
      " |  __repr__(self, /)\n",
      " |      Return repr(self).\n",
      " |  \n",
      " |  close(self, /)\n",
      " |      Close the file.\n",
      " |      \n",
      " |      A closed file cannot be used for further I/O operations.  close() may be\n",
      " |      called more than once without error.\n",
      " |  \n",
      " |  fileno(self, /)\n",
      " |      Return the underlying file descriptor (an integer).\n",
      " |  \n",
      " |  isatty(self, /)\n",
      " |      True if the file is connected to a TTY device.\n",
      " |  \n",
      " |  read(self, size=-1, /)\n",
      " |      Read at most size bytes, returned as bytes.\n",
      " |      \n",
      " |      Only makes one system call, so less data may be returned than requested.\n",
      " |      In non-blocking mode, returns None if no data is available.\n",
      " |      Return an empty bytes object at EOF.\n",
      " |  \n",
      " |  readable(self, /)\n",
      " |      True if file was opened in a read mode.\n",
      " |  \n",
      " |  readall(self, /)\n",
      " |      Read all data from the file, returned as bytes.\n",
      " |      \n",
      " |      In non-blocking mode, returns as much as is immediately available,\n",
      " |      or None if no data is available.  Return an empty bytes object at EOF.\n",
      " |  \n",
      " |  readinto(self, buffer, /)\n",
      " |      Same as RawIOBase.readinto().\n",
      " |  \n",
      " |  seek(self, pos, whence=0, /)\n",
      " |      Move to new file position and return the file position.\n",
      " |      \n",
      " |      Argument offset is a byte count.  Optional argument whence defaults to\n",
      " |      SEEK_SET or 0 (offset from start of file, offset should be >= 0); other values\n",
      " |      are SEEK_CUR or 1 (move relative to current position, positive or negative),\n",
      " |      and SEEK_END or 2 (move relative to end of file, usually negative, although\n",
      " |      many platforms allow seeking beyond the end of a file).\n",
      " |      \n",
      " |      Note that not all file objects are seekable.\n",
      " |  \n",
      " |  seekable(self, /)\n",
      " |      True if file supports random-access.\n",
      " |  \n",
      " |  tell(self, /)\n",
      " |      Current file position.\n",
      " |      \n",
      " |      Can raise OSError for non seekable files.\n",
      " |  \n",
      " |  truncate(self, size=None, /)\n",
      " |      Truncate the file to at most size bytes and return the truncated size.\n",
      " |      \n",
      " |      Size defaults to the current file position, as returned by tell().\n",
      " |      The current file position is changed to the value of size.\n",
      " |  \n",
      " |  writable(self, /)\n",
      " |      True if file was opened in a write mode.\n",
      " |  \n",
      " |  write(self, b, /)\n",
      " |      Write buffer b to file, return number of bytes written.\n",
      " |      \n",
      " |      Only makes one system call, so not all of the data may be written.\n",
      " |      The number of bytes actually written is returned.  In non-blocking mode,\n",
      " |      returns None if the write would block.\n",
      " |  \n",
      " |  ----------------------------------------------------------------------\n",
      " |  Data descriptors defined here:\n",
      " |  \n",
      " |  closed\n",
      " |      True if the file is closed\n",
      " |  \n",
      " |  closefd\n",
      " |      True if the file descriptor will be closed by close().\n",
      " |  \n",
      " |  mode\n",
      " |      String giving the file mode\n",
      " |  \n",
      " |  ----------------------------------------------------------------------\n",
      " |  Methods inherited from _IOBase:\n",
      " |  \n",
      " |  __del__(...)\n",
      " |  \n",
      " |  __enter__(...)\n",
      " |  \n",
      " |  __exit__(...)\n",
      " |  \n",
      " |  __iter__(self, /)\n",
      " |      Implement iter(self).\n",
      " |  \n",
      " |  __next__(self, /)\n",
      " |      Implement next(self).\n",
      " |  \n",
      " |  flush(self, /)\n",
      " |      Flush write buffers, if applicable.\n",
      " |      \n",
      " |      This is not implemented for read-only and non-blocking streams.\n",
      " |  \n",
      " |  readline(self, size=-1, /)\n",
      " |      Read and return a line from the stream.\n",
      " |      \n",
      " |      If size is specified, at most size bytes will be read.\n",
      " |      \n",
      " |      The line terminator is always b'\\n' for binary files; for text\n",
      " |      files, the newlines argument to open can be used to select the line\n",
      " |      terminator(s) recognized.\n",
      " |  \n",
      " |  readlines(self, hint=-1, /)\n",
      " |      Return a list of lines from the stream.\n",
      " |      \n",
      " |      hint can be specified to control the number of lines read: no more\n",
      " |      lines will be read if the total size (in bytes/characters) of all\n",
      " |      lines so far exceeds hint.\n",
      " |  \n",
      " |  writelines(self, lines, /)\n",
      " |  \n",
      " |  ----------------------------------------------------------------------\n",
      " |  Data descriptors inherited from _IOBase:\n",
      " |  \n",
      " |  __dict__\n",
      "\n"
     ]
    }
   ],
   "source": [
    "help(io.FileIO)"
   ]
  },
  {
   "cell_type": "code",
   "execution_count": 59,
   "metadata": {},
   "outputs": [
    {
     "name": "stdout",
     "output_type": "stream",
     "text": [
      "Overwriting data1.txt\n"
     ]
    }
   ],
   "source": [
    "%%writefile data1.txt\n",
    "Hello world\n",
    "to be continued\n"
   ]
  },
  {
   "cell_type": "code",
   "execution_count": 63,
   "metadata": {},
   "outputs": [
    {
     "name": "stdout",
     "output_type": "stream",
     "text": [
      "<_io.FileIO name='data1.txt' mode='ab+' closefd=True>\n",
      "<class '_io.FileIO'>\n",
      "6\n",
      "0\n",
      "b'Hello world\\r\\nto be continuedMoon \\n'\n",
      "True\n"
     ]
    }
   ],
   "source": [
    "import io\n",
    "f = io.FileIO(\"data1.txt\",'ab+')\n",
    "print(f)\n",
    "print(type(f))\n",
    "print(f.write(b\"Moon \\n\" ))\n",
    "print(f.seek(0))\n",
    "print(f.read())\n",
    "print(issubclass(f.__class__,io.RawIOBase))"
   ]
  },
  {
   "cell_type": "code",
   "execution_count": 69,
   "metadata": {},
   "outputs": [
    {
     "name": "stdout",
     "output_type": "stream",
     "text": [
      "<_io.StringIO object at 0x0000000004EFD708>\n",
      "<class '_io.StringIO'>\n",
      " Hello \n",
      "7\n",
      "0\n",
      " Hello  world \n",
      "True\n"
     ]
    }
   ],
   "source": [
    "import io\n",
    "f = io.StringIO(\" Hello \")\n",
    "print(f)\n",
    "print(type(f))\n",
    "print(f.read())\n",
    "\n",
    "print(f.write(\" world \"))\n",
    "print(f.seek(0))\n",
    "print(f.read())\n",
    "\n",
    "print(issubclass(f.__class__,io.TextIOBase))"
   ]
  },
  {
   "cell_type": "code",
   "execution_count": 75,
   "metadata": {},
   "outputs": [
    {
     "name": "stdout",
     "output_type": "stream",
     "text": [
      "<_io.BytesIO object at 0x0000000005169B48>\n",
      "<class '_io.BytesIO'>\n",
      "b' Hello '\n",
      "7\n",
      "0\n",
      "b' Hello  world '\n",
      "True\n"
     ]
    }
   ],
   "source": [
    "import io\n",
    "f = io.BytesIO(b\" Hello \")\n",
    "print(f)\n",
    "print(type(f))\n",
    "print(f.read())\n",
    "\n",
    "print(f.write(b\" world \"))\n",
    "print(f.seek(0))\n",
    "print(f.read())\n",
    "\n",
    "print(issubclass(f.__class__,io.BufferedIOBase))"
   ]
  },
  {
   "cell_type": "code",
   "execution_count": 76,
   "metadata": {},
   "outputs": [
    {
     "ename": "AttributeError",
     "evalue": "module 'io' has no attribute 'RawIO'",
     "output_type": "error",
     "traceback": [
      "\u001b[0;31m---------------------------------------------------------------------------\u001b[0m",
      "\u001b[0;31mAttributeError\u001b[0m                            Traceback (most recent call last)",
      "\u001b[0;32m<ipython-input-76-1db9a5917d13>\u001b[0m in \u001b[0;36m<module>\u001b[0;34m()\u001b[0m\n\u001b[1;32m      1\u001b[0m \u001b[1;32mimport\u001b[0m \u001b[0mio\u001b[0m\u001b[1;33m\u001b[0m\u001b[0m\n\u001b[0;32m----> 2\u001b[0;31m \u001b[0mf\u001b[0m \u001b[1;33m=\u001b[0m \u001b[0mio\u001b[0m\u001b[1;33m.\u001b[0m\u001b[0mRawIO\u001b[0m\u001b[1;33m(\u001b[0m\u001b[1;34mb\" Hello \"\u001b[0m\u001b[1;33m)\u001b[0m\u001b[1;33m\u001b[0m\u001b[0m\n\u001b[0m\u001b[1;32m      3\u001b[0m \u001b[0mprint\u001b[0m\u001b[1;33m(\u001b[0m\u001b[0mf\u001b[0m\u001b[1;33m)\u001b[0m\u001b[1;33m\u001b[0m\u001b[0m\n\u001b[1;32m      4\u001b[0m \u001b[0mprint\u001b[0m\u001b[1;33m(\u001b[0m\u001b[0mtype\u001b[0m\u001b[1;33m(\u001b[0m\u001b[0mf\u001b[0m\u001b[1;33m)\u001b[0m\u001b[1;33m)\u001b[0m\u001b[1;33m\u001b[0m\u001b[0m\n\u001b[1;32m      5\u001b[0m \u001b[0mprint\u001b[0m\u001b[1;33m(\u001b[0m\u001b[0mf\u001b[0m\u001b[1;33m.\u001b[0m\u001b[0mread\u001b[0m\u001b[1;33m(\u001b[0m\u001b[1;33m)\u001b[0m\u001b[1;33m)\u001b[0m\u001b[1;33m\u001b[0m\u001b[0m\n",
      "\u001b[0;31mAttributeError\u001b[0m: module 'io' has no attribute 'RawIO'"
     ]
    }
   ],
   "source": [
    "import io\n",
    "f = io.RawIO(b\" Hello \")\n",
    "print(f)\n",
    "print(type(f))\n",
    "print(f.read())\n",
    "\n",
    "print(f.write(b\" world \"))\n",
    "print(f.seek(0))\n",
    "print(f.read())\n",
    "\n",
    "print(issubclass(f.__class__,io.RawIOBase))"
   ]
  },
  {
   "cell_type": "code",
   "execution_count": 97,
   "metadata": {},
   "outputs": [
    {
     "name": "stdout",
     "output_type": "stream",
     "text": [
      "[2, 3]\n",
      "<generator object get_primesg.<locals>.<genexpr> at 0x0000000004E47F10>\n",
      "2\n",
      "3\n"
     ]
    },
    {
     "ename": "StopIteration",
     "evalue": "",
     "output_type": "error",
     "traceback": [
      "\u001b[0;31m---------------------------------------------------------------------------\u001b[0m",
      "\u001b[0;31mStopIteration\u001b[0m                             Traceback (most recent call last)",
      "\u001b[0;32m<ipython-input-97-d61f2989b6a5>\u001b[0m in \u001b[0;36m<module>\u001b[0;34m()\u001b[0m\n\u001b[1;32m     30\u001b[0m \u001b[0mprint\u001b[0m\u001b[1;33m(\u001b[0m\u001b[0mnext\u001b[0m\u001b[1;33m(\u001b[0m\u001b[0ma\u001b[0m\u001b[1;33m)\u001b[0m\u001b[1;33m)\u001b[0m\u001b[1;33m\u001b[0m\u001b[0m\n\u001b[1;32m     31\u001b[0m \u001b[0mprint\u001b[0m\u001b[1;33m(\u001b[0m\u001b[0mnext\u001b[0m\u001b[1;33m(\u001b[0m\u001b[0ma\u001b[0m\u001b[1;33m)\u001b[0m\u001b[1;33m)\u001b[0m\u001b[1;33m\u001b[0m\u001b[0m\n\u001b[0;32m---> 32\u001b[0;31m \u001b[0mprint\u001b[0m\u001b[1;33m(\u001b[0m\u001b[0mnext\u001b[0m\u001b[1;33m(\u001b[0m\u001b[0ma\u001b[0m\u001b[1;33m)\u001b[0m\u001b[1;33m)\u001b[0m\u001b[1;33m\u001b[0m\u001b[0m\n\u001b[0m",
      "\u001b[0;31mStopIteration\u001b[0m: "
     ]
    }
   ],
   "source": [
    "import math\n",
    "def get_primesf(input_list):\n",
    "    result_list = list()\n",
    "    for element in input_list:\n",
    "        if is_prime(element):\n",
    "            result_list.append(element)\n",
    "\n",
    "    return result_list\n",
    "\n",
    "# or better yet...\n",
    "\n",
    "def get_primesg(input_list):\n",
    "    return (element for element in input_list if is_prime(element))\n",
    "\n",
    "def is_prime(number):\n",
    "    if number > 1:\n",
    "        if number == 2:\n",
    "            return True\n",
    "        if number % 2 == 0:\n",
    "            return False\n",
    "        for current in range(3, int(math.sqrt(number) + 1), 2):\n",
    "            if number % current == 0: \n",
    "                return False\n",
    "        return True\n",
    "    return False\n",
    "\n",
    "print(get_primesf([1,2,3]))\n",
    "print(get_primesg([1,2,3]))\n",
    "a = get_primesg([1,2,3])\n",
    "print(next(a))\n",
    "print(next(a))\n",
    "print(next(a))"
   ]
  },
  {
   "cell_type": "code",
   "execution_count": 108,
   "metadata": {},
   "outputs": [
    {
     "name": "stdout",
     "output_type": "stream",
     "text": [
      "True\n",
      "<class '__main__.Letters'>\n",
      "a\n",
      "b\n",
      "c\n",
      "d\n"
     ]
    },
    {
     "ename": "StopIteration",
     "evalue": "",
     "output_type": "error",
     "traceback": [
      "\u001b[0;31m---------------------------------------------------------------------------\u001b[0m",
      "\u001b[0;31mStopIteration\u001b[0m                             Traceback (most recent call last)",
      "\u001b[0;32m<ipython-input-108-3fad63c46427>\u001b[0m in \u001b[0;36m<module>\u001b[0;34m()\u001b[0m\n\u001b[1;32m     22\u001b[0m \u001b[0mprint\u001b[0m\u001b[1;33m(\u001b[0m\u001b[0mletters\u001b[0m\u001b[1;33m.\u001b[0m\u001b[0m__next__\u001b[0m\u001b[1;33m(\u001b[0m\u001b[1;33m)\u001b[0m\u001b[1;33m)\u001b[0m\u001b[1;33m\u001b[0m\u001b[0m\n\u001b[1;32m     23\u001b[0m \u001b[0mprint\u001b[0m\u001b[1;33m(\u001b[0m\u001b[0mletters\u001b[0m\u001b[1;33m.\u001b[0m\u001b[0m__next__\u001b[0m\u001b[1;33m(\u001b[0m\u001b[1;33m)\u001b[0m\u001b[1;33m)\u001b[0m\u001b[1;33m\u001b[0m\u001b[0m\n\u001b[0;32m---> 24\u001b[0;31m \u001b[0mprint\u001b[0m\u001b[1;33m(\u001b[0m\u001b[0mletters\u001b[0m\u001b[1;33m.\u001b[0m\u001b[0m__next__\u001b[0m\u001b[1;33m(\u001b[0m\u001b[1;33m)\u001b[0m\u001b[1;33m)\u001b[0m\u001b[1;33m\u001b[0m\u001b[0m\n\u001b[0m\u001b[1;32m     25\u001b[0m \u001b[1;33m\u001b[0m\u001b[0m\n",
      "\u001b[0;32m<ipython-input-108-3fad63c46427>\u001b[0m in \u001b[0;36m__next__\u001b[0;34m(self)\u001b[0m\n\u001b[1;32m      6\u001b[0m     \u001b[1;32mdef\u001b[0m \u001b[0m__next__\u001b[0m\u001b[1;33m(\u001b[0m\u001b[0mself\u001b[0m\u001b[1;33m)\u001b[0m\u001b[1;33m:\u001b[0m\u001b[1;33m\u001b[0m\u001b[0m\n\u001b[1;32m      7\u001b[0m         \u001b[1;32mif\u001b[0m \u001b[0mself\u001b[0m\u001b[1;33m.\u001b[0m\u001b[0mcurrent\u001b[0m \u001b[1;33m>\u001b[0m \u001b[1;34m'd'\u001b[0m\u001b[1;33m:\u001b[0m\u001b[1;33m\u001b[0m\u001b[0m\n\u001b[0;32m----> 8\u001b[0;31m             \u001b[1;32mraise\u001b[0m \u001b[0mStopIteration\u001b[0m\u001b[1;33m\u001b[0m\u001b[0m\n\u001b[0m\u001b[1;32m      9\u001b[0m \u001b[1;33m\u001b[0m\u001b[0m\n\u001b[1;32m     10\u001b[0m         \u001b[0mresult\u001b[0m \u001b[1;33m=\u001b[0m \u001b[0mself\u001b[0m\u001b[1;33m.\u001b[0m\u001b[0mcurrent\u001b[0m\u001b[1;33m\u001b[0m\u001b[0m\n",
      "\u001b[0;31mStopIteration\u001b[0m: "
     ]
    }
   ],
   "source": [
    "import collections.abc\n",
    "class Letters(object):\n",
    "    def __init__(self):\n",
    "        self.current = 'a'\n",
    "        \n",
    "    def __next__(self):\n",
    "        if self.current > 'd':\n",
    "            raise StopIteration\n",
    "         \n",
    "        result = self.current\n",
    "        self.current = chr(ord(result)+1)\n",
    "        return result\n",
    "    \n",
    "    def __iter__(self):\n",
    "        return self\n",
    "        \n",
    "letters = Letters()\n",
    "print(isinstance(letters,collections.abc.Iterator))\n",
    "print(type(letters))\n",
    "print(letters.__next__())\n",
    "print(letters.__next__())\n",
    "print(letters.__next__())\n",
    "print(letters.__next__())\n",
    "print(letters.__next__())\n"
   ]
  },
  {
   "cell_type": "code",
   "execution_count": 118,
   "metadata": {},
   "outputs": [
    {
     "name": "stdout",
     "output_type": "stream",
     "text": [
      "True\n",
      "1\n",
      "2\n",
      "3\n",
      "4\n"
     ]
    },
    {
     "ename": "StopIteration",
     "evalue": "",
     "output_type": "error",
     "traceback": [
      "\u001b[0;31m---------------------------------------------------------------------------\u001b[0m",
      "\u001b[0;31mStopIteration\u001b[0m                             Traceback (most recent call last)",
      "\u001b[0;32m<ipython-input-118-86af061cdc8b>\u001b[0m in \u001b[0;36m<module>\u001b[0;34m()\u001b[0m\n\u001b[1;32m     15\u001b[0m \u001b[0mprint\u001b[0m\u001b[1;33m(\u001b[0m\u001b[0mnext\u001b[0m\u001b[1;33m(\u001b[0m\u001b[0ma\u001b[0m\u001b[1;33m)\u001b[0m\u001b[1;33m)\u001b[0m\u001b[1;33m\u001b[0m\u001b[0m\n\u001b[1;32m     16\u001b[0m \u001b[0mprint\u001b[0m\u001b[1;33m(\u001b[0m\u001b[0mnext\u001b[0m\u001b[1;33m(\u001b[0m\u001b[0ma\u001b[0m\u001b[1;33m)\u001b[0m\u001b[1;33m)\u001b[0m\u001b[1;33m\u001b[0m\u001b[0m\n\u001b[0;32m---> 17\u001b[0;31m \u001b[0mprint\u001b[0m\u001b[1;33m(\u001b[0m\u001b[0mnext\u001b[0m\u001b[1;33m(\u001b[0m\u001b[0ma\u001b[0m\u001b[1;33m)\u001b[0m\u001b[1;33m)\u001b[0m\u001b[1;33m\u001b[0m\u001b[0m\n\u001b[0m",
      "\u001b[0;32m<ipython-input-118-86af061cdc8b>\u001b[0m in \u001b[0;36mgen_num\u001b[0;34m()\u001b[0m\n\u001b[1;32m      5\u001b[0m     \u001b[1;32mwhile\u001b[0m \u001b[1;32mTrue\u001b[0m \u001b[1;33m:\u001b[0m\u001b[1;33m\u001b[0m\u001b[0m\n\u001b[1;32m      6\u001b[0m         \u001b[1;32mif\u001b[0m \u001b[0mnum\u001b[0m \u001b[1;33m>=\u001b[0m \u001b[1;36m4\u001b[0m\u001b[1;33m:\u001b[0m\u001b[1;33m\u001b[0m\u001b[0m\n\u001b[0;32m----> 7\u001b[0;31m             \u001b[1;32mraise\u001b[0m \u001b[0mStopIteration\u001b[0m\u001b[1;33m\u001b[0m\u001b[0m\n\u001b[0m\u001b[1;32m      8\u001b[0m         \u001b[0mnum\u001b[0m \u001b[1;33m+=\u001b[0m \u001b[1;36m1\u001b[0m\u001b[1;33m\u001b[0m\u001b[0m\n\u001b[1;32m      9\u001b[0m         \u001b[1;32myield\u001b[0m \u001b[0mnum\u001b[0m\u001b[1;33m\u001b[0m\u001b[0m\n",
      "\u001b[0;31mStopIteration\u001b[0m: "
     ]
    }
   ],
   "source": [
    "import collections.abc\n",
    "\n",
    "def gen_num() :\n",
    "    num = 0\n",
    "    while True :\n",
    "        if num >= 4:\n",
    "            raise StopIteration\n",
    "        num += 1\n",
    "        yield num\n",
    "    \n",
    "a = gen_num()\n",
    "print(isinstance(a,collections.abc.Generator))\n",
    "print(next(a))\n",
    "print(next(a))\n",
    "print(next(a))\n",
    "print(next(a))\n",
    "print(next(a))\n"
   ]
  },
  {
   "cell_type": "code",
   "execution_count": 132,
   "metadata": {},
   "outputs": [
    {
     "name": "stdout",
     "output_type": "stream",
     "text": [
      "(<class 'object'>,)\n",
      "(<class 'object'>,)\n",
      "(<class 'object'>,)\n",
      "(<class 'object'>,)\n",
      "(<class 'object'>,)\n",
      "<class 'abc.ABCMeta'>\n",
      "<class 'abc.ABCMeta'>\n",
      "<class 'abc.ABCMeta'>\n",
      "<class 'abc.ABCMeta'>\n",
      "<class 'abc.ABCMeta'>\n"
     ]
    }
   ],
   "source": [
    "import collections.abc\n",
    "\n",
    "print(collections.abc.Iterable.__bases__)\n",
    "print(collections.abc.Callable.__bases__)\n",
    "print(collections.abc.Hashable.__bases__)\n",
    "print(collections.abc.Container.__bases__)\n",
    "print(collections.abc.Sized.__bases__)\n",
    "\n",
    "print(collections.abc.Iterable.__class__)\n",
    "print(collections.abc.Callable.__class__)\n",
    "print(collections.abc.Hashable.__class__)\n",
    "print(collections.abc.Container.__class__)\n",
    "print(collections.abc.Sized.__class__)"
   ]
  },
  {
   "cell_type": "code",
   "execution_count": 129,
   "metadata": {},
   "outputs": [
    {
     "name": "stdout",
     "output_type": "stream",
     "text": [
      "(<class 'object'>,)\n",
      "(<class 'collections.abc.Iterable'>,)\n",
      "(<class 'collections.abc.Iterator'>,)\n"
     ]
    }
   ],
   "source": [
    "import collections.abc\n",
    "\n",
    "print(collections.abc.Iterable.__bases__)\n",
    "print(collections.abc.Iterator.__bases__)\n",
    "print(collections.abc.Generator.__bases__)\n",
    "\n"
   ]
  },
  {
   "cell_type": "code",
   "execution_count": 124,
   "metadata": {},
   "outputs": [
    {
     "name": "stdout",
     "output_type": "stream",
     "text": [
      "(<class 'collections.abc.Iterator'>,)\n",
      "['__abstractmethods__', '__class__', '__delattr__', '__dir__', '__doc__', '__eq__', '__format__', '__ge__', '__getattribute__', '__gt__', '__hash__', '__init__', '__iter__', '__le__', '__lt__', '__module__', '__ne__', '__new__', '__next__', '__reduce__', '__reduce_ex__', '__repr__', '__setattr__', '__sizeof__', '__slots__', '__str__', '__subclasshook__', '_abc_cache', '_abc_negative_cache', '_abc_negative_cache_version', '_abc_registry', 'close', 'send', 'throw']\n"
     ]
    }
   ],
   "source": [
    "import collections.abc\n",
    "\n",
    "print(collections.abc.Generator.__bases__)\n",
    "print(dir(collections.abc.Generator))"
   ]
  },
  {
   "cell_type": "code",
   "execution_count": 107,
   "metadata": {},
   "outputs": [
    {
     "name": "stdout",
     "output_type": "stream",
     "text": [
      "False\n",
      "True\n",
      "1\n",
      "2\n",
      "3\n"
     ]
    }
   ],
   "source": [
    "import collections.abc\n",
    "counts = [1, 2, 3]\n",
    "print(isinstance(counts,collections.abc.Iterator))\n",
    "print(isinstance(counts,collections.abc.MutableSequence))\n",
    "for item in counts:\n",
    "    print(item)"
   ]
  },
  {
   "cell_type": "code",
   "execution_count": 117,
   "metadata": {},
   "outputs": [
    {
     "name": "stdout",
     "output_type": "stream",
     "text": [
      "True\n",
      "<generator object <genexpr> at 0x000000000519C1A8>\n",
      "1\n",
      "2\n",
      "3\n"
     ]
    },
    {
     "ename": "StopIteration",
     "evalue": "",
     "output_type": "error",
     "traceback": [
      "\u001b[0;31m---------------------------------------------------------------------------\u001b[0m",
      "\u001b[0;31mStopIteration\u001b[0m                             Traceback (most recent call last)",
      "\u001b[0;32m<ipython-input-117-709a8738c45a>\u001b[0m in \u001b[0;36m<module>\u001b[0;34m()\u001b[0m\n\u001b[1;32m      7\u001b[0m \u001b[0mprint\u001b[0m\u001b[1;33m(\u001b[0m\u001b[0mnext\u001b[0m\u001b[1;33m(\u001b[0m\u001b[0ma\u001b[0m\u001b[1;33m)\u001b[0m\u001b[1;33m)\u001b[0m\u001b[1;33m\u001b[0m\u001b[0m\n\u001b[1;32m      8\u001b[0m \u001b[0mprint\u001b[0m\u001b[1;33m(\u001b[0m\u001b[0mnext\u001b[0m\u001b[1;33m(\u001b[0m\u001b[0ma\u001b[0m\u001b[1;33m)\u001b[0m\u001b[1;33m)\u001b[0m\u001b[1;33m\u001b[0m\u001b[0m\n\u001b[0;32m----> 9\u001b[0;31m \u001b[0mprint\u001b[0m\u001b[1;33m(\u001b[0m\u001b[0mnext\u001b[0m\u001b[1;33m(\u001b[0m\u001b[0ma\u001b[0m\u001b[1;33m)\u001b[0m\u001b[1;33m)\u001b[0m\u001b[1;33m\u001b[0m\u001b[0m\n\u001b[0m",
      "\u001b[0;31mStopIteration\u001b[0m: "
     ]
    }
   ],
   "source": [
    "import collections.abc\n",
    "a = (x for x in [1, 2, 3])\n",
    "\n",
    "print(isinstance(a,collections.abc.Generator))\n",
    "print(a)\n",
    "print(next(a))\n",
    "print(next(a))\n",
    "print(next(a))\n",
    "print(next(a))"
   ]
  },
  {
   "cell_type": "code",
   "execution_count": 116,
   "metadata": {},
   "outputs": [
    {
     "data": {
      "text/plain": [
       "['AsyncIterable',\n",
       " 'AsyncIterator',\n",
       " 'Awaitable',\n",
       " 'ByteString',\n",
       " 'Callable',\n",
       " 'Container',\n",
       " 'Coroutine',\n",
       " 'Generator',\n",
       " 'Hashable',\n",
       " 'ItemsView',\n",
       " 'Iterable',\n",
       " 'Iterator',\n",
       " 'KeysView',\n",
       " 'Mapping',\n",
       " 'MappingView',\n",
       " 'MutableMapping',\n",
       " 'MutableSequence',\n",
       " 'MutableSet',\n",
       " 'Sequence',\n",
       " 'Set',\n",
       " 'Sized',\n",
       " 'ValuesView',\n",
       " '__all__',\n",
       " '__builtins__',\n",
       " '__cached__',\n",
       " '__doc__',\n",
       " '__file__',\n",
       " '__loader__',\n",
       " '__name__',\n",
       " '__package__',\n",
       " '__spec__']"
      ]
     },
     "execution_count": 116,
     "metadata": {},
     "output_type": "execute_result"
    }
   ],
   "source": [
    "import collections.abc\n",
    "\n",
    "dir(collections.abc)"
   ]
  },
  {
   "cell_type": "code",
   "execution_count": 138,
   "metadata": {},
   "outputs": [
    {
     "name": "stdout",
     "output_type": "stream",
     "text": [
      "True\n",
      "False\n",
      "<str_iterator object at 0x0000000005189898>\n",
      "False\n",
      "True\n",
      "True\n",
      "['__class__', '__delattr__', '__dir__', '__doc__', '__eq__', '__format__', '__ge__', '__getattribute__', '__gt__', '__hash__', '__init__', '__iter__', '__le__', '__length_hint__', '__lt__', '__ne__', '__new__', '__next__', '__reduce__', '__reduce_ex__', '__repr__', '__setattr__', '__setstate__', '__sizeof__', '__str__', '__subclasshook__']\n"
     ]
    }
   ],
   "source": [
    "import collections.abc\n",
    "\n",
    "s = \"strings\"\n",
    "print(isinstance(s, collections.abc.Sequence))\n",
    "print(isinstance(s, collections.abc.Iterator))\n",
    "\n",
    "it = iter(s)\n",
    "print(it)\n",
    "\n",
    "print(isinstance(it, collections.abc.Sequence))\n",
    "print(isinstance(it, collections.abc.Iterator))\n",
    "print(isinstance(it, collections.abc.Iterable))\n",
    "print(dir(it))"
   ]
  },
  {
   "cell_type": "code",
   "execution_count": 144,
   "metadata": {},
   "outputs": [
    {
     "name": "stdout",
     "output_type": "stream",
     "text": [
      "{'b': None, 'c': None, 'a': None, 'd': None}\n"
     ]
    }
   ],
   "source": [
    "import collections as col\n",
    "c = col.Counter(a=4, b=2, c=0, d=-2)\n",
    "d = dict()\n",
    "d = d.fromkeys((c))\n",
    "\n",
    "print(d)"
   ]
  },
  {
   "cell_type": "code",
   "execution_count": 150,
   "metadata": {},
   "outputs": [
    {
     "name": "stdout",
     "output_type": "stream",
     "text": [
      "False\n",
      "<class 'type'>\n",
      "False\n",
      "True\n"
     ]
    }
   ],
   "source": [
    "print(issubclass(int, type))\n",
    "\n",
    "class A() :\n",
    "    __metaclass__ = type\n",
    "    pass\n",
    "\n",
    "print(A.__metaclass__)\n",
    "print(issubclass(A, type))\n",
    "print(isinstance(A, type))"
   ]
  },
  {
   "cell_type": "code",
   "execution_count": 310,
   "metadata": {},
   "outputs": [
    {
     "name": "stdout",
     "output_type": "stream",
     "text": [
      "dahl\n"
     ]
    }
   ],
   "source": [
    "class atget() :\n",
    "    def __init__(self, name) :\n",
    "        self.name = name\n",
    "    def __call__(self, obj) :\n",
    "        result = obj.__getattribute__(self.name)\n",
    "        return result\n",
    "    \n",
    "class A() :\n",
    "    def __init__(self, name) :\n",
    "        self.name =name\n",
    "    \n",
    "a = A(\"dahl\")\n",
    "\n",
    "i1= atget('name')\n",
    "print(i1(a))"
   ]
  },
  {
   "cell_type": "code",
   "execution_count": 233,
   "metadata": {},
   "outputs": [
    {
     "name": "stdout",
     "output_type": "stream",
     "text": [
      "[A(b), A(a)]\n",
      "[{'name': 'b'}, {'name': 'a'}]\n"
     ]
    }
   ],
   "source": [
    "class A :\n",
    "    def __init__(self,name) :\n",
    "        self.name = name\n",
    "        \n",
    "    def __repr__(self) :\n",
    "        return 'A({0})'.format(self.name)\n",
    "        \n",
    "l = [A('a'),A('b')]\n",
    "    \n",
    "s = sorted(l, key=operator.attrgetter('name'), reverse=True)\n",
    "print(s)\n",
    "\n",
    "l1 = [{'name':'a'}, {'name':'b'}]\n",
    "s1 = sorted(l1, key=operator.itemgetter('name'), reverse=True)\n",
    "print(s1)"
   ]
  },
  {
   "cell_type": "code",
   "execution_count": 199,
   "metadata": {},
   "outputs": [
    {
     "name": "stdout",
     "output_type": "stream",
     "text": [
      "<__main__.itget object at 0x0000000005EC5BE0>\n",
      "100\n"
     ]
    }
   ],
   "source": [
    "class itget() :\n",
    "    def __init__(self, name) :\n",
    "        self.name = name\n",
    "    def __call__(self, obj) :\n",
    "        return obj[self.name]\n",
    "    \n",
    "i= itget('a')\n",
    "print(i)\n",
    "l = {'a':100}\n",
    "print(i(l))"
   ]
  },
  {
   "cell_type": "code",
   "execution_count": 235,
   "metadata": {},
   "outputs": [
    {
     "name": "stdout",
     "output_type": "stream",
     "text": [
      "Help on class itemgetter in module operator:\n",
      "\n",
      "class itemgetter(builtins.object)\n",
      " |  itemgetter(item, ...) --> itemgetter object\n",
      " |  \n",
      " |  Return a callable object that fetches the given item(s) from its operand.\n",
      " |  After f = itemgetter(2), the call f(r) returns r[2].\n",
      " |  After g = itemgetter(2, 5, 3), the call g(r) returns (r[2], r[5], r[3])\n",
      " |  \n",
      " |  Methods defined here:\n",
      " |  \n",
      " |  __call__(self, /, *args, **kwargs)\n",
      " |      Call self as a function.\n",
      " |  \n",
      " |  __getattribute__(self, name, /)\n",
      " |      Return getattr(self, name).\n",
      " |  \n",
      " |  __new__(*args, **kwargs) from builtins.type\n",
      " |      Create and return a new object.  See help(type) for accurate signature.\n",
      " |  \n",
      " |  __reduce__(...)\n",
      " |      Return state information for pickling\n",
      " |  \n",
      " |  __repr__(self, /)\n",
      " |      Return repr(self).\n",
      "\n"
     ]
    }
   ],
   "source": [
    "help(operator.itemgetter)"
   ]
  },
  {
   "cell_type": "code",
   "execution_count": 234,
   "metadata": {},
   "outputs": [
    {
     "name": "stdout",
     "output_type": "stream",
     "text": [
      "Help on class attrgetter in module operator:\n",
      "\n",
      "class attrgetter(builtins.object)\n",
      " |  attrgetter(attr, ...) --> attrgetter object\n",
      " |  \n",
      " |  Return a callable object that fetches the given attribute(s) from its operand.\n",
      " |  After f = attrgetter('name'), the call f(r) returns r.name.\n",
      " |  After g = attrgetter('name', 'date'), the call g(r) returns (r.name, r.date).\n",
      " |  After h = attrgetter('name.first', 'name.last'), the call h(r) returns\n",
      " |  (r.name.first, r.name.last).\n",
      " |  \n",
      " |  Methods defined here:\n",
      " |  \n",
      " |  __call__(self, /, *args, **kwargs)\n",
      " |      Call self as a function.\n",
      " |  \n",
      " |  __getattribute__(self, name, /)\n",
      " |      Return getattr(self, name).\n",
      " |  \n",
      " |  __new__(*args, **kwargs) from builtins.type\n",
      " |      Create and return a new object.  See help(type) for accurate signature.\n",
      " |  \n",
      " |  __reduce__(...)\n",
      " |      Return state information for pickling\n",
      " |  \n",
      " |  __repr__(self, /)\n",
      " |      Return repr(self).\n",
      "\n"
     ]
    }
   ],
   "source": [
    "help(operator.attrgetter)"
   ]
  },
  {
   "cell_type": "code",
   "execution_count": 308,
   "metadata": {},
   "outputs": [
    {
     "name": "stdout",
     "output_type": "stream",
     "text": [
      "operator.itemgetter(1)\n",
      "a\n",
      "{'a': None}\n",
      "<class 'type'>\n"
     ]
    }
   ],
   "source": [
    "import operator\n",
    "\n",
    "l = {1:'a'}\n",
    "a = operator.itemgetter(1)\n",
    "print(a)\n",
    "print(a(l))\n",
    "\n",
    "cla\n",
    "a = operator.attrgetter('fromkeys')\n",
    "print(a(l)(l))\n",
    "\n",
    "print(type(operator.itemgetter))"
   ]
  },
  {
   "cell_type": "code",
   "execution_count": 175,
   "metadata": {},
   "outputs": [
    {
     "name": "stdout",
     "output_type": "stream",
     "text": [
      "(<class 'dict'>,)\n",
      "True\n",
      "True\n",
      "False\n"
     ]
    }
   ],
   "source": [
    "print( collections.Counter.__bases__)\n",
    "print( issubclass(collections.Counter, collections.abc.MutableMapping))\n",
    "print( issubclass(collections.Counter, dict))\n",
    "print( issubclass(collections.Counter, collections.abc.MutableSet))"
   ]
  },
  {
   "cell_type": "code",
   "execution_count": 173,
   "metadata": {},
   "outputs": [
    {
     "name": "stdout",
     "output_type": "stream",
     "text": [
      "(<class 'collections.abc.Sized'>, <class 'collections.abc.Iterable'>, <class 'collections.abc.Container'>)\n",
      "(<class 'collections.abc.Set'>,)\n",
      "(<class 'collections.abc.Sized'>, <class 'collections.abc.Iterable'>, <class 'collections.abc.Container'>)\n",
      "(<class 'collections.abc.Mapping'>,)\n"
     ]
    }
   ],
   "source": [
    "print(collections.abc.Set.__bases__)\n",
    "print(collections.abc.MutableSet.__bases__)\n",
    "print(collections.abc.Mapping.__bases__)\n",
    "print(collections.abc.MutableMapping.__bases__)"
   ]
  },
  {
   "cell_type": "code",
   "execution_count": 185,
   "metadata": {},
   "outputs": [
    {
     "name": "stdout",
     "output_type": "stream",
     "text": [
      "<itertools.chain object at 0x00000000051A1470>\n",
      "x  b\n",
      "x  b\n",
      "x  a\n",
      "['a', 'b']\n",
      "Counter({'b': 1, 'a': 1})\n",
      "Counter({('b', 2): 1, ('a', 1): 1})\n"
     ]
    }
   ],
   "source": [
    "d = {'a':1,'b':2}\n",
    "c = collections.Counter(d)\n",
    "print(c.elements())\n",
    "for x in c.elements() :\n",
    "    print('x ', x)\n",
    "\n",
    "print(sorted(d))\n",
    "print(collections.Counter(sorted(d)))\n",
    "print(collections.Counter(sorted(d.items())))"
   ]
  },
  {
   "cell_type": "code",
   "execution_count": 186,
   "metadata": {},
   "outputs": [
    {
     "name": "stdout",
     "output_type": "stream",
     "text": [
      "Help on built-in function sorted in module builtins:\n",
      "\n",
      "sorted(iterable, key=None, reverse=False)\n",
      "    Return a new list containing all items from the iterable in ascending order.\n",
      "    \n",
      "    A custom key function can be supplied to customise the sort order, and the\n",
      "    reverse flag can be set to request the result in descending order.\n",
      "\n"
     ]
    }
   ],
   "source": [
    "help(sorted)"
   ]
  },
  {
   "cell_type": "code",
   "execution_count": 191,
   "metadata": {},
   "outputs": [
    {
     "name": "stdout",
     "output_type": "stream",
     "text": [
      "[[ 1.  2.]\n",
      " [ 1.  2.]]\n",
      "7.45222130955e+16\n",
      "Help on function cond in module numpy.linalg.linalg:\n",
      "\n",
      "cond(x, p=None)\n",
      "    Compute the condition number of a matrix.\n",
      "    \n",
      "    This function is capable of returning the condition number using\n",
      "    one of seven different norms, depending on the value of `p` (see\n",
      "    Parameters below).\n",
      "    \n",
      "    Parameters\n",
      "    ----------\n",
      "    x : (..., M, N) array_like\n",
      "        The matrix whose condition number is sought.\n",
      "    p : {None, 1, -1, 2, -2, inf, -inf, 'fro'}, optional\n",
      "        Order of the norm:\n",
      "    \n",
      "        =====  ============================\n",
      "        p      norm for matrices\n",
      "        =====  ============================\n",
      "        None   2-norm, computed directly using the ``SVD``\n",
      "        'fro'  Frobenius norm\n",
      "        inf    max(sum(abs(x), axis=1))\n",
      "        -inf   min(sum(abs(x), axis=1))\n",
      "        1      max(sum(abs(x), axis=0))\n",
      "        -1     min(sum(abs(x), axis=0))\n",
      "        2      2-norm (largest sing. value)\n",
      "        -2     smallest singular value\n",
      "        =====  ============================\n",
      "    \n",
      "        inf means the numpy.inf object, and the Frobenius norm is\n",
      "        the root-of-sum-of-squares norm.\n",
      "    \n",
      "    Returns\n",
      "    -------\n",
      "    c : {float, inf}\n",
      "        The condition number of the matrix. May be infinite.\n",
      "    \n",
      "    See Also\n",
      "    --------\n",
      "    numpy.linalg.norm\n",
      "    \n",
      "    Notes\n",
      "    -----\n",
      "    The condition number of `x` is defined as the norm of `x` times the\n",
      "    norm of the inverse of `x` [1]_; the norm can be the usual L2-norm\n",
      "    (root-of-sum-of-squares) or one of a number of other matrix norms.\n",
      "    \n",
      "    References\n",
      "    ----------\n",
      "    .. [1] G. Strang, *Linear Algebra and Its Applications*, Orlando, FL,\n",
      "           Academic Press, Inc., 1980, pg. 285.\n",
      "    \n",
      "    Examples\n",
      "    --------\n",
      "    >>> from numpy import linalg as LA\n",
      "    >>> a = np.array([[1, 0, -1], [0, 1, 0], [1, 0, 1]])\n",
      "    >>> a\n",
      "    array([[ 1,  0, -1],\n",
      "           [ 0,  1,  0],\n",
      "           [ 1,  0,  1]])\n",
      "    >>> LA.cond(a)\n",
      "    1.4142135623730951\n",
      "    >>> LA.cond(a, 'fro')\n",
      "    3.1622776601683795\n",
      "    >>> LA.cond(a, np.inf)\n",
      "    2.0\n",
      "    >>> LA.cond(a, -np.inf)\n",
      "    1.0\n",
      "    >>> LA.cond(a, 1)\n",
      "    2.0\n",
      "    >>> LA.cond(a, -1)\n",
      "    1.0\n",
      "    >>> LA.cond(a, 2)\n",
      "    1.4142135623730951\n",
      "    >>> LA.cond(a, -2)\n",
      "    0.70710678118654746\n",
      "    >>> min(LA.svd(a, compute_uv=0))*min(LA.svd(LA.inv(a), compute_uv=0))\n",
      "    0.70710678118654746\n",
      "\n",
      "None\n"
     ]
    }
   ],
   "source": [
    "import numpy as np\n",
    "\n",
    "x = np.matrix([[1.0,2.0],[1.0,2.0]]) \n",
    "print(x)\n",
    "print(np.linalg.cond(x))\n",
    "print(help(np.linalg.cond))"
   ]
  },
  {
   "cell_type": "code",
   "execution_count": 238,
   "metadata": {},
   "outputs": [
    {
     "name": "stdout",
     "output_type": "stream",
     "text": [
      "1\n"
     ]
    },
    {
     "ename": "IndexError",
     "evalue": "list index out of range",
     "output_type": "error",
     "traceback": [
      "\u001b[0;31m---------------------------------------------------------------------------\u001b[0m",
      "\u001b[0;31mIndexError\u001b[0m                                Traceback (most recent call last)",
      "\u001b[0;32m<ipython-input-238-f61fe427081d>\u001b[0m in \u001b[0;36m<module>\u001b[0;34m()\u001b[0m\n\u001b[1;32m      2\u001b[0m \u001b[0mprint\u001b[0m\u001b[1;33m(\u001b[0m\u001b[0ml\u001b[0m\u001b[1;33m[\u001b[0m\u001b[1;36m0\u001b[0m\u001b[1;33m]\u001b[0m\u001b[1;33m)\u001b[0m\u001b[1;33m\u001b[0m\u001b[0m\n\u001b[1;32m      3\u001b[0m \u001b[1;33m\u001b[0m\u001b[0m\n\u001b[0;32m----> 4\u001b[0;31m \u001b[0mprint\u001b[0m\u001b[1;33m(\u001b[0m\u001b[0ml\u001b[0m\u001b[1;33m[\u001b[0m\u001b[1;36m3\u001b[0m\u001b[1;33m]\u001b[0m\u001b[1;33m)\u001b[0m\u001b[1;33m\u001b[0m\u001b[0m\n\u001b[0m",
      "\u001b[0;31mIndexError\u001b[0m: list index out of range"
     ]
    }
   ],
   "source": [
    "l = [1,2,3]\n",
    "print(l[0])\n",
    "\n",
    "print(l[3])"
   ]
  },
  {
   "cell_type": "code",
   "execution_count": 241,
   "metadata": {},
   "outputs": [
    {
     "name": "stdout",
     "output_type": "stream",
     "text": [
      "(1, 3)\n"
     ]
    }
   ],
   "source": [
    "import operator\n",
    "\n",
    "l = [1,2,3]\n",
    "\n",
    "i = operator.itemgetter(0,2)\n",
    "print(i(l))\n",
    "\n"
   ]
  },
  {
   "cell_type": "code",
   "execution_count": 244,
   "metadata": {},
   "outputs": [
    {
     "name": "stdout",
     "output_type": "stream",
     "text": [
      "0\n",
      "None\n"
     ]
    },
    {
     "ename": "KeyError",
     "evalue": "'c'",
     "output_type": "error",
     "traceback": [
      "\u001b[0;31m---------------------------------------------------------------------------\u001b[0m",
      "\u001b[0;31mKeyError\u001b[0m                                  Traceback (most recent call last)",
      "\u001b[0;32m<ipython-input-244-8cc07a2a7b3b>\u001b[0m in \u001b[0;36m<module>\u001b[0;34m()\u001b[0m\n\u001b[1;32m      4\u001b[0m \u001b[0mprint\u001b[0m\u001b[1;33m(\u001b[0m\u001b[0md\u001b[0m\u001b[1;33m.\u001b[0m\u001b[0mget\u001b[0m\u001b[1;33m(\u001b[0m\u001b[1;34m'c'\u001b[0m\u001b[1;33m,\u001b[0m\u001b[1;32mNone\u001b[0m\u001b[1;33m)\u001b[0m\u001b[1;33m)\u001b[0m\u001b[1;33m\u001b[0m\u001b[0m\n\u001b[1;32m      5\u001b[0m \u001b[1;33m\u001b[0m\u001b[0m\n\u001b[0;32m----> 6\u001b[0;31m \u001b[0mprint\u001b[0m\u001b[1;33m(\u001b[0m\u001b[0md\u001b[0m\u001b[1;33m[\u001b[0m\u001b[1;34m'c'\u001b[0m\u001b[1;33m]\u001b[0m\u001b[1;33m)\u001b[0m\u001b[1;33m\u001b[0m\u001b[0m\n\u001b[0m",
      "\u001b[0;31mKeyError\u001b[0m: 'c'"
     ]
    }
   ],
   "source": [
    "d = {'a':0, 'b':1}\n",
    "print(d['a'])\n",
    "\n",
    "print(d.get('c',None))\n",
    "\n",
    "print(d['c'])"
   ]
  },
  {
   "cell_type": "code",
   "execution_count": 247,
   "metadata": {},
   "outputs": [
    {
     "name": "stdout",
     "output_type": "stream",
     "text": [
      "(0, 1)\n"
     ]
    }
   ],
   "source": [
    "import operator\n",
    "d = {'a':0, 'b':1}\n",
    "\n",
    "i = operator.itemgetter('a','b')\n",
    "print(i(d))"
   ]
  },
  {
   "cell_type": "code",
   "execution_count": 248,
   "metadata": {},
   "outputs": [
    {
     "name": "stdout",
     "output_type": "stream",
     "text": [
      "0\n"
     ]
    },
    {
     "ename": "KeyError",
     "evalue": "'c'",
     "output_type": "error",
     "traceback": [
      "\u001b[0;31m---------------------------------------------------------------------------\u001b[0m",
      "\u001b[0;31mKeyError\u001b[0m                                  Traceback (most recent call last)",
      "\u001b[0;32m<ipython-input-248-46def25b5bab>\u001b[0m in \u001b[0;36m<module>\u001b[0;34m()\u001b[0m\n\u001b[1;32m      6\u001b[0m \u001b[1;33m\u001b[0m\u001b[0m\n\u001b[1;32m      7\u001b[0m \u001b[0mi\u001b[0m \u001b[1;33m=\u001b[0m \u001b[0moperator\u001b[0m\u001b[1;33m.\u001b[0m\u001b[0mitemgetter\u001b[0m\u001b[1;33m(\u001b[0m\u001b[1;34m'c'\u001b[0m\u001b[1;33m)\u001b[0m\u001b[1;33m\u001b[0m\u001b[0m\n\u001b[0;32m----> 8\u001b[0;31m \u001b[0mprint\u001b[0m\u001b[1;33m(\u001b[0m\u001b[0mi\u001b[0m\u001b[1;33m(\u001b[0m\u001b[0md\u001b[0m\u001b[1;33m)\u001b[0m\u001b[1;33m)\u001b[0m\u001b[1;33m\u001b[0m\u001b[0m\n\u001b[0m",
      "\u001b[0;31mKeyError\u001b[0m: 'c'"
     ]
    }
   ],
   "source": [
    "import operator\n",
    "d = {'a':0, 'b':1}\n",
    "\n",
    "i = operator.itemgetter('a')\n",
    "print(i(d))\n",
    "\n",
    "i = operator.itemgetter('c')\n",
    "print(i(d))"
   ]
  },
  {
   "cell_type": "code",
   "execution_count": 345,
   "metadata": {},
   "outputs": [
    {
     "name": "stdout",
     "output_type": "stream",
     "text": [
      "<function <lambda> at 0x000000000921E840>\n",
      "1\n"
     ]
    }
   ],
   "source": [
    "import operator\n",
    "d = {'a':0, 'b':1, 'get':lambda : d['a']+d['b']}\n",
    "\n",
    "i = operator.itemgetter('get')\n",
    "print(i(d))\n",
    "print(i(d)())"
   ]
  },
  {
   "cell_type": "code",
   "execution_count": 256,
   "metadata": {},
   "outputs": [
    {
     "name": "stdout",
     "output_type": "stream",
     "text": [
      "Help on class defaultdict in module collections:\n",
      "\n",
      "class defaultdict(builtins.dict)\n",
      " |  defaultdict(default_factory[, ...]) --> dict with default factory\n",
      " |  \n",
      " |  The default factory is called without arguments to produce\n",
      " |  a new value when a key is not present, in __getitem__ only.\n",
      " |  A defaultdict compares equal to a dict with the same items.\n",
      " |  All remaining arguments are treated the same as if they were\n",
      " |  passed to the dict constructor, including keyword arguments.\n",
      " |  \n",
      " |  Method resolution order:\n",
      " |      defaultdict\n",
      " |      builtins.dict\n",
      " |      builtins.object\n",
      " |  \n",
      " |  Methods defined here:\n",
      " |  \n",
      " |  __copy__(...)\n",
      " |      D.copy() -> a shallow copy of D.\n",
      " |  \n",
      " |  __getattribute__(self, name, /)\n",
      " |      Return getattr(self, name).\n",
      " |  \n",
      " |  __init__(self, /, *args, **kwargs)\n",
      " |      Initialize self.  See help(type(self)) for accurate signature.\n",
      " |  \n",
      " |  __missing__(...)\n",
      " |      __missing__(key) # Called by __getitem__ for missing key; pseudo-code:\n",
      " |      if self.default_factory is None: raise KeyError((key,))\n",
      " |      self[key] = value = self.default_factory()\n",
      " |      return value\n",
      " |  \n",
      " |  __reduce__(...)\n",
      " |      Return state information for pickling.\n",
      " |  \n",
      " |  __repr__(self, /)\n",
      " |      Return repr(self).\n",
      " |  \n",
      " |  copy(...)\n",
      " |      D.copy() -> a shallow copy of D.\n",
      " |  \n",
      " |  ----------------------------------------------------------------------\n",
      " |  Data descriptors defined here:\n",
      " |  \n",
      " |  default_factory\n",
      " |      Factory for default value called by __missing__().\n",
      " |  \n",
      " |  ----------------------------------------------------------------------\n",
      " |  Methods inherited from builtins.dict:\n",
      " |  \n",
      " |  __contains__(self, key, /)\n",
      " |      True if D has a key k, else False.\n",
      " |  \n",
      " |  __delitem__(self, key, /)\n",
      " |      Delete self[key].\n",
      " |  \n",
      " |  __eq__(self, value, /)\n",
      " |      Return self==value.\n",
      " |  \n",
      " |  __ge__(self, value, /)\n",
      " |      Return self>=value.\n",
      " |  \n",
      " |  __getitem__(...)\n",
      " |      x.__getitem__(y) <==> x[y]\n",
      " |  \n",
      " |  __gt__(self, value, /)\n",
      " |      Return self>value.\n",
      " |  \n",
      " |  __iter__(self, /)\n",
      " |      Implement iter(self).\n",
      " |  \n",
      " |  __le__(self, value, /)\n",
      " |      Return self<=value.\n",
      " |  \n",
      " |  __len__(self, /)\n",
      " |      Return len(self).\n",
      " |  \n",
      " |  __lt__(self, value, /)\n",
      " |      Return self<value.\n",
      " |  \n",
      " |  __ne__(self, value, /)\n",
      " |      Return self!=value.\n",
      " |  \n",
      " |  __new__(*args, **kwargs) from builtins.type\n",
      " |      Create and return a new object.  See help(type) for accurate signature.\n",
      " |  \n",
      " |  __setitem__(self, key, value, /)\n",
      " |      Set self[key] to value.\n",
      " |  \n",
      " |  __sizeof__(...)\n",
      " |      D.__sizeof__() -> size of D in memory, in bytes\n",
      " |  \n",
      " |  clear(...)\n",
      " |      D.clear() -> None.  Remove all items from D.\n",
      " |  \n",
      " |  fromkeys(iterable, value=None, /) from builtins.type\n",
      " |      Returns a new dict with keys from iterable and values equal to value.\n",
      " |  \n",
      " |  get(...)\n",
      " |      D.get(k[,d]) -> D[k] if k in D, else d.  d defaults to None.\n",
      " |  \n",
      " |  items(...)\n",
      " |      D.items() -> a set-like object providing a view on D's items\n",
      " |  \n",
      " |  keys(...)\n",
      " |      D.keys() -> a set-like object providing a view on D's keys\n",
      " |  \n",
      " |  pop(...)\n",
      " |      D.pop(k[,d]) -> v, remove specified key and return the corresponding value.\n",
      " |      If key is not found, d is returned if given, otherwise KeyError is raised\n",
      " |  \n",
      " |  popitem(...)\n",
      " |      D.popitem() -> (k, v), remove and return some (key, value) pair as a\n",
      " |      2-tuple; but raise KeyError if D is empty.\n",
      " |  \n",
      " |  setdefault(...)\n",
      " |      D.setdefault(k[,d]) -> D.get(k,d), also set D[k]=d if k not in D\n",
      " |  \n",
      " |  update(...)\n",
      " |      D.update([E, ]**F) -> None.  Update D from dict/iterable E and F.\n",
      " |      If E is present and has a .keys() method, then does:  for k in E: D[k] = E[k]\n",
      " |      If E is present and lacks a .keys() method, then does:  for k, v in E: D[k] = v\n",
      " |      In either case, this is followed by: for k in F:  D[k] = F[k]\n",
      " |  \n",
      " |  values(...)\n",
      " |      D.values() -> an object providing a view on D's values\n",
      " |  \n",
      " |  ----------------------------------------------------------------------\n",
      " |  Data and other attributes inherited from builtins.dict:\n",
      " |  \n",
      " |  __hash__ = None\n",
      "\n"
     ]
    }
   ],
   "source": [
    "help(collections.)"
   ]
  },
  {
   "cell_type": "code",
   "execution_count": 280,
   "metadata": {},
   "outputs": [
    {
     "name": "stdout",
     "output_type": "stream",
     "text": [
      "dahl 50 male\n",
      "None\n"
     ]
    },
    {
     "ename": "AttributeError",
     "evalue": "'A' object has no attribute 'address'",
     "output_type": "error",
     "traceback": [
      "\u001b[0;31m---------------------------------------------------------------------------\u001b[0m",
      "\u001b[0;31mAttributeError\u001b[0m                            Traceback (most recent call last)",
      "\u001b[0;32m<ipython-input-280-592b2ab703e2>\u001b[0m in \u001b[0;36m<module>\u001b[0;34m()\u001b[0m\n\u001b[1;32m     10\u001b[0m \u001b[0mprint\u001b[0m\u001b[1;33m(\u001b[0m\u001b[0ma\u001b[0m\u001b[1;33m.\u001b[0m\u001b[0mname\u001b[0m\u001b[1;33m,\u001b[0m \u001b[0ma\u001b[0m\u001b[1;33m.\u001b[0m\u001b[0mage\u001b[0m\u001b[1;33m,\u001b[0m \u001b[0ma\u001b[0m\u001b[1;33m.\u001b[0m\u001b[0msex\u001b[0m\u001b[1;33m)\u001b[0m\u001b[1;33m\u001b[0m\u001b[0m\n\u001b[1;32m     11\u001b[0m \u001b[0mprint\u001b[0m\u001b[1;33m(\u001b[0m\u001b[0mgetattr\u001b[0m\u001b[1;33m(\u001b[0m\u001b[0ma\u001b[0m\u001b[1;33m,\u001b[0m\u001b[1;34m'address'\u001b[0m\u001b[1;33m,\u001b[0m\u001b[1;32mNone\u001b[0m\u001b[1;33m)\u001b[0m\u001b[1;33m)\u001b[0m\u001b[1;33m\u001b[0m\u001b[0m\n\u001b[0;32m---> 12\u001b[0;31m \u001b[0mprint\u001b[0m\u001b[1;33m(\u001b[0m\u001b[0ma\u001b[0m\u001b[1;33m.\u001b[0m\u001b[0maddress\u001b[0m\u001b[1;33m)\u001b[0m\u001b[1;33m\u001b[0m\u001b[0m\n\u001b[0m",
      "\u001b[0;31mAttributeError\u001b[0m: 'A' object has no attribute 'address'"
     ]
    }
   ],
   "source": [
    "import collections\n",
    "\n",
    "class A() :\n",
    "    def __init__(self, name, age,sex) :\n",
    "        self.name = name\n",
    "        self.age  = age\n",
    "        self.sex = sex\n",
    "               \n",
    "a = A('dahl',50,'male')\n",
    "print(a.name, a.age, a.sex)\n",
    "print(getattr(a,'address',None))\n",
    "print(a.address)"
   ]
  },
  {
   "cell_type": "code",
   "execution_count": 281,
   "metadata": {},
   "outputs": [
    {
     "name": "stdout",
     "output_type": "stream",
     "text": [
      "None\n"
     ]
    }
   ],
   "source": [
    "import collections\n",
    "\n",
    "class A() :\n",
    "    def __init__(self, name, age,sex) :\n",
    "        self.name = name\n",
    "        self.age  = age\n",
    "        self.sex = sex\n",
    "               \n",
    "a = A('dahl',50,'male')\n",
    "\n",
    "print(getattr(a,'address',None))\n"
   ]
  },
  {
   "cell_type": "code",
   "execution_count": 341,
   "metadata": {},
   "outputs": [
    {
     "name": "stdout",
     "output_type": "stream",
     "text": [
      "<bound method A.getA of <__main__.A object at 0x0000000009203978>>\n",
      "('dahl', 50, 'male')\n"
     ]
    }
   ],
   "source": [
    "import operator\n",
    "class A() :\n",
    "    def __init__(self, name, age,sex) :\n",
    "        self.name = name\n",
    "        self.age  = age\n",
    "        self.sex = sex\n",
    "        \n",
    "    def getA(self) :\n",
    "        return self.name, self.age, self.sex\n",
    "        \n",
    "a = A('dahl',50,'male')\n",
    "i = operator.attrgetter('getA')\n",
    "print(i(a))\n",
    "print(i(a)())"
   ]
  },
  {
   "cell_type": "code",
   "execution_count": null,
   "metadata": {
    "collapsed": true
   },
   "outputs": [],
   "source": []
  },
  {
   "cell_type": "code",
   "execution_count": 271,
   "metadata": {},
   "outputs": [
    {
     "name": "stdout",
     "output_type": "stream",
     "text": [
      "False\n",
      "[1, 2, 3, 4]\n",
      "[1, 3]\n",
      "hello\n",
      "olleh\n"
     ]
    }
   ],
   "source": [
    "l = [1,2,3,4]\n",
    "l1 = l[:30]\n",
    "print(l is l1)\n",
    "print(l[:30])\n",
    "print(l[:30:2])\n",
    "\n",
    "s = \"hello\"\n",
    "print(s[:])\n",
    "print(s[::-1])"
   ]
  },
  {
   "cell_type": "code",
   "execution_count": 274,
   "metadata": {},
   "outputs": [
    {
     "name": "stdout",
     "output_type": "stream",
     "text": [
      "False\n",
      "[1, 2, 3]\n",
      "[1, 3]\n",
      "hel\n",
      "hl\n"
     ]
    }
   ],
   "source": [
    "sc = slice(0,3)\n",
    "sc1 = slice(0,3,2)\n",
    "\n",
    "l = [1,2,3,4]\n",
    "l1 = l[sc]\n",
    "print(l is l1)\n",
    "print(l[sc])\n",
    "print(l[sc1])\n",
    "\n",
    "s = \"hello\"\n",
    "print(s[sc])\n",
    "print(s[sc1])"
   ]
  },
  {
   "cell_type": "code",
   "execution_count": 276,
   "metadata": {},
   "outputs": [
    {
     "name": "stdout",
     "output_type": "stream",
     "text": [
      "Help on method_descriptor:\n",
      "\n",
      "__getitem__(...)\n",
      "    x.__getitem__(y) <==> x[y]\n",
      "\n",
      "None\n",
      "Help on method_descriptor:\n",
      "\n",
      "__getitem__(...)\n",
      "    x.__getitem__(y) <==> x[y]\n",
      "\n",
      "None\n"
     ]
    }
   ],
   "source": [
    "print(help(list.__getitem__))\n",
    "print(help(dict.__getitem__))"
   ]
  },
  {
   "cell_type": "code",
   "execution_count": 279,
   "metadata": {},
   "outputs": [
    {
     "name": "stdout",
     "output_type": "stream",
     "text": [
      "Help on wrapper_descriptor:\n",
      "\n",
      "__getattribute__(self, name, /)\n",
      "    Return getattr(self, name).\n",
      "\n",
      "None\n",
      "Help on built-in function getattr in module builtins:\n",
      "\n",
      "getattr(...)\n",
      "    getattr(object, name[, default]) -> value\n",
      "    \n",
      "    Get a named attribute from an object; getattr(x, 'y') is equivalent to x.y.\n",
      "    When a default argument is given, it is returned when the attribute doesn't\n",
      "    exist; without it, an exception is raised in that case.\n",
      "\n",
      "None\n"
     ]
    }
   ],
   "source": [
    "class A() :\n",
    "    def __init__(self, name, age,sex) :\n",
    "        self.name = name\n",
    "        self.age  = age\n",
    "        self.sex = sex\n",
    "        \n",
    "print(help(A.__getattribute__))\n",
    "print(help(getattr))"
   ]
  },
  {
   "cell_type": "code",
   "execution_count": 282,
   "metadata": {},
   "outputs": [
    {
     "name": "stdout",
     "output_type": "stream",
     "text": [
      "<class 'str'> H\n",
      "<class 'str'> H\n",
      "<class 'int'> 1\n",
      "<class 'list'> [1]\n",
      "<class 'int'> 1\n",
      "<class 'tuple'> (1,)\n"
     ]
    }
   ],
   "source": [
    "s = \"Hello World\"\n",
    "print(type(s[0]),s[0])\n",
    "print(type(s[0:1]), s[0:1])\n",
    "\n",
    "l = [1,2,3,4]\n",
    "print(type(l[0]), l[0])\n",
    "print(type(l[0:1]), l[0:1])\n",
    "\n",
    "t = (1,2,3,4)\n",
    "print(type(t[0]), t[0])\n",
    "print(type(t[0:1]), t[0:1])\n"
   ]
  },
  {
   "cell_type": "code",
   "execution_count": 285,
   "metadata": {},
   "outputs": [
    {
     "name": "stdout",
     "output_type": "stream",
     "text": [
      "bytearray(b'abcdef')\n",
      "100\n",
      "100\n"
     ]
    }
   ],
   "source": [
    "s=bytearray('abcdef', encoding='utf8')\n",
    "print(s)\n",
    "print(s[3])\n",
    "print(ord('d'))\n"
   ]
  },
  {
   "cell_type": "code",
   "execution_count": 287,
   "metadata": {},
   "outputs": [
    {
     "name": "stdout",
     "output_type": "stream",
     "text": [
      "bytearray(b'abcedf')\n",
      "bytearray(b'ce')\n",
      "bytearray(b'ab#df')\n",
      "5\n"
     ]
    }
   ],
   "source": [
    "b = bytearray('abcedf',encoding='utf8')\n",
    "print(b)\n",
    "print(b[2:4])\n",
    "\n",
    "b[2:4] = b'#'\n",
    "print(b)\n",
    "print(len(b))\n"
   ]
  },
  {
   "cell_type": "code",
   "execution_count": 290,
   "metadata": {},
   "outputs": [
    {
     "name": "stdout",
     "output_type": "stream",
     "text": [
      "array('u', 'abcdef')\n",
      "<class 'str'> a\n",
      "<class 'array.array'> array('u', 'abc')\n"
     ]
    }
   ],
   "source": [
    "import array\n",
    "ar1 = array.array('u','abcdef')\n",
    "\n",
    "print(ar1)\n",
    "print(type(ar1[0]), ar1[0])\n",
    "print(type(ar1[0:3]), ar1[0:3])\n"
   ]
  },
  {
   "cell_type": "code",
   "execution_count": 291,
   "metadata": {},
   "outputs": [
    {
     "name": "stdout",
     "output_type": "stream",
     "text": [
      "RangeIndex(start=0, stop=5, step=1) 0\n",
      "Index(['a', 'b', 'c', 'd', 'e'], dtype='object') 0\n"
     ]
    }
   ],
   "source": [
    "import numpy as np\n",
    "import pandas as pd\n",
    "\n",
    "s = pd.Series([0,1,2,3,4])\n",
    "\n",
    "s1 = pd.Series([0,1,2,3,4], index=['a', 'b', 'c', 'd', 'e'])\n",
    "\n",
    "\n",
    "print(s.index, s[0])\n",
    "print(s1.index,s1['a'])\n"
   ]
  },
  {
   "cell_type": "code",
   "execution_count": 292,
   "metadata": {},
   "outputs": [
    {
     "name": "stdout",
     "output_type": "stream",
     "text": [
      "0    0\n",
      "1    1\n",
      "2    2\n",
      "dtype: int64\n",
      "a    0\n",
      "b    1\n",
      "c    2\n",
      "dtype: int64\n"
     ]
    }
   ],
   "source": [
    "import numpy as np\n",
    "import pandas as pd\n",
    "s = pd.Series([0,1,2,3,4])\n",
    "\n",
    "s1 = pd.Series([0,1,2,3,4], index=['a', 'b', 'c', 'd', 'e'])\n",
    "\n",
    "print(s[0:3])\n",
    "print(s1['a':'c'])\n"
   ]
  },
  {
   "cell_type": "code",
   "execution_count": 293,
   "metadata": {},
   "outputs": [
    {
     "name": "stdout",
     "output_type": "stream",
     "text": [
      "4    4\n",
      "3    3\n",
      "1    1\n",
      "dtype: int64\n",
      "d    3\n",
      "a    0\n",
      "c    2\n",
      "dtype: int64\n"
     ]
    }
   ],
   "source": [
    "import numpy as np\n",
    "import pandas as pd\n",
    "s = pd.Series([0,1,2,3,4])\n",
    "\n",
    "s1 = pd.Series([0,1,2,3,4], index=['a', 'b', 'c', 'd', 'e'])\n",
    "\n",
    "print(s[[4,3,1]])\n",
    "print(s1[['d','a','c']])\n"
   ]
  },
  {
   "cell_type": "code",
   "execution_count": 294,
   "metadata": {},
   "outputs": [
    {
     "name": "stdout",
     "output_type": "stream",
     "text": [
      "0    0\n",
      "1    1\n",
      "2    2\n",
      "dtype: int64\n",
      "e    4\n",
      "dtype: int64\n"
     ]
    }
   ],
   "source": [
    "import numpy as np\n",
    "import pandas as pd\n",
    "s = pd.Series([0,1,2,3,4])\n",
    "\n",
    "s1 = pd.Series([0,1,2,3,4], index=['a', 'b', 'c', 'd', 'e'])\n",
    "\n",
    "print(s[s<3])\n",
    "print(s1[s1>3])\n"
   ]
  },
  {
   "cell_type": "code",
   "execution_count": 295,
   "metadata": {},
   "outputs": [
    {
     "name": "stdout",
     "output_type": "stream",
     "text": [
      "indexing \n",
      " sv  0    0\n",
      "1    1\n",
      "dtype: int64\n",
      "0    0\n",
      "1    1\n",
      "dtype: int64\n",
      "  s  0    0\n",
      "1    1\n",
      "2    2\n",
      "3    3\n",
      "4    4\n",
      "dtype: int64\n"
     ]
    }
   ],
   "source": [
    "import pandas as pd\n",
    "\n",
    "s = pd.Series([0,1,2,3,4])\n",
    "sv = s[[0,1]]\n",
    "print(\"indexing \")\n",
    "print(\" sv \", sv)\n",
    "print(s.__getitem__([0,1]))\n",
    "print(\"  s \", s)\n"
   ]
  },
  {
   "cell_type": "code",
   "execution_count": 299,
   "metadata": {},
   "outputs": [
    {
     "name": "stdout",
     "output_type": "stream",
     "text": [
      " sv  0    999\n",
      "1      1\n",
      "dtype: int64\n",
      "  s  0    999\n",
      "1      1\n",
      "2      2\n",
      "3      3\n",
      "4      4\n",
      "dtype: int64\n",
      " ls  [1]\n",
      " ls  [999]\n",
      " l  [1, 2, 3]\n"
     ]
    }
   ],
   "source": [
    "import pandas as pd\n",
    "s = pd.Series([0,1,2,3,4])\n",
    "sv=s[0:2]\n",
    "sv[0] = 999\n",
    "print(\" sv \", sv)\n",
    "print(\"  s \", s)\n",
    "\n",
    "l = [1,2,3]\n",
    "ls = l[0:1]\n",
    "print(\" ls \", ls)\n",
    "ls[0] = 999\n",
    "print(\" ls \", ls)\n",
    "print(\" l \", l)\n"
   ]
  },
  {
   "cell_type": "code",
   "execution_count": 300,
   "metadata": {},
   "outputs": [
    {
     "name": "stdout",
     "output_type": "stream",
     "text": [
      "Rev    0\n",
      "col    0\n",
      "Name: a, dtype: int64\n"
     ]
    }
   ],
   "source": [
    "import pandas as pd\n",
    "\n",
    "# Our small data set\n",
    "d = [0,1,2,3,4,5,6,7,8,9]\n",
    "\n",
    "# Create dataframe\n",
    "df = pd.DataFrame(d)\n",
    "df.columns = ['Rev']\n",
    "df['col'] = df['Rev']\n",
    "i = ['a','b','c','d','e','f','g','h','i','j']\n",
    "df.index = i\n",
    "print(df.loc['a'])\n"
   ]
  },
  {
   "cell_type": "code",
   "execution_count": 301,
   "metadata": {},
   "outputs": [
    {
     "name": "stdout",
     "output_type": "stream",
     "text": [
      "   Rev  col\n",
      "a    0    0\n",
      "b    1    1\n",
      "c    2    2\n"
     ]
    }
   ],
   "source": [
    "import pandas as pd\n",
    "\n",
    "# Our small data set\n",
    "d = [0,1,2,3,4,5,6,7,8,9]\n",
    "\n",
    "# Create dataframe\n",
    "df = pd.DataFrame(d)\n",
    "df.columns = ['Rev']\n",
    "df['col'] = df['Rev']\n",
    "i = ['a','b','c','d','e','f','g','h','i','j']\n",
    "df.index = i\n",
    "print(df.loc['a':'c'])\n"
   ]
  },
  {
   "cell_type": "code",
   "execution_count": 302,
   "metadata": {},
   "outputs": [
    {
     "name": "stdout",
     "output_type": "stream",
     "text": [
      "a    0\n",
      "b    1\n",
      "c    2\n",
      "Name: Rev, dtype: int64\n"
     ]
    }
   ],
   "source": [
    "import pandas as pd\n",
    "\n",
    "# Our small data set\n",
    "d = [0,1,2,3,4,5,6,7,8,9]\n",
    "\n",
    "# Create dataframe\n",
    "df = pd.DataFrame(d)\n",
    "df.columns = ['Rev']\n",
    "df['col'] = df['Rev']\n",
    "i = ['a','b','c','d','e','f','g','h','i','j']\n",
    "df.index = i\n",
    "print(df.ix[0:3,'Rev'])\n"
   ]
  },
  {
   "cell_type": "code",
   "execution_count": 303,
   "metadata": {},
   "outputs": [
    {
     "name": "stdout",
     "output_type": "stream",
     "text": [
      "   col  Rev\n",
      "a    0    0\n",
      "b    1    1\n",
      "c    2    2\n"
     ]
    }
   ],
   "source": [
    "import pandas as pd\n",
    "\n",
    "# Our small data set\n",
    "d = [0,1,2,3,4,5,6,7,8,9]\n",
    "\n",
    "# Create dataframe\n",
    "df = pd.DataFrame(d)\n",
    "df.columns = ['Rev']\n",
    "df['col'] = df['Rev']\n",
    "i = ['a','b','c','d','e','f','g','h','i','j']\n",
    "df.index = i\n",
    "print(df.ix[:3,['col', 'Rev']])\n"
   ]
  },
  {
   "cell_type": "code",
   "execution_count": 305,
   "metadata": {},
   "outputs": [
    {
     "name": "stdout",
     "output_type": "stream",
     "text": [
      ".....      A      B                         C\n",
      "0  one  start  [66, 13, 13, 65, 33, 68]\n",
      "1  one    end  [66, 13, 13, 65, 33, 68]\n",
      ".....      A      B                         C\n",
      "0  one  start  [66, 13, 13, 65, 33, 68]\n"
     ]
    }
   ],
   "source": [
    "\n",
    "import numpy as np\n",
    "import pandas as pd\n",
    "\n",
    "A = np.array(['one', 'one', 'two', 'two', 'three', 'three'])\n",
    "B = np.array(['start', 'end']*3)\n",
    "C = [np.random.randint(10, 99, 6)]*6\n",
    "df = pd.DataFrame(list(zip(A, B, C)), columns=['A', 'B', 'C'])\n",
    "\n",
    "\n",
    "print(\".....\",df.ix[0:1])\n",
    "print(\".....\", df[0:1])\n"
   ]
  },
  {
   "cell_type": "code",
   "execution_count": 306,
   "metadata": {},
   "outputs": [
    {
     "name": "stdout",
     "output_type": "stream",
     "text": [
      "a    0\n",
      "b    1\n",
      "c    2\n",
      "d    3\n",
      "e    4\n",
      "f    5\n",
      "g    6\n",
      "h    7\n",
      "i    8\n",
      "j    9\n",
      "Name: Rev, dtype: int64\n"
     ]
    }
   ],
   "source": [
    "import pandas as pd\n",
    "\n",
    "# Our small data set\n",
    "d = [0,1,2,3,4,5,6,7,8,9]\n",
    "\n",
    "# Create dataframe\n",
    "df = pd.DataFrame(d)\n",
    "df.columns = ['Rev']\n",
    "df['col'] = df['Rev']\n",
    "i = ['a','b','c','d','e','f','g','h','i','j']\n",
    "df.index = i\n",
    "print(df['Rev'])\n"
   ]
  },
  {
   "cell_type": "code",
   "execution_count": 307,
   "metadata": {},
   "outputs": [
    {
     "name": "stdout",
     "output_type": "stream",
     "text": [
      "   Rev  col\n",
      "a    0    0\n",
      "b    1    1\n",
      "c    2    2\n",
      "d    3    3\n",
      "e    4    4\n",
      "f    5    5\n",
      "g    6    6\n",
      "h    7    7\n",
      "i    8    8\n",
      "j    9    9\n"
     ]
    }
   ],
   "source": [
    "import pandas as pd\n",
    "\n",
    "# Our small data set\n",
    "d = [0,1,2,3,4,5,6,7,8,9]\n",
    "\n",
    "# Create dataframe\n",
    "df = pd.DataFrame(d)\n",
    "df.columns = ['Rev']\n",
    "df['col'] = df['Rev']\n",
    "i = ['a','b','c','d','e','f','g','h','i','j']\n",
    "df.index = i\n",
    "print(df[['Rev', 'col']])\n"
   ]
  },
  {
   "cell_type": "code",
   "execution_count": 338,
   "metadata": {},
   "outputs": [
    {
     "name": "stdout",
     "output_type": "stream",
     "text": [
      "([1], [1, 3])\n"
     ]
    }
   ],
   "source": [
    "import collections\n",
    "s = [('yellow', 1), ('blue', 2), ('yellow', 3), ('blue', 4), ('red', 1)]\n",
    "d = collections.defaultdict(list)\n",
    "for k, v in s:\n",
    "    d[k].append(v)\n",
    "    \n",
    "i = operator.itemgetter('red','yellow')\n",
    "\n",
    "print(i(d))"
   ]
  },
  {
   "cell_type": "code",
   "execution_count": 339,
   "metadata": {},
   "outputs": [
    {
     "name": "stdout",
     "output_type": "stream",
     "text": [
      "<class '__main__.T'>\n",
      "None\n",
      "1\n",
      "2\n",
      "(1, 2)\n"
     ]
    }
   ],
   "source": [
    "import collections, operator\n",
    "\n",
    "T = collections.namedtuple('T',['a','b'])\n",
    "print(T)\n",
    "a = T(1,2)\n",
    "print(getattr(a, '__dict__',None))\n",
    "\n",
    "print(a.a)\n",
    "print(a.b)\n",
    "i = operator.attrgetter('a','b')\n",
    "\n",
    "print(i(a))"
   ]
  },
  {
   "cell_type": "code",
   "execution_count": 332,
   "metadata": {},
   "outputs": [
    {
     "name": "stdout",
     "output_type": "stream",
     "text": [
      "defaultdict(<class 'list'>, {'red': [1], 'blue': [2, 4], 'yellow': [1, 3]})\n",
      "[1]\n",
      "None\n",
      "defaultdict(<class 'list'>, {'red': [2, 3, 4], 'blue': [2, 4], 'yellow': [1, 3]})\n"
     ]
    },
    {
     "data": {
      "text/plain": [
       "['__class__',\n",
       " '__contains__',\n",
       " '__copy__',\n",
       " '__delattr__',\n",
       " '__delitem__',\n",
       " '__dir__',\n",
       " '__doc__',\n",
       " '__eq__',\n",
       " '__format__',\n",
       " '__ge__',\n",
       " '__getattribute__',\n",
       " '__getitem__',\n",
       " '__gt__',\n",
       " '__hash__',\n",
       " '__init__',\n",
       " '__iter__',\n",
       " '__le__',\n",
       " '__len__',\n",
       " '__lt__',\n",
       " '__missing__',\n",
       " '__ne__',\n",
       " '__new__',\n",
       " '__reduce__',\n",
       " '__reduce_ex__',\n",
       " '__repr__',\n",
       " '__setattr__',\n",
       " '__setitem__',\n",
       " '__sizeof__',\n",
       " '__str__',\n",
       " '__subclasshook__',\n",
       " 'clear',\n",
       " 'copy',\n",
       " 'default_factory',\n",
       " 'fromkeys',\n",
       " 'get',\n",
       " 'items',\n",
       " 'keys',\n",
       " 'pop',\n",
       " 'popitem',\n",
       " 'setdefault',\n",
       " 'update',\n",
       " 'values']"
      ]
     },
     "execution_count": 332,
     "metadata": {},
     "output_type": "execute_result"
    }
   ],
   "source": [
    "import collections\n",
    "s = [('yellow', 1), ('blue', 2), ('yellow', 3), ('blue', 4), ('red', 1)]\n",
    "d = collections.defaultdict(list)\n",
    "for k, v in s:\n",
    "    d[k].append(v)\n",
    "    \n",
    "print(d)\n",
    "print(d['red'])\n",
    "print(getattr(d, '__dict__',None))\n",
    "d['red'] = [2,3,4]\n",
    "print(d)\n",
    "dir(collections.defaultdict)"
   ]
  },
  {
   "cell_type": "code",
   "execution_count": 328,
   "metadata": {},
   "outputs": [
    {
     "name": "stdout",
     "output_type": "stream",
     "text": [
      "<class '__main__.T'>\n",
      "None\n",
      "1\n",
      "2\n"
     ]
    },
    {
     "data": {
      "text/plain": [
       "['__add__',\n",
       " '__class__',\n",
       " '__contains__',\n",
       " '__delattr__',\n",
       " '__dir__',\n",
       " '__doc__',\n",
       " '__eq__',\n",
       " '__format__',\n",
       " '__ge__',\n",
       " '__getattribute__',\n",
       " '__getitem__',\n",
       " '__getnewargs__',\n",
       " '__gt__',\n",
       " '__hash__',\n",
       " '__init__',\n",
       " '__iter__',\n",
       " '__le__',\n",
       " '__len__',\n",
       " '__lt__',\n",
       " '__module__',\n",
       " '__mul__',\n",
       " '__ne__',\n",
       " '__new__',\n",
       " '__reduce__',\n",
       " '__reduce_ex__',\n",
       " '__repr__',\n",
       " '__rmul__',\n",
       " '__setattr__',\n",
       " '__sizeof__',\n",
       " '__slots__',\n",
       " '__str__',\n",
       " '__subclasshook__',\n",
       " '_asdict',\n",
       " '_fields',\n",
       " '_make',\n",
       " '_replace',\n",
       " '_source',\n",
       " 'a',\n",
       " 'b',\n",
       " 'count',\n",
       " 'index']"
      ]
     },
     "execution_count": 328,
     "metadata": {},
     "output_type": "execute_result"
    }
   ],
   "source": [
    "import collections\n",
    "\n",
    "T = collections.namedtuple('T',['a','b'])\n",
    "print(T)\n",
    "a = T(1,2)\n",
    "print(getattr(a, '__dict__',None))\n",
    "\n",
    "print(a.a)\n",
    "print(a.b)\n",
    "dir(T)"
   ]
  },
  {
   "cell_type": "code",
   "execution_count": 350,
   "metadata": {},
   "outputs": [
    {
     "name": "stdout",
     "output_type": "stream",
     "text": [
      "<class 'function'>\n",
      "<class 'type'>\n",
      "Card(rank=1, swite='spade')\n",
      "<class '__main__.Card'>\n"
     ]
    }
   ],
   "source": [
    "import collections \n",
    "print(collections.namedtuple.__class__)\n",
    "\n",
    "Card = collections.namedtuple('Card',['rank','swite'])\n",
    "print(Card.__class__)\n",
    "\n",
    "c = Card(1,'spade')\n",
    "print(c)\n",
    "print(c.__class__)"
   ]
  },
  {
   "cell_type": "code",
   "execution_count": 366,
   "metadata": {},
   "outputs": [
    {
     "name": "stdout",
     "output_type": "stream",
     "text": [
      "<class 'type'>\n",
      "defaultdict(<class 'list'>, {})\n",
      "<class 'collections.defaultdict'>\n",
      " default value  []\n",
      "defaultdict(<class 'list'>, {1: [999], 'ccc': [], 33: []})\n"
     ]
    }
   ],
   "source": [
    "import collections \n",
    "print(collections.defaultdict.__class__)\n",
    "d = collections.defaultdict(list)\n",
    "print(d)\n",
    "print(d.__class__)\n",
    "\n",
    "d[1] = [999]\n",
    "print(\" default value \",d[33])\n",
    "d.setdefault('ccc',[])\n",
    "print(d)"
   ]
  },
  {
   "cell_type": "code",
   "execution_count": 354,
   "metadata": {},
   "outputs": [
    {
     "name": "stdout",
     "output_type": "stream",
     "text": [
      "Help on class defaultdict in module collections:\n",
      "\n",
      "class defaultdict(builtins.dict)\n",
      " |  defaultdict(default_factory[, ...]) --> dict with default factory\n",
      " |  \n",
      " |  The default factory is called without arguments to produce\n",
      " |  a new value when a key is not present, in __getitem__ only.\n",
      " |  A defaultdict compares equal to a dict with the same items.\n",
      " |  All remaining arguments are treated the same as if they were\n",
      " |  passed to the dict constructor, including keyword arguments.\n",
      " |  \n",
      " |  Method resolution order:\n",
      " |      defaultdict\n",
      " |      builtins.dict\n",
      " |      builtins.object\n",
      " |  \n",
      " |  Methods defined here:\n",
      " |  \n",
      " |  __copy__(...)\n",
      " |      D.copy() -> a shallow copy of D.\n",
      " |  \n",
      " |  __getattribute__(self, name, /)\n",
      " |      Return getattr(self, name).\n",
      " |  \n",
      " |  __init__(self, /, *args, **kwargs)\n",
      " |      Initialize self.  See help(type(self)) for accurate signature.\n",
      " |  \n",
      " |  __missing__(...)\n",
      " |      __missing__(key) # Called by __getitem__ for missing key; pseudo-code:\n",
      " |      if self.default_factory is None: raise KeyError((key,))\n",
      " |      self[key] = value = self.default_factory()\n",
      " |      return value\n",
      " |  \n",
      " |  __reduce__(...)\n",
      " |      Return state information for pickling.\n",
      " |  \n",
      " |  __repr__(self, /)\n",
      " |      Return repr(self).\n",
      " |  \n",
      " |  copy(...)\n",
      " |      D.copy() -> a shallow copy of D.\n",
      " |  \n",
      " |  ----------------------------------------------------------------------\n",
      " |  Data descriptors defined here:\n",
      " |  \n",
      " |  default_factory\n",
      " |      Factory for default value called by __missing__().\n",
      " |  \n",
      " |  ----------------------------------------------------------------------\n",
      " |  Methods inherited from builtins.dict:\n",
      " |  \n",
      " |  __contains__(self, key, /)\n",
      " |      True if D has a key k, else False.\n",
      " |  \n",
      " |  __delitem__(self, key, /)\n",
      " |      Delete self[key].\n",
      " |  \n",
      " |  __eq__(self, value, /)\n",
      " |      Return self==value.\n",
      " |  \n",
      " |  __ge__(self, value, /)\n",
      " |      Return self>=value.\n",
      " |  \n",
      " |  __getitem__(...)\n",
      " |      x.__getitem__(y) <==> x[y]\n",
      " |  \n",
      " |  __gt__(self, value, /)\n",
      " |      Return self>value.\n",
      " |  \n",
      " |  __iter__(self, /)\n",
      " |      Implement iter(self).\n",
      " |  \n",
      " |  __le__(self, value, /)\n",
      " |      Return self<=value.\n",
      " |  \n",
      " |  __len__(self, /)\n",
      " |      Return len(self).\n",
      " |  \n",
      " |  __lt__(self, value, /)\n",
      " |      Return self<value.\n",
      " |  \n",
      " |  __ne__(self, value, /)\n",
      " |      Return self!=value.\n",
      " |  \n",
      " |  __new__(*args, **kwargs) from builtins.type\n",
      " |      Create and return a new object.  See help(type) for accurate signature.\n",
      " |  \n",
      " |  __setitem__(self, key, value, /)\n",
      " |      Set self[key] to value.\n",
      " |  \n",
      " |  __sizeof__(...)\n",
      " |      D.__sizeof__() -> size of D in memory, in bytes\n",
      " |  \n",
      " |  clear(...)\n",
      " |      D.clear() -> None.  Remove all items from D.\n",
      " |  \n",
      " |  fromkeys(iterable, value=None, /) from builtins.type\n",
      " |      Returns a new dict with keys from iterable and values equal to value.\n",
      " |  \n",
      " |  get(...)\n",
      " |      D.get(k[,d]) -> D[k] if k in D, else d.  d defaults to None.\n",
      " |  \n",
      " |  items(...)\n",
      " |      D.items() -> a set-like object providing a view on D's items\n",
      " |  \n",
      " |  keys(...)\n",
      " |      D.keys() -> a set-like object providing a view on D's keys\n",
      " |  \n",
      " |  pop(...)\n",
      " |      D.pop(k[,d]) -> v, remove specified key and return the corresponding value.\n",
      " |      If key is not found, d is returned if given, otherwise KeyError is raised\n",
      " |  \n",
      " |  popitem(...)\n",
      " |      D.popitem() -> (k, v), remove and return some (key, value) pair as a\n",
      " |      2-tuple; but raise KeyError if D is empty.\n",
      " |  \n",
      " |  setdefault(...)\n",
      " |      D.setdefault(k[,d]) -> D.get(k,d), also set D[k]=d if k not in D\n",
      " |  \n",
      " |  update(...)\n",
      " |      D.update([E, ]**F) -> None.  Update D from dict/iterable E and F.\n",
      " |      If E is present and has a .keys() method, then does:  for k in E: D[k] = E[k]\n",
      " |      If E is present and lacks a .keys() method, then does:  for k, v in E: D[k] = v\n",
      " |      In either case, this is followed by: for k in F:  D[k] = F[k]\n",
      " |  \n",
      " |  values(...)\n",
      " |      D.values() -> an object providing a view on D's values\n",
      " |  \n",
      " |  ----------------------------------------------------------------------\n",
      " |  Data and other attributes inherited from builtins.dict:\n",
      " |  \n",
      " |  __hash__ = None\n",
      "\n"
     ]
    }
   ],
   "source": [
    "help(collections.defaultdict)"
   ]
  },
  {
   "cell_type": "code",
   "execution_count": null,
   "metadata": {
    "collapsed": true
   },
   "outputs": [],
   "source": []
  }
 ],
 "metadata": {
  "anaconda-cloud": {},
  "kernelspec": {
   "display_name": "Python 3",
   "language": "python",
   "name": "python3"
  },
  "language_info": {
   "codemirror_mode": {
    "name": "ipython",
    "version": 3
   },
   "file_extension": ".py",
   "mimetype": "text/x-python",
   "name": "python",
   "nbconvert_exporter": "python",
   "pygments_lexer": "ipython3",
   "version": "3.6.1"
  }
 },
 "nbformat": 4,
 "nbformat_minor": 1
}
