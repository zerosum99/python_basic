{
 "cells": [
  {
   "cell_type": "markdown",
   "metadata": {},
   "source": [
    "# 1. 파이썬 기초 이해하기\n"
   ]
  },
  {
   "cell_type": "markdown",
   "metadata": {},
   "source": [
    "## 변수 \n",
    "\n",
    "     변수는 파이썬 내의 데이터 타입 등을 관리해서 프로그램 내에서 계속 사용할 수 있는 목적으로 사용된다.\n",
    "     "
   ]
  },
  {
   "cell_type": "code",
   "execution_count": 211,
   "metadata": {},
   "outputs": [
    {
     "name": "stdout",
     "output_type": "stream",
     "text": [
      "1\n"
     ]
    }
   ],
   "source": [
    "# 파이썬 식별자인 변수 정하기\n",
    "\n",
    "i = 1\n",
    "\n",
    "# 변수명 i에 1이라는 정수 타입의 인스턴스 객체의 주소를 할당\n",
    "\n",
    "# 변수 i 가 가르치는 1을 출력\n",
    "print(i)"
   ]
  },
  {
   "cell_type": "markdown",
   "metadata": {},
   "source": [
    "## 데이터 타입 \n",
    "\n",
    "    데이터 타입이 없는 타입(None) : 임의적인 데이터 타입이 필요해서 만든 타입이고 아무것도 하지 않는 곳에 사용\n",
    "    \n",
    "    논리표현(bool) :  True와 False를 관리하는 데이터 타입\n",
    "    \n",
    "    정수 숫자(int) : 실수가 아닌 숫자를 관리하는 데이터 타입\n",
    "    \n",
    "    실수 숫자(float) : 정수가 아닌 숫자를 관리하는 데이터 타입\n",
    "    \n",
    "    문자열(str) :  ' ', \" \", \"\"\" \"\"\" 안에 들어간 문자들의 집합을 프로그램 언어에서는 별도의 문자열 데이터 타입으로 관리\n",
    "    \n",
    "    리스트(list) :  다양한 객체를 원소로 가지는 배열 타입\n",
    "    \n",
    "    튜플(tuple)  :  다양한 객체를 원소로 가지는 배열 타입이지만 한번 생성하면 변경할 수 없다.\n",
    "    \n",
    "    집합(set)    :  집합 연산이 필요한 경우 사용하는 데이터 타입\n",
    "    \n",
    "    사전(dict)   :   내부 원소가 키와 값으로 구성되어 사용하는 데이터 타입\n",
    "        "
   ]
  },
  {
   "cell_type": "markdown",
   "metadata": {},
   "source": [
    "### 숫자"
   ]
  },
  {
   "cell_type": "code",
   "execution_count": 203,
   "metadata": {},
   "outputs": [
    {
     "name": "stdout",
     "output_type": "stream",
     "text": [
      "<class 'int'>\n",
      "<class 'float'>\n"
     ]
    }
   ],
   "source": [
    "i = 10\n",
    "print(type(i))\n",
    "f = 10.1\n",
    "print(type(f))\n"
   ]
  },
  {
   "cell_type": "markdown",
   "metadata": {},
   "source": [
    "### 문자열 처리 "
   ]
  },
  {
   "cell_type": "code",
   "execution_count": 202,
   "metadata": {},
   "outputs": [
    {
     "name": "stdout",
     "output_type": "stream",
     "text": [
      "<class 'str'>\n",
      "Hello world\n"
     ]
    }
   ],
   "source": [
    "# 평상시 사용하는 문자들의 집합을 문자열이라고 함\n",
    "s = \"Hello world\"\n",
    "\n",
    "print(type(s))\n",
    "\n",
    "# 출력하기\n",
    "print(s)"
   ]
  },
  {
   "cell_type": "markdown",
   "metadata": {},
   "source": [
    "### 튜플 처리\n"
   ]
  },
  {
   "cell_type": "code",
   "execution_count": 212,
   "metadata": {},
   "outputs": [
    {
     "name": "stdout",
     "output_type": "stream",
     "text": [
      "<class 'tuple'>\n",
      "(1, 1.0, 'Hello world')\n"
     ]
    }
   ],
   "source": [
    "t = (1, 1.0, \"Hello world\")\n",
    "\n",
    "print(type(t))\n",
    "print(t)"
   ]
  },
  {
   "cell_type": "markdown",
   "metadata": {},
   "source": [
    "### 리스트 처리 \n"
   ]
  },
  {
   "cell_type": "code",
   "execution_count": 205,
   "metadata": {},
   "outputs": [
    {
     "name": "stdout",
     "output_type": "stream",
     "text": [
      "<class 'list'>\n",
      "[1, 1.0, 'Hello world']\n"
     ]
    }
   ],
   "source": [
    "l = [1, 1.0, \"Hello world\"]\n",
    "\n",
    "print(type(l))\n",
    "print(l)"
   ]
  },
  {
   "cell_type": "markdown",
   "metadata": {},
   "source": [
    "### 사전타입 "
   ]
  },
  {
   "cell_type": "code",
   "execution_count": 208,
   "metadata": {},
   "outputs": [
    {
     "name": "stdout",
     "output_type": "stream",
     "text": [
      "<class 'dict'>\n",
      "{'a': 1}\n"
     ]
    }
   ],
   "source": [
    "d = {'a': 1}\n",
    "\n",
    "print(type(d))\n",
    "print(d)"
   ]
  },
  {
   "cell_type": "markdown",
   "metadata": {},
   "source": [
    "### 파이썬에서 객체란 ?\n",
    "\n",
    "    파이썬은 모든 구성 요소를 객체로 본다.\n",
    "    \n",
    "    데이터 타입은 이 객체를 만드는 클래스로 사용된다.\n",
    "    "
   ]
  },
  {
   "cell_type": "code",
   "execution_count": 213,
   "metadata": {},
   "outputs": [
    {
     "name": "stdout",
     "output_type": "stream",
     "text": [
      "True\n"
     ]
    }
   ],
   "source": [
    "# 클래스 내의 원소인 객체를 확인하는 법\n",
    "\n",
    "# 정수 클래스에 의해 만들어진 하나의 원소인지 확인\n",
    "\n",
    "print(isinstance(1, int))"
   ]
  },
  {
   "cell_type": "code",
   "execution_count": 214,
   "metadata": {},
   "outputs": [
    {
     "name": "stdout",
     "output_type": "stream",
     "text": [
      "<class 'int'>\n"
     ]
    }
   ],
   "source": [
    "# 실제 객체가 어떤 타입에 의해 만들어져 있는지 확인 \n",
    "\n",
    "print(type(1))"
   ]
  },
  {
   "cell_type": "markdown",
   "metadata": {},
   "source": [
    "## 함수 이해하기 \n",
    "\n",
    "    프로그램 언어에서 함수는 하나의 기능을 가지고 처리할 수 있는 로직을 묶은 것이다.\n",
    "    \n",
    "    함수를 사용하려면 함수 정의를 먼저하고 이를 호출해서 실행시켜야 한다.\n",
    "    \n",
    "    \n",
    "    \n",
    "    "
   ]
  },
  {
   "cell_type": "markdown",
   "metadata": {},
   "source": [
    "###  함수 정의 및 함수 호출\n",
    "\n",
    "    함수 정의는 사용하고 싶은 로직들을 함수로 그룹핑하는 것\n",
    "    \n",
    "    함수 호출은 정의된 함수를 실제 실행시켜 처리하게 하는 것\n",
    "    "
   ]
  },
  {
   "cell_type": "code",
   "execution_count": 218,
   "metadata": {},
   "outputs": [
    {
     "name": "stdout",
     "output_type": "stream",
     "text": [
      " call add\n"
     ]
    }
   ],
   "source": [
    "# 함수 정의\n",
    "\n",
    "def add() :\n",
    "    print(\" call add\")\n",
    "\n",
    "# 함수 호출\n",
    "add()"
   ]
  },
  {
   "cell_type": "markdown",
   "metadata": {},
   "source": [
    "### 함수 처리결과 \n",
    "\n",
    "    함수가 실행되고 난 다음에 결과의 값을 외부로 전달하기 위해 return 을 사용해야 함\n"
   ]
  },
  {
   "cell_type": "code",
   "execution_count": 220,
   "metadata": {},
   "outputs": [
    {
     "name": "stdout",
     "output_type": "stream",
     "text": [
      " call add\n"
     ]
    }
   ],
   "source": [
    "# 함수 정의시 함수를 호출했을 때 실행된 결과를 출력\n",
    "\n",
    "def add() :\n",
    "    \n",
    "    return \" call add\"\n",
    "\n",
    "# 함수 처리 결과 받기\n",
    "result = add()\n",
    "\n",
    "print(result)"
   ]
  },
  {
   "cell_type": "markdown",
   "metadata": {},
   "source": [
    "#### 함수의 파라미터와 인자 \n",
    "\n",
    "    함수 정의 시 필요한 변수를 정의하는 것을 함수의 파라미터를 지정하는 것이고 \n",
    "    \n",
    "    함수 호출시 함수 파라미터 즉 변수에 값을 넣는게 함수인자라고 함\n",
    "    "
   ]
  },
  {
   "cell_type": "code",
   "execution_count": 219,
   "metadata": {},
   "outputs": [
    {
     "name": "stdout",
     "output_type": "stream",
     "text": [
      "10\n"
     ]
    }
   ],
   "source": [
    "# 함수 파라미터란\n",
    "\n",
    "def add(x,y) :\n",
    "    result = x+y\n",
    "    return result\n",
    "\n",
    "# 함수 호출시 인자 넣기\n",
    "# x= 5, y=5가 할당됨\n",
    "\n",
    "print(add(5,5))"
   ]
  },
  {
   "cell_type": "markdown",
   "metadata": {},
   "source": [
    "## 사용자 데이터 타입 만들기 : class\n",
    "\n",
    "\n",
    "    파이썬에는 기본적인 데이터 타입을 제공하지만 실제 필요한 것을 class 문을 이용해서 정의 가능\n",
    "    \n",
    "    "
   ]
  },
  {
   "cell_type": "markdown",
   "metadata": {},
   "source": [
    "### 클래스 정의\n",
    "\n",
    "    개발에 필요한 요건을 하나의 클래스를 만드는 것 "
   ]
  },
  {
   "cell_type": "code",
   "execution_count": 224,
   "metadata": {},
   "outputs": [
    {
     "name": "stdout",
     "output_type": "stream",
     "text": [
      "<class '__main__.Person'>\n"
     ]
    }
   ],
   "source": [
    "class Person(object) :\n",
    "    pass\n",
    "\n",
    "print(Person)"
   ]
  },
  {
   "cell_type": "markdown",
   "metadata": {},
   "source": [
    "### 클래스를 호출해서 인스턴스 만들기\n"
   ]
  },
  {
   "cell_type": "code",
   "execution_count": 225,
   "metadata": {},
   "outputs": [
    {
     "name": "stdout",
     "output_type": "stream",
     "text": [
      "<__main__.Person object at 0x000000000A4FF550>\n",
      "True\n"
     ]
    }
   ],
   "source": [
    "class Person(object) :\n",
    "    pass\n",
    "\n",
    "\n",
    "p = Person()\n",
    "\n",
    "print(p)\n",
    "print(isinstance(p,Person))"
   ]
  },
  {
   "cell_type": "markdown",
   "metadata": {},
   "source": [
    "### 클래스 내부에 초기화  메소드 만들기\n",
    "\n",
    "    인스턴스 만들 때  인스턴스에 속성 만들기\n"
   ]
  },
  {
   "cell_type": "code",
   "execution_count": 227,
   "metadata": {},
   "outputs": [
    {
     "name": "stdout",
     "output_type": "stream",
     "text": [
      "<__main__.Person object at 0x000000000941E9B0>\n",
      "True\n"
     ]
    }
   ],
   "source": [
    "class Person(object) :\n",
    "    def __init__(self, name, age) :\n",
    "        self.name = name\n",
    "        self.age = age\n",
    "\n",
    "# 속성값을 가진 인스턴스 만들기\n",
    "p = Person(\"Dahl\",40)\n",
    "\n",
    "\n",
    "print(p)\n",
    "print(isinstance(p,Person))"
   ]
  },
  {
   "cell_type": "markdown",
   "metadata": {},
   "source": [
    "### 인스턴스의 속성 사용하기 \n",
    "\n",
    "    속성을 사용하려면 dot(.) 연산자로 속성을 접근해야 함\n",
    "    "
   ]
  },
  {
   "cell_type": "code",
   "execution_count": 229,
   "metadata": {},
   "outputs": [
    {
     "name": "stdout",
     "output_type": "stream",
     "text": [
      "Dahl\n",
      "40\n"
     ]
    }
   ],
   "source": [
    "print(p.name)\n",
    "print(p.age)\n"
   ]
  },
  {
   "cell_type": "markdown",
   "metadata": {},
   "source": [
    "### 인스턴스의  메소드로 속성 값 가져오기 \n",
    "\n",
    "    클래스 정의시 인스턴스에서 사용할 수 있는 메소드를 만든다.\n",
    "    \n",
    "    인스턴스 메소드에 파라미터이 첫번째 위치는 self라는 변수로 정의해서 인스턴스 주소가 명확히 세팅되어야 함\n",
    "    \n",
    "    인스턴스 메소드로 인스턴스의 속성의 내용을 호출해서 사용한다 \n",
    "    "
   ]
  },
  {
   "cell_type": "code",
   "execution_count": 231,
   "metadata": {},
   "outputs": [
    {
     "name": "stdout",
     "output_type": "stream",
     "text": [
      "('Dahl', 40)\n"
     ]
    }
   ],
   "source": [
    "class Person(object) :\n",
    "    def __init__(self, name, age) :\n",
    "        self.name = name\n",
    "        self.age = age\n",
    "        \n",
    "    def getPerson(self) :\n",
    "        return self.name, self.age\n",
    "\n",
    "# 속성값을 가진 인스턴스 만들기\n",
    "p = Person(\"Dahl\",40)\n",
    "\n",
    "\n",
    "print(p.getPerson())\n"
   ]
  },
  {
   "cell_type": "markdown",
   "metadata": {},
   "source": [
    "### 인스턴스 메소드로 인스턴스 속성 값을 변경하기\n"
   ]
  },
  {
   "cell_type": "code",
   "execution_count": 234,
   "metadata": {},
   "outputs": [
    {
     "name": "stdout",
     "output_type": "stream",
     "text": [
      "('Dahl', 40)\n",
      "('Moon', 50)\n"
     ]
    }
   ],
   "source": [
    "class Person(object) :\n",
    "    def __init__(self, name, age) :\n",
    "        self.name = name\n",
    "        self.age = age\n",
    "        \n",
    "    def getPerson(self) :\n",
    "        return self.name, self.age\n",
    "    \n",
    "    def setName(self, value) :\n",
    "        self.name = value\n",
    "        \n",
    "    def setAge(self, value) :\n",
    "        self.age = value\n",
    "\n",
    "# 속성값을 가진 인스턴스 만들기\n",
    "p = Person(\"Dahl\",40)\n",
    "\n",
    "\n",
    "print(p.getPerson())\n",
    "\n",
    "# 인스턴스 내의 속성 변경\n",
    "p.setAge(50)\n",
    "p.setName(\"Moon\")\n",
    "\n",
    "print(p.getPerson())\n"
   ]
  }
 ],
 "metadata": {
  "anaconda-cloud": {},
  "kernelspec": {
   "display_name": "Python 3",
   "language": "python",
   "name": "python3"
  },
  "language_info": {
   "codemirror_mode": {
    "name": "ipython",
    "version": 3
   },
   "file_extension": ".py",
   "mimetype": "text/x-python",
   "name": "python",
   "nbconvert_exporter": "python",
   "pygments_lexer": "ipython3",
   "version": "3.6.1"
  }
 },
 "nbformat": 4,
 "nbformat_minor": 1
}
