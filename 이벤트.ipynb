{
 "cells": [
  {
   "cell_type": "code",
   "execution_count": 1,
   "metadata": {},
   "outputs": [],
   "source": [
    "lll = ['Brian Park', '전성욱','Haeng-Ja Lee', '장대혁','이요셉','Kang-Hyeok Lim','신종호',\n",
    "      '이은옥','반상형','고요한','윤혜정']"
   ]
  },
  {
   "cell_type": "code",
   "execution_count": 2,
   "metadata": {},
   "outputs": [],
   "source": [
    "len(lll)"
   ]
  },
  {
   "cell_type": "code",
   "execution_count": 3,
   "metadata": {},
   "outputs": [
    {
     "name": "stdout",
     "output_type": "stream",
     "text": [
      "['Kang-Hyeok Lim' 'Haeng-Ja Lee' 'Brian Park' '고요한' '이요셉']\n"
     ]
    }
   ],
   "source": [
    "import numpy as np\n",
    "\n",
    "np.random.shuffle(lll)\n",
    "s = np.random.choice(lll,5,replace=True)\n",
    "print(s)"
   ]
  },
  {
   "cell_type": "code",
   "execution_count": 4,
   "metadata": {},
   "outputs": [
    {
     "name": "stdout",
     "output_type": "stream",
     "text": [
      "[1, 2, 3, 4, 5]\n"
     ]
    }
   ],
   "source": [
    "test = [] \n",
    "for i in [1,2,3,4,5] :\n",
    "    test.append(i)\n",
    "    \n",
    "print(test)"
   ]
  },
  {
   "cell_type": "code",
   "execution_count": 5,
   "metadata": {},
   "outputs": [
    {
     "name": "stdout",
     "output_type": "stream",
     "text": [
      "1 2 3 4 5 \n"
     ]
    }
   ],
   "source": [
    "test = [] \n",
    "test.append(1)\n",
    "test.append(2)\n",
    "test.append(3)\n",
    "test.append(4)\n",
    "test.append(5)\n",
    "\n",
    "for i in test :\n",
    "    print(i, end=\" \")\n",
    "print()"
   ]
  },
  {
   "cell_type": "code",
   "execution_count": null,
   "metadata": {},
   "outputs": [],
   "source": [
    "이름 : 고요한\n",
    "주소 : 경기도 오산시 가수행복로 55-5 행복주택 1206동 111호 \n",
    "연락처 : 010-7121-6476\n",
    "    \n",
    "박원주 \n",
    "경기도 용인시 기흥구 사은로 84번길 10  보라효성해링턴플레이스아파트  104동 1101호\n",
    "010-3461-5965\n",
    "\n",
    "이요셉\n",
    "서울특별시 구로구 디지털로 33길 27(구로동 삼성아이티밸리) 501호 (주)솔루티스\n",
    "010-7336-4321\n",
    "\n",
    "임강혁\n",
    "30100) 세종툭별자치시 아름서길 27 한국해양교통안전공단 3층 \n",
    "010-7340-4025\n",
    "\n",
    "이행자\n",
    "부산시 수영구 광일로 49 103-1906(광안동, 비치그린아파트)\n",
    "010-3202-8064"
   ]
  }
 ],
 "metadata": {
  "kernelspec": {
   "display_name": "Python 3",
   "language": "python",
   "name": "python3"
  },
  "language_info": {
   "codemirror_mode": {
    "name": "ipython",
    "version": 3
   },
   "file_extension": ".py",
   "mimetype": "text/x-python",
   "name": "python",
   "nbconvert_exporter": "python",
   "pygments_lexer": "ipython3",
   "version": "3.7.7"
  }
 },
 "nbformat": 4,
 "nbformat_minor": 4
}
