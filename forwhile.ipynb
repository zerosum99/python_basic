{
 "cells": [
  {
   "cell_type": "code",
   "execution_count": 1,
   "id": "cleared-breath",
   "metadata": {},
   "outputs": [],
   "source": [
    "l = [1,2,3,4,5]"
   ]
  },
  {
   "cell_type": "code",
   "execution_count": 2,
   "id": "organizational-bicycle",
   "metadata": {},
   "outputs": [],
   "source": [
    "max_ = l[0]"
   ]
  },
  {
   "cell_type": "code",
   "execution_count": 3,
   "id": "confused-complement",
   "metadata": {},
   "outputs": [
    {
     "name": "stdout",
     "output_type": "stream",
     "text": [
      "5\n"
     ]
    }
   ],
   "source": [
    "for i in l :\n",
    "    if max_ < i :\n",
    "        max_ = i\n",
    "        \n",
    "print(max_)"
   ]
  },
  {
   "cell_type": "code",
   "execution_count": 4,
   "id": "parliamentary-retro",
   "metadata": {},
   "outputs": [],
   "source": [
    "max_ = l[0]"
   ]
  },
  {
   "cell_type": "code",
   "execution_count": 5,
   "id": "latter-treasury",
   "metadata": {},
   "outputs": [],
   "source": [
    "ll = len(l)"
   ]
  },
  {
   "cell_type": "code",
   "execution_count": 6,
   "id": "outer-explanation",
   "metadata": {},
   "outputs": [
    {
     "name": "stdout",
     "output_type": "stream",
     "text": [
      "5\n"
     ]
    }
   ],
   "source": [
    "while  ll :\n",
    "    if max_ < i :\n",
    "        max_ = i\n",
    "    ll -= 1\n",
    "        \n",
    "print(max_)"
   ]
  },
  {
   "cell_type": "code",
   "execution_count": null,
   "id": "higher-charge",
   "metadata": {},
   "outputs": [],
   "source": []
  }
 ],
 "metadata": {
  "kernelspec": {
   "display_name": "Python 3",
   "language": "python",
   "name": "python3"
  },
  "language_info": {
   "codemirror_mode": {
    "name": "ipython",
    "version": 3
   },
   "file_extension": ".py",
   "mimetype": "text/x-python",
   "name": "python",
   "nbconvert_exporter": "python",
   "pygments_lexer": "ipython3",
   "version": "3.7.9"
  }
 },
 "nbformat": 4,
 "nbformat_minor": 5
}
