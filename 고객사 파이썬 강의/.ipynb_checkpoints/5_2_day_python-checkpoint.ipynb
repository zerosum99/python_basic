{
 "cells": [
  {
   "cell_type": "markdown",
   "metadata": {},
   "source": [
    "# 1. 점 연산자로 접근 "
   ]
  },
  {
   "cell_type": "markdown",
   "metadata": {},
   "source": [
    "## 객체 속성에 접근할때 발동하는 스페셜 메소드\n",
    "\n",
    "`__getattribute__` 겟 어트리뷰트\n",
    "\n",
    "`__getattr__` > 겟어트리\n",
    "\n",
    "`__setattr__`\n",
    "\n",
    "`__delattr__`"
   ]
  },
  {
   "cell_type": "markdown",
   "metadata": {},
   "source": [
    "#  1.1 점 연산자 확인 `__getattribute__`\n",
    "\n",
    "속성을 탐색"
   ]
  },
  {
   "cell_type": "code",
   "execution_count": 1,
   "metadata": {},
   "outputs": [
    {
     "name": "stdout",
     "output_type": "stream",
     "text": [
      "Overwriting d1.py\n"
     ]
    }
   ],
   "source": [
    "%%writefile d1.py\n",
    "\n",
    "\n",
    "class A:\n",
    "    x = 3\n",
    "    def __getattribute__(self, name):\n",
    "        print(\"getattribute!!!\")\n",
    "        return super().__getattribute__(name)\n",
    "    \n",
    "a = A()\n",
    "a.y = 123\n",
    "\n",
    "print(a.__dict__)\n",
    "print(type(a).__dict__)\n",
    "print(A.__dict__)\n",
    "\n",
    "\n",
    "print(a.x)\n",
    "print(a.y)\n"
   ]
  },
  {
   "cell_type": "code",
   "execution_count": 2,
   "metadata": {},
   "outputs": [
    {
     "name": "stdout",
     "output_type": "stream",
     "text": [
      "getattribute!!!\n",
      "{'y': 123}\n",
      "{'__module__': '__main__', 'x': 3, '__getattribute__': <function A.__getattribute__ at 0x00000000028F88C8>, '__dict__': <attribute '__dict__' of 'A' objects>, '__weakref__': <attribute '__weakref__' of 'A' objects>, '__doc__': None}\n",
      "{'__module__': '__main__', 'x': 3, '__getattribute__': <function A.__getattribute__ at 0x00000000028F88C8>, '__dict__': <attribute '__dict__' of 'A' objects>, '__weakref__': <attribute '__weakref__' of 'A' objects>, '__doc__': None}\n",
      "getattribute!!!\n",
      "3\n",
      "getattribute!!!\n",
      "123\n"
     ]
    }
   ],
   "source": [
    "!python d1.py"
   ]
  },
  {
   "cell_type": "code",
   "execution_count": 3,
   "metadata": {},
   "outputs": [
    {
     "name": "stdout",
     "output_type": "stream",
     "text": [
      "Overwriting d2.py\n"
     ]
    }
   ],
   "source": [
    "%%writefile d2.py\n",
    "\n",
    "import warnings\n",
    "\n",
    "\n",
    "class Private:\n",
    "    def __getattribute__(self, name, perm=False):\n",
    "        if not perm:\n",
    "            warnings.warn(\"속성에 접근할 수 없습니다.\")\n",
    "            return None\n",
    "        return super().__getattribute__(name)\n",
    "\n",
    "    \n",
    "class ScretBox(Private):\n",
    "    pass\n",
    "\n",
    "\n",
    "a = ScretBox()\n",
    "a.x = 3\n",
    "\n",
    "print(a.x)\n",
    "print(a.__dict__)\n",
    "print(type(a).__dict__)\n",
    "\n",
    "\n",
    "### 숨겨진 값을 찾기 위해서..\n",
    "### 허가를 거치는 단계\n",
    "\n",
    "print(type(a).__getattribute__(a, '__dict__', True))\n",
    "\n",
    "\n",
    "from functools import partial\n",
    "\n",
    "perm_a = partial(type(a).__getattribute__, perm=True)\n",
    "print('partial 이용 : ',perm_a(a, 'x'))"
   ]
  },
  {
   "cell_type": "code",
   "execution_count": 4,
   "metadata": {},
   "outputs": [
    {
     "name": "stdout",
     "output_type": "stream",
     "text": [
      "None\n",
      "None\n",
      "{'__module__': '__main__', '__doc__': None}\n",
      "{'x': 3}\n",
      "partial 이용 :  3\n"
     ]
    },
    {
     "name": "stderr",
     "output_type": "stream",
     "text": [
      "d2.py:8: UserWarning: 속성에 접근할 수 없습니다.\n",
      "  warnings.warn(\"속성에 접근할 수 없습니다.\")\n"
     ]
    }
   ],
   "source": [
    "!python d2.py"
   ]
  },
  {
   "cell_type": "markdown",
   "metadata": {},
   "source": [
    "# 1.2 `__getattr__`\n",
    "\n",
    "객체 속성을 찾을때...\n",
    "**가장 마지막에 실행**"
   ]
  },
  {
   "cell_type": "code",
   "execution_count": 5,
   "metadata": {},
   "outputs": [
    {
     "name": "stdout",
     "output_type": "stream",
     "text": [
      "Overwriting d3.py\n"
     ]
    }
   ],
   "source": [
    "%%writefile d3.py\n",
    "\n",
    "\n",
    "import warnings\n",
    "\n",
    "\n",
    "class A:\n",
    "    def __getattr__(self, name):\n",
    "        warnings.warn(\"값이 없습니다. 디폴트값을 넘깁니다.\")\n",
    "        return 3\n",
    "\n",
    "a = A()\n",
    "a.var = 123\n",
    "print('a.var', a.var)\n",
    "print('a.xxx', a.xxx)"
   ]
  },
  {
   "cell_type": "code",
   "execution_count": 6,
   "metadata": {},
   "outputs": [
    {
     "name": "stdout",
     "output_type": "stream",
     "text": [
      "a.var 123\n",
      "a.xxx 3\n"
     ]
    },
    {
     "name": "stderr",
     "output_type": "stream",
     "text": [
      "d3.py:8: UserWarning: 값이 없습니다. 디폴트값을 넘깁니다.\n",
      "  warnings.warn(\"값이 없습니다. 디폴트값을 넘깁니다.\")\n"
     ]
    }
   ],
   "source": [
    "!python d3.py"
   ]
  },
  {
   "cell_type": "markdown",
   "metadata": {},
   "source": [
    "# 1.3  `__getattribute__` vs `__getattr__`"
   ]
  },
  {
   "cell_type": "code",
   "execution_count": 7,
   "metadata": {},
   "outputs": [
    {
     "name": "stdout",
     "output_type": "stream",
     "text": [
      "Overwriting d4.py\n"
     ]
    }
   ],
   "source": [
    "%%writefile d4.py\n",
    "\n",
    "\n",
    "class A:\n",
    "    def __getattribute__(self, name):\n",
    "        print(\"getattribute\")\n",
    "        return super().__getattribute__(name)\n",
    "    \n",
    "    def __getattr__(self, name):\n",
    "        print(\"getattr\")\n",
    "        return '없습니다.'\n",
    "    \n",
    "\n",
    "a = A()\n",
    "\n",
    "print(a.no)\n",
    "\n",
    "a.var = 1\n",
    "\n",
    "print(a.var)"
   ]
  },
  {
   "cell_type": "code",
   "execution_count": 8,
   "metadata": {},
   "outputs": [
    {
     "name": "stdout",
     "output_type": "stream",
     "text": [
      "getattribute\n",
      "getattr\n",
      "없습니다.\n",
      "getattribute\n",
      "1\n"
     ]
    }
   ],
   "source": [
    "!python d4.py"
   ]
  },
  {
   "cell_type": "markdown",
   "metadata": {},
   "source": [
    "# class 속성을 탐색할때"
   ]
  },
  {
   "cell_type": "code",
   "execution_count": 9,
   "metadata": {},
   "outputs": [
    {
     "name": "stdout",
     "output_type": "stream",
     "text": [
      "Overwriting d5.py\n"
     ]
    }
   ],
   "source": [
    "%%writefile d5.py\n",
    "\n",
    "\n",
    "class Meta(type):\n",
    "    def __getattribute__(self, name):\n",
    "        return \"classattribute\"\n",
    "    \n",
    "    def __getattr__(self, name):\n",
    "        return \"classattr\"\n",
    "    \n",
    "\n",
    "class A(metaclass=Meta):\n",
    "    pass\n",
    "\n",
    "\n",
    "#print(A.b)\n",
    "a = A()\n",
    "print(a.b)"
   ]
  },
  {
   "cell_type": "code",
   "execution_count": 10,
   "metadata": {},
   "outputs": [
    {
     "name": "stderr",
     "output_type": "stream",
     "text": [
      "Traceback (most recent call last):\n",
      "  File \"d5.py\", line 17, in <module>\n",
      "    print(a.b)\n",
      "AttributeError: 'A' object has no attribute 'b'\n"
     ]
    }
   ],
   "source": [
    "!python d5.py"
   ]
  },
  {
   "cell_type": "markdown",
   "metadata": {},
   "source": [
    "# `__setattr__`\n",
    "\n",
    "속성에 객체를 할당할때"
   ]
  },
  {
   "cell_type": "code",
   "execution_count": 11,
   "metadata": {},
   "outputs": [
    {
     "name": "stdout",
     "output_type": "stream",
     "text": [
      "Overwriting d6.py\n"
     ]
    }
   ],
   "source": [
    "%%writefile d6.py\n",
    "\n",
    "\n",
    "class A:\n",
    "    def __setattr__(self, name, value):\n",
    "        # return 필요 없음\n",
    "        print(\"setattr!!\")\n",
    "        self.__dict__[name] = value\n",
    "\n",
    "a = A()\n",
    "a.var = 3\n",
    "print(a.var)"
   ]
  },
  {
   "cell_type": "code",
   "execution_count": 12,
   "metadata": {},
   "outputs": [
    {
     "name": "stdout",
     "output_type": "stream",
     "text": [
      "setattr!!\n",
      "3\n"
     ]
    }
   ],
   "source": [
    "!python d6.py"
   ]
  },
  {
   "cell_type": "markdown",
   "metadata": {},
   "source": [
    "# `__setattr__` 적용"
   ]
  },
  {
   "cell_type": "code",
   "execution_count": 13,
   "metadata": {},
   "outputs": [
    {
     "name": "stdout",
     "output_type": "stream",
     "text": [
      "Overwriting d7.py\n"
     ]
    }
   ],
   "source": [
    "%%writefile d7.py\n",
    "\n",
    "import sys\n",
    "from types import ModuleType\n",
    "\n",
    "\n",
    "class MyModule(ModuleType):\n",
    "    def __repr__(self):\n",
    "        return 'MyModule'\n",
    "    \n",
    "    def __setattr__(self, name, value):\n",
    "        print(name, \"세팅 불가\")\n",
    "        \n",
    "    @staticmethod\n",
    "    def func(a, b):\n",
    "        pass\n",
    "        \n",
    "def func(a, b):\n",
    "    pass\n",
    "        \n",
    "sys.modules[__name__].__class__ = MyModule"
   ]
  },
  {
   "cell_type": "code",
   "execution_count": 14,
   "metadata": {},
   "outputs": [
    {
     "name": "stdout",
     "output_type": "stream",
     "text": [
      "Overwriting d8.py\n"
     ]
    }
   ],
   "source": [
    "%%writefile d8.py\n",
    "\n",
    "import d7\n",
    "\n",
    "print(d7)\n",
    "d7.a = 3\n",
    "print(d7.a)"
   ]
  },
  {
   "cell_type": "code",
   "execution_count": 15,
   "metadata": {},
   "outputs": [
    {
     "name": "stdout",
     "output_type": "stream",
     "text": [
      "MyModule\n",
      "a 세팅 불가\n"
     ]
    },
    {
     "name": "stderr",
     "output_type": "stream",
     "text": [
      "Traceback (most recent call last):\n",
      "  File \"d8.py\", line 6, in <module>\n",
      "    print(d7.a)\n",
      "AttributeError: module 'd7' has no attribute 'a'\n"
     ]
    }
   ],
   "source": [
    "!python d8.py"
   ]
  },
  {
   "cell_type": "markdown",
   "metadata": {},
   "source": [
    "# `__delattr__`"
   ]
  },
  {
   "cell_type": "code",
   "execution_count": 16,
   "metadata": {},
   "outputs": [
    {
     "name": "stdout",
     "output_type": "stream",
     "text": [
      "Overwriting d9.py\n"
     ]
    }
   ],
   "source": [
    "%%writefile d9.py\n",
    "\n",
    "\n",
    "class A:\n",
    "    def __delattr__(self, name):\n",
    "        print(\"지울 수 없습니다.\")\n",
    "        \n",
    "a = A()\n",
    "a.var = 3\n",
    "\n",
    "print(a.var)\n",
    "\n",
    "del a.var # 여기서 __delattr__가 작동\n",
    "\n",
    "print(a.var)"
   ]
  },
  {
   "cell_type": "code",
   "execution_count": 17,
   "metadata": {},
   "outputs": [
    {
     "name": "stdout",
     "output_type": "stream",
     "text": [
      "3\n",
      "지울 수 없습니다.\n",
      "3\n"
     ]
    }
   ],
   "source": [
    "!python d9.py"
   ]
  },
  {
   "cell_type": "markdown",
   "metadata": {},
   "source": [
    "## `__delattr__` 활용 예"
   ]
  },
  {
   "cell_type": "code",
   "execution_count": 18,
   "metadata": {},
   "outputs": [
    {
     "data": {
      "text/plain": [
       "Ellipsis"
      ]
     },
     "execution_count": 18,
     "metadata": {},
     "output_type": "execute_result"
    }
   ],
   "source": [
    "..."
   ]
  },
  {
   "cell_type": "markdown",
   "metadata": {},
   "source": [
    "# 스페셜메소드를 통한 속성 컨트롤\n",
    "\n",
    "### 인스턴스를 생성할때 반지름을 입력받는 원 객체 / 원의 속성을 가지고 있는..\n",
    "\n",
    "> 반지름은 mutable    \n",
    "> 그 외에 지름, 둘레, 넓이는 immutable"
   ]
  },
  {
   "cell_type": "code",
   "execution_count": 19,
   "metadata": {},
   "outputs": [
    {
     "name": "stdout",
     "output_type": "stream",
     "text": [
      "Overwriting d10.py\n"
     ]
    }
   ],
   "source": [
    "%%writefile d10.py\n",
    "\n",
    "\n",
    "import warnings\n",
    "\n",
    "MUTABLE = ['radius']\n",
    "IMMUTABLE = ['diameter', 'circumference', 'area']\n",
    "\n",
    "class Circle:\n",
    "    pi = 3.1415\n",
    "    \n",
    "    def __init__(self, r):\n",
    "        self.radius = r\n",
    "        \n",
    "    def diameter(self):\n",
    "        return self.radius * 2\n",
    "    \n",
    "    def circumference(self):\n",
    "        return self.radius * self.pi * 2\n",
    "    \n",
    "    def area(self):\n",
    "        return (self.radius ** 2) * self.pi\n",
    "    \n",
    "    def __setattr__(self, name, value):\n",
    "        if name in IMMUTABLE:\n",
    "            warnings.warn(\"불가\")\n",
    "        return super().__setattr__(name, value)\n",
    "    \n",
    "    # __delattr__ 추가\n",
    "    \n",
    "\n",
    "c = Circle(10)\n",
    "print(c.radius)\n",
    "print(c.diameter())\n",
    "c.radius = 100\n",
    "c.area = 123"
   ]
  },
  {
   "cell_type": "code",
   "execution_count": 20,
   "metadata": {},
   "outputs": [
    {
     "name": "stdout",
     "output_type": "stream",
     "text": [
      "10\n",
      "20\n"
     ]
    },
    {
     "name": "stderr",
     "output_type": "stream",
     "text": [
      "d10.py:25: UserWarning: 불가\n",
      "  warnings.warn(\"불가\")\n"
     ]
    }
   ],
   "source": [
    "!python d10.py"
   ]
  }
 ],
 "metadata": {
  "kernelspec": {
   "display_name": "Python 3",
   "language": "python",
   "name": "python3"
  },
  "language_info": {
   "codemirror_mode": {
    "name": "ipython",
    "version": 3
   },
   "file_extension": ".py",
   "mimetype": "text/x-python",
   "name": "python",
   "nbconvert_exporter": "python",
   "pygments_lexer": "ipython3",
   "version": "3.6.7"
  }
 },
 "nbformat": 4,
 "nbformat_minor": 2
}
