{
 "cells": [
  {
   "cell_type": "code",
   "execution_count": 1,
   "metadata": {},
   "outputs": [
    {
     "name": "stdout",
     "output_type": "stream",
     "text": [
      "<class 'type'> <class 'type'> <class 'type'>\n"
     ]
    }
   ],
   "source": [
    "print(type(int), type(float), type(complex))\n"
   ]
  },
  {
   "cell_type": "code",
   "execution_count": 2,
   "metadata": {},
   "outputs": [
    {
     "name": "stdout",
     "output_type": "stream",
     "text": [
      "<class 'type'> <class 'type'> <class 'type'>\n"
     ]
    }
   ],
   "source": [
    "print(type(str), type(bytes), type(bytearray))"
   ]
  },
  {
   "cell_type": "code",
   "execution_count": 3,
   "metadata": {},
   "outputs": [
    {
     "name": "stdout",
     "output_type": "stream",
     "text": [
      "<class 'type'> <class 'type'>\n"
     ]
    }
   ],
   "source": [
    "print(type(tuple), type(list))"
   ]
  },
  {
   "cell_type": "code",
   "execution_count": 4,
   "metadata": {},
   "outputs": [
    {
     "name": "stdout",
     "output_type": "stream",
     "text": [
      "<class 'type'>\n"
     ]
    }
   ],
   "source": [
    "print(type(range))"
   ]
  },
  {
   "cell_type": "code",
   "execution_count": 5,
   "metadata": {},
   "outputs": [
    {
     "name": "stdout",
     "output_type": "stream",
     "text": [
      "<class 'type'>\n"
     ]
    }
   ],
   "source": [
    "print(type(dict))"
   ]
  },
  {
   "cell_type": "code",
   "execution_count": 6,
   "metadata": {},
   "outputs": [
    {
     "name": "stdout",
     "output_type": "stream",
     "text": [
      "<class 'type'> <class 'type'>\n"
     ]
    }
   ],
   "source": [
    "print(type(set),type(frozenset))"
   ]
  },
  {
   "cell_type": "code",
   "execution_count": 7,
   "metadata": {},
   "outputs": [
    {
     "name": "stdout",
     "output_type": "stream",
     "text": [
      "['__class__',\n",
      " '__delattr__',\n",
      " '__dir__',\n",
      " '__doc__',\n",
      " '__eq__',\n",
      " '__format__',\n",
      " '__ge__',\n",
      " '__getattribute__',\n",
      " '__gt__',\n",
      " '__hash__',\n",
      " '__init__',\n",
      " '__init_subclass__',\n",
      " '__le__',\n",
      " '__lt__',\n",
      " '__ne__',\n",
      " '__new__',\n",
      " '__reduce__',\n",
      " '__reduce_ex__',\n",
      " '__repr__',\n",
      " '__setattr__',\n",
      " '__sizeof__',\n",
      " '__str__',\n",
      " '__subclasshook__']\n",
      "<class 'type'>\n",
      "<class 'object'>\n"
     ]
    }
   ],
   "source": [
    "import pprint\n",
    "\n",
    "pprint.pprint(dir(object))\n",
    "print(object.__class__)\n",
    "print(object.__str__(object))"
   ]
  },
  {
   "cell_type": "code",
   "execution_count": 8,
   "metadata": {},
   "outputs": [
    {
     "name": "stdout",
     "output_type": "stream",
     "text": [
      "set()\n"
     ]
    }
   ],
   "source": [
    "import pprint\n",
    "\n",
    "o = object()\n",
    "pprint.pprint(set(dir(object)) - set(dir(o)))"
   ]
  },
  {
   "cell_type": "code",
   "execution_count": 9,
   "metadata": {},
   "outputs": [
    {
     "name": "stdout",
     "output_type": "stream",
     "text": [
      "True\n",
      "False\n"
     ]
    }
   ],
   "source": [
    "#        12345678901234567\n",
    "print((1.00000000000000009).is_integer())\n",
    "\n",
    "print((1.0000000000000009).is_integer())"
   ]
  },
  {
   "cell_type": "code",
   "execution_count": 10,
   "metadata": {},
   "outputs": [
    {
     "data": {
      "text/plain": [
       "['DEV_NULL',\n",
       " '_UNIXCONFDIR',\n",
       " '_WIN32_CLIENT_RELEASES',\n",
       " '_WIN32_SERVER_RELEASES',\n",
       " '__builtins__',\n",
       " '__cached__',\n",
       " '__copyright__',\n",
       " '__doc__',\n",
       " '__file__',\n",
       " '__loader__',\n",
       " '__name__',\n",
       " '__package__',\n",
       " '__spec__',\n",
       " '__version__',\n",
       " '_default_architecture',\n",
       " '_dist_try_harder',\n",
       " '_follow_symlinks',\n",
       " '_ironpython26_sys_version_parser',\n",
       " '_ironpython_sys_version_parser',\n",
       " '_java_getprop',\n",
       " '_libc_search',\n",
       " '_linux_distribution',\n",
       " '_lsb_release_version',\n",
       " '_mac_ver_xml',\n",
       " '_node',\n",
       " '_norm_version',\n",
       " '_parse_release_file',\n",
       " '_platform',\n",
       " '_platform_cache',\n",
       " '_pypy_sys_version_parser',\n",
       " '_release_filename',\n",
       " '_release_version',\n",
       " '_supported_dists',\n",
       " '_sys_version',\n",
       " '_sys_version_cache',\n",
       " '_sys_version_parser',\n",
       " '_syscmd_file',\n",
       " '_syscmd_uname',\n",
       " '_syscmd_ver',\n",
       " '_uname_cache',\n",
       " '_ver_output',\n",
       " 'architecture',\n",
       " 'collections',\n",
       " 'dist',\n",
       " 'java_ver',\n",
       " 'libc_ver',\n",
       " 'linux_distribution',\n",
       " 'mac_ver',\n",
       " 'machine',\n",
       " 'node',\n",
       " 'os',\n",
       " 'platform',\n",
       " 'popen',\n",
       " 'processor',\n",
       " 'python_branch',\n",
       " 'python_build',\n",
       " 'python_compiler',\n",
       " 'python_implementation',\n",
       " 'python_revision',\n",
       " 'python_version',\n",
       " 'python_version_tuple',\n",
       " 're',\n",
       " 'release',\n",
       " 'subprocess',\n",
       " 'sys',\n",
       " 'system',\n",
       " 'system_alias',\n",
       " 'uname',\n",
       " 'uname_result',\n",
       " 'version',\n",
       " 'warnings',\n",
       " 'win32_ver']"
      ]
     },
     "execution_count": 10,
     "metadata": {},
     "output_type": "execute_result"
    }
   ],
   "source": [
    "import platform\n",
    "dir(platform)"
   ]
  },
  {
   "cell_type": "code",
   "execution_count": 11,
   "metadata": {},
   "outputs": [
    {
     "data": {
      "text/plain": [
       "'Darwin-17.0.0-x86_64-i386-64bit'"
      ]
     },
     "execution_count": 11,
     "metadata": {},
     "output_type": "execute_result"
    }
   ],
   "source": [
    "platform.platform()"
   ]
  },
  {
   "cell_type": "code",
   "execution_count": 12,
   "metadata": {},
   "outputs": [
    {
     "name": "stdout",
     "output_type": "stream",
     "text": [
      "{'name': 'dahl'}\n",
      "1\n",
      "dahl\n",
      "dahl\n"
     ]
    }
   ],
   "source": [
    "class Person :\n",
    "    count = 0\n",
    "    def __init__(self, name) :\n",
    "        self.name = name\n",
    "        Person.count += 1\n",
    "    def getName(self) :\n",
    "        return self.name\n",
    "    \n",
    "p = Person(\"dahl\")\n",
    "\n",
    "print(p.__dict__)\n",
    "print(p.count)\n",
    "\n",
    "print(p.name)\n",
    "print(p.getName())\n",
    "\n"
   ]
  },
  {
   "cell_type": "code",
   "execution_count": 13,
   "metadata": {},
   "outputs": [
    {
     "name": "stdout",
     "output_type": "stream",
     "text": [
      "a\n"
     ]
    }
   ],
   "source": [
    "d = {1:\"a\",2:\"b\"}\n",
    "\n",
    "print(d[1])"
   ]
  },
  {
   "cell_type": "code",
   "execution_count": 14,
   "metadata": {},
   "outputs": [
    {
     "name": "stdout",
     "output_type": "stream",
     "text": [
      "H\n",
      "1\n"
     ]
    }
   ],
   "source": [
    "s = \"Hello World\"\n",
    "l = [1,2,3,4]\n",
    "\n",
    "print(s[0])\n",
    "print(l[0])"
   ]
  },
  {
   "cell_type": "code",
   "execution_count": 15,
   "metadata": {},
   "outputs": [
    {
     "name": "stdout",
     "output_type": "stream",
     "text": [
      "l\n",
      "3\n"
     ]
    }
   ],
   "source": [
    "s = \"Hello World\"\n",
    "l = [1,2,3,4]\n",
    "\n",
    "print(s[-2])\n",
    "print(l[-2])"
   ]
  },
  {
   "cell_type": "code",
   "execution_count": 16,
   "metadata": {},
   "outputs": [
    {
     "name": "stdout",
     "output_type": "stream",
     "text": [
      "['H', 'e', 'l', 'l', 'o', ' ', 'W', 'o', 'r', 'l'] d\n",
      "[1, 2, 3, 4] 5\n"
     ]
    }
   ],
   "source": [
    "*s , a = \"Hello World\"\n",
    "print(s,a)\n",
    "\n",
    "*l , b = [1,2,3,4,5]\n",
    "print(l,b)"
   ]
  },
  {
   "cell_type": "code",
   "execution_count": 17,
   "metadata": {},
   "outputs": [
    {
     "name": "stdout",
     "output_type": "stream",
     "text": [
      "<class 'object'>\n"
     ]
    }
   ],
   "source": [
    "o = object()\n",
    "\n",
    "print(type(o))"
   ]
  },
  {
   "cell_type": "code",
   "execution_count": 18,
   "metadata": {},
   "outputs": [
    {
     "name": "stdout",
     "output_type": "stream",
     "text": [
      "['__class__',\n",
      " '__delattr__',\n",
      " '__dir__',\n",
      " '__doc__',\n",
      " '__eq__',\n",
      " '__format__',\n",
      " '__ge__',\n",
      " '__getattribute__',\n",
      " '__gt__',\n",
      " '__hash__',\n",
      " '__init__',\n",
      " '__init_subclass__',\n",
      " '__le__',\n",
      " '__lt__',\n",
      " '__module__',\n",
      " '__ne__',\n",
      " '__new__',\n",
      " '__reduce__',\n",
      " '__reduce_ex__',\n",
      " '__repr__',\n",
      " '__setattr__',\n",
      " '__sizeof__',\n",
      " '__slots__',\n",
      " '__str__',\n",
      " '__subclasshook__',\n",
      " 'name']\n"
     ]
    }
   ],
   "source": [
    "import pprint\n",
    "class A :\n",
    "    __slots__ = (\"name\",)\n",
    "    def __init__(self, name) :\n",
    "        self.name = name\n",
    "        \n",
    "a = A(\"dahl\")\n",
    "pprint.pprint(dir(A))"
   ]
  },
  {
   "cell_type": "code",
   "execution_count": 19,
   "metadata": {},
   "outputs": [
    {
     "name": "stdout",
     "output_type": "stream",
     "text": [
      "<class '__main__.klass_clsmethod'>\n",
      "mappingproxy({'__dict__': <attribute '__dict__' of 'klass_clsmethod' objects>,\n",
      "              '__doc__': None,\n",
      "              '__module__': '__main__',\n",
      "              '__weakref__': <attribute '__weakref__' of 'klass_clsmethod' objects>,\n",
      "              'cls_method': <classmethod object at 0x106e7f550>,\n",
      "              'name': 'dahl'})\n",
      "dahl\n"
     ]
    }
   ],
   "source": [
    "import pprint\n",
    "\n",
    "class klass_clsmethod :\n",
    "    @classmethod\n",
    "    def cls_method(cls, name) :\n",
    "        cls.name = name\n",
    "        return cls\n",
    "\n",
    "k = klass_clsmethod.cls_method(\"dahl\")\n",
    "print(k)\n",
    "pprint.pprint(k.__dict__)\n",
    "print(k.name)"
   ]
  },
  {
   "cell_type": "code",
   "execution_count": 20,
   "metadata": {},
   "outputs": [
    {
     "name": "stdout",
     "output_type": "stream",
     "text": [
      "(<class '_io._BufferedIOBase'>, <class 'io.IOBase'>)\n"
     ]
    }
   ],
   "source": [
    "import io\n",
    "\n",
    "print(io.BufferedIOBase.__bases__)"
   ]
  },
  {
   "cell_type": "code",
   "execution_count": 21,
   "metadata": {},
   "outputs": [
    {
     "name": "stdout",
     "output_type": "stream",
     "text": [
      "(<class '_io._BufferedIOBase'>,)\n",
      "(<class '_io._BufferedIOBase'>,)\n",
      "(<class '_io._BufferedIOBase'>,)\n"
     ]
    }
   ],
   "source": [
    "import io\n",
    "\n",
    "print(io.BufferedRWPair.__bases__)\n",
    "print(io.BufferedReader.__bases__)\n",
    "print(io.BufferedWriter.__bases__)"
   ]
  },
  {
   "cell_type": "code",
   "execution_count": 22,
   "metadata": {},
   "outputs": [
    {
     "name": "stdout",
     "output_type": "stream",
     "text": [
      "detach peek writable readline name \n",
      "mode read1 readlines read readable \n",
      "isatty close writelines seek write \n",
      "readinto tell truncate flush fileno \n",
      "raw readinto1 closed seekable "
     ]
    }
   ],
   "source": [
    "import io\n",
    "\n",
    "r  = set(dir(io.BufferedReader))\n",
    "\n",
    "count = 0\n",
    "for i in r :\n",
    "    if not i.startswith(\"_\") : \n",
    "        print(i,end=\" \")\n",
    "        count += 1\n",
    "        if count % 5 == 0 :\n",
    "            print()"
   ]
  },
  {
   "cell_type": "code",
   "execution_count": 23,
   "metadata": {},
   "outputs": [
    {
     "name": "stdout",
     "output_type": "stream",
     "text": [
      "detach writable readline name mode \n",
      "read1 readlines read readable isatty \n",
      "close writelines seek write readinto \n",
      "tell truncate flush fileno raw \n",
      "readinto1 closed seekable "
     ]
    }
   ],
   "source": [
    "import io\n",
    "\n",
    "w  = set(dir(io.BufferedWriter))\n",
    "count = 0\n",
    "for i in w :\n",
    "    if not i.startswith(\"_\") : \n",
    "        print(i,end=\" \")\n",
    "        count += 1\n",
    "        if count % 5 == 0 :\n",
    "            print()"
   ]
  },
  {
   "cell_type": "code",
   "execution_count": 24,
   "metadata": {},
   "outputs": [
    {
     "name": "stdout",
     "output_type": "stream",
     "text": [
      "detach peek writable readline read1 \n",
      "readlines read readable isatty close \n",
      "writelines seek write readinto tell \n",
      "truncate flush fileno readinto1 closed \n",
      "seekable "
     ]
    }
   ],
   "source": [
    "import io\n",
    "\n",
    "rw = set(dir(io.BufferedRWPair))\n",
    "count = 0\n",
    "for i in rw :\n",
    "    if not i.startswith(\"_\") : \n",
    "        print(i,end=\" \")\n",
    "        count += 1\n",
    "        if count % 5 == 0 :\n",
    "            print()"
   ]
  },
  {
   "cell_type": "code",
   "execution_count": 25,
   "metadata": {},
   "outputs": [
    {
     "name": "stdout",
     "output_type": "stream",
     "text": [
      "<_io.BufferedRandom name='data.txt'>\n"
     ]
    }
   ],
   "source": [
    "f = open(\"data.txt\",\"ab+\")\n",
    "print(f)"
   ]
  },
  {
   "cell_type": "code",
   "execution_count": 26,
   "metadata": {},
   "outputs": [
    {
     "name": "stdout",
     "output_type": "stream",
     "text": [
      "2\n",
      " result \n",
      "2\n"
     ]
    }
   ],
   "source": [
    "n = int(input())\n",
    "\n",
    "print(\" result \")\n",
    "for i in range(n+1) :\n",
    "    \n",
    "    if (i % 2 == 0) &(i != 0) :\n",
    "        print(i)"
   ]
  },
  {
   "cell_type": "code",
   "execution_count": 27,
   "metadata": {},
   "outputs": [
    {
     "name": "stdout",
     "output_type": "stream",
     "text": [
      "서시\n",
      "파이썬\n"
     ]
    }
   ],
   "source": [
    "class Book :\n",
    "    def __init__(self,title, author, date, publisher,page) :\n",
    "        self.title = title\n",
    "        self.author = author\n",
    "        self.date = date\n",
    "        self.publisher = publisher\n",
    "        self.page = page\n",
    "        \n",
    "b1 = Book(\"서시\",\"윤동주\",\"1939-03-21\",\"출판사\",100)\n",
    "b2 = Book(\"파이썬\",\"문동주\",\"2017-06-30\",\"비제이\",300)\n",
    "\n",
    "print(b1.title)\n",
    "print(b2.title)"
   ]
  },
  {
   "cell_type": "code",
   "execution_count": 28,
   "metadata": {},
   "outputs": [
    {
     "name": "stdout",
     "output_type": "stream",
     "text": [
      "1\n",
      "2\n"
     ]
    }
   ],
   "source": [
    "class BookInv(Book):\n",
    "    def __init__(self,title, author, date, publisher,page,inventno) :\n",
    "        super().__init__(title, author, date, publisher,page)\n",
    "        self.inventno = inventno\n",
    "        \n",
    "b1 = BookInv(\"파이썬\",\"문동주\",\"2017-06-30\",\"비제이\",300,1)\n",
    "b2 = BookInv(\"파이썬\",\"문동주\",\"2017-06-30\",\"비제이\",300,2)\n",
    "\n",
    "print(b1.inventno)\n",
    "print(b2.inventno)"
   ]
  },
  {
   "cell_type": "code",
   "execution_count": 29,
   "metadata": {},
   "outputs": [
    {
     "name": "stdout",
     "output_type": "stream",
     "text": [
      "서시 978-89-1234-456\n",
      "파이썬 978-89-1234-457\n"
     ]
    }
   ],
   "source": [
    "class BookClass(Book) :\n",
    "    def __init__(self,title, author, date, publisher,page,isbn) :\n",
    "        super().__init__(title, author, date, publisher,page)\n",
    "        self.isbn = isbn\n",
    "        \n",
    "b1 = BookClass(\"서시\",\"윤동주\",\"1939-03-21\",\"출판사\",100,\"978-89-1234-456\")\n",
    "b2 = BookClass(\"파이썬\",\"문동주\",\"2017-06-30\",\"비제이\",300,\"978-89-1234-457\")\n",
    "\n",
    "print(b1.title, b1.isbn)\n",
    "print(b2.title, b2.isbn)"
   ]
  },
  {
   "cell_type": "code",
   "execution_count": 30,
   "metadata": {},
   "outputs": [
    {
     "name": "stdout",
     "output_type": "stream",
     "text": [
      "Total: 1210\n"
     ]
    }
   ],
   "source": [
    "class Salary:\n",
    "    def __init__(self,pay):\n",
    "        self.pay=pay\n",
    "\n",
    "    def get_total(self):\n",
    "        return (self.pay*12)\n",
    "\n",
    "class Employee:\n",
    "    def __init__(self,pay,bonus):\n",
    "        self.pay=pay\n",
    "        self.bonus=bonus\n",
    "        self.obj_salary=Salary(self.pay)\n",
    "\n",
    "    def annual_salary(self):\n",
    "        return \"Total: \"  +  str(self.obj_salary.get_total()+self.bonus)\n",
    "\n",
    "\n",
    "oe =Employee(100,10)\n",
    "print(oe.annual_salary())"
   ]
  },
  {
   "cell_type": "code",
   "execution_count": 31,
   "metadata": {},
   "outputs": [
    {
     "ename": "NameError",
     "evalue": "name 'obj_sal' is not defined",
     "output_type": "error",
     "traceback": [
      "\u001b[0;31m---------------------------------------------------------------------------\u001b[0m",
      "\u001b[0;31mNameError\u001b[0m                                 Traceback (most recent call last)",
      "\u001b[0;32m<ipython-input-31-ae151ec8c9c0>\u001b[0m in \u001b[0;36m<module>\u001b[0;34m()\u001b[0m\n\u001b[1;32m     16\u001b[0m \u001b[0;34m\u001b[0m\u001b[0m\n\u001b[1;32m     17\u001b[0m \u001b[0moe_sal\u001b[0m\u001b[0;34m=\u001b[0m\u001b[0mSalary\u001b[0m\u001b[0;34m(\u001b[0m\u001b[0;36m100\u001b[0m\u001b[0;34m)\u001b[0m\u001b[0;34m\u001b[0m\u001b[0m\n\u001b[0;32m---> 18\u001b[0;31m \u001b[0moe\u001b[0m\u001b[0;34m=\u001b[0m \u001b[0mEmployee\u001b[0m\u001b[0;34m(\u001b[0m\u001b[0mobj_sal\u001b[0m\u001b[0;34m,\u001b[0m\u001b[0;36m10\u001b[0m\u001b[0;34m)\u001b[0m\u001b[0;34m\u001b[0m\u001b[0m\n\u001b[0m\u001b[1;32m     19\u001b[0m \u001b[0mprint\u001b[0m \u001b[0;34m(\u001b[0m\u001b[0moe\u001b[0m\u001b[0;34m.\u001b[0m\u001b[0mannual_salary\u001b[0m\u001b[0;34m(\u001b[0m\u001b[0;34m)\u001b[0m\u001b[0;34m)\u001b[0m\u001b[0;34m\u001b[0m\u001b[0m\n",
      "\u001b[0;31mNameError\u001b[0m: name 'obj_sal' is not defined"
     ]
    }
   ],
   "source": [
    "class Salary:\n",
    "    def __init__(self,pay):\n",
    "        self.pay=pay\n",
    "\n",
    "    def get_total(self):\n",
    "        return (self.pay*12)\n",
    "\n",
    "class Employee:\n",
    "    def __init__(self,pay,bonus):\n",
    "        self.pay=pay\n",
    "        self.bonus=bonus\n",
    "\n",
    "    def annual_salary(self):\n",
    "        return \"Total: \"  +  str(self.pay.get_total()+self.bonus)\n",
    "\n",
    "\n",
    "oe_sal=Salary(100)\n",
    "oe= Employee(obj_sal,10)\n",
    "print (oe.annual_salary())"
   ]
  },
  {
   "cell_type": "code",
   "execution_count": 32,
   "metadata": {},
   "outputs": [
    {
     "name": "stdout",
     "output_type": "stream",
     "text": [
      " B \n",
      " A \n"
     ]
    }
   ],
   "source": [
    "class A :\n",
    "    def __init__(self,b=None):\n",
    "        self.b = b\n",
    "    def getA(self) :\n",
    "        return \" A \"\n",
    "        \n",
    "class B :\n",
    "    def __init__(self, a=None):\n",
    "        self.a = a\n",
    "        \n",
    "    def getB(self) :\n",
    "        return \" B \"\n",
    "        \n",
    "a = A()\n",
    "b = B(a)\n",
    "a.b = b\n",
    "\n",
    "print(a.b.getB())\n",
    "print(b.a.getA())\n"
   ]
  },
  {
   "cell_type": "code",
   "execution_count": 33,
   "metadata": {},
   "outputs": [
    {
     "name": "stdout",
     "output_type": "stream",
     "text": [
      "1\n",
      "2\n",
      "None None\n"
     ]
    }
   ],
   "source": [
    "print(print(1), print(2))"
   ]
  },
  {
   "cell_type": "code",
   "execution_count": null,
   "metadata": {
    "collapsed": true
   },
   "outputs": [],
   "source": []
  },
  {
   "cell_type": "code",
   "execution_count": null,
   "metadata": {
    "collapsed": true
   },
   "outputs": [],
   "source": []
  }
 ],
 "metadata": {
  "kernelspec": {
   "display_name": "Python 3",
   "language": "python",
   "name": "python3"
  },
  "language_info": {
   "codemirror_mode": {
    "name": "ipython",
    "version": 3
   },
   "file_extension": ".py",
   "mimetype": "text/x-python",
   "name": "python",
   "nbconvert_exporter": "python",
   "pygments_lexer": "ipython3",
   "version": "3.6.1"
  }
 },
 "nbformat": 4,
 "nbformat_minor": 2
}
