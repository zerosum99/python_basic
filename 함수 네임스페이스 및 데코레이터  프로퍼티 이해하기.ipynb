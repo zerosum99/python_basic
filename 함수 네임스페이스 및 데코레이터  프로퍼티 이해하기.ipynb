{
 "cells": [
  {
   "cell_type": "code",
   "execution_count": 1,
   "metadata": {},
   "outputs": [
    {
     "name": "stdout",
     "output_type": "stream",
     "text": [
      "{'y': 2, 'x': 1}\n"
     ]
    }
   ],
   "source": [
    "def add(x,y):\n",
    "    print(vars())\n",
    "\n",
    "add(1,2)\n"
   ]
  },
  {
   "cell_type": "code",
   "execution_count": 3,
   "metadata": {},
   "outputs": [
    {
     "name": "stdout",
     "output_type": "stream",
     "text": [
      "{'z': 5}\n",
      "<function outer.<locals>.inner at 0x0000000004C0CAE8>\n",
      "{'y': 5, 'z': 5}\n",
      "110\n",
      "{'y': 10, 'z': 5}\n",
      "115\n"
     ]
    }
   ],
   "source": [
    "def outer(z):\n",
    "    print(locals())\n",
    "    def inner(y):\n",
    "        print(locals())\n",
    "        return x + y + z\n",
    "    return inner\n",
    "\n",
    "class A (object):\n",
    "    def __init__ (self, name):\n",
    "        self.name = name\n",
    "\n",
    "x = 100\n",
    "a0 = A('park')\n",
    "a0.name = 'park'\n",
    "a = outer(5) # z\n",
    "print(a)\n",
    "print(a(5)) # y\n",
    "\n",
    "outer.a = a\n",
    "print(outer.a(10))"
   ]
  },
  {
   "cell_type": "code",
   "execution_count": 4,
   "metadata": {},
   "outputs": [
    {
     "name": "stdout",
     "output_type": "stream",
     "text": [
      "10\n",
      "20\n",
      "20\n"
     ]
    }
   ],
   "source": [
    "def outer(x):\n",
    "    def inner(y):\n",
    "        nonlocal x\n",
    "        x += y\n",
    "        return x\n",
    "    return inner\n",
    "\n",
    "inner = outer(5)\n",
    "print(inner(5))\n",
    "\n",
    "print(inner(10))\n",
    "print(inner.__closure__[0].cell_contents)"
   ]
  },
  {
   "cell_type": "code",
   "execution_count": 5,
   "metadata": {},
   "outputs": [
    {
     "name": "stdout",
     "output_type": "stream",
     "text": [
      "10\n",
      "12\n"
     ]
    }
   ],
   "source": [
    "from functools import wraps\n",
    "\n",
    "def dec(func):\n",
    "    @wraps(func) # 메타 정보 관리\n",
    "    def wrapper(*args, **kwargs): # *: 가변인자 / **: 키워드인자\n",
    "        result = func(*args, **kwargs)\n",
    "        return result\n",
    "    return wrapper\n",
    "\n",
    "# @dec: 함수의 재사용 / 클래스에도 사용됨 / 단점: 메타 정보 날라감\n",
    "@dec # @dec 사용하지 않을 경우: add = dec(add) ; def add(x, y): return x + y ;\n",
    "def add(x, y):\n",
    "    return x + y\n",
    "\n",
    "@dec\n",
    "def multiply(x, y):\n",
    "    return x * y\n",
    "\n",
    "print(add(5, 5))\n",
    "print(multiply(4, 3))"
   ]
  },
  {
   "cell_type": "markdown",
   "metadata": {},
   "source": [
    "### 데코레이터가 실행되는 방식\n",
    "\n",
    "    데코레이터는 함수를 함쳐서 내부함수를 실행되는 함수이 이름과 동일한 변수에 할당한다.\n",
    "    이를 가지고 실행하면 실제 처리가 된다."
   ]
  },
  {
   "cell_type": "code",
   "execution_count": 6,
   "metadata": {},
   "outputs": [
    {
     "name": "stdout",
     "output_type": "stream",
     "text": [
      "20\n"
     ]
    }
   ],
   "source": [
    "add = dec(add)\n",
    "print(add(10, 10))\n",
    "# add = dec(1, 2)(add) ?????"
   ]
  },
  {
   "cell_type": "markdown",
   "metadata": {},
   "source": [
    "### 클래스 와 스태틱 메소드에 대한 데코레이터 처리\n",
    "\n",
    "    클래스 메소드는 클래스이다.\n",
    "    클래스메소드를 만들 때 클래스를 이용해서 데코레이터를 처리한다.\n",
    "    "
   ]
  },
  {
   "cell_type": "code",
   "execution_count": 36,
   "metadata": {},
   "outputs": [
    {
     "data": {
      "text/plain": [
       "['__class__',\n",
       " '__delattr__',\n",
       " '__dict__',\n",
       " '__dir__',\n",
       " '__doc__',\n",
       " '__eq__',\n",
       " '__format__',\n",
       " '__func__',\n",
       " '__ge__',\n",
       " '__get__',\n",
       " '__getattribute__',\n",
       " '__gt__',\n",
       " '__hash__',\n",
       " '__init__',\n",
       " '__isabstractmethod__',\n",
       " '__le__',\n",
       " '__lt__',\n",
       " '__ne__',\n",
       " '__new__',\n",
       " '__reduce__',\n",
       " '__reduce_ex__',\n",
       " '__repr__',\n",
       " '__setattr__',\n",
       " '__sizeof__',\n",
       " '__str__',\n",
       " '__subclasshook__']"
      ]
     },
     "execution_count": 36,
     "metadata": {},
     "output_type": "execute_result"
    }
   ],
   "source": [
    "dir(classmethod)"
   ]
  },
  {
   "cell_type": "code",
   "execution_count": 35,
   "metadata": {},
   "outputs": [
    {
     "data": {
      "text/plain": [
       "type"
      ]
     },
     "execution_count": 35,
     "metadata": {},
     "output_type": "execute_result"
    }
   ],
   "source": [
    "type(classmethod)"
   ]
  },
  {
   "cell_type": "markdown",
   "metadata": {},
   "source": [
    "### static method는 클래스 내에서 함수를 처리하는 구조를 제공할 뿐이다.\n"
   ]
  },
  {
   "cell_type": "code",
   "execution_count": 7,
   "metadata": {},
   "outputs": [
    {
     "data": {
      "text/plain": [
       "type"
      ]
     },
     "execution_count": 7,
     "metadata": {},
     "output_type": "execute_result"
    }
   ],
   "source": [
    "type(staticmethod)"
   ]
  },
  {
   "cell_type": "code",
   "execution_count": 8,
   "metadata": {},
   "outputs": [
    {
     "data": {
      "text/plain": [
       "9"
      ]
     },
     "execution_count": 8,
     "metadata": {},
     "output_type": "execute_result"
    }
   ],
   "source": [
    "class A (object):\n",
    "    @staticmethod\n",
    "    def add(x, y):\n",
    "        return x + y   \n",
    "    \n",
    "A.add(5, 4)"
   ]
  },
  {
   "cell_type": "markdown",
   "metadata": {},
   "source": [
    "### 프로퍼티 구조\n",
    "\n",
    "    프로퍼티로 데코레이터 처리를 하면 함수의 이름이 클래스 내부에 들어간다.\n",
    "    실제 참조시 클래스부터 처리하게 되어 있다.\n",
    "    "
   ]
  },
  {
   "cell_type": "code",
   "execution_count": 20,
   "metadata": {},
   "outputs": [
    {
     "name": "stdout",
     "output_type": "stream",
     "text": [
      "{'age': <property object at 0x0000000004EBB868>, '__doc__': None, '__init__': <function Person.__init__ at 0x0000000004EC8EA0>, 'name': <property object at 0x0000000004EBBD18>, '__weakref__': <attribute '__weakref__' of 'Person' objects>, '__dict__': <attribute '__dict__' of 'Person' objects>, '__module__': '__main__'}\n"
     ]
    }
   ],
   "source": [
    "class Person(object):\n",
    "    def __init__(self, name, age):\n",
    "        self._name = name\n",
    "        self._age = age\n",
    "        \n",
    "    @property\n",
    "    def name(self):\n",
    "        return self._name + '!!!'\n",
    "    \n",
    "    @property\n",
    "    def age(self):\n",
    "        return 'You\\'re ' + self._age + '? OMG!!!'\n",
    "    \n",
    "print(Person.__dict__)"
   ]
  },
  {
   "cell_type": "markdown",
   "metadata": {},
   "source": [
    "### 프로퍼티 처리\n",
    "\n",
    "    프로퍼티는 메소드를 이용해서 속성을 접근하려는 패턴"
   ]
  },
  {
   "cell_type": "code",
   "execution_count": 68,
   "metadata": {},
   "outputs": [
    {
     "name": "stdout",
     "output_type": "stream",
     "text": [
      "Choi!!!\n",
      "You're Twenty six year-old? OMG!!!\n"
     ]
    }
   ],
   "source": [
    "class Person(object):\n",
    "    def __init__(self, name, age):\n",
    "        self._name = name\n",
    "        self._age = age\n",
    "        \n",
    "    @property\n",
    "    def name(self):\n",
    "        return self._name + '!!!'\n",
    "    \n",
    "    @property\n",
    "    def age(self):\n",
    "        return 'You\\'re ' + self._age + '? OMG!!!'\n",
    "\n",
    "p = Person('Choi', 'Twenty six year-old')\n",
    "print(p.name)\n",
    "print(p.age)"
   ]
  },
  {
   "cell_type": "markdown",
   "metadata": {},
   "source": [
    "### 프로퍼티 처리시 주의사항\n",
    "\n",
    "    인스턴스에 동일한 이름이 setting 되지 않도록 처리해야 한다.\n",
    "    \n",
    "    동일한 이름으로 인스턴스에 세팅하면 반드시 .setter 처리가 되어야 한다.\n",
    "    \n",
    "    "
   ]
  },
  {
   "cell_type": "code",
   "execution_count": 19,
   "metadata": {},
   "outputs": [
    {
     "name": "stdout",
     "output_type": "stream",
     "text": [
      "{'age': <property object at 0x0000000004EC9E58>, '__doc__': None, '__init__': <function Person.__init__ at 0x0000000004EC8620>, 'name': <property object at 0x0000000004EC9778>, '__weakref__': <attribute '__weakref__' of 'Person' objects>, '__dict__': <attribute '__dict__' of 'Person' objects>, '__module__': '__main__'}\n"
     ]
    },
    {
     "ename": "AttributeError",
     "evalue": "can't set attribute",
     "output_type": "error",
     "traceback": [
      "\u001b[0;31m---------------------------------------------------------------------------\u001b[0m",
      "\u001b[0;31mAttributeError\u001b[0m                            Traceback (most recent call last)",
      "\u001b[0;32m<ipython-input-19-5b482987fd81>\u001b[0m in \u001b[0;36m<module>\u001b[0;34m()\u001b[0m\n\u001b[1;32m     13\u001b[0m \u001b[1;33m\u001b[0m\u001b[0m\n\u001b[1;32m     14\u001b[0m \u001b[0mprint\u001b[0m\u001b[1;33m(\u001b[0m\u001b[0mPerson\u001b[0m\u001b[1;33m.\u001b[0m\u001b[0m__dict__\u001b[0m\u001b[1;33m)\u001b[0m\u001b[1;33m\u001b[0m\u001b[0m\n\u001b[0;32m---> 15\u001b[0;31m \u001b[0mc\u001b[0m \u001b[1;33m=\u001b[0m \u001b[0mPerson\u001b[0m\u001b[1;33m(\u001b[0m\u001b[1;34m\"name\"\u001b[0m\u001b[1;33m,\u001b[0m\u001b[1;36m30\u001b[0m\u001b[1;33m)\u001b[0m\u001b[1;33m\u001b[0m\u001b[0m\n\u001b[0m",
      "\u001b[0;32m<ipython-input-19-5b482987fd81>\u001b[0m in \u001b[0;36m__init__\u001b[0;34m(self, name, age)\u001b[0m\n\u001b[1;32m      1\u001b[0m \u001b[1;32mclass\u001b[0m \u001b[0mPerson\u001b[0m\u001b[1;33m(\u001b[0m\u001b[0mobject\u001b[0m\u001b[1;33m)\u001b[0m\u001b[1;33m:\u001b[0m\u001b[1;33m\u001b[0m\u001b[0m\n\u001b[1;32m      2\u001b[0m     \u001b[1;32mdef\u001b[0m \u001b[0m__init__\u001b[0m\u001b[1;33m(\u001b[0m\u001b[0mself\u001b[0m\u001b[1;33m,\u001b[0m \u001b[0mname\u001b[0m\u001b[1;33m,\u001b[0m \u001b[0mage\u001b[0m\u001b[1;33m)\u001b[0m\u001b[1;33m:\u001b[0m\u001b[1;33m\u001b[0m\u001b[0m\n\u001b[0;32m----> 3\u001b[0;31m         \u001b[0mself\u001b[0m\u001b[1;33m.\u001b[0m\u001b[0mname\u001b[0m \u001b[1;33m=\u001b[0m \u001b[0mname\u001b[0m\u001b[1;33m\u001b[0m\u001b[0m\n\u001b[0m\u001b[1;32m      4\u001b[0m         \u001b[0mself\u001b[0m\u001b[1;33m.\u001b[0m\u001b[0mage\u001b[0m \u001b[1;33m=\u001b[0m \u001b[0mage\u001b[0m\u001b[1;33m\u001b[0m\u001b[0m\n\u001b[1;32m      5\u001b[0m \u001b[1;33m\u001b[0m\u001b[0m\n",
      "\u001b[0;31mAttributeError\u001b[0m: can't set attribute"
     ]
    }
   ],
   "source": [
    "class Person(object):\n",
    "    def __init__(self, name, age):\n",
    "        self.name = name\n",
    "        self.age = age\n",
    "        \n",
    "    @property\n",
    "    def name(self):\n",
    "        return self.name + '!!!'\n",
    "    \n",
    "    @property\n",
    "    def age(self):\n",
    "        return 'You\\'re ' + str(self.age) + '? OMG!!!'\n",
    "\n",
    "print(Person.__dict__)\n",
    "c = Person(\"name\",30)\n"
   ]
  },
  {
   "cell_type": "markdown",
   "metadata": {},
   "source": [
    "###  프로퍼티로 계산된 결과만 처리 시에 주의사항\n",
    "\n",
    "    관행적으로 세팅을 하게되면 실제 속성이 없으므로 예외가 발생할 수 있다.\n",
    "    이런 점을 해결하기 위해 setter 연산을 작성해서 처리가 필요할 경우도 발생한다.\n",
    "    예제는 간단히 변경만 처리했다.\n",
    "    "
   ]
  },
  {
   "cell_type": "code",
   "execution_count": 25,
   "metadata": {},
   "outputs": [
    {
     "name": "stdout",
     "output_type": "stream",
     "text": [
      "100\n"
     ]
    }
   ],
   "source": [
    "class Person(object):\n",
    "    def __init__(self, name):\n",
    "        self._name = name\n",
    "        \n",
    "    @property\n",
    "    def name(self):\n",
    "        return self._name + '!!!'\n",
    "    \n",
    "    @name.setter\n",
    "    def name(self, value):\n",
    "        self._name = value\n",
    "\n",
    "\n",
    "c = Person(\"name\")\n",
    "\n",
    "c.age = 100\n",
    "\n",
    "print(c.age)"
   ]
  },
  {
   "cell_type": "markdown",
   "metadata": {},
   "source": [
    "### 프로퍼티로 세팅처리하기 "
   ]
  },
  {
   "cell_type": "code",
   "execution_count": 61,
   "metadata": {},
   "outputs": [
    {
     "name": "stdout",
     "output_type": "stream",
     "text": [
      "Park!!!\n",
      "Choi!!!\n"
     ]
    }
   ],
   "source": [
    "class Person(object):\n",
    "    def __init__ (self, name):\n",
    "        self._name = name\n",
    "    \n",
    "    @property\n",
    "    def name(self):\n",
    "        return self._name + '!!!'\n",
    "    \n",
    "    @name.setter\n",
    "    def name(self, value):\n",
    "        self._name = value\n",
    "        \n",
    "p = Person('Park')\n",
    "print(p.name)\n",
    "p.name = 'Choi' # set해서, @name.setter 발동!\n",
    "print(p.name)"
   ]
  },
  {
   "cell_type": "code",
   "execution_count": null,
   "metadata": {
    "collapsed": true
   },
   "outputs": [],
   "source": []
  }
 ],
 "metadata": {
  "kernelspec": {
   "display_name": "Python 3",
   "language": "python",
   "name": "python3"
  },
  "language_info": {
   "codemirror_mode": {
    "name": "ipython",
    "version": 3
   },
   "file_extension": ".py",
   "mimetype": "text/x-python",
   "name": "python",
   "nbconvert_exporter": "python",
   "pygments_lexer": "ipython3",
   "version": "3.6.7"
  }
 },
 "nbformat": 4,
 "nbformat_minor": 1
}
