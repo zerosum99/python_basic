{
 "cells": [
  {
   "cell_type": "code",
   "execution_count": 18,
   "metadata": {},
   "outputs": [
    {
     "name": "stdout",
     "output_type": "stream",
     "text": [
      "<class 'type'>\n",
      "<class 'range'>\n",
      "True\n",
      "True\n",
      "[<class 'collections.abc.Iterator'>, <class 'collections.abc.Reversible'>, <class 'collections.abc.Collection'>]\n"
     ]
    }
   ],
   "source": [
    "print(type(range))\n",
    "\n",
    "a = range(1,10)\n",
    "print(type(a))\n",
    "\n",
    "import collections.abc as cols\n",
    "\n",
    "print(isinstance(a, cols.Iterable))\n",
    "print(issubclass(range, cols.Iterable))\n",
    "print(cols.Iterable.__subclasses__())"
   ]
  },
  {
   "cell_type": "code",
   "execution_count": 3,
   "metadata": {},
   "outputs": [
    {
     "name": "stdout",
     "output_type": "stream",
     "text": [
      "<class 'range'>\n"
     ]
    }
   ],
   "source": [
    "a = range(1,10)\n",
    "print(type(a))"
   ]
  },
  {
   "cell_type": "code",
   "execution_count": 7,
   "metadata": {},
   "outputs": [
    {
     "data": {
      "text/plain": [
       "['ABC',\n",
       " 'ABCMeta',\n",
       " '__builtins__',\n",
       " '__cached__',\n",
       " '__doc__',\n",
       " '__file__',\n",
       " '__loader__',\n",
       " '__name__',\n",
       " '__package__',\n",
       " '__spec__',\n",
       " '_abc_init',\n",
       " '_abc_instancecheck',\n",
       " '_abc_register',\n",
       " '_abc_subclasscheck',\n",
       " '_get_dump',\n",
       " '_reset_caches',\n",
       " '_reset_registry',\n",
       " 'abstractclassmethod',\n",
       " 'abstractmethod',\n",
       " 'abstractproperty',\n",
       " 'abstractstaticmethod',\n",
       " 'get_cache_token']"
      ]
     },
     "execution_count": 7,
     "metadata": {},
     "output_type": "execute_result"
    }
   ],
   "source": [
    "dir(abc)"
   ]
  },
  {
   "cell_type": "code",
   "execution_count": 21,
   "metadata": {},
   "outputs": [
    {
     "name": "stdout",
     "output_type": "stream",
     "text": [
      "<class 'type'>\n",
      "<class 'slice'>\n",
      "False\n",
      "False\n",
      "{'__getitem__', '__iter__', 'index', '__len__', '__bool__', '__reversed__', 'count', '__contains__'}\n"
     ]
    }
   ],
   "source": [
    "print(type(slice))\n",
    "\n",
    "a = slice(1,10)\n",
    "print(type(a))\n",
    "\n",
    "import collections.abc as cols\n",
    "\n",
    "print(isinstance(a, cols.Iterable))\n",
    "print(issubclass(slice, cols.Iterable))\n",
    "print(set(dir(range)) - set(dir(slice)))"
   ]
  },
  {
   "cell_type": "code",
   "execution_count": 20,
   "metadata": {},
   "outputs": [
    {
     "data": {
      "text/plain": [
       "{'__bool__',\n",
       " '__contains__',\n",
       " '__getitem__',\n",
       " '__iter__',\n",
       " '__len__',\n",
       " '__reversed__',\n",
       " 'count',\n",
       " 'index'}"
      ]
     },
     "execution_count": 20,
     "metadata": {},
     "output_type": "execute_result"
    }
   ],
   "source": [
    "print(set(dir(range)) - set(dir(slice)))"
   ]
  },
  {
   "cell_type": "code",
   "execution_count": 26,
   "metadata": {},
   "outputs": [
    {
     "name": "stdout",
     "output_type": "stream",
     "text": [
      "<class 'int'>\n",
      "<class 'float'>\n",
      "<class 'complex'>\n",
      "300\n",
      "300\n",
      "300\n"
     ]
    }
   ],
   "source": [
    "print(type(100))\n",
    "print(type(100.1))\n",
    "print(type(100 +10j))\n",
    "\n",
    "print(100 + 200)\n",
    "print((100).__add__(200))\n",
    "print(int.__add__(100,200))"
   ]
  },
  {
   "cell_type": "code",
   "execution_count": 31,
   "metadata": {},
   "outputs": [
    {
     "name": "stdout",
     "output_type": "stream",
     "text": [
      "1\n",
      "2\n",
      "3\n",
      "4\n",
      "<class 'list_iterator'>\n",
      "1\n",
      "2\n",
      "3\n",
      "4\n",
      "end\n"
     ]
    }
   ],
   "source": [
    "ll = [1,2,3,4]\n",
    "\n",
    "for i in ll :\n",
    "    print(i)\n",
    "    \n",
    "ll_iter = iter(ll)\n",
    "print(type(ll_iter))\n",
    "print(next(ll_iter,\"end\"))\n",
    "print(next(ll_iter,\"end\"))\n",
    "print(next(ll_iter,\"end\"))\n",
    "print(next(ll_iter,\"end\"))\n",
    "print(next(ll_iter,\"end\"))\n",
    "\n"
   ]
  },
  {
   "cell_type": "code",
   "execution_count": null,
   "metadata": {},
   "outputs": [],
   "source": []
  }
 ],
 "metadata": {
  "kernelspec": {
   "display_name": "Python 3",
   "language": "python",
   "name": "python3"
  },
  "language_info": {
   "codemirror_mode": {
    "name": "ipython",
    "version": 3
   },
   "file_extension": ".py",
   "mimetype": "text/x-python",
   "name": "python",
   "nbconvert_exporter": "python",
   "pygments_lexer": "ipython3",
   "version": "3.7.7"
  }
 },
 "nbformat": 4,
 "nbformat_minor": 4
}
