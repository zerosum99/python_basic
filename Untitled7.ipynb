{
 "cells": [
  {
   "cell_type": "code",
   "execution_count": 4,
   "metadata": {},
   "outputs": [],
   "source": [
    "import random\n",
    "\n",
    "players=['손흥민','위고요리스','맷도허티','세르히오레길론','토바알데르베이럴트','피에르에밀호이비에르','다빈손산체스',\n",
    "         '해리윙크스','가레스베일','해리케인','에릭라멜라','조하트','에릭다이어']\n",
    "\n",
    "position=['GK','RB','LB','CB','MF','DF','FW','ST','CAM','LW','RW','AM','CM']\n",
    "\n",
    "\n",
    "players_list=[]\n",
    "position_list=[]\n",
    "\n",
    "\n",
    "class Player :\n",
    "\n",
    "    def __init__(self,p_name,position):\n",
    "        self.p_name=p_name\n",
    "        self.postion=position\n",
    "        self.stat_dict={}\n",
    "\n",
    "\n",
    "    def set_stat(self):\n",
    "        if(self.postion == 'GK') :\n",
    "            self.stat_dict['반사신경']=random.randrange(60,100)\n",
    "            self.stat_dict['볼 핸들링'] =random.randrange(60,100)\n",
    "            self.stat_dict['골킾'] =random.randrange(60,100)\n",
    "            self.stat_dict['공중볼'] =random.randrange(60,100)\n",
    "            self.stat_dict['수비조율'] =random.randrange(60,100)\n",
    "            self.stat_dict['공던지기'] =random.randrange(60,100)\n",
    "        else :\n",
    "            self.stat_dict['주력']=random.randrange(60,100)\n",
    "            self.stat_dict['슈팅']=random.randrange(60,100)\n",
    "            self.stat_dict['패스']=random.randrange(60,100)\n",
    "            self.stat_dict['드리블']=random.randrange(60,100)\n",
    "            self.stat_dict['수비']=random.randrange(60,100)\n",
    "            self.stat_dict['체력']=random.randrange(60,100)\n",
    "\n",
    "\n",
    "    def print_player_info(self):\n",
    "        print(self.p_name,end=\", \")\n",
    "        print(self.postion)\n",
    "        print(self.stat_dict)\n",
    "\n",
    "\n",
    "p_list=[]\n",
    "\n",
    "while len(players_list) != 13 :\n",
    "\n",
    "    n=random.randrange(0,len(players))\n",
    "    new_player = players[n]\n",
    "\n",
    "    n = random.randrange(0, len(position))\n",
    "    new_position = position[n]\n",
    "\n",
    "    if new_position not in position_list and new_player not in players_list:\n",
    "        position_list.append(new_position)\n",
    "        players_list.append(new_player)\n",
    "        p = Player(new_player, new_position)\n",
    "        p_list.append(p)\n",
    "\n"
   ]
  },
  {
   "cell_type": "code",
   "execution_count": 9,
   "metadata": {},
   "outputs": [],
   "source": [
    "for p in p_list :\n",
    "    p.set_stat()"
   ]
  },
  {
   "cell_type": "code",
   "execution_count": 10,
   "metadata": {},
   "outputs": [
    {
     "name": "stdout",
     "output_type": "stream",
     "text": [
      "에릭라멜라, CM\n",
      "{'주력': 69, '슈팅': 65, '패스': 95, '드리블': 73, '수비': 71, '체력': 79}\n",
      "피에르에밀호이비에르, AM\n",
      "{'주력': 86, '슈팅': 87, '패스': 76, '드리블': 78, '수비': 97, '체력': 71}\n",
      "조하트, GK\n",
      "{'반사신경': 84, '볼 핸들링': 68, '골킾': 90, '공중볼': 99, '수비조율': 91, '공던지기': 64}\n",
      "맷도허티, RW\n",
      "{'주력': 70, '슈팅': 84, '패스': 74, '드리블': 99, '수비': 77, '체력': 70}\n",
      "세르히오레길론, LW\n",
      "{'주력': 95, '슈팅': 84, '패스': 97, '드리블': 96, '수비': 88, '체력': 65}\n",
      "해리케인, FW\n",
      "{'주력': 67, '슈팅': 88, '패스': 71, '드리블': 61, '수비': 89, '체력': 88}\n",
      "위고요리스, RB\n",
      "{'주력': 66, '슈팅': 89, '패스': 90, '드리블': 79, '수비': 98, '체력': 61}\n",
      "가레스베일, ST\n",
      "{'주력': 87, '슈팅': 82, '패스': 67, '드리블': 62, '수비': 82, '체력': 78}\n",
      "다빈손산체스, CB\n",
      "{'주력': 81, '슈팅': 95, '패스': 96, '드리블': 73, '수비': 92, '체력': 96}\n",
      "토바알데르베이럴트, DF\n",
      "{'주력': 66, '슈팅': 77, '패스': 91, '드리블': 87, '수비': 66, '체력': 77}\n",
      "손흥민, LB\n",
      "{'주력': 91, '슈팅': 64, '패스': 88, '드리블': 86, '수비': 70, '체력': 97}\n",
      "해리윙크스, CAM\n",
      "{'주력': 92, '슈팅': 67, '패스': 98, '드리블': 81, '수비': 65, '체력': 72}\n",
      "에릭다이어, MF\n",
      "{'주력': 75, '슈팅': 64, '패스': 90, '드리블': 92, '수비': 97, '체력': 86}\n"
     ]
    }
   ],
   "source": [
    "for p in p_list :\n",
    "    p.print_player_info()"
   ]
  },
  {
   "cell_type": "code",
   "execution_count": null,
   "metadata": {},
   "outputs": [],
   "source": []
  },
  {
   "cell_type": "code",
   "execution_count": 15,
   "metadata": {},
   "outputs": [],
   "source": [
    "def team_creat() :\n",
    "    players_list=[]\n",
    "    position_list=[]\n",
    "    p_list=[]\n",
    "\n",
    "    while len(players_list) != 13 :\n",
    "\n",
    "        n=random.randrange(0,len(players))\n",
    "        new_player = players[n]\n",
    "\n",
    "        n = random.randrange(0, len(position))\n",
    "        new_position = position[n]\n",
    "\n",
    "        if new_position not in position_list and new_player not in players_list:\n",
    "            position_list.append(new_position)\n",
    "            players_list.append(new_player)\n",
    "            p = Player(new_player, new_position)\n",
    "            p_list.append(p)\n",
    "            \n",
    "    return p_list\n",
    "\n"
   ]
  },
  {
   "cell_type": "code",
   "execution_count": 16,
   "metadata": {},
   "outputs": [],
   "source": [
    "ll = team_creat()\n",
    "for p in ll :\n",
    "    p.set_stat()"
   ]
  },
  {
   "cell_type": "code",
   "execution_count": 17,
   "metadata": {},
   "outputs": [
    {
     "name": "stdout",
     "output_type": "stream",
     "text": [
      "가레스베일, RW\n",
      "{'주력': 64, '슈팅': 98, '패스': 97, '드리블': 85, '수비': 61, '체력': 62}\n",
      "조하트, CAM\n",
      "{'주력': 71, '슈팅': 91, '패스': 83, '드리블': 95, '수비': 75, '체력': 73}\n",
      "위고요리스, GK\n",
      "{'반사신경': 74, '볼 핸들링': 71, '골킾': 84, '공중볼': 98, '수비조율': 94, '공던지기': 60}\n",
      "해리윙크스, LW\n",
      "{'주력': 60, '슈팅': 63, '패스': 84, '드리블': 74, '수비': 80, '체력': 83}\n",
      "토바알데르베이럴트, CM\n",
      "{'주력': 78, '슈팅': 83, '패스': 90, '드리블': 98, '수비': 63, '체력': 67}\n",
      "에릭다이어, MF\n",
      "{'주력': 81, '슈팅': 70, '패스': 64, '드리블': 98, '수비': 79, '체력': 84}\n",
      "에릭라멜라, ST\n",
      "{'주력': 93, '슈팅': 92, '패스': 67, '드리블': 60, '수비': 99, '체력': 77}\n",
      "피에르에밀호이비에르, FW\n",
      "{'주력': 86, '슈팅': 87, '패스': 81, '드리블': 71, '수비': 75, '체력': 61}\n",
      "손흥민, RB\n",
      "{'주력': 64, '슈팅': 94, '패스': 67, '드리블': 68, '수비': 68, '체력': 60}\n",
      "세르히오레길론, LB\n",
      "{'주력': 81, '슈팅': 65, '패스': 99, '드리블': 95, '수비': 69, '체력': 72}\n",
      "맷도허티, CB\n",
      "{'주력': 93, '슈팅': 75, '패스': 86, '드리블': 97, '수비': 75, '체력': 67}\n",
      "다빈손산체스, DF\n",
      "{'주력': 85, '슈팅': 95, '패스': 69, '드리블': 84, '수비': 64, '체력': 82}\n",
      "해리케인, AM\n",
      "{'주력': 66, '슈팅': 69, '패스': 99, '드리블': 63, '수비': 92, '체력': 86}\n"
     ]
    }
   ],
   "source": [
    "for p in ll :\n",
    "    p.print_player_info()"
   ]
  },
  {
   "cell_type": "code",
   "execution_count": 19,
   "metadata": {},
   "outputs": [
    {
     "name": "stdout",
     "output_type": "stream",
     "text": [
      " 입력하세요 2\n",
      " 입력하세요 3\n",
      " 입력하세요 4\n",
      "['2', '3', '4']\n"
     ]
    }
   ],
   "source": [
    "lll = []\n",
    "for i in range(3) :\n",
    "    lll.append(input(\" 입력하세요 \"))\n",
    "    \n",
    "print(lll)"
   ]
  },
  {
   "cell_type": "code",
   "execution_count": 26,
   "metadata": {},
   "outputs": [],
   "source": [
    "def typecheck(lll) :\n",
    "    result = []\n",
    "    for i in lll :\n",
    "        if isinstance(i, int) :\n",
    "            result.append(True)\n",
    "        else :\n",
    "            result.append(False)\n",
    "    return result"
   ]
  },
  {
   "cell_type": "code",
   "execution_count": 27,
   "metadata": {},
   "outputs": [
    {
     "data": {
      "text/plain": [
       "[False, False, False]"
      ]
     },
     "execution_count": 27,
     "metadata": {},
     "output_type": "execute_result"
    }
   ],
   "source": [
    "typecheck(lll)"
   ]
  },
  {
   "cell_type": "code",
   "execution_count": null,
   "metadata": {},
   "outputs": [],
   "source": []
  }
 ],
 "metadata": {
  "kernelspec": {
   "display_name": "Python 3",
   "language": "python",
   "name": "python3"
  },
  "language_info": {
   "codemirror_mode": {
    "name": "ipython",
    "version": 3
   },
   "file_extension": ".py",
   "mimetype": "text/x-python",
   "name": "python",
   "nbconvert_exporter": "python",
   "pygments_lexer": "ipython3",
   "version": "3.7.7"
  }
 },
 "nbformat": 4,
 "nbformat_minor": 4
}
