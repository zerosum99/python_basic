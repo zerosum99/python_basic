{
 "cells": [
  {
   "cell_type": "code",
   "execution_count": 4,
   "metadata": {},
   "outputs": [
    {
     "name": "stdout",
     "output_type": "stream",
     "text": [
      "100\n",
      "True\n",
      "100\n"
     ]
    }
   ],
   "source": [
    "# 람다함수를 지정하고 바로 실행하기\n",
    "print((lambda x : x * x )(10))\n",
    "\n",
    "# 람다함수 클래스 확인하기\n",
    "\n",
    "import types\n",
    "\n",
    "print(type((lambda x : x * x)) == types.LambdaType)\n",
    "\n",
    "# 람다함수를 함수의 인자로 전달하기\n",
    "def func(lam) :\n",
    "    return lam(10)\n",
    "\n",
    "print(func(lambda x : x * x))"
   ]
  },
  {
   "cell_type": "code",
   "execution_count": 9,
   "metadata": {},
   "outputs": [
    {
     "name": "stdout",
     "output_type": "stream",
     "text": [
      "100\n",
      "100\n",
      "<lambda>\n",
      "func\n"
     ]
    }
   ],
   "source": [
    "# 람다함수로 내부함수 작성\n",
    "print((lambda x : (lambda x : x *  x)(x))(10))\n",
    "\n",
    "# 람다함수를 변수에 할당\n",
    "lam = lambda x : x * x\n",
    "print((lambda x : lam(x))(10))\n",
    "# 람다함수를 변수에 저장한다고 함수의 이름을 가지지 않는다.\n",
    "print(lam.__name__)\n",
    "def func() :\n",
    "    pass\n",
    "print(func.__name__)"
   ]
  },
  {
   "cell_type": "code",
   "execution_count": 11,
   "metadata": {},
   "outputs": [
    {
     "data": {
      "text/plain": [
       "100"
      ]
     },
     "execution_count": 11,
     "metadata": {},
     "output_type": "execute_result"
    }
   ],
   "source": [
    "## 람다함수로 데코레이터 처리하기 \n",
    "## 하나의 인자로 함수를 받고 내부 함수를 반환\n",
    "## 내부 함수에서 데코레이팅된 함수를 실행한다\n",
    "deco = lambda func : lambda x : func(x)\n",
    "\n",
    "@deco\n",
    "def func(x) :\n",
    "    return x * x\n",
    "\n",
    "func(10)"
   ]
  },
  {
   "cell_type": "code",
   "execution_count": 17,
   "metadata": {},
   "outputs": [
    {
     "name": "stdout",
     "output_type": "stream",
     "text": [
      "{'a': 1, 'b': 2} {'a': 1, 'b': 2} {'a': 1, 'b': 2}\n",
      "{'a': 1, 'b': 2}\n"
     ]
    }
   ],
   "source": [
    "## 딕셔너리 언패킹 처리하기\n",
    "## dict 클래스, 딕셔너리 표현식에서의 언패킹처리\n",
    "## 빈 딕셔너리를 사용해서 업데이트하기\n",
    "\n",
    "a = { 'a': 1, 'b':2}\n",
    "\n",
    "b = dict(**a)\n",
    "\n",
    "c = {**a}\n",
    "print(a, b, c)\n",
    "d ={}\n",
    "d.update(a)\n",
    "print(d)"
   ]
  },
  {
   "cell_type": "code",
   "execution_count": null,
   "metadata": {},
   "outputs": [],
   "source": []
  }
 ],
 "metadata": {
  "kernelspec": {
   "display_name": "Python 3",
   "language": "python",
   "name": "python3"
  },
  "language_info": {
   "codemirror_mode": {
    "name": "ipython",
    "version": 3
   },
   "file_extension": ".py",
   "mimetype": "text/x-python",
   "name": "python",
   "nbconvert_exporter": "python",
   "pygments_lexer": "ipython3",
   "version": "3.7.7"
  }
 },
 "nbformat": 4,
 "nbformat_minor": 4
}
