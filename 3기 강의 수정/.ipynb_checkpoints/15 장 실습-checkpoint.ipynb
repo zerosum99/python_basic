{
 "cells": [
  {
   "cell_type": "markdown",
   "metadata": {},
   "source": [
    "## 파이썬 완정정복  메타클래스 및 메소드 클래스 정의\n"
   ]
  },
  {
   "cell_type": "code",
   "execution_count": 1,
   "metadata": {},
   "outputs": [],
   "source": [
    "import sys"
   ]
  },
  {
   "cell_type": "code",
   "execution_count": 2,
   "metadata": {},
   "outputs": [
    {
     "data": {
      "text/plain": [
       "sys.version_info(major=3, minor=6, micro=6, releaselevel='final', serial=0)"
      ]
     },
     "execution_count": 2,
     "metadata": {},
     "output_type": "execute_result"
    }
   ],
   "source": [
    "sys.version_info"
   ]
  },
  {
   "cell_type": "markdown",
   "metadata": {},
   "source": [
    "### 타입 메타 클래스로 일반 클래스 생성 "
   ]
  },
  {
   "cell_type": "code",
   "execution_count": 3,
   "metadata": {},
   "outputs": [],
   "source": [
    "MyKlass = type.__new__(type, 'MyKlass', (object,), {})"
   ]
  },
  {
   "cell_type": "code",
   "execution_count": 4,
   "metadata": {},
   "outputs": [],
   "source": [
    "type.__init__(MyKlass, 'MyKlass', (object,), {})"
   ]
  },
  {
   "cell_type": "code",
   "execution_count": 5,
   "metadata": {},
   "outputs": [
    {
     "name": "stdout",
     "output_type": "stream",
     "text": [
      "<class '__main__.MyKlass'>\n"
     ]
    }
   ],
   "source": [
    "print(MyKlass)"
   ]
  },
  {
   "cell_type": "code",
   "execution_count": 6,
   "metadata": {},
   "outputs": [
    {
     "name": "stdout",
     "output_type": "stream",
     "text": [
      "{'__module__': '__main__', '__dict__': <attribute '__dict__' of 'MyKlass' objects>, '__weakref__': <attribute '__weakref__' of 'MyKlass' objects>, '__doc__': None}\n"
     ]
    }
   ],
   "source": [
    "print(MyKlass.__dict__)"
   ]
  },
  {
   "cell_type": "markdown",
   "metadata": {},
   "source": [
    "####  class 정의문을 이용해서 처리"
   ]
  },
  {
   "cell_type": "code",
   "execution_count": 7,
   "metadata": {},
   "outputs": [],
   "source": [
    "class MyClass_(object) :\n",
    "    pass"
   ]
  },
  {
   "cell_type": "code",
   "execution_count": 8,
   "metadata": {},
   "outputs": [
    {
     "name": "stdout",
     "output_type": "stream",
     "text": [
      "<class '__main__.MyClass_'>\n"
     ]
    }
   ],
   "source": [
    "print(MyClass_)"
   ]
  },
  {
   "cell_type": "code",
   "execution_count": 9,
   "metadata": {},
   "outputs": [
    {
     "name": "stdout",
     "output_type": "stream",
     "text": [
      "{'__module__': '__main__', '__dict__': <attribute '__dict__' of 'MyClass_' objects>, '__weakref__': <attribute '__weakref__' of 'MyClass_' objects>, '__doc__': None}\n"
     ]
    }
   ],
   "source": [
    "print(MyClass_.__dict__)"
   ]
  },
  {
   "cell_type": "markdown",
   "metadata": {},
   "source": [
    "### type 클래스에서 __call__ 로 클래스 정의"
   ]
  },
  {
   "cell_type": "code",
   "execution_count": 10,
   "metadata": {},
   "outputs": [],
   "source": [
    "MyKlass_ = type.__call__(type, 'MyKlass_', (object,), {})"
   ]
  },
  {
   "cell_type": "code",
   "execution_count": 11,
   "metadata": {},
   "outputs": [
    {
     "name": "stdout",
     "output_type": "stream",
     "text": [
      "<class '__main__.MyKlass_'>\n",
      "{'__module__': '__main__', '__dict__': <attribute '__dict__' of 'MyKlass_' objects>, '__weakref__': <attribute '__weakref__' of 'MyKlass_' objects>, '__doc__': None}\n"
     ]
    }
   ],
   "source": [
    "print(MyKlass_)\n",
    "print(MyKlass_.__dict__)"
   ]
  },
  {
   "cell_type": "markdown",
   "metadata": {},
   "source": [
    "### type 클래스 내의  prepare 처리"
   ]
  },
  {
   "cell_type": "code",
   "execution_count": 12,
   "metadata": {},
   "outputs": [
    {
     "name": "stdout",
     "output_type": "stream",
     "text": [
      "Help on built-in function __prepare__:\n",
      "\n",
      "__prepare__(...) method of builtins.type instance\n",
      "    __prepare__() -> dict\n",
      "    used to create the namespace for the class statement\n",
      "\n"
     ]
    }
   ],
   "source": [
    "help(type.__prepare__)"
   ]
  },
  {
   "cell_type": "code",
   "execution_count": 13,
   "metadata": {},
   "outputs": [],
   "source": [
    "def __init__(self,name) :\n",
    "    self.name = name"
   ]
  },
  {
   "cell_type": "code",
   "execution_count": 14,
   "metadata": {},
   "outputs": [
    {
     "name": "stdout",
     "output_type": "stream",
     "text": [
      "{}\n"
     ]
    }
   ],
   "source": [
    "a = type.__prepare__('AClass', (object,), __init__=__init__)\n",
    "print(a)"
   ]
  },
  {
   "cell_type": "code",
   "execution_count": 15,
   "metadata": {},
   "outputs": [],
   "source": [
    "AClass = type.__call__(type, 'AClass', (object,), a)"
   ]
  },
  {
   "cell_type": "code",
   "execution_count": 16,
   "metadata": {},
   "outputs": [
    {
     "name": "stdout",
     "output_type": "stream",
     "text": [
      "<class '__main__.AClass'>\n",
      "{'__module__': '__main__', '__dict__': <attribute '__dict__' of 'AClass' objects>, '__weakref__': <attribute '__weakref__' of 'AClass' objects>, '__doc__': None}\n"
     ]
    }
   ],
   "source": [
    "print(AClass)\n",
    "print(AClass.__dict__)"
   ]
  },
  {
   "cell_type": "markdown",
   "metadata": {},
   "source": [
    "### 메타클래스 내의 __prepare__ 알아보기"
   ]
  },
  {
   "cell_type": "code",
   "execution_count": 17,
   "metadata": {},
   "outputs": [
    {
     "name": "stdout",
     "output_type": "stream",
     "text": [
      "<class '__main__.Meta'>\n",
      "{'abc': 'abc'}\n"
     ]
    }
   ],
   "source": [
    "# 메타 클래스 정의\n",
    "class Meta(type):\n",
    "    def __new__(cls, name, bases, namespace):\n",
    "        print(\"before name space \", namespace)\n",
    "        result = type.__new__(cls, name, bases, namespace)\n",
    "        \n",
    "        return result\n",
    "    \n",
    "    @classmethod\n",
    "    def __prepare__(metacls, name, bases):\n",
    "        return {\"abc\": \"abc\"}\n",
    "    \n",
    "\n",
    "print(Meta)\n",
    "print(Meta.__prepare__('aaa', (object, )))"
   ]
  },
  {
   "cell_type": "markdown",
   "metadata": {},
   "source": [
    "### 사용자 타입 클래스를 정의하고 실제 클래스 정의해서 사용하기 "
   ]
  },
  {
   "cell_type": "code",
   "execution_count": 18,
   "metadata": {},
   "outputs": [],
   "source": [
    "import collections"
   ]
  },
  {
   "cell_type": "markdown",
   "metadata": {},
   "source": [
    "#### 사용자 정의 메타클래스 정의 "
   ]
  },
  {
   "cell_type": "code",
   "execution_count": 19,
   "metadata": {},
   "outputs": [],
   "source": [
    "class OrderedClass(type):\n",
    "\n",
    "    @classmethod\n",
    "    def __prepare__(metacls, name, bases, **kwds):\n",
    "        return collections.OrderedDict()\n",
    "\n",
    "    def __new__(cls, name, bases, namespace, **kwds):\n",
    "        result = type.__new__(cls, name, bases, dict(namespace))\n",
    "        result.members = tuple(namespace)\n",
    "        return result\n",
    "\n"
   ]
  },
  {
   "cell_type": "markdown",
   "metadata": {},
   "source": [
    "#### 사용자 클래스일 때 메타 클래스 할당"
   ]
  },
  {
   "cell_type": "code",
   "execution_count": 20,
   "metadata": {},
   "outputs": [],
   "source": [
    "\n",
    "class A(metaclass=OrderedClass):\n",
    "    def one(self): pass\n",
    "    def two(self): pass\n",
    "    def three(self): pass\n",
    "    def four(self): pass"
   ]
  },
  {
   "cell_type": "code",
   "execution_count": 21,
   "metadata": {},
   "outputs": [
    {
     "data": {
      "text/plain": [
       "['__class__',\n",
       " '__delattr__',\n",
       " '__dict__',\n",
       " '__dir__',\n",
       " '__doc__',\n",
       " '__eq__',\n",
       " '__format__',\n",
       " '__ge__',\n",
       " '__getattribute__',\n",
       " '__gt__',\n",
       " '__hash__',\n",
       " '__init__',\n",
       " '__init_subclass__',\n",
       " '__le__',\n",
       " '__lt__',\n",
       " '__module__',\n",
       " '__ne__',\n",
       " '__new__',\n",
       " '__reduce__',\n",
       " '__reduce_ex__',\n",
       " '__repr__',\n",
       " '__setattr__',\n",
       " '__sizeof__',\n",
       " '__str__',\n",
       " '__subclasshook__',\n",
       " '__weakref__',\n",
       " 'four',\n",
       " 'members',\n",
       " 'one',\n",
       " 'three',\n",
       " 'two']"
      ]
     },
     "execution_count": 21,
     "metadata": {},
     "output_type": "execute_result"
    }
   ],
   "source": [
    "dir(A)"
   ]
  },
  {
   "cell_type": "markdown",
   "metadata": {},
   "source": [
    "#### 내부적으로 생긴 네임스페이스를 확인할 수 있다. "
   ]
  },
  {
   "cell_type": "code",
   "execution_count": 22,
   "metadata": {},
   "outputs": [
    {
     "data": {
      "text/plain": [
       "('__module__', '__qualname__', 'one', 'two', 'three', 'four')"
      ]
     },
     "execution_count": 22,
     "metadata": {},
     "output_type": "execute_result"
    }
   ],
   "source": [
    "A.members"
   ]
  },
  {
   "cell_type": "markdown",
   "metadata": {},
   "source": [
    "### 외부에 함수를 정의해서 네임스페이스에 할당하기 "
   ]
  },
  {
   "cell_type": "code",
   "execution_count": 23,
   "metadata": {},
   "outputs": [],
   "source": [
    "def howdy(self, you):\n",
    "    print(\"Howdy, \" + you)\n",
    "    \n",
    "MyList = type(\"MyList\", (list,), dict(x=42, howdy=howdy))\n"
   ]
  },
  {
   "cell_type": "code",
   "execution_count": 24,
   "metadata": {},
   "outputs": [
    {
     "name": "stdout",
     "output_type": "stream",
     "text": [
      "['Camembert']\n"
     ]
    }
   ],
   "source": [
    "ml = MyList()\n",
    "ml.append(\"Camembert\")\n",
    "print(ml)"
   ]
  },
  {
   "cell_type": "code",
   "execution_count": 25,
   "metadata": {},
   "outputs": [
    {
     "name": "stdout",
     "output_type": "stream",
     "text": [
      "{'x': 42, 'howdy': <function howdy at 0x000000000639F2F0>, '__module__': '__main__', '__dict__': <attribute '__dict__' of 'MyList' objects>, '__weakref__': <attribute '__weakref__' of 'MyList' objects>, '__doc__': None}\n",
      "42\n",
      "Howdy, John\n"
     ]
    }
   ],
   "source": [
    "print(MyList.__dict__)\n",
    "print(ml.x)\n",
    "ml.howdy(\"John\")"
   ]
  },
  {
   "cell_type": "code",
   "execution_count": 26,
   "metadata": {},
   "outputs": [
    {
     "name": "stdout",
     "output_type": "stream",
     "text": [
      "<class '__main__.MyList'>\n",
      "<class 'type'>\n"
     ]
    }
   ],
   "source": [
    "print(ml.__class__)\n",
    "print(ml.__class__.__class__)"
   ]
  },
  {
   "cell_type": "markdown",
   "metadata": {},
   "source": [
    "### 초기화 함수를 네임스페이스에 전달"
   ]
  },
  {
   "cell_type": "code",
   "execution_count": 27,
   "metadata": {},
   "outputs": [],
   "source": [
    "# __init__함수 정의\n",
    "def __init__(self, name, salary):\n",
    "    self.name = name\n",
    "    self.salary = salary\n",
    "    \n",
    "Person = type(\"Person\", (object,), dict(__init__=__init__))\n"
   ]
  },
  {
   "cell_type": "code",
   "execution_count": 28,
   "metadata": {},
   "outputs": [
    {
     "name": "stdout",
     "output_type": "stream",
     "text": [
      "<class '__main__.Person'>\n",
      "__init__\n",
      "__module__\n",
      "__dict__\n",
      "__weakref__\n",
      "__doc__\n"
     ]
    }
   ],
   "source": [
    "b = Person('dahl', 20000)\n",
    "print(type(b))\n",
    "\n",
    "for i in Person.__dict__:\n",
    "    print(i)"
   ]
  },
  {
   "cell_type": "markdown",
   "metadata": {},
   "source": [
    "### 메타클래스를 정의하고 내부 구조를 다시 알아보기"
   ]
  },
  {
   "cell_type": "code",
   "execution_count": 29,
   "metadata": {},
   "outputs": [],
   "source": [
    "# 메타 클래스 정의\n",
    "class Meta(type):\n",
    "    def __new__(cls, name, bases, namespace):\n",
    "        print(\"before name space \", namespace)\n",
    "        result = type.__new__(cls, name, bases, namespace)\n",
    "        \n",
    "        return result\n",
    "    \n",
    "    @classmethod\n",
    "    def __prepare__(metacls, name, bases):\n",
    "        return {\"abc\": \"abc\"}\n",
    "    "
   ]
  },
  {
   "cell_type": "code",
   "execution_count": 30,
   "metadata": {},
   "outputs": [
    {
     "name": "stdout",
     "output_type": "stream",
     "text": [
      "before name space  {'abc': 'abc', '__module__': '__main__', '__qualname__': 'A', '__init__': <function A.__init__ at 0x000000000639F0D0>, 'one': <function A.one at 0x000000000639F048>, 'two': <function A.two at 0x00000000065ABF28>, 'three': <function A.three at 0x00000000065ABEA0>, 'four': <function A.four at 0x00000000065ABE18>}\n"
     ]
    }
   ],
   "source": [
    "# class정의 및 metaclass 지정\n",
    "class A(metaclass=Meta):\n",
    "    def __init__(self):\n",
    "        pass\n",
    "    \n",
    "    def one(self): pass\n",
    "    def two(self): pass\n",
    "    def three(self): pass\n",
    "    def four(self): pass\n",
    "    \n"
   ]
  },
  {
   "cell_type": "code",
   "execution_count": 31,
   "metadata": {},
   "outputs": [
    {
     "name": "stdout",
     "output_type": "stream",
     "text": [
      "the appropriate metaclass is determined ==> \n",
      "<class '__main__.Meta'>\n",
      "the class namespace is prepared ===>\n",
      "{'abc': 'abc', '__module__': '__main__', '__init__': <function A.__init__ at 0x000000000639F0D0>, 'one': <function A.one at 0x000000000639F048>, 'two': <function A.two at 0x00000000065ABF28>, 'three': <function A.three at 0x00000000065ABEA0>, 'four': <function A.four at 0x00000000065ABE18>, '__dict__': <attribute '__dict__' of 'A' objects>, '__weakref__': <attribute '__weakref__' of 'A' objects>, '__doc__': None}\n"
     ]
    }
   ],
   "source": [
    "a = A()\n",
    "print(\"the appropriate metaclass is determined ==> \")\n",
    "print(type(A))\n",
    "print(\"the class namespace is prepared ===>\")\n",
    "print(A.__dict__)"
   ]
  },
  {
   "cell_type": "code",
   "execution_count": null,
   "metadata": {},
   "outputs": [],
   "source": []
  },
  {
   "cell_type": "markdown",
   "metadata": {},
   "source": [
    "### 사용자 메소드 클래스를 정의하기"
   ]
  },
  {
   "cell_type": "code",
   "execution_count": 32,
   "metadata": {},
   "outputs": [],
   "source": [
    "class Method :\n",
    "    def __init__(self,func) :\n",
    "        self._func = func\n",
    "        \n",
    "    def __call__(self, *args, **kwargs) :\n",
    "        return self._func(self,*args, **kwargs)\n",
    "    \n",
    "    def method(self) :\n",
    "        return 100"
   ]
  },
  {
   "cell_type": "markdown",
   "metadata": {},
   "source": [
    "#### 내부 클래스를 사용자 메소드로 데코레이터 처리하기"
   ]
  },
  {
   "cell_type": "code",
   "execution_count": 33,
   "metadata": {},
   "outputs": [],
   "source": [
    "class A :\n",
    "    @Method\n",
    "    def a(self) :\n",
    "        return 10"
   ]
  },
  {
   "cell_type": "code",
   "execution_count": 34,
   "metadata": {},
   "outputs": [
    {
     "data": {
      "text/plain": [
       "mappingproxy({'__dict__': <attribute '__dict__' of 'A' objects>,\n",
       "              '__doc__': None,\n",
       "              '__module__': '__main__',\n",
       "              '__weakref__': <attribute '__weakref__' of 'A' objects>,\n",
       "              'a': <__main__.Method at 0x6395be0>})"
      ]
     },
     "execution_count": 34,
     "metadata": {},
     "output_type": "execute_result"
    }
   ],
   "source": [
    "A.__dict__"
   ]
  },
  {
   "cell_type": "code",
   "execution_count": 35,
   "metadata": {},
   "outputs": [],
   "source": [
    "bb = A()"
   ]
  },
  {
   "cell_type": "markdown",
   "metadata": {},
   "source": [
    "#### 메소드 실행하기"
   ]
  },
  {
   "cell_type": "code",
   "execution_count": 36,
   "metadata": {},
   "outputs": [
    {
     "data": {
      "text/plain": [
       "<__main__.Method at 0x6395be0>"
      ]
     },
     "execution_count": 36,
     "metadata": {},
     "output_type": "execute_result"
    }
   ],
   "source": [
    "bb.a"
   ]
  },
  {
   "cell_type": "code",
   "execution_count": 37,
   "metadata": {},
   "outputs": [
    {
     "data": {
      "text/plain": [
       "10"
      ]
     },
     "execution_count": 37,
     "metadata": {},
     "output_type": "execute_result"
    }
   ],
   "source": [
    "bb.a()"
   ]
  },
  {
   "cell_type": "markdown",
   "metadata": {},
   "source": [
    "#### 메소드 내의 네임스페이스 확인하기"
   ]
  },
  {
   "cell_type": "code",
   "execution_count": 38,
   "metadata": {},
   "outputs": [
    {
     "data": {
      "text/plain": [
       "{'_func': <function __main__.A.a>}"
      ]
     },
     "execution_count": 38,
     "metadata": {},
     "output_type": "execute_result"
    }
   ],
   "source": [
    "bb.a.__dict__"
   ]
  },
  {
   "cell_type": "markdown",
   "metadata": {},
   "source": [
    "#### 메소드 내의 메소드 처리"
   ]
  },
  {
   "cell_type": "code",
   "execution_count": 39,
   "metadata": {},
   "outputs": [
    {
     "data": {
      "text/plain": [
       "['__call__',\n",
       " '__class__',\n",
       " '__delattr__',\n",
       " '__dict__',\n",
       " '__dir__',\n",
       " '__doc__',\n",
       " '__eq__',\n",
       " '__format__',\n",
       " '__ge__',\n",
       " '__getattribute__',\n",
       " '__gt__',\n",
       " '__hash__',\n",
       " '__init__',\n",
       " '__init_subclass__',\n",
       " '__le__',\n",
       " '__lt__',\n",
       " '__module__',\n",
       " '__ne__',\n",
       " '__new__',\n",
       " '__reduce__',\n",
       " '__reduce_ex__',\n",
       " '__repr__',\n",
       " '__setattr__',\n",
       " '__sizeof__',\n",
       " '__str__',\n",
       " '__subclasshook__',\n",
       " '__weakref__',\n",
       " '_func',\n",
       " 'method']"
      ]
     },
     "execution_count": 39,
     "metadata": {},
     "output_type": "execute_result"
    }
   ],
   "source": [
    "dir(bb.a)"
   ]
  },
  {
   "cell_type": "code",
   "execution_count": 40,
   "metadata": {},
   "outputs": [
    {
     "data": {
      "text/plain": [
       "100"
      ]
     },
     "execution_count": 40,
     "metadata": {},
     "output_type": "execute_result"
    }
   ],
   "source": [
    "bb.a.method()"
   ]
  },
  {
   "cell_type": "code",
   "execution_count": null,
   "metadata": {},
   "outputs": [],
   "source": []
  }
 ],
 "metadata": {
  "kernelspec": {
   "display_name": "Python 3",
   "language": "python",
   "name": "python3"
  },
  "language_info": {
   "codemirror_mode": {
    "name": "ipython",
    "version": 3
   },
   "file_extension": ".py",
   "mimetype": "text/x-python",
   "name": "python",
   "nbconvert_exporter": "python",
   "pygments_lexer": "ipython3",
   "version": "3.6.6"
  }
 },
 "nbformat": 4,
 "nbformat_minor": 2
}
