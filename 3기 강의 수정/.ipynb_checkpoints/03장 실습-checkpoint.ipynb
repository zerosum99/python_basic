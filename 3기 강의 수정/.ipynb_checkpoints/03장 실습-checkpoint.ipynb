{
 "cells": [
  {
   "cell_type": "markdown",
   "metadata": {},
   "source": [
    "## 파이썬 완정정복 클래스 알아보기 \n"
   ]
  },
  {
   "cell_type": "code",
   "execution_count": 1,
   "metadata": {},
   "outputs": [],
   "source": [
    "import sys"
   ]
  },
  {
   "cell_type": "code",
   "execution_count": 2,
   "metadata": {},
   "outputs": [
    {
     "data": {
      "text/plain": [
       "sys.version_info(major=3, minor=6, micro=6, releaselevel='final', serial=0)"
      ]
     },
     "execution_count": 2,
     "metadata": {},
     "output_type": "execute_result"
    }
   ],
   "source": [
    "sys.version_info"
   ]
  },
  {
   "cell_type": "markdown",
   "metadata": {},
   "source": [
    "## 클래스 스타일 알아보기"
   ]
  },
  {
   "cell_type": "markdown",
   "metadata": {},
   "source": [
    "### old 스타일 "
   ]
  },
  {
   "cell_type": "code",
   "execution_count": 3,
   "metadata": {},
   "outputs": [],
   "source": [
    "class B:\n",
    "    def __init__(self, name):\n",
    "        self.name = name"
   ]
  },
  {
   "cell_type": "code",
   "execution_count": 4,
   "metadata": {},
   "outputs": [],
   "source": [
    "b = B(\"인스턴스 생성\")"
   ]
  },
  {
   "cell_type": "code",
   "execution_count": 5,
   "metadata": {},
   "outputs": [
    {
     "name": "stdout",
     "output_type": "stream",
     "text": [
      "<__main__.B object at 0x000000000637FB70>\n"
     ]
    }
   ],
   "source": [
    "print(b)"
   ]
  },
  {
   "cell_type": "code",
   "execution_count": 6,
   "metadata": {},
   "outputs": [
    {
     "data": {
      "text/plain": [
       "(object,)"
      ]
     },
     "execution_count": 6,
     "metadata": {},
     "output_type": "execute_result"
    }
   ],
   "source": [
    "B.__bases__"
   ]
  },
  {
   "cell_type": "markdown",
   "metadata": {},
   "source": [
    "### New 스타일 "
   ]
  },
  {
   "cell_type": "code",
   "execution_count": 7,
   "metadata": {},
   "outputs": [],
   "source": [
    "class A(object):\n",
    "    def __init__(self, name):\n",
    "        self.name = name"
   ]
  },
  {
   "cell_type": "code",
   "execution_count": 8,
   "metadata": {},
   "outputs": [],
   "source": [
    "a = A(\"인스턴스 생성\")"
   ]
  },
  {
   "cell_type": "code",
   "execution_count": 9,
   "metadata": {},
   "outputs": [
    {
     "name": "stdout",
     "output_type": "stream",
     "text": [
      "<__main__.A object at 0x000000000637F5F8>\n"
     ]
    }
   ],
   "source": [
    "print(a)"
   ]
  },
  {
   "cell_type": "code",
   "execution_count": 10,
   "metadata": {},
   "outputs": [
    {
     "name": "stdout",
     "output_type": "stream",
     "text": [
      "<class '__main__.A'>\n",
      "<class 'type'>\n"
     ]
    }
   ],
   "source": [
    "print(type(a))\n",
    "print(type(A))"
   ]
  },
  {
   "cell_type": "code",
   "execution_count": 11,
   "metadata": {},
   "outputs": [
    {
     "name": "stdout",
     "output_type": "stream",
     "text": [
      "True\n",
      "True\n",
      "True\n"
     ]
    }
   ],
   "source": [
    "print(isinstance(a, A))\n",
    "print(isinstance(A, object))\n",
    "print(isinstance(A, type))"
   ]
  },
  {
   "cell_type": "code",
   "execution_count": 12,
   "metadata": {},
   "outputs": [
    {
     "data": {
      "text/plain": [
       "(object,)"
      ]
     },
     "execution_count": 12,
     "metadata": {},
     "output_type": "execute_result"
    }
   ],
   "source": [
    "A.__bases__"
   ]
  },
  {
   "cell_type": "markdown",
   "metadata": {},
   "source": [
    "### 클래스 정의 후 내부 속성 정보 확인하기"
   ]
  },
  {
   "cell_type": "markdown",
   "metadata": {},
   "source": [
    "#### 빈 클래스 정의 후에 초기화 속성 확인"
   ]
  },
  {
   "cell_type": "code",
   "execution_count": 13,
   "metadata": {},
   "outputs": [],
   "source": [
    "class A0:\n",
    "    pass"
   ]
  },
  {
   "cell_type": "code",
   "execution_count": 14,
   "metadata": {},
   "outputs": [
    {
     "name": "stdout",
     "output_type": "stream",
     "text": [
      "<method-wrapper '__init__' of type object at 0x7fa80a3dce18>\n"
     ]
    }
   ],
   "source": [
    "print(object.__getattribute__(A0, \"__init__\"))"
   ]
  },
  {
   "cell_type": "markdown",
   "metadata": {},
   "source": [
    "#### 클래스 정의 후에 내부 정의된 초기화 속성 확인 "
   ]
  },
  {
   "cell_type": "code",
   "execution_count": 15,
   "metadata": {},
   "outputs": [],
   "source": [
    "class AA:\n",
    "    def __init__(self):\n",
    "        pass"
   ]
  },
  {
   "cell_type": "code",
   "execution_count": 16,
   "metadata": {},
   "outputs": [
    {
     "name": "stdout",
     "output_type": "stream",
     "text": [
      "<function AA.__init__ at 0x104a328c8>\n"
     ]
    }
   ],
   "source": [
    "print(object.__getattribute__(AA, \"__init__\"))"
   ]
  },
  {
   "cell_type": "markdown",
   "metadata": {},
   "source": [
    "### 클래스 내부의 속성 확인 "
   ]
  },
  {
   "cell_type": "code",
   "execution_count": 19,
   "metadata": {},
   "outputs": [
    {
     "name": "stdout",
     "output_type": "stream",
     "text": [
      "__abs__ __add__ __and__ __bool__ __ceil__ \n",
      "__class__ __delattr__ __dir__ __divmod__ __doc__ \n",
      "__eq__ __float__ __floor__ __floordiv__ __format__ \n",
      "__ge__ __getattribute__ __getnewargs__ __gt__ __hash__ \n",
      "__index__ __init__ __init_subclass__ __int__ __invert__ \n",
      "__le__ __lshift__ __lt__ __mod__ __mul__ \n",
      "__ne__ __neg__ __new__ __or__ __pos__ \n",
      "__pow__ __radd__ __rand__ __rdivmod__ __reduce__ \n",
      "__reduce_ex__ __repr__ __rfloordiv__ __rlshift__ __rmod__ \n",
      "__rmul__ __ror__ __round__ __rpow__ __rrshift__ \n",
      "__rshift__ __rsub__ __rtruediv__ __rxor__ __setattr__ \n",
      "__sizeof__ __str__ __sub__ __subclasshook__ __truediv__ \n",
      "__trunc__ __xor__ bit_length conjugate denominator \n",
      "from_bytes imag numerator real to_bytes \n",
      "70\n"
     ]
    }
   ],
   "source": [
    "count = 0\n",
    "for i in dir(int):\n",
    "    print(i, end=\" \")\n",
    "    count += 1\n",
    "    print() if count % 5 == 0 else _\n",
    "\n",
    "print(count)"
   ]
  },
  {
   "cell_type": "markdown",
   "metadata": {},
   "source": [
    "### 객체 인스턴스에서 연산자를 스페셜메소드로 변환해서 처리"
   ]
  },
  {
   "cell_type": "code",
   "execution_count": 21,
   "metadata": {},
   "outputs": [
    {
     "name": "stdout",
     "output_type": "stream",
     "text": [
      "2\n"
     ]
    }
   ],
   "source": [
    "print(1+1)"
   ]
  },
  {
   "cell_type": "code",
   "execution_count": 22,
   "metadata": {},
   "outputs": [
    {
     "name": "stdout",
     "output_type": "stream",
     "text": [
      "2\n"
     ]
    }
   ],
   "source": [
    "print((1).__add__(1))"
   ]
  },
  {
   "cell_type": "markdown",
   "metadata": {},
   "source": [
    "### 파이썬은 모듈도 클래스로 인식한다"
   ]
  },
  {
   "cell_type": "code",
   "execution_count": 24,
   "metadata": {},
   "outputs": [
    {
     "name": "stdout",
     "output_type": "stream",
     "text": [
      "<class 'module'>\n"
     ]
    }
   ],
   "source": [
    "import re\n",
    "\n",
    "print(re.__class__)"
   ]
  },
  {
   "cell_type": "code",
   "execution_count": 25,
   "metadata": {},
   "outputs": [
    {
     "name": "stdout",
     "output_type": "stream",
     "text": [
      "<class 'type'>\n"
     ]
    }
   ],
   "source": [
    "print(type)"
   ]
  },
  {
   "cell_type": "code",
   "execution_count": 26,
   "metadata": {},
   "outputs": [
    {
     "name": "stdout",
     "output_type": "stream",
     "text": [
      "<class 'object'>\n"
     ]
    }
   ],
   "source": [
    "print(object)"
   ]
  },
  {
   "cell_type": "code",
   "execution_count": 27,
   "metadata": {},
   "outputs": [
    {
     "name": "stdout",
     "output_type": "stream",
     "text": [
      "<class 'int'>\n"
     ]
    }
   ],
   "source": [
    "print(int)"
   ]
  },
  {
   "cell_type": "code",
   "execution_count": 28,
   "metadata": {},
   "outputs": [
    {
     "name": "stdout",
     "output_type": "stream",
     "text": [
      "<class 'str'>\n"
     ]
    }
   ],
   "source": [
    "print(str)"
   ]
  },
  {
   "cell_type": "code",
   "execution_count": 30,
   "metadata": {},
   "outputs": [
    {
     "name": "stdout",
     "output_type": "stream",
     "text": [
      "<class 'list'>\n"
     ]
    }
   ],
   "source": [
    "print(list)"
   ]
  },
  {
   "cell_type": "code",
   "execution_count": 31,
   "metadata": {},
   "outputs": [
    {
     "name": "stdout",
     "output_type": "stream",
     "text": [
      "<class 'dict'>\n"
     ]
    }
   ],
   "source": [
    "print(dict)"
   ]
  },
  {
   "cell_type": "markdown",
   "metadata": {},
   "source": [
    "### 클래스 속성을 정의한 클래스의 네임스페이스 확인 "
   ]
  },
  {
   "cell_type": "code",
   "execution_count": 14,
   "metadata": {},
   "outputs": [
    {
     "name": "stdout",
     "output_type": "stream",
     "text": [
      "{'__module__': '__main__', 'class_var': 0, '__dict__': <attribute '__dict__' of 'A' objects>, '__weakref__': <attribute '__weakref__' of 'A' objects>, '__doc__': None}\n"
     ]
    }
   ],
   "source": [
    "class A:\n",
    "    class_var = 0\n",
    "    \n",
    "\n",
    "print(A.__dict__)"
   ]
  },
  {
   "cell_type": "markdown",
   "metadata": {},
   "source": [
    "### 클래스 속성을 처리하는 클래스 메소드를 외부에 정의하고 런타임에 할당"
   ]
  },
  {
   "cell_type": "code",
   "execution_count": 15,
   "metadata": {},
   "outputs": [],
   "source": [
    "def add(cls, x, y):\n",
    "    return x + y\n",
    "\n",
    "A.class_var = classmethod(add)\n"
   ]
  },
  {
   "cell_type": "markdown",
   "metadata": {},
   "source": [
    "#### 클래스 네임스페이스에 런타임 할당 정보 확인"
   ]
  },
  {
   "cell_type": "code",
   "execution_count": 17,
   "metadata": {},
   "outputs": [
    {
     "name": "stdout",
     "output_type": "stream",
     "text": [
      "{'__module__': '__main__', 'class_var': <classmethod object at 0x0000000006353208>, '__dict__': <attribute '__dict__' of 'A' objects>, '__weakref__': <attribute '__weakref__' of 'A' objects>, '__doc__': None}\n"
     ]
    }
   ],
   "source": [
    "print(A.__dict__)"
   ]
  },
  {
   "cell_type": "markdown",
   "metadata": {},
   "source": [
    "#### 클래스 메소드를 호출해서 실행"
   ]
  },
  {
   "cell_type": "code",
   "execution_count": 18,
   "metadata": {},
   "outputs": [
    {
     "name": "stdout",
     "output_type": "stream",
     "text": [
      "10\n"
     ]
    }
   ],
   "source": [
    "print(A.class_var(5, 5))"
   ]
  },
  {
   "cell_type": "markdown",
   "metadata": {},
   "source": [
    "### 인스턴스 정보 확인 "
   ]
  },
  {
   "cell_type": "code",
   "execution_count": 19,
   "metadata": {},
   "outputs": [],
   "source": [
    "class Person:\n",
    "    def whoami(self):\n",
    "        return self.__class__.__name__\n",
    "    "
   ]
  },
  {
   "cell_type": "markdown",
   "metadata": {},
   "source": [
    "#### 인스턴스 내에 클래스의 이름을 확인"
   ]
  },
  {
   "cell_type": "code",
   "execution_count": 20,
   "metadata": {},
   "outputs": [
    {
     "name": "stdout",
     "output_type": "stream",
     "text": [
      "Person\n"
     ]
    }
   ],
   "source": [
    "p = Person()\n",
    "\n",
    "print(p.whoami())"
   ]
  },
  {
   "cell_type": "markdown",
   "metadata": {},
   "source": [
    "####  상속한 클래스 이름 확인 "
   ]
  },
  {
   "cell_type": "code",
   "execution_count": 21,
   "metadata": {},
   "outputs": [
    {
     "name": "stdout",
     "output_type": "stream",
     "text": [
      "object\n"
     ]
    }
   ],
   "source": [
    "print(p.__class__.__bases__[0].__name__)"
   ]
  },
  {
   "cell_type": "markdown",
   "metadata": {},
   "source": [
    "### 인스턴스 내부 속성 확인 \n",
    "\n",
    "      초기화 메소드에 인스턴스에 들어갈 속성을 명확히 정의한다.\n",
    "    \n",
    "    self를 넣어서 정의하는 이유는 실제 self에 인스턴스 레퍼런스가 들어가 있어 새로 생성되는 인스턴스에 속성이 들어간다.\n",
    "    "
   ]
  },
  {
   "cell_type": "code",
   "execution_count": 22,
   "metadata": {},
   "outputs": [],
   "source": [
    "class Person:\n",
    "    def __init__(self, name, age):\n",
    "        self.name = name\n",
    "        self.age = age"
   ]
  },
  {
   "cell_type": "markdown",
   "metadata": {},
   "source": [
    "#### 인스턴스 내부의 네임스페이스를 확인하고 처리"
   ]
  },
  {
   "cell_type": "code",
   "execution_count": 23,
   "metadata": {},
   "outputs": [
    {
     "name": "stdout",
     "output_type": "stream",
     "text": [
      "<__main__.Person object at 0x00000000075DFE48>\n",
      "{'name': '줄리아', 'age': 15}\n",
      "줄리아\n",
      "15\n"
     ]
    }
   ],
   "source": [
    "p  = Person(\"줄리아\", 15)\n",
    "\n",
    "print(p)\n",
    "print(p.__dict__)\n",
    "print(p.name)\n",
    "print(p.age)"
   ]
  },
  {
   "cell_type": "markdown",
   "metadata": {},
   "source": [
    "### 클래스 내부 속성 확인 "
   ]
  },
  {
   "cell_type": "code",
   "execution_count": 24,
   "metadata": {},
   "outputs": [],
   "source": [
    "class Klass:\n",
    "    pass"
   ]
  },
  {
   "cell_type": "markdown",
   "metadata": {},
   "source": [
    "#### 클래스는 타입 클래스에 위해 만들어져 있다.\n",
    "\n",
    "       파이썬은 모든 클래스는 타입 클래스에 위해 만들어지는 구조"
   ]
  },
  {
   "cell_type": "code",
   "execution_count": 26,
   "metadata": {},
   "outputs": [
    {
     "name": "stdout",
     "output_type": "stream",
     "text": [
      "<class 'type'>\n",
      "True\n"
     ]
    }
   ],
   "source": [
    "print(Klass.__class__)\n",
    "print(isinstance(Klass, type))"
   ]
  },
  {
   "cell_type": "markdown",
   "metadata": {},
   "source": [
    "#### 클래스는 object 클래스를 상속해서 구조화 한다."
   ]
  },
  {
   "cell_type": "code",
   "execution_count": 45,
   "metadata": {},
   "outputs": [
    {
     "name": "stdout",
     "output_type": "stream",
     "text": [
      "(<class 'object'>,)\n",
      "True\n"
     ]
    }
   ],
   "source": [
    "print(Klass.__bases__)\n",
    "print(issubclass(Klass, object))"
   ]
  },
  {
   "cell_type": "markdown",
   "metadata": {},
   "source": [
    "### 클래스 확장 하기"
   ]
  },
  {
   "cell_type": "markdown",
   "metadata": {},
   "source": [
    "#### int 클래스를 상속한 Int 클래스 정의"
   ]
  },
  {
   "cell_type": "code",
   "execution_count": 29,
   "metadata": {},
   "outputs": [],
   "source": [
    "class Int(int):\n",
    "    pass\n"
   ]
  },
  {
   "cell_type": "markdown",
   "metadata": {},
   "source": [
    "#### 인스턴스를 만들어서 확인하기 "
   ]
  },
  {
   "cell_type": "code",
   "execution_count": 30,
   "metadata": {},
   "outputs": [
    {
     "name": "stdout",
     "output_type": "stream",
     "text": [
      "<class '__main__.Int'> 10\n"
     ]
    }
   ],
   "source": [
    "a = Int(10)\n",
    "print(type(a), a)"
   ]
  },
  {
   "cell_type": "markdown",
   "metadata": {},
   "source": [
    "#### 상속한 경우 네임스페이스 확인하기 \n",
    "\n",
    "      상속을 해서 내부에 아무것도 없는 것을 확인할 수 있다.\n",
    "      "
   ]
  },
  {
   "cell_type": "code",
   "execution_count": 31,
   "metadata": {},
   "outputs": [
    {
     "name": "stdout",
     "output_type": "stream",
     "text": [
      "mappingproxy({'__dict__': <attribute '__dict__' of 'Int' objects>,\n",
      "              '__doc__': None,\n",
      "              '__module__': '__main__'})\n"
     ]
    }
   ],
   "source": [
    "import pprint\n",
    "\n",
    "pprint.pprint(Int.__dict__)"
   ]
  },
  {
   "cell_type": "markdown",
   "metadata": {},
   "source": [
    "#### 상속관계와 클래스가 만들어진 관계 확인 "
   ]
  },
  {
   "cell_type": "code",
   "execution_count": 32,
   "metadata": {},
   "outputs": [
    {
     "name": "stdout",
     "output_type": "stream",
     "text": [
      "<class 'type'>\n",
      "(<class 'int'>,)\n",
      "True\n",
      "True\n",
      "True\n"
     ]
    }
   ],
   "source": [
    "print(Int.__class__)\n",
    "print(Int.__bases__)\n",
    "\n",
    "print(isinstance(Int, type))\n",
    "print(issubclass(Int, object))\n",
    "print(issubclass(Int, int))"
   ]
  },
  {
   "cell_type": "markdown",
   "metadata": {},
   "source": [
    "### 클래스, 인스턴스 속성 접근"
   ]
  },
  {
   "cell_type": "markdown",
   "metadata": {},
   "source": [
    "#### 클래스 속성과 인스턴스 속성이 동일한 이름으로 생성 "
   ]
  },
  {
   "cell_type": "code",
   "execution_count": 33,
   "metadata": {},
   "outputs": [],
   "source": [
    "class Klass:\n",
    "    name = \"Klass attr\"\n",
    "    def __init__(self, name):\n",
    "        self.name = name\n",
    "        \n",
    "    def getname(self):\n",
    "        return self.name\n",
    "    "
   ]
  },
  {
   "cell_type": "markdown",
   "metadata": {},
   "source": [
    "#### 인스턴스와 클래스가 동일한 속성을 접근\n",
    "\n",
    "     인스턴스는 자기 속성을 참조"
   ]
  },
  {
   "cell_type": "code",
   "execution_count": 34,
   "metadata": {},
   "outputs": [
    {
     "name": "stdout",
     "output_type": "stream",
     "text": [
      "instance attr\n",
      "Klass attr\n"
     ]
    }
   ],
   "source": [
    "k = Klass('instance attr')\n",
    "\n",
    "print(k.name)\n",
    "print(Klass.name)"
   ]
  },
  {
   "cell_type": "markdown",
   "metadata": {},
   "source": [
    "#### 인스턴스에 클래스 속성을 할당하면 인스턴스도 그 속성에 접근\n"
   ]
  },
  {
   "cell_type": "code",
   "execution_count": 36,
   "metadata": {},
   "outputs": [
    {
     "name": "stdout",
     "output_type": "stream",
     "text": [
      "{'name': 'instance attr', 'getclassname': 'Klass attr'}\n",
      "Klass attr\n"
     ]
    }
   ],
   "source": [
    "k.getclassname = Klass.name\n",
    "print(k.__dict__)\n",
    "print(k.getclassname)"
   ]
  },
  {
   "cell_type": "markdown",
   "metadata": {},
   "source": [
    "### Method Bound/unbound"
   ]
  },
  {
   "cell_type": "code",
   "execution_count": 39,
   "metadata": {},
   "outputs": [],
   "source": [
    "class Person:\n",
    "    def printP(self):\n",
    "        print(\" instance method \")\n",
    "        \n",
    "    @classmethod\n",
    "    def printC(cls):\n",
    "        print(\" class method \")\n",
    "        "
   ]
  },
  {
   "cell_type": "markdown",
   "metadata": {},
   "source": [
    "####  인스턴스에서 인스턴스 메소드 바인딩"
   ]
  },
  {
   "cell_type": "code",
   "execution_count": 38,
   "metadata": {},
   "outputs": [
    {
     "name": "stdout",
     "output_type": "stream",
     "text": [
      " instance method \n",
      " instance method \n"
     ]
    }
   ],
   "source": [
    "p = Person()\n",
    "p.printP()\n",
    "Person.printP(p)"
   ]
  },
  {
   "cell_type": "markdown",
   "metadata": {},
   "source": [
    "#### 클래스에서 인스턴스  메소드 바인딩하면 실제 함수로 처리"
   ]
  },
  {
   "cell_type": "code",
   "execution_count": 40,
   "metadata": {},
   "outputs": [
    {
     "data": {
      "text/plain": [
       "<function __main__.Person.printP>"
      ]
     },
     "execution_count": 40,
     "metadata": {},
     "output_type": "execute_result"
    }
   ],
   "source": [
    "Person.printP"
   ]
  },
  {
   "cell_type": "markdown",
   "metadata": {},
   "source": [
    "#### 클래스에서 클래스 메소드를 바인딩하면 메소드로 처리"
   ]
  },
  {
   "cell_type": "code",
   "execution_count": 41,
   "metadata": {},
   "outputs": [
    {
     "data": {
      "text/plain": [
       "<bound method Person.printC of <class '__main__.Person'>>"
      ]
     },
     "execution_count": 41,
     "metadata": {},
     "output_type": "execute_result"
    }
   ],
   "source": [
    "Person.printC"
   ]
  },
  {
   "cell_type": "markdown",
   "metadata": {},
   "source": [
    "## 클래스 내부에서 전역변수 참조 "
   ]
  },
  {
   "cell_type": "code",
   "execution_count": 42,
   "metadata": {},
   "outputs": [
    {
     "name": "stdout",
     "output_type": "stream",
     "text": [
      "100\n"
     ]
    }
   ],
   "source": [
    "v = 100\n",
    "\n",
    "class D:\n",
    "    print(v)\n",
    "    \n",
    "d = D()\n"
   ]
  },
  {
   "cell_type": "code",
   "execution_count": 43,
   "metadata": {},
   "outputs": [
    {
     "name": "stdout",
     "output_type": "stream",
     "text": [
      "{}\n",
      "{'__module__': '__main__', '__dict__': <attribute '__dict__' of 'D' objects>, '__weakref__': <attribute '__weakref__' of 'D' objects>, '__doc__': None}\n"
     ]
    }
   ],
   "source": [
    "print(d.__dict__)\n",
    "print(D.__dict__)"
   ]
  },
  {
   "cell_type": "markdown",
   "metadata": {},
   "source": [
    "### 모듈에 정의된 함수 참조하기 "
   ]
  },
  {
   "cell_type": "code",
   "execution_count": 44,
   "metadata": {},
   "outputs": [],
   "source": [
    "def __init__(self, name, age):\n",
    "    self.name = name\n",
    "    self.age = age"
   ]
  },
  {
   "cell_type": "code",
   "execution_count": 45,
   "metadata": {},
   "outputs": [],
   "source": [
    "class Person:\n",
    "    __init__ = __init__"
   ]
  },
  {
   "cell_type": "code",
   "execution_count": 46,
   "metadata": {},
   "outputs": [
    {
     "name": "stdout",
     "output_type": "stream",
     "text": [
      "{'name': 'DahlMoon', 'age': 22}\n"
     ]
    }
   ],
   "source": [
    "p = Person(\"DahlMoon\", 22)\n",
    "print(p.__dict__)"
   ]
  },
  {
   "cell_type": "code",
   "execution_count": 47,
   "metadata": {},
   "outputs": [
    {
     "name": "stdout",
     "output_type": "stream",
     "text": [
      "<function __init__ at 0x00000000076D7730>\n",
      "<function __init__ at 0x00000000076D7730>\n"
     ]
    }
   ],
   "source": [
    "print(p.__init__.__func__)\n",
    "print(__init__)"
   ]
  },
  {
   "cell_type": "markdown",
   "metadata": {},
   "source": [
    "##  인스턴스를 직접 호출"
   ]
  },
  {
   "cell_type": "code",
   "execution_count": 48,
   "metadata": {},
   "outputs": [],
   "source": [
    "class B:\n",
    "    def __init__(self):\n",
    "        print(\"From init ...\")\n",
    "        \n",
    "    def __call__(self):\n",
    "        print(\"From call ...\")\n"
   ]
  },
  {
   "cell_type": "code",
   "execution_count": 49,
   "metadata": {},
   "outputs": [
    {
     "name": "stdout",
     "output_type": "stream",
     "text": [
      "From init ...\n"
     ]
    }
   ],
   "source": [
    "b = B()"
   ]
  },
  {
   "cell_type": "code",
   "execution_count": 50,
   "metadata": {},
   "outputs": [
    {
     "name": "stdout",
     "output_type": "stream",
     "text": [
      "From call ...\n"
     ]
    }
   ],
   "source": [
    "b()"
   ]
  },
  {
   "cell_type": "markdown",
   "metadata": {},
   "source": [
    "### 인스턴스 실행시 내부 메소드 실행하기"
   ]
  },
  {
   "cell_type": "code",
   "execution_count": 51,
   "metadata": {},
   "outputs": [],
   "source": [
    "class Person:\n",
    "    def __init__(self, name):\n",
    "        self._name = name\n",
    "        \n",
    "    def get_Name(self):\n",
    "        return self._name\n",
    "    \n",
    "    def __call__(self):\n",
    "        return self.get_Name()\n"
   ]
  },
  {
   "cell_type": "code",
   "execution_count": 52,
   "metadata": {},
   "outputs": [
    {
     "name": "stdout",
     "output_type": "stream",
     "text": [
      "Dahl\n",
      "Dahl\n"
     ]
    }
   ],
   "source": [
    "    \n",
    "p = Person(\"Dahl\")\n",
    "print(p.get_Name())\n",
    "\n",
    "print(p())"
   ]
  },
  {
   "cell_type": "markdown",
   "metadata": {},
   "source": [
    "### 생성자 정의하기 "
   ]
  },
  {
   "cell_type": "code",
   "execution_count": 53,
   "metadata": {},
   "outputs": [],
   "source": [
    "class AAA:\n",
    "    def __new__(cls):\n",
    "        print(\"AAA instance\")\n",
    "        return object.__new__(cls)"
   ]
  },
  {
   "cell_type": "markdown",
   "metadata": {},
   "source": [
    "#### 인스턴스를 생성 "
   ]
  },
  {
   "cell_type": "code",
   "execution_count": 54,
   "metadata": {},
   "outputs": [
    {
     "name": "stdout",
     "output_type": "stream",
     "text": [
      "AAA instance\n",
      "<__main__.AAA object at 0x00000000076DB2B0>\n"
     ]
    }
   ],
   "source": [
    "aaa = AAA()\n",
    "\n",
    "print(aaa)"
   ]
  },
  {
   "cell_type": "markdown",
   "metadata": {},
   "source": [
    "#### 클래스 내부를 확인하면 생성자가 정의되어 있다,"
   ]
  },
  {
   "cell_type": "code",
   "execution_count": 55,
   "metadata": {},
   "outputs": [
    {
     "name": "stdout",
     "output_type": "stream",
     "text": [
      "mappingproxy({'__dict__': <attribute '__dict__' of 'AAA' objects>,\n",
      "              '__doc__': None,\n",
      "              '__module__': '__main__',\n",
      "              '__new__': <staticmethod object at 0x00000000076D1518>,\n",
      "              '__weakref__': <attribute '__weakref__' of 'AAA' objects>})\n"
     ]
    }
   ],
   "source": [
    "import pprint\n",
    "\n",
    "pprint.pprint(AAA.__dict__)"
   ]
  },
  {
   "cell_type": "code",
   "execution_count": 56,
   "metadata": {},
   "outputs": [
    {
     "name": "stdout",
     "output_type": "stream",
     "text": [
      "True\n"
     ]
    }
   ],
   "source": [
    "print(isinstance(aaa, AAA))"
   ]
  },
  {
   "cell_type": "markdown",
   "metadata": {},
   "source": [
    "### 클래스 생성자에서 클래스를 리턴하는 경우"
   ]
  },
  {
   "cell_type": "code",
   "execution_count": 57,
   "metadata": {},
   "outputs": [],
   "source": [
    "class OnlyKlass:\n",
    "    def __new__(cls):\n",
    "        return cls"
   ]
  },
  {
   "cell_type": "markdown",
   "metadata": {},
   "source": [
    "#### 인스턴스 생성이 되지 않고 클래스만 리턴한다"
   ]
  },
  {
   "cell_type": "code",
   "execution_count": 58,
   "metadata": {},
   "outputs": [
    {
     "name": "stdout",
     "output_type": "stream",
     "text": [
      "<class '__main__.OnlyKlass'>\n"
     ]
    }
   ],
   "source": [
    "ok = OnlyKlass()\n",
    "\n",
    "print(ok)"
   ]
  },
  {
   "cell_type": "markdown",
   "metadata": {},
   "source": [
    "#### 인스턴스가 클래스인지 확인하기 "
   ]
  },
  {
   "cell_type": "code",
   "execution_count": 59,
   "metadata": {},
   "outputs": [
    {
     "name": "stdout",
     "output_type": "stream",
     "text": [
      "<class 'type'>\n",
      "True\n"
     ]
    }
   ],
   "source": [
    "print(type(ok))\n",
    "print(ok is OnlyKlass)"
   ]
  },
  {
   "cell_type": "markdown",
   "metadata": {},
   "source": [
    "### 클래스 생성자에서 매번 인스턴스를 만들어도 동일한 클래스만 처리 "
   ]
  },
  {
   "cell_type": "code",
   "execution_count": 64,
   "metadata": {},
   "outputs": [],
   "source": [
    "class A:\n",
    "    def __new__(cls, *args, **kwargs):\n",
    "        self = cls\n",
    "        print(\"new call \", self)\n",
    "        return self\n"
   ]
  },
  {
   "cell_type": "code",
   "execution_count": 65,
   "metadata": {},
   "outputs": [
    {
     "name": "stdout",
     "output_type": "stream",
     "text": [
      "<class '__main__.A'>\n",
      "new call  <class '__main__.A'>\n",
      "109765928 109765928\n",
      "True\n"
     ]
    }
   ],
   "source": [
    "print(A)\n",
    "a = A()\n",
    "print(id(a), id(A))\n",
    "print(a is A)"
   ]
  },
  {
   "cell_type": "code",
   "execution_count": 66,
   "metadata": {},
   "outputs": [
    {
     "name": "stdout",
     "output_type": "stream",
     "text": [
      "new call  <class '__main__.A'>\n",
      "True\n",
      "109765928 109765928\n"
     ]
    }
   ],
   "source": [
    "b = A()\n",
    "print(b is A)\n",
    "print(id(b), id(A))"
   ]
  },
  {
   "cell_type": "markdown",
   "metadata": {},
   "source": [
    "### 클래스 호출을 내부에서 처리하기"
   ]
  },
  {
   "cell_type": "markdown",
   "metadata": {},
   "source": [
    "#### 클래서 호출 연산자에 생성자와 초기화를 전부 정의해서 인스턴스를 생성하기 "
   ]
  },
  {
   "cell_type": "code",
   "execution_count": 67,
   "metadata": {},
   "outputs": [],
   "source": [
    "class MDPerson:\n",
    "    def __new__(cls, name, major):\n",
    "        return object.__new__(cls)\n",
    "    \n",
    "    def __init__(self, name, major):\n",
    "        self.name = name\n",
    "        self.major = major\n",
    "        \n",
    "    @staticmethod\n",
    "    def __call__(cls, name, major):\n",
    "        print(\"__new__\")\n",
    "        self = cls.__new__(cls, name, major)\n",
    "        print(\"__init__\")\n",
    "        self.__init__(name, major)\n",
    "        return self"
   ]
  },
  {
   "cell_type": "markdown",
   "metadata": {},
   "source": [
    "#### 클래스 내부 정보 확인하기"
   ]
  },
  {
   "cell_type": "code",
   "execution_count": 69,
   "metadata": {},
   "outputs": [
    {
     "data": {
      "text/plain": [
       "mappingproxy({'__call__': <staticmethod at 0x76d1ac8>,\n",
       "              '__dict__': <attribute '__dict__' of 'MDPerson' objects>,\n",
       "              '__doc__': None,\n",
       "              '__init__': <function __main__.MDPerson.__init__>,\n",
       "              '__module__': '__main__',\n",
       "              '__new__': <staticmethod at 0x75dfe48>,\n",
       "              '__weakref__': <attribute '__weakref__' of 'MDPerson' objects>})"
      ]
     },
     "execution_count": 69,
     "metadata": {},
     "output_type": "execute_result"
    }
   ],
   "source": [
    "MDPerson.__dict__"
   ]
  },
  {
   "cell_type": "markdown",
   "metadata": {},
   "source": [
    "#### 인스턴스 생성하기"
   ]
  },
  {
   "cell_type": "code",
   "execution_count": 68,
   "metadata": {},
   "outputs": [
    {
     "name": "stdout",
     "output_type": "stream",
     "text": [
      "<__main__.MDPerson object at 0x00000000075E70F0>\n",
      "이주원\n",
      "quant\n"
     ]
    }
   ],
   "source": [
    "mdp = MDPerson(\"이주원\", 'quant')\n",
    "\n",
    "print(mdp)\n",
    "print(mdp.name)\n",
    "print(mdp.major)"
   ]
  },
  {
   "cell_type": "markdown",
   "metadata": {},
   "source": [
    "#### 인스턴스 정보 확인하기"
   ]
  },
  {
   "cell_type": "code",
   "execution_count": 70,
   "metadata": {},
   "outputs": [
    {
     "data": {
      "text/plain": [
       "{'major': 'quant', 'name': '이주원'}"
      ]
     },
     "execution_count": 70,
     "metadata": {},
     "output_type": "execute_result"
    }
   ],
   "source": [
    "mdp.__dict__"
   ]
  },
  {
   "cell_type": "markdown",
   "metadata": {},
   "source": [
    "### 인스턴스 초기화가 하는 일 "
   ]
  },
  {
   "cell_type": "markdown",
   "metadata": {},
   "source": [
    "#### 초기화 없이 클래스를 정의하고 런타임에 인스턴스 속성 추가"
   ]
  },
  {
   "cell_type": "code",
   "execution_count": 71,
   "metadata": {},
   "outputs": [
    {
     "name": "stdout",
     "output_type": "stream",
     "text": [
      "{'length': 13, 'width': 8}\n",
      "104\n"
     ]
    }
   ],
   "source": [
    "class Rectangle:\n",
    "    def area(self):\n",
    "        return self.length * self.width\n",
    "    \n",
    "\n",
    "r = Rectangle()\n",
    "r.length, r.width = 13, 8\n",
    "print(r.__dict__)\n",
    "print(r.area())"
   ]
  },
  {
   "cell_type": "markdown",
   "metadata": {},
   "source": [
    "#### 인스턴스 초기화에 속성 처리하기"
   ]
  },
  {
   "cell_type": "code",
   "execution_count": 72,
   "metadata": {},
   "outputs": [
    {
     "name": "stdout",
     "output_type": "stream",
     "text": [
      "{'length': 13, 'width': 8}\n",
      "104\n"
     ]
    }
   ],
   "source": [
    "class Rectangle:\n",
    "    def __init__(self, length, width):\n",
    "        self.length = length\n",
    "        self.width = width\n",
    "    \n",
    "    def area(self):\n",
    "        return self.length * self.width\n",
    "    \n",
    "\n",
    "r = Rectangle(13, 8)\n",
    "\n",
    "print(r.__dict__)\n",
    "print(r.area())"
   ]
  },
  {
   "cell_type": "markdown",
   "metadata": {},
   "source": [
    "### 상속관계에서 초기화 사용하기"
   ]
  },
  {
   "cell_type": "markdown",
   "metadata": {},
   "source": [
    "#### 부모 클래스에 2개 매개변수 정의"
   ]
  },
  {
   "cell_type": "code",
   "execution_count": 91,
   "metadata": {},
   "outputs": [],
   "source": [
    "class Person:\n",
    "    def __init__(self, name, age):\n",
    "        self.name = name\n",
    "        self.age = age"
   ]
  },
  {
   "cell_type": "markdown",
   "metadata": {},
   "source": [
    "#### 자식 클래스에서 4개 매개변수 정의 "
   ]
  },
  {
   "cell_type": "code",
   "execution_count": 74,
   "metadata": {},
   "outputs": [],
   "source": [
    "class Employee(Person):\n",
    "    def __init__(self, name, age, depart, salary):\n",
    "        super().__init__(name, age)\n",
    "        self.depart = depart\n",
    "        self.salary = salary"
   ]
  },
  {
   "cell_type": "markdown",
   "metadata": {},
   "source": [
    "#### 자식 클래스에서 3개 매개변수 정의 \n",
    "\n",
    "     클래스에 있는 초기화 함수는 인스턴스 메소드이지만 클래스로 접근하면 함수이므로 인스턴스를 지정함"
   ]
  },
  {
   "cell_type": "code",
   "execution_count": 94,
   "metadata": {},
   "outputs": [],
   "source": [
    "class Employer(Person):\n",
    "    def __init__(self, name, age, salary):\n",
    "        Person.__init__(self,name, age)\n",
    "        self.salary = salary"
   ]
  },
  {
   "cell_type": "markdown",
   "metadata": {},
   "source": [
    "#### 함수를 이용해서 클래스의 인스턴스 생성"
   ]
  },
  {
   "cell_type": "code",
   "execution_count": 95,
   "metadata": {},
   "outputs": [],
   "source": [
    "def employ(name, age, *, depart=None, salary=None):\n",
    "    \n",
    "\n",
    "    if depart is None:\n",
    "        return Employer(name, age, salary=salary)\n",
    "    else:\n",
    "        if salary == None:\n",
    "            salary = 0\n",
    "    return Employee(name, age, depart=depart, salary=salary) "
   ]
  },
  {
   "cell_type": "code",
   "execution_count": 96,
   "metadata": {},
   "outputs": [
    {
     "name": "stdout",
     "output_type": "stream",
     "text": [
      "<__main__.Employee object at 0x00000000075DF160>\n",
      "<class '__main__.Employee'>\n"
     ]
    }
   ],
   "source": [
    "e = employ(\"정찬혁\", 31, depart=\"빅데이터부\", salary=30000)\n",
    "\n",
    "print(e)\n",
    "print(type(e))"
   ]
  },
  {
   "cell_type": "code",
   "execution_count": 97,
   "metadata": {},
   "outputs": [
    {
     "name": "stdout",
     "output_type": "stream",
     "text": [
      "***** \n",
      "<__main__.Employer object at 0x00000000075DF2B0>\n",
      "<class '__main__.Employer'>\n"
     ]
    }
   ],
   "source": [
    "e1 = employ(\"조현웅\",25 , salary=30000)\n",
    "\n",
    "print(e1)\n",
    "print(type(e1))"
   ]
  },
  {
   "cell_type": "markdown",
   "metadata": {},
   "source": [
    "### 초기화를 정적메소드로 처리\n",
    "\n",
    "    클래스에 초기화 메소드가 없고 정적메소드 내부에서 초기화 기능을 추가"
   ]
  },
  {
   "cell_type": "code",
   "execution_count": 98,
   "metadata": {},
   "outputs": [],
   "source": [
    "class CC:\n",
    "    \"\"\" no __init__ class \"\"\"\n",
    "    @staticmethod\n",
    "    def init(name):\n",
    "        self = CC()\n",
    "        setattr(self, \"name\", name)\n",
    "        return self"
   ]
  },
  {
   "cell_type": "code",
   "execution_count": 99,
   "metadata": {},
   "outputs": [],
   "source": [
    "c = CC.init(\"인스턴스 생성\")"
   ]
  },
  {
   "cell_type": "code",
   "execution_count": 100,
   "metadata": {},
   "outputs": [
    {
     "name": "stdout",
     "output_type": "stream",
     "text": [
      "{'name': '인스턴스 생성'}\n"
     ]
    }
   ],
   "source": [
    "print(c.__dict__)"
   ]
  },
  {
   "cell_type": "markdown",
   "metadata": {},
   "source": [
    "### 객체에 대한 변경 가능여부 확인하기 "
   ]
  },
  {
   "cell_type": "markdown",
   "metadata": {},
   "source": [
    "#### 튜플은 불변이므로 new로 생성 및 초기화"
   ]
  },
  {
   "cell_type": "code",
   "execution_count": 104,
   "metadata": {},
   "outputs": [
    {
     "name": "stdout",
     "output_type": "stream",
     "text": [
      "(1, 2)\n"
     ]
    }
   ],
   "source": [
    "x = tuple.__new__(tuple, (1, 2))\n",
    "print(x)\n"
   ]
  },
  {
   "cell_type": "code",
   "execution_count": 105,
   "metadata": {},
   "outputs": [],
   "source": [
    "try :\n",
    "    x.__init__([3, 4])\n",
    "except Exception as e :\n",
    "    print(e)"
   ]
  },
  {
   "cell_type": "code",
   "execution_count": 106,
   "metadata": {},
   "outputs": [
    {
     "data": {
      "text/plain": [
       "(1, 2)"
      ]
     },
     "execution_count": 106,
     "metadata": {},
     "output_type": "execute_result"
    }
   ],
   "source": [
    "x"
   ]
  },
  {
   "cell_type": "markdown",
   "metadata": {},
   "source": [
    "####  리스트는 가변이므로 new 생성 후 init으로 초기화 가능"
   ]
  },
  {
   "cell_type": "code",
   "execution_count": 107,
   "metadata": {},
   "outputs": [
    {
     "name": "stdout",
     "output_type": "stream",
     "text": [
      "[]\n"
     ]
    }
   ],
   "source": [
    "y = list.__new__(list)\n",
    "print(y)"
   ]
  },
  {
   "cell_type": "code",
   "execution_count": 108,
   "metadata": {},
   "outputs": [
    {
     "name": "stdout",
     "output_type": "stream",
     "text": [
      "[3, 4]\n"
     ]
    }
   ],
   "source": [
    "y.__init__([3, 4])\n",
    "print(y)"
   ]
  },
  {
   "cell_type": "markdown",
   "metadata": {},
   "source": [
    "### 소멸자 알아보기"
   ]
  },
  {
   "cell_type": "code",
   "execution_count": 110,
   "metadata": {},
   "outputs": [],
   "source": [
    "class Counter:\n",
    "    count = 0\n",
    "    \n",
    "    def __init__(self, name):\n",
    "        self.name = name\n",
    "        Counter.count = Counter.count + 1\n",
    "        \n",
    "    def __del__(self):\n",
    "        Counter.count = Counter.count - 1"
   ]
  },
  {
   "cell_type": "code",
   "execution_count": 111,
   "metadata": {},
   "outputs": [
    {
     "name": "stdout",
     "output_type": "stream",
     "text": [
      "<__main__.Counter object at 0x00000000075DFC50>\n",
      "{'name': 'First'}\n",
      "1\n"
     ]
    }
   ],
   "source": [
    "x = Counter(\"First\")\n",
    "print(x)\n",
    "print(x.__dict__)\n",
    "print(Counter.count)\n"
   ]
  },
  {
   "cell_type": "code",
   "execution_count": 112,
   "metadata": {},
   "outputs": [
    {
     "name": "stdout",
     "output_type": "stream",
     "text": [
      "<__main__.Counter object at 0x00000000075DFF60>\n",
      "{'name': 'Second'}\n",
      "2\n"
     ]
    }
   ],
   "source": [
    "y = Counter(\"Second\")\n",
    "print(y)\n",
    "print(y.__dict__)\n",
    "print(Counter.count)"
   ]
  },
  {
   "cell_type": "code",
   "execution_count": 113,
   "metadata": {},
   "outputs": [
    {
     "name": "stdout",
     "output_type": "stream",
     "text": [
      "1\n"
     ]
    }
   ],
   "source": [
    "del y\n",
    "print(Counter.count)"
   ]
  },
  {
   "cell_type": "markdown",
   "metadata": {},
   "source": [
    "### 클래스의 변경을 막기 "
   ]
  },
  {
   "cell_type": "code",
   "execution_count": 114,
   "metadata": {},
   "outputs": [],
   "source": [
    "class A:\n",
    "    __slots__ = (\"name\", )\n",
    "    def __init__(self, name):\n",
    "        self.name = name\n"
   ]
  },
  {
   "cell_type": "code",
   "execution_count": 115,
   "metadata": {},
   "outputs": [
    {
     "name": "stdout",
     "output_type": "stream",
     "text": [
      "('name',)\n",
      "<class 'tuple'>\n",
      "Dahl\n",
      "<member 'name' of 'A' objects>\n"
     ]
    }
   ],
   "source": [
    "a = A(\"Dahl\")\n",
    "print(a.__slots__)\n",
    "print(type(a.__slots__))\n",
    "print(a.name)\n",
    "print(A.__dict__['name'])"
   ]
  },
  {
   "cell_type": "code",
   "execution_count": 116,
   "metadata": {},
   "outputs": [
    {
     "name": "stdout",
     "output_type": "stream",
     "text": [
      "'A' object has no attribute 'age'\n"
     ]
    }
   ],
   "source": [
    "try :\n",
    "    a.age = 100\n",
    "    \n",
    "except Exception as e :\n",
    "    print(e)"
   ]
  },
  {
   "cell_type": "code",
   "execution_count": 117,
   "metadata": {},
   "outputs": [],
   "source": [
    "####  리스트로 정의해도 변경이 되지 않는다."
   ]
  },
  {
   "cell_type": "code",
   "execution_count": 118,
   "metadata": {},
   "outputs": [
    {
     "name": "stdout",
     "output_type": "stream",
     "text": [
      "['name', 'identifier']\n",
      "dahl\n"
     ]
    }
   ],
   "source": [
    "class MyClass:\n",
    "    __slots__ = ['name', 'identifier']\n",
    "    def __init__(self, name, identifier):\n",
    "        self.name = name\n",
    "        self.identifier = identifier\n",
    "        \n",
    "    def getName(self):\n",
    "        return self.name\n",
    "    \n",
    "    \n",
    "c = MyClass('dahl', 1)\n",
    "\n",
    "print(c.__slots__)\n",
    "print(c.name)"
   ]
  },
  {
   "cell_type": "code",
   "execution_count": 119,
   "metadata": {},
   "outputs": [
    {
     "name": "stdout",
     "output_type": "stream",
     "text": [
      "'MyClass' object has no attribute 'age'\n"
     ]
    }
   ],
   "source": [
    "try :\n",
    "    c.age = 100\n",
    "    \n",
    "except Exception as e :\n",
    "    print(e)"
   ]
  },
  {
   "cell_type": "markdown",
   "metadata": {},
   "source": [
    "###  슬롯처리할 때 네임스페이스 확인하기 "
   ]
  },
  {
   "cell_type": "code",
   "execution_count": 120,
   "metadata": {},
   "outputs": [
    {
     "name": "stdout",
     "output_type": "stream",
     "text": [
      "['name', 'identifier']\n"
     ]
    }
   ],
   "source": [
    "class MyClass:\n",
    "    __slots__ = ['name', 'identifier']\n",
    "    def __init__(self, name, identifier):\n",
    "        self.name = name\n",
    "        self.identifier = identifier\n",
    "        \n",
    "c = MyClass('dahl', 1)\n",
    "\n",
    "print(c.__slots__)\n"
   ]
  },
  {
   "cell_type": "code",
   "execution_count": 121,
   "metadata": {},
   "outputs": [
    {
     "name": "stdout",
     "output_type": "stream",
     "text": [
      "'MyClass' object has no attribute '__dict_'\n"
     ]
    }
   ],
   "source": [
    "try :\n",
    "    c.__dict_\n",
    "except Exception as e :\n",
    "    print(e)"
   ]
  },
  {
   "cell_type": "markdown",
   "metadata": {},
   "source": [
    "### 슬롯 내부에 네임스페이스 이름 정의하기 "
   ]
  },
  {
   "cell_type": "code",
   "execution_count": 122,
   "metadata": {},
   "outputs": [],
   "source": [
    "class myClass:\n",
    "    __slots__ = ('x', 'y', '__dict__')\n",
    "    \n",
    "    def __init__(self, x, y):\n",
    "        self.x = x\n",
    "        self.y = y\n",
    "        "
   ]
  },
  {
   "cell_type": "code",
   "execution_count": 123,
   "metadata": {},
   "outputs": [
    {
     "name": "stdout",
     "output_type": "stream",
     "text": [
      "{}\n",
      "('x', 'y', '__dict__')\n"
     ]
    }
   ],
   "source": [
    "instance = myClass(10, 20)\n",
    "print(instance.__dict__)\n",
    "print(instance.__slots__)"
   ]
  },
  {
   "cell_type": "code",
   "execution_count": 124,
   "metadata": {},
   "outputs": [
    {
     "name": "stdout",
     "output_type": "stream",
     "text": [
      "10\n",
      "10\n",
      "20\n"
     ]
    }
   ],
   "source": [
    "print(instance.x)\n",
    "instance.x = 10\n",
    "print(instance.x)\n",
    "print(instance.y)"
   ]
  },
  {
   "cell_type": "code",
   "execution_count": 125,
   "metadata": {},
   "outputs": [
    {
     "name": "stdout",
     "output_type": "stream",
     "text": [
      "{}\n"
     ]
    }
   ],
   "source": [
    "print(instance.__dict__)"
   ]
  },
  {
   "cell_type": "markdown",
   "metadata": {},
   "source": [
    "### 함수와 메소드 구분하기 "
   ]
  },
  {
   "cell_type": "markdown",
   "metadata": {},
   "source": [
    "#### 함수를 정의할 때 메소드 처리가 되도록 정의 "
   ]
  },
  {
   "cell_type": "code",
   "execution_count": 126,
   "metadata": {},
   "outputs": [],
   "source": [
    "def external_bar(self, lastname):\n",
    "    self.lastname = lastname\n",
    "    return self.naem + \" \" + self.lastname\n"
   ]
  },
  {
   "cell_type": "markdown",
   "metadata": {},
   "source": [
    "#### 클래스 내부에 함수 정의 "
   ]
  },
  {
   "cell_type": "code",
   "execution_count": 127,
   "metadata": {},
   "outputs": [],
   "source": [
    "class Foo():\n",
    "    def __init__(self, name=None):\n",
    "        self.name = name\n",
    "    bar = external_bar"
   ]
  },
  {
   "cell_type": "code",
   "execution_count": 128,
   "metadata": {},
   "outputs": [
    {
     "data": {
      "text/plain": [
       "mappingproxy({'__dict__': <attribute '__dict__' of 'Foo' objects>,\n",
       "              '__doc__': None,\n",
       "              '__init__': <function __main__.Foo.__init__>,\n",
       "              '__module__': '__main__',\n",
       "              '__weakref__': <attribute '__weakref__' of 'Foo' objects>,\n",
       "              'bar': <function __main__.external_bar>})"
      ]
     },
     "execution_count": 128,
     "metadata": {},
     "output_type": "execute_result"
    }
   ],
   "source": [
    "Foo.__dict__"
   ]
  },
  {
   "cell_type": "code",
   "execution_count": 129,
   "metadata": {},
   "outputs": [
    {
     "name": "stdout",
     "output_type": "stream",
     "text": [
      "<class 'function'>\n",
      "<class 'method'>\n"
     ]
    }
   ],
   "source": [
    "a = Foo()\n",
    "print(type(external_bar))\n",
    "print(type(a.bar))"
   ]
  },
  {
   "cell_type": "markdown",
   "metadata": {},
   "source": [
    "#### 메소드로 변환하면 함수는 __func__에서 들어가 있다."
   ]
  },
  {
   "cell_type": "code",
   "execution_count": 130,
   "metadata": {},
   "outputs": [
    {
     "data": {
      "text/plain": [
       "<__main__.Foo at 0x76d0400>"
      ]
     },
     "execution_count": 130,
     "metadata": {},
     "output_type": "execute_result"
    }
   ],
   "source": [
    "a.bar.__self__"
   ]
  },
  {
   "cell_type": "code",
   "execution_count": 132,
   "metadata": {},
   "outputs": [
    {
     "data": {
      "text/plain": [
       "True"
      ]
     },
     "execution_count": 132,
     "metadata": {},
     "output_type": "execute_result"
    }
   ],
   "source": [
    "a.bar.__func__ is external_bar"
   ]
  },
  {
   "cell_type": "markdown",
   "metadata": {},
   "source": [
    "### 클래스 정의된 것이 함수인지 여부를 확인"
   ]
  },
  {
   "cell_type": "code",
   "execution_count": 134,
   "metadata": {},
   "outputs": [],
   "source": [
    "class A:\n",
    "    def __init__(self, name):\n",
    "        print(\"__self__\", self.__init__.__self__)\n",
    "        self.name = name\n",
    "        print(\"local variable\", locals())\n",
    "        "
   ]
  },
  {
   "cell_type": "markdown",
   "metadata": {},
   "source": [
    "#### 초기화가 함수이므로 로컬 영역이 존재 한다."
   ]
  },
  {
   "cell_type": "code",
   "execution_count": 136,
   "metadata": {},
   "outputs": [
    {
     "name": "stdout",
     "output_type": "stream",
     "text": [
      "__self__ <__main__.A object at 0x00000000076DFEB8>\n",
      "local variable {'name': 'dahl', 'self': <__main__.A object at 0x00000000076DFEB8>}\n"
     ]
    }
   ],
   "source": [
    "a = A('dahl')"
   ]
  },
  {
   "cell_type": "code",
   "execution_count": 167,
   "metadata": {},
   "outputs": [],
   "source": [
    "# p.67"
   ]
  },
  {
   "cell_type": "code",
   "execution_count": 168,
   "metadata": {},
   "outputs": [
    {
     "name": "stdout",
     "output_type": "stream",
     "text": [
      "__self__ <__main__.A object at 0x1049b8128>\n",
      "local variable {'name': 'dahl', 'self': <__main__.A object at 0x1049b8128>}\n",
      "global variable 100\n"
     ]
    }
   ],
   "source": [
    "glo_b = 100\n",
    "\n",
    "class A:\n",
    "    def __init__(self, name):\n",
    "        print(\"__self__\", self.__init__.__self__)\n",
    "        self.name = name\n",
    "        print(\"local variable\", locals())\n",
    "        print('global variable', A.__init__.__globals__['glo_b'])\n",
    "        \n",
    "\n",
    "a = A('dahl')"
   ]
  },
  {
   "cell_type": "code",
   "execution_count": 169,
   "metadata": {},
   "outputs": [],
   "source": [
    "# p.68"
   ]
  },
  {
   "cell_type": "code",
   "execution_count": 170,
   "metadata": {},
   "outputs": [
    {
     "ename": "NameError",
     "evalue": "name 'init' is not defined",
     "output_type": "error",
     "traceback": [
      "\u001b[0;31m---------------------------------------------------------------------------\u001b[0m",
      "\u001b[0;31mNameError\u001b[0m                                 Traceback (most recent call last)",
      "\u001b[0;32m<ipython-input-170-8f087cbf389e>\u001b[0m in \u001b[0;36m<module>\u001b[0;34m()\u001b[0m\n\u001b[1;32m      8\u001b[0m \u001b[0;34m\u001b[0m\u001b[0m\n\u001b[1;32m      9\u001b[0m \u001b[0;34m\u001b[0m\u001b[0m\n\u001b[0;32m---> 10\u001b[0;31m \u001b[0mb\u001b[0m \u001b[0;34m=\u001b[0m \u001b[0mB\u001b[0m\u001b[0;34m.\u001b[0m\u001b[0minit\u001b[0m\u001b[0;34m(\u001b[0m\u001b[0;34m'name'\u001b[0m\u001b[0;34m)\u001b[0m\u001b[0;34m\u001b[0m\u001b[0m\n\u001b[0m\u001b[1;32m     11\u001b[0m \u001b[0mprint\u001b[0m\u001b[0;34m(\u001b[0m\u001b[0mb\u001b[0m\u001b[0;34m.\u001b[0m\u001b[0mname\u001b[0m\u001b[0;34m)\u001b[0m\u001b[0;34m\u001b[0m\u001b[0m\n\u001b[1;32m     12\u001b[0m \u001b[0mprint\u001b[0m\u001b[0;34m(\u001b[0m\u001b[0mdir\u001b[0m\u001b[0;34m(\u001b[0m\u001b[0mB\u001b[0m\u001b[0;34m.\u001b[0m\u001b[0minit\u001b[0m\u001b[0;34m)\u001b[0m\u001b[0;34m)\u001b[0m\u001b[0;34m\u001b[0m\u001b[0m\n",
      "\u001b[0;32m<ipython-input-170-8f087cbf389e>\u001b[0m in \u001b[0;36minit\u001b[0;34m(cls, name)\u001b[0m\n\u001b[1;32m      4\u001b[0m         \u001b[0mself\u001b[0m \u001b[0;34m=\u001b[0m \u001b[0mB\u001b[0m\u001b[0;34m(\u001b[0m\u001b[0;34m)\u001b[0m\u001b[0;34m\u001b[0m\u001b[0m\n\u001b[1;32m      5\u001b[0m         \u001b[0msetattr\u001b[0m\u001b[0;34m(\u001b[0m\u001b[0mself\u001b[0m\u001b[0;34m,\u001b[0m \u001b[0;34m\"name\"\u001b[0m\u001b[0;34m,\u001b[0m \u001b[0mname\u001b[0m\u001b[0;34m)\u001b[0m\u001b[0;34m\u001b[0m\u001b[0m\n\u001b[0;32m----> 6\u001b[0;31m         \u001b[0mprint\u001b[0m\u001b[0;34m(\u001b[0m\u001b[0;34m\"cls bound \"\u001b[0m\u001b[0;34m,\u001b[0m \u001b[0minit\u001b[0m\u001b[0;34m.\u001b[0m\u001b[0m__self__\u001b[0m\u001b[0;34m)\u001b[0m\u001b[0;34m\u001b[0m\u001b[0m\n\u001b[0m\u001b[1;32m      7\u001b[0m         \u001b[0;32mreturn\u001b[0m \u001b[0mself\u001b[0m\u001b[0;34m\u001b[0m\u001b[0m\n\u001b[1;32m      8\u001b[0m \u001b[0;34m\u001b[0m\u001b[0m\n",
      "\u001b[0;31mNameError\u001b[0m: name 'init' is not defined"
     ]
    }
   ],
   "source": [
    "class B:\n",
    "    @classmethod\n",
    "    def init(cls, name):\n",
    "        self = B()\n",
    "        setattr(self, \"name\", name)\n",
    "        print(\"cls bound \", init.__self__)\n",
    "        return self\n",
    "    \n",
    "\n",
    "b = B.init('name')\n",
    "print(b.name)\n",
    "print(dir(B.init))\n",
    "print(B.init.im_class)\n",
    "print(B.init.im_func)\n",
    "print(B.init.im_self)"
   ]
  },
  {
   "cell_type": "code",
   "execution_count": 171,
   "metadata": {},
   "outputs": [],
   "source": [
    "# p.69"
   ]
  },
  {
   "cell_type": "code",
   "execution_count": 177,
   "metadata": {},
   "outputs": [
    {
     "name": "stdout",
     "output_type": "stream",
     "text": [
      "cls bound  <class '__main__.B'>\n",
      "name\n",
      "['__call__', '__class__', '__delattr__', '__dir__', '__doc__', '__eq__', '__format__', '__func__', '__ge__', '__get__', '__getattribute__', '__gt__', '__hash__', '__init__', '__init_subclass__', '__le__', '__lt__', '__ne__', '__new__', '__reduce__', '__reduce_ex__', '__repr__', '__self__', '__setattr__', '__sizeof__', '__str__', '__subclasshook__']\n",
      "<class 'method'>\n",
      "<function B.init at 0x104b6d598>\n",
      "<class '__main__.B'>\n"
     ]
    }
   ],
   "source": [
    "class B:\n",
    "    @classmethod\n",
    "    def init(cls, name):\n",
    "        self = B()\n",
    "        setattr(self, \"name\", name)\n",
    "        print(\"cls bound \", B.init.__self__)\n",
    "        return self\n",
    "    \n",
    "\n",
    "b = B.init('name')\n",
    "print(b.name)\n",
    "print(dir(B.init))\n",
    "print(B.init.__class__)\n",
    "print(B.init.__func__)\n",
    "print(B.init.__self__)"
   ]
  },
  {
   "cell_type": "code",
   "execution_count": 178,
   "metadata": {},
   "outputs": [],
   "source": [
    "# p.70"
   ]
  },
  {
   "cell_type": "code",
   "execution_count": 179,
   "metadata": {},
   "outputs": [
    {
     "name": "stdout",
     "output_type": "stream",
     "text": [
      "{'args': ('Hello',)}\n",
      "<class 'method'>\n",
      "<class 'str'>\n",
      "('Hello',)\n",
      "{'__module__': '__main__', '__init__': <function __init__ at 0x104adea60>, 'get': <function get at 0x104adee18>, '__dict__': <attribute '__dict__' of 'Init' objects>, '__weakref__': <attribute '__weakref__' of 'Init' objects>, '__doc__': None}\n"
     ]
    }
   ],
   "source": [
    "def __init__(self, *args):\n",
    "    self.args = args[:]\n",
    "    \n",
    "def get(self, *args):\n",
    "    print(type(args[0]))\n",
    "    return self.__dict__[args[0]]\n",
    "\n",
    "class Init:\n",
    "    __init__ = __init__\n",
    "    get = get\n",
    "    \n",
    "    \n",
    "i = Init(\"Hello\")    \n",
    "print(i.__dict__)\n",
    "print(type(i.get))\n",
    "print(i.get('args'))\n",
    "print(Init.__dict__)"
   ]
  },
  {
   "cell_type": "code",
   "execution_count": null,
   "metadata": {},
   "outputs": [],
   "source": []
  }
 ],
 "metadata": {
  "kernelspec": {
   "display_name": "Python 3",
   "language": "python",
   "name": "python3"
  },
  "language_info": {
   "codemirror_mode": {
    "name": "ipython",
    "version": 3
   },
   "file_extension": ".py",
   "mimetype": "text/x-python",
   "name": "python",
   "nbconvert_exporter": "python",
   "pygments_lexer": "ipython3",
   "version": "3.6.6"
  }
 },
 "nbformat": 4,
 "nbformat_minor": 2
}
