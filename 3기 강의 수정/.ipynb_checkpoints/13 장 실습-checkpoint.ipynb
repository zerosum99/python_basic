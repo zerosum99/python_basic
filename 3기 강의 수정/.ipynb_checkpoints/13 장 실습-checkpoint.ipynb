{
 "cells": [
  {
   "cell_type": "markdown",
   "metadata": {},
   "source": [
    "## 파이썬 완정정복 반보형과 반복자\n"
   ]
  },
  {
   "cell_type": "code",
   "execution_count": 1,
   "metadata": {},
   "outputs": [],
   "source": [
    "import sys"
   ]
  },
  {
   "cell_type": "code",
   "execution_count": 2,
   "metadata": {},
   "outputs": [
    {
     "data": {
      "text/plain": [
       "sys.version_info(major=3, minor=6, micro=6, releaselevel='final', serial=0)"
      ]
     },
     "execution_count": 2,
     "metadata": {},
     "output_type": "execute_result"
    }
   ],
   "source": [
    "sys.version_info"
   ]
  },
  {
   "cell_type": "markdown",
   "metadata": {},
   "source": [
    "### 반복자 언패킹 처리 "
   ]
  },
  {
   "cell_type": "code",
   "execution_count": 3,
   "metadata": {},
   "outputs": [],
   "source": [
    "l = [1,2,3,4]"
   ]
  },
  {
   "cell_type": "code",
   "execution_count": 4,
   "metadata": {},
   "outputs": [],
   "source": [
    "m = map(lambda x : x**2, l)"
   ]
  },
  {
   "cell_type": "code",
   "execution_count": 5,
   "metadata": {},
   "outputs": [
    {
     "name": "stdout",
     "output_type": "stream",
     "text": [
      "<class 'map'>\n"
     ]
    }
   ],
   "source": [
    "print(type(m))"
   ]
  },
  {
   "cell_type": "code",
   "execution_count": 6,
   "metadata": {},
   "outputs": [],
   "source": [
    "f = filter(lambda x : x> 3, l)"
   ]
  },
  {
   "cell_type": "code",
   "execution_count": 7,
   "metadata": {},
   "outputs": [
    {
     "name": "stdout",
     "output_type": "stream",
     "text": [
      "<class 'filter'>\n"
     ]
    }
   ],
   "source": [
    "print(type(f))"
   ]
  },
  {
   "cell_type": "markdown",
   "metadata": {},
   "source": [
    "#### 상속관계를 확인하면 반복형이면서 반복자이다"
   ]
  },
  {
   "cell_type": "code",
   "execution_count": 8,
   "metadata": {},
   "outputs": [],
   "source": [
    "import collections.abc as abc"
   ]
  },
  {
   "cell_type": "code",
   "execution_count": 9,
   "metadata": {},
   "outputs": [
    {
     "data": {
      "text/plain": [
       "True"
      ]
     },
     "execution_count": 9,
     "metadata": {},
     "output_type": "execute_result"
    }
   ],
   "source": [
    "issubclass(type(m), abc.Iterator)"
   ]
  },
  {
   "cell_type": "code",
   "execution_count": 10,
   "metadata": {},
   "outputs": [
    {
     "data": {
      "text/plain": [
       "True"
      ]
     },
     "execution_count": 10,
     "metadata": {},
     "output_type": "execute_result"
    }
   ],
   "source": [
    "issubclass(type(m), abc.Iterable)"
   ]
  },
  {
   "cell_type": "code",
   "execution_count": 11,
   "metadata": {},
   "outputs": [
    {
     "data": {
      "text/plain": [
       "True"
      ]
     },
     "execution_count": 11,
     "metadata": {},
     "output_type": "execute_result"
    }
   ],
   "source": [
    "issubclass(type(f), abc.Iterator)"
   ]
  },
  {
   "cell_type": "code",
   "execution_count": 12,
   "metadata": {},
   "outputs": [
    {
     "data": {
      "text/plain": [
       "True"
      ]
     },
     "execution_count": 12,
     "metadata": {},
     "output_type": "execute_result"
    }
   ],
   "source": [
    "issubclass(type(f), abc.Iterable)"
   ]
  },
  {
   "cell_type": "markdown",
   "metadata": {},
   "source": [
    "### map/filter 리스트 리터럴 내부에서  실행 기준"
   ]
  },
  {
   "cell_type": "markdown",
   "metadata": {},
   "source": [
    "#### *표를 붙이면 반복자가 실행된다"
   ]
  },
  {
   "cell_type": "code",
   "execution_count": 13,
   "metadata": {},
   "outputs": [
    {
     "data": {
      "text/plain": [
       "[1, 4, 9, 16]"
      ]
     },
     "execution_count": 13,
     "metadata": {},
     "output_type": "execute_result"
    }
   ],
   "source": [
    "[*map(lambda x : x**2, l)]"
   ]
  },
  {
   "cell_type": "code",
   "execution_count": 14,
   "metadata": {},
   "outputs": [
    {
     "data": {
      "text/plain": [
       "[3, 4]"
      ]
     },
     "execution_count": 14,
     "metadata": {},
     "output_type": "execute_result"
    }
   ],
   "source": [
    "[*filter(lambda x : x>2, l)]"
   ]
  },
  {
   "cell_type": "markdown",
   "metadata": {},
   "source": [
    "#### 실제 별표를 붙이지 않으면 객체만 만들어진다"
   ]
  },
  {
   "cell_type": "code",
   "execution_count": 15,
   "metadata": {},
   "outputs": [
    {
     "data": {
      "text/plain": [
       "[<map at 0x6383710>]"
      ]
     },
     "execution_count": 15,
     "metadata": {},
     "output_type": "execute_result"
    }
   ],
   "source": [
    "[map(lambda x : x**2, l)]"
   ]
  },
  {
   "cell_type": "code",
   "execution_count": 16,
   "metadata": {},
   "outputs": [
    {
     "data": {
      "text/plain": [
       "[<filter at 0x63838d0>]"
      ]
     },
     "execution_count": 16,
     "metadata": {},
     "output_type": "execute_result"
    }
   ],
   "source": [
    "[filter(lambda x : x>2, l)]"
   ]
  },
  {
   "cell_type": "markdown",
   "metadata": {},
   "source": [
    "### 반복형 추상 클래스 확인 "
   ]
  },
  {
   "cell_type": "code",
   "execution_count": 17,
   "metadata": {},
   "outputs": [
    {
     "name": "stdout",
     "output_type": "stream",
     "text": [
      "mappingproxy({'__abstractmethods__': frozenset({'__iter__'}),\n",
      "              '__doc__': None,\n",
      "              '__iter__': <function Iterable.__iter__ at 0x0000000002811F28>,\n",
      "              '__module__': 'collections.abc',\n",
      "              '__slots__': (),\n",
      "              '__subclasshook__': <classmethod object at 0x000000000249FB70>,\n",
      "              '_abc_cache': <_weakrefset.WeakSet object at 0x000000000249FBE0>,\n",
      "              '_abc_negative_cache': <_weakrefset.WeakSet object at 0x00000000063833C8>,\n",
      "              '_abc_negative_cache_version': 51,\n",
      "              '_abc_registry': <_weakrefset.WeakSet object at 0x000000000249FBA8>})\n"
     ]
    }
   ],
   "source": [
    "import collections.abc as cols\n",
    "import pprint\n",
    "\n",
    "pprint.pprint(cols.Iterable.__dict__)"
   ]
  },
  {
   "cell_type": "markdown",
   "metadata": {},
   "source": [
    "### 반복자 추상클래스 확인 "
   ]
  },
  {
   "cell_type": "code",
   "execution_count": 18,
   "metadata": {},
   "outputs": [
    {
     "name": "stdout",
     "output_type": "stream",
     "text": [
      "mappingproxy({'__abstractmethods__': frozenset({'__next__'}),\n",
      "              '__doc__': None,\n",
      "              '__iter__': <function Iterator.__iter__ at 0x00000000028162F0>,\n",
      "              '__module__': 'collections.abc',\n",
      "              '__next__': <function Iterator.__next__ at 0x0000000002816268>,\n",
      "              '__slots__': (),\n",
      "              '__subclasshook__': <classmethod object at 0x000000000249FD30>,\n",
      "              '_abc_cache': <_weakrefset.WeakSet object at 0x000000000249FDA0>,\n",
      "              '_abc_negative_cache': <_weakrefset.WeakSet object at 0x0000000006383390>,\n",
      "              '_abc_negative_cache_version': 51,\n",
      "              '_abc_registry': <_weakrefset.WeakSet object at 0x000000000249FD68>})\n"
     ]
    }
   ],
   "source": [
    "import collections.abc as cols\n",
    "import pprint\n",
    "\n",
    "pprint.pprint(cols.Iterator.__dict__)"
   ]
  },
  {
   "cell_type": "markdown",
   "metadata": {},
   "source": [
    "### 반복형과 반복자 메소드 차이 확인 "
   ]
  },
  {
   "cell_type": "code",
   "execution_count": 19,
   "metadata": {},
   "outputs": [
    {
     "name": "stdout",
     "output_type": "stream",
     "text": [
      "{'__next__'}\n"
     ]
    }
   ],
   "source": [
    "import collections.abc as cols\n",
    "\n",
    "able = set(dir(cols.Iterable))\n",
    "ator = set(dir(cols.Iterator))\n",
    "\n",
    "print(ator - able)"
   ]
  },
  {
   "cell_type": "markdown",
   "metadata": {},
   "source": [
    "#### 문자열이 반복형과 반복자인지 구분"
   ]
  },
  {
   "cell_type": "code",
   "execution_count": 20,
   "metadata": {},
   "outputs": [
    {
     "name": "stdout",
     "output_type": "stream",
     "text": [
      "True\n",
      "False\n"
     ]
    }
   ],
   "source": [
    "import collections.abc as cols\n",
    "\n",
    "s = \"Iterator\"\n",
    "\n",
    "print(isinstance(s, cols.Iterable))\n",
    "print(isinstance(s, cols.Iterator))"
   ]
  },
  {
   "cell_type": "code",
   "execution_count": 21,
   "metadata": {},
   "outputs": [
    {
     "name": "stdout",
     "output_type": "stream",
     "text": [
      "<slot wrapper '__iter__' of 'str' objects>\n"
     ]
    }
   ],
   "source": [
    "print(str.__dict__['__iter__'])\n"
   ]
  },
  {
   "cell_type": "code",
   "execution_count": 22,
   "metadata": {},
   "outputs": [
    {
     "name": "stdout",
     "output_type": "stream",
     "text": [
      "'__next__'\n"
     ]
    }
   ],
   "source": [
    "try :\n",
    "    print(str.__dict__['__next__'])\n",
    "except Exception as e :\n",
    "    print(e)"
   ]
  },
  {
   "cell_type": "markdown",
   "metadata": {},
   "source": [
    "### 내장 자료형을 반복자로 처리해보기"
   ]
  },
  {
   "cell_type": "markdown",
   "metadata": {},
   "source": [
    "#### 문자열을 반복자로 변환하기 "
   ]
  },
  {
   "cell_type": "code",
   "execution_count": 23,
   "metadata": {},
   "outputs": [],
   "source": [
    "import collections.abc as cols\n",
    "\n",
    "s = \"Hello\"\n",
    "\n",
    "siter = iter(s)"
   ]
  },
  {
   "cell_type": "code",
   "execution_count": 24,
   "metadata": {},
   "outputs": [
    {
     "data": {
      "text/plain": [
       "<str_iterator at 0x638da58>"
      ]
     },
     "execution_count": 24,
     "metadata": {},
     "output_type": "execute_result"
    }
   ],
   "source": [
    "siter"
   ]
  },
  {
   "cell_type": "code",
   "execution_count": 25,
   "metadata": {},
   "outputs": [
    {
     "name": "stdout",
     "output_type": "stream",
     "text": [
      "H\n",
      "e\n",
      "l\n",
      "l\n",
      "o\n",
      "None\n"
     ]
    }
   ],
   "source": [
    "print(next(siter))\n",
    "print(next(siter))\n",
    "print(next(siter))\n",
    "print(next(siter))\n",
    "print(next(siter))\n",
    "\n",
    "print(next(siter, None))"
   ]
  },
  {
   "cell_type": "markdown",
   "metadata": {},
   "source": [
    "#### 리스트를 반복자로 전환하기"
   ]
  },
  {
   "cell_type": "code",
   "execution_count": 26,
   "metadata": {},
   "outputs": [
    {
     "name": "stdout",
     "output_type": "stream",
     "text": [
      "<list_iterator object at 0x0000000006396198>\n",
      "<class 'list_iterator'>\n"
     ]
    }
   ],
   "source": [
    "l = [1, 2, 3, 4]\n",
    "\n",
    "lator = iter(l)\n",
    "\n",
    "print(lator)\n",
    "print(type(lator))"
   ]
  },
  {
   "cell_type": "markdown",
   "metadata": {},
   "source": [
    "#### 튜플을 반복자로 처리하기"
   ]
  },
  {
   "cell_type": "code",
   "execution_count": 27,
   "metadata": {},
   "outputs": [
    {
     "name": "stdout",
     "output_type": "stream",
     "text": [
      "<tuple_iterator object at 0x0000000006396208>\n",
      "<class 'tuple_iterator'>\n"
     ]
    }
   ],
   "source": [
    "t = (1, 2, 3, 4)\n",
    "\n",
    "tator = iter(t)\n",
    "\n",
    "print(tator)\n",
    "print(type(tator))"
   ]
  },
  {
   "cell_type": "markdown",
   "metadata": {},
   "source": [
    "#### 딕셔너리를 반복자로 변환 "
   ]
  },
  {
   "cell_type": "code",
   "execution_count": 28,
   "metadata": {},
   "outputs": [
    {
     "name": "stdout",
     "output_type": "stream",
     "text": [
      "<dict_keyiterator object at 0x000000000638EC78>\n",
      "<class 'dict_keyiterator'>\n"
     ]
    }
   ],
   "source": [
    "d = {'a': 1}\n",
    "dator = iter(d)\n",
    "\n",
    "print(dator)\n",
    "print(type(dator))"
   ]
  },
  {
   "cell_type": "markdown",
   "metadata": {},
   "source": [
    "#### 집합을 반복자로 변환"
   ]
  },
  {
   "cell_type": "code",
   "execution_count": 29,
   "metadata": {},
   "outputs": [
    {
     "name": "stdout",
     "output_type": "stream",
     "text": [
      "<set_iterator object at 0x0000000006391EE8>\n",
      "<class 'set_iterator'>\n"
     ]
    }
   ],
   "source": [
    "s = {1, 2, 3}\n",
    "\n",
    "sator = iter(s)\n",
    "\n",
    "print(sator)\n",
    "print(type(sator))"
   ]
  },
  {
   "cell_type": "markdown",
   "metadata": {},
   "source": [
    "### 사용자 정의 반복자 만들기 "
   ]
  },
  {
   "cell_type": "code",
   "execution_count": 30,
   "metadata": {},
   "outputs": [],
   "source": [
    "import collections.abc as cabc\n",
    "import abc\n",
    "\n",
    "\n",
    "class Iterator(cabc.Iterable):\n",
    "    __slots__ = ()\n",
    "    \n",
    "    @abc.abstractmethod\n",
    "    def __next__(self):\n",
    "        \"Return the next item from the iterator. When exhausted, raise StopIteration\"\n",
    "        raise StopIteration\n",
    "\n",
    "    def __iter__(self):\n",
    "        return self\n",
    "    \n",
    "    @classmethod\n",
    "    def __subclasshook__(cls, C):\n",
    "        if cls is Iterator:\n",
    "            if (any(\"__next__\" is B.__dict__ for B in C.__mro__) and\n",
    "               any(\"__iter__\" is B.__dict__ for B in C.__mro__)):\n",
    "                return True\n",
    "        return NotImplemented"
   ]
  },
  {
   "cell_type": "markdown",
   "metadata": {},
   "source": [
    "#### 리스트를 이용해서 반복자 확인하기 "
   ]
  },
  {
   "cell_type": "code",
   "execution_count": 31,
   "metadata": {},
   "outputs": [
    {
     "name": "stdout",
     "output_type": "stream",
     "text": [
      "True\n",
      "False\n",
      "<class 'list'>\n",
      "<class 'list_iterator'>\n"
     ]
    }
   ],
   "source": [
    "import collections.abc as abc\n",
    "\n",
    "\n",
    "x =  [1, 2, 3, 4]\n",
    "print(issubclass(type(x), abc.Iterable))\n",
    "print(issubclass(type(x), abc.Iterator))\n",
    "print(type(x))\n",
    "\n",
    "xi = iter(x)\n",
    "print(type(xi))"
   ]
  },
  {
   "cell_type": "markdown",
   "metadata": {},
   "source": [
    "####  리스트에는 반복자 메소드가 존재하지 않는다"
   ]
  },
  {
   "cell_type": "code",
   "execution_count": 32,
   "metadata": {},
   "outputs": [
    {
     "name": "stdout",
     "output_type": "stream",
     "text": [
      "'iter'\n"
     ]
    }
   ],
   "source": [
    "try :\n",
    "    list.__dict__['iter']\n",
    "except Exception as e :\n",
    "    print(e)"
   ]
  },
  {
   "cell_type": "markdown",
   "metadata": {},
   "source": [
    "#### 사용자 반복자를 이용할 경우 상속관계가 없음"
   ]
  },
  {
   "cell_type": "code",
   "execution_count": 33,
   "metadata": {},
   "outputs": [
    {
     "name": "stdout",
     "output_type": "stream",
     "text": [
      "False\n"
     ]
    }
   ],
   "source": [
    "print(issubclass(type(x), Iterator))"
   ]
  },
  {
   "cell_type": "code",
   "execution_count": 34,
   "metadata": {},
   "outputs": [
    {
     "name": "stdout",
     "output_type": "stream",
     "text": [
      "False\n"
     ]
    }
   ],
   "source": [
    "print(issubclass(type(iter(x)), Iterator))"
   ]
  },
  {
   "cell_type": "markdown",
   "metadata": {},
   "source": [
    "#### 사용자 정의한 클래스를 만들고 처리 \n"
   ]
  },
  {
   "cell_type": "code",
   "execution_count": 35,
   "metadata": {},
   "outputs": [],
   "source": [
    "class ITOR(Iterator) :\n",
    "    def __iter__(self) :\n",
    "        pass\n",
    "    def __next__(self) :\n",
    "        pass"
   ]
  },
  {
   "cell_type": "code",
   "execution_count": 36,
   "metadata": {},
   "outputs": [
    {
     "name": "stdout",
     "output_type": "stream",
     "text": [
      "True\n"
     ]
    }
   ],
   "source": [
    "print(issubclass(ITOR, Iterator))"
   ]
  },
  {
   "cell_type": "markdown",
   "metadata": {},
   "source": [
    "### 반복형 확인  : iter"
   ]
  },
  {
   "cell_type": "code",
   "execution_count": 37,
   "metadata": {},
   "outputs": [
    {
     "name": "stdout",
     "output_type": "stream",
     "text": [
      "True\n",
      "True\n"
     ]
    }
   ],
   "source": [
    "from collections import abc\n",
    "\n",
    "class Foo:\n",
    "    def __iter__(self):\n",
    "        pass\n",
    "    \n",
    "    \n",
    "print(issubclass(Foo, abc.Iterable))    \n",
    "f = Foo()\n",
    "print(isinstance(f, abc.Iterable))"
   ]
  },
  {
   "cell_type": "markdown",
   "metadata": {},
   "source": [
    "### 반복형 확인 : getitem"
   ]
  },
  {
   "cell_type": "code",
   "execution_count": 38,
   "metadata": {},
   "outputs": [
    {
     "name": "stdout",
     "output_type": "stream",
     "text": [
      "False\n",
      "False\n",
      "True\n"
     ]
    }
   ],
   "source": [
    "from collections import abc\n",
    "\n",
    "class Foo:\n",
    "    def __getitem__(self, index):\n",
    "        pass\n",
    "    \n",
    "    \n",
    "print(issubclass(Foo, abc.Iterable))    \n",
    "f = Foo()\n",
    "print(isinstance(f, abc.Iterable))\n",
    "\n",
    "sf = iter(f)\n",
    "\n",
    "print(isinstance(sf, abc.Iterable))"
   ]
  },
  {
   "cell_type": "markdown",
   "metadata": {},
   "source": [
    "### 반복형 함수 알아보기"
   ]
  },
  {
   "cell_type": "code",
   "execution_count": 39,
   "metadata": {},
   "outputs": [
    {
     "name": "stdout",
     "output_type": "stream",
     "text": [
      "Help on built-in function iter in module builtins:\n",
      "\n",
      "iter(...)\n",
      "    iter(iterable) -> iterator\n",
      "    iter(callable, sentinel) -> iterator\n",
      "    \n",
      "    Get an iterator from an object.  In the first form, the argument must\n",
      "    supply its own iterator, or be a sequence.\n",
      "    In the second form, the callable is called until it returns the sentinel.\n",
      "\n"
     ]
    }
   ],
   "source": [
    "help(iter)"
   ]
  },
  {
   "cell_type": "code",
   "execution_count": 40,
   "metadata": {},
   "outputs": [
    {
     "name": "stdout",
     "output_type": "stream",
     "text": [
      "Help on built-in function next in module builtins:\n",
      "\n",
      "next(...)\n",
      "    next(iterator[, default])\n",
      "    \n",
      "    Return the next item from the iterator. If default is given and the iterator\n",
      "    is exhausted, it is returned instead of raising StopIteration.\n",
      "\n"
     ]
    }
   ],
   "source": [
    "help(next)"
   ]
  },
  {
   "cell_type": "code",
   "execution_count": 41,
   "metadata": {},
   "outputs": [
    {
     "name": "stdout",
     "output_type": "stream",
     "text": [
      "1\n",
      "2\n",
      "None\n"
     ]
    }
   ],
   "source": [
    "x = 0\n",
    "xc = lambda : x+1\n",
    "xx = iter(xc, 3)\n",
    "print(next(xx))\n",
    "x += 1\n",
    "print(next(xx))\n",
    "x += 1\n",
    "print(next(xx, None))\n",
    "x += 1"
   ]
  },
  {
   "cell_type": "markdown",
   "metadata": {},
   "source": [
    "### 반복형 문장 클래스를 만들기 "
   ]
  },
  {
   "cell_type": "code",
   "execution_count": 42,
   "metadata": {},
   "outputs": [],
   "source": [
    "import re\n",
    "import reprlib\n",
    "\n",
    "RE_WORD = re.compile('\\w+')\n",
    "\n",
    "class Sentence():\n",
    "    def __init__(self, text):\n",
    "        self.text = text\n",
    "        self.words = RE_WORD.findall(text)\n",
    "        \n",
    "    def __getitem__(self, index):\n",
    "        return self.words[index]\n",
    "    \n",
    "    def __len__(self):\n",
    "        return len(self.words)\n",
    "    \n",
    "    def __repr__(self):\n",
    "        return \"Sentence(%s)\" %reprlib.repr(self.text)\n",
    "    "
   ]
  },
  {
   "cell_type": "code",
   "execution_count": 43,
   "metadata": {},
   "outputs": [
    {
     "name": "stdout",
     "output_type": "stream",
     "text": [
      "['__class__', '__delattr__', '__dict__', '__dir__', '__doc__', '__eq__', '__format__', '__ge__', '__getattribute__', '__getitem__', '__gt__', '__hash__', '__init__', '__init_subclass__', '__le__', '__len__', '__lt__', '__module__', '__ne__', '__new__', '__reduce__', '__reduce_ex__', '__repr__', '__setattr__', '__sizeof__', '__str__', '__subclasshook__', '__weakref__']\n"
     ]
    }
   ],
   "source": [
    "print(dir(Sentence))"
   ]
  },
  {
   "cell_type": "code",
   "execution_count": 44,
   "metadata": {},
   "outputs": [
    {
     "name": "stdout",
     "output_type": "stream",
     "text": [
      "['Pig', 'and', 'Pepper']\n"
     ]
    }
   ],
   "source": [
    "\n",
    "s3 = Sentence(\"Pig and Pepper\")\n",
    "print(s3.words)"
   ]
  },
  {
   "cell_type": "markdown",
   "metadata": {},
   "source": [
    "#### 반복자로 처리 하기"
   ]
  },
  {
   "cell_type": "code",
   "execution_count": 45,
   "metadata": {},
   "outputs": [
    {
     "name": "stdout",
     "output_type": "stream",
     "text": [
      "['__class__', '__delattr__', '__dir__', '__doc__', '__eq__', '__format__', '__ge__', '__getattribute__', '__gt__', '__hash__', '__init__', '__init_subclass__', '__iter__', '__le__', '__length_hint__', '__lt__', '__ne__', '__new__', '__next__', '__reduce__', '__reduce_ex__', '__repr__', '__setattr__', '__setstate__', '__sizeof__', '__str__', '__subclasshook__']\n",
      "Pig\n",
      "and\n",
      "Pepper\n",
      "None\n"
     ]
    }
   ],
   "source": [
    "s4 = Sentence(\"Pig and Pepper\")\n",
    "it = iter(s4)\n",
    "print(dir(it))\n",
    "print(next(it))\n",
    "print(next(it))\n",
    "print(next(it))\n",
    "print(next(it,None))"
   ]
  },
  {
   "cell_type": "markdown",
   "metadata": {},
   "source": [
    "#### 반복자 만들기 "
   ]
  },
  {
   "cell_type": "code",
   "execution_count": 46,
   "metadata": {},
   "outputs": [],
   "source": [
    "import collections.abc as cols\n",
    "\n",
    "\n",
    "class SeqIterator:\n",
    "    def __init__(self, seq):\n",
    "        self.seq = seq\n",
    "        \n",
    "    def __iter__(self):\n",
    "        self.n = 0\n",
    "        return self\n",
    "    \n",
    "    def __next__(self):\n",
    "        if self.n < len(self.seq):\n",
    "            result = self.seq[self.n]\n",
    "            self.n += 1\n",
    "            return result\n",
    "        else:\n",
    "            raise StopIteration"
   ]
  },
  {
   "cell_type": "markdown",
   "metadata": {},
   "source": [
    "#### 반복자 생성해서 처리하기"
   ]
  },
  {
   "cell_type": "code",
   "execution_count": 47,
   "metadata": {},
   "outputs": [
    {
     "name": "stdout",
     "output_type": "stream",
     "text": [
      "<__main__.SeqIterator object at 0x00000000063B6828>\n",
      "True\n"
     ]
    }
   ],
   "source": [
    "s = SeqIterator(\"반복자처리\")\n",
    "siter = iter(s)\n",
    "\n",
    "print(siter)\n",
    "print(issubclass(type(siter), cols.Iterator))"
   ]
  },
  {
   "cell_type": "code",
   "execution_count": 48,
   "metadata": {},
   "outputs": [
    {
     "name": "stdout",
     "output_type": "stream",
     "text": [
      "반\n",
      "복\n",
      "자\n",
      "처\n",
      "리\n"
     ]
    }
   ],
   "source": [
    "for i in siter:\n",
    "    print(i)"
   ]
  },
  {
   "cell_type": "markdown",
   "metadata": {},
   "source": [
    "#### 관계 확인하기"
   ]
  },
  {
   "cell_type": "code",
   "execution_count": 49,
   "metadata": {},
   "outputs": [
    {
     "name": "stdout",
     "output_type": "stream",
     "text": [
      "<__main__.SeqIterator object at 0x00000000063AFD68>\n",
      "True\n"
     ]
    }
   ],
   "source": [
    "s = SeqIterator(\"반복자처리\")\n",
    "siter = iter(s)\n",
    "\n",
    "print(siter)\n",
    "print(issubclass(type(siter), cols.Iterator))\n"
   ]
  },
  {
   "cell_type": "code",
   "execution_count": 50,
   "metadata": {},
   "outputs": [
    {
     "name": "stdout",
     "output_type": "stream",
     "text": [
      "반\n",
      "복\n",
      "자\n",
      "처\n",
      "리\n",
      "None\n"
     ]
    }
   ],
   "source": [
    "print(next(siter, None))\n",
    "print(next(siter, None))\n",
    "print(next(siter, None))\n",
    "print(next(siter, None))\n",
    "print(next(siter, None))\n",
    "print(next(siter, None))"
   ]
  },
  {
   "cell_type": "markdown",
   "metadata": {},
   "source": [
    "### 반복자에 대한 모듈 알아보기"
   ]
  },
  {
   "cell_type": "code",
   "execution_count": 51,
   "metadata": {},
   "outputs": [
    {
     "name": "stdout",
     "output_type": "stream",
     "text": [
      "accumulate\n",
      "chain\n",
      "combinations\n",
      "combinations_with_replacement\n",
      "compress\n",
      "count\n",
      "cycle\n",
      "dropwhile\n",
      "filterfalse\n",
      "groupby\n",
      "islice\n",
      "permutations\n",
      "product\n",
      "repeat\n",
      "starmap\n",
      "takewhile\n",
      "tee\n",
      "zip_longest\n"
     ]
    }
   ],
   "source": [
    "import itertools as it\n",
    "\n",
    "\n",
    "for i in dir(it):\n",
    "    if not i.startswith(\"_\"):\n",
    "        print(i)"
   ]
  },
  {
   "cell_type": "markdown",
   "metadata": {},
   "source": [
    "#### 반복자 관계 확인하기 "
   ]
  },
  {
   "cell_type": "code",
   "execution_count": 52,
   "metadata": {},
   "outputs": [
    {
     "name": "stdout",
     "output_type": "stream",
     "text": [
      "<class 'itertools.accumulate'>\n",
      "True\n",
      "[0, 1, 3, 6, 10]\n"
     ]
    }
   ],
   "source": [
    "import itertools as it\n",
    "import collections.abc as cols\n",
    "import operator as op\n",
    "\n",
    "\n",
    "print(it.accumulate)\n",
    "print(issubclass(it.accumulate, cols.Iterator))\n",
    "\n",
    "a = it.accumulate([x for x in range(5)])\n",
    "print(list(a))"
   ]
  },
  {
   "cell_type": "markdown",
   "metadata": {},
   "source": [
    "#### 체인 함수 사용하기"
   ]
  },
  {
   "cell_type": "code",
   "execution_count": 53,
   "metadata": {},
   "outputs": [
    {
     "name": "stdout",
     "output_type": "stream",
     "text": [
      "A B C D E F \n",
      "A B C D E f "
     ]
    }
   ],
   "source": [
    "import itertools\n",
    "\n",
    "gen = itertools.chain('ABC', 'DEF')\n",
    "for i in gen:\n",
    "    print(i, end=\" \")\n",
    "    \n",
    "print()\n",
    "\n",
    "gen1 = itertools.chain.from_iterable(['ABC', 'DEf'])\n",
    "for i in gen1:\n",
    "    print(i, end=\" \")"
   ]
  },
  {
   "cell_type": "markdown",
   "metadata": {},
   "source": [
    "#### 퍼뮤테이션 함수 생성하기 "
   ]
  },
  {
   "cell_type": "code",
   "execution_count": 54,
   "metadata": {},
   "outputs": [
    {
     "name": "stdout",
     "output_type": "stream",
     "text": [
      "(1, 2)\n",
      "(1, 3)\n",
      "(2, 1)\n",
      "(2, 3)\n",
      "(3, 1)\n",
      "(3, 2)\n",
      "None\n"
     ]
    }
   ],
   "source": [
    "import itertools\n",
    "\n",
    "gen = itertools.permutations([1, 2, 3], 2)\n",
    "print(next(gen))\n",
    "print(next(gen))\n",
    "print(next(gen))\n",
    "print(next(gen))\n",
    "print(next(gen))\n",
    "print(next(gen))\n",
    "print(next(gen,None))"
   ]
  },
  {
   "cell_type": "markdown",
   "metadata": {},
   "source": [
    "#### 순서쌍을 만들기 "
   ]
  },
  {
   "cell_type": "code",
   "execution_count": 55,
   "metadata": {},
   "outputs": [
    {
     "name": "stdout",
     "output_type": "stream",
     "text": [
      "(1, 1)\n",
      "(1, 2)\n",
      "(1, 3)\n",
      "(2, 1)\n",
      "(2, 2)\n",
      "(2, 3)\n",
      "(3, 1)\n",
      "(3, 2)\n",
      "(3, 3)\n"
     ]
    }
   ],
   "source": [
    "import itertools\n",
    "\n",
    "gen = itertools.product([1, 2, 3], [1, 2, 3])\n",
    "\n",
    "for i in gen:\n",
    "    print(i)"
   ]
  },
  {
   "cell_type": "markdown",
   "metadata": {},
   "source": [
    "#### 조합을 만들기"
   ]
  },
  {
   "cell_type": "code",
   "execution_count": 56,
   "metadata": {},
   "outputs": [
    {
     "name": "stdout",
     "output_type": "stream",
     "text": [
      "(1, 2)\n",
      "(1, 3)\n",
      "(2, 3)\n",
      "None\n"
     ]
    }
   ],
   "source": [
    "import itertools\n",
    "\n",
    "gen = itertools.combinations([1, 2, 3], 2)\n",
    "print(next(gen))\n",
    "print(next(gen))\n",
    "print(next(gen))\n",
    "print(next(gen, None))"
   ]
  },
  {
   "cell_type": "code",
   "execution_count": null,
   "metadata": {},
   "outputs": [],
   "source": []
  }
 ],
 "metadata": {
  "kernelspec": {
   "display_name": "Python 3",
   "language": "python",
   "name": "python3"
  },
  "language_info": {
   "codemirror_mode": {
    "name": "ipython",
    "version": 3
   },
   "file_extension": ".py",
   "mimetype": "text/x-python",
   "name": "python",
   "nbconvert_exporter": "python",
   "pygments_lexer": "ipython3",
   "version": "3.6.6"
  }
 },
 "nbformat": 4,
 "nbformat_minor": 2
}
