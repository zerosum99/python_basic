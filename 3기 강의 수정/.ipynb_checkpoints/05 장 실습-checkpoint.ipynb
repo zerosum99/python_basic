{
 "cells": [
  {
   "cell_type": "markdown",
   "metadata": {},
   "source": [
    "## 파이썬 완정정복 클래스 내부 메소드 생성 규칙 및 정보은닉 처리 알아보기\n"
   ]
  },
  {
   "cell_type": "code",
   "execution_count": 1,
   "metadata": {},
   "outputs": [],
   "source": [
    "import sys"
   ]
  },
  {
   "cell_type": "code",
   "execution_count": 2,
   "metadata": {},
   "outputs": [
    {
     "data": {
      "text/plain": [
       "sys.version_info(major=3, minor=6, micro=6, releaselevel='final', serial=0)"
      ]
     },
     "execution_count": 2,
     "metadata": {},
     "output_type": "execute_result"
    }
   ],
   "source": [
    "sys.version_info"
   ]
  },
  {
   "cell_type": "markdown",
   "metadata": {},
   "source": [
    "### 클래스 네임스페이스 알아보기"
   ]
  },
  {
   "cell_type": "code",
   "execution_count": 3,
   "metadata": {},
   "outputs": [
    {
     "name": "stdout",
     "output_type": "stream",
     "text": [
      "{'__weakref__', '__dict__', 'getPerson', '__module__'}\n",
      "{'__doc__', '__init__'}\n"
     ]
    }
   ],
   "source": [
    "class Person:\n",
    "    def __init__(self, name, age):\n",
    "        self.name = name\n",
    "        self.age = age\n",
    "        \n",
    "    def getPerson(self):\n",
    "        return self.name, self.age\n",
    "    \n",
    "    \n",
    "p = set(Person.__dict__)    \n",
    "o = set(object.__dict__)\n",
    "\n",
    "print(p - o)\n",
    "print(p & o)"
   ]
  },
  {
   "cell_type": "code",
   "execution_count": null,
   "metadata": {},
   "outputs": [],
   "source": [
    "p = set(Person.__dict__)    \n",
    "o = set(object.__dict__)\n",
    "\n",
    "print(p - o)\n",
    "print(p & o)"
   ]
  },
  {
   "cell_type": "code",
   "execution_count": 4,
   "metadata": {},
   "outputs": [],
   "source": [
    "# p.7"
   ]
  },
  {
   "cell_type": "code",
   "execution_count": 5,
   "metadata": {},
   "outputs": [
    {
     "name": "stdout",
     "output_type": "stream",
     "text": [
      "<__main__.Person object at 0x10aa9f0b8>\n",
      "{'name': 'dahl', 'age': 50}\n"
     ]
    }
   ],
   "source": [
    "class Person:\n",
    "    def __init__(self, name, age):\n",
    "        self.name = name\n",
    "        self.age = age\n",
    "        \n",
    "    def getPerson(self):\n",
    "        return self.name, self.age\n",
    "    \n",
    "p = Person('dahl', 50)\n",
    "print(p)\n",
    "print(p.__dict__)"
   ]
  },
  {
   "cell_type": "code",
   "execution_count": 6,
   "metadata": {},
   "outputs": [],
   "source": [
    "# p.9"
   ]
  },
  {
   "cell_type": "code",
   "execution_count": 7,
   "metadata": {},
   "outputs": [
    {
     "name": "stdout",
     "output_type": "stream",
     "text": [
      "<__main__.Person object at 0x10ab296a0>\n",
      "{'name': 'dahl', 'age': 50}\n",
      "getPerson {'var_mt': 'method attribute', 'self': <__main__.Person object at 0x10ab296a0>}\n",
      "('dahl', 50)\n"
     ]
    }
   ],
   "source": [
    "class Person:\n",
    "    def __init__(self, name, age):\n",
    "        self.name = name\n",
    "        self.age = age\n",
    "        \n",
    "    def getPerson(self):\n",
    "        var_mt = \"method attribute\"\n",
    "        print(\"getPerson\", locals())\n",
    "        return self.name, self.age\n",
    "    \n",
    "p = Person(\"dahl\", 50)\n",
    "print(p)\n",
    "print(p.__dict__)\n",
    "print(p.getPerson())"
   ]
  },
  {
   "cell_type": "code",
   "execution_count": 8,
   "metadata": {},
   "outputs": [],
   "source": [
    "# p.11"
   ]
  },
  {
   "cell_type": "code",
   "execution_count": 12,
   "metadata": {},
   "outputs": [],
   "source": [
    "class Protected:\n",
    "    def __init__(self, name, age):\n",
    "        self._set(name, age)\n",
    "        \n",
    "    def _set(self, name, age):\n",
    "        self._name = name\n",
    "        self._age = age\n",
    "        \n",
    "    def getname(self):\n",
    "        return self._name\n",
    "    \n",
    "    def getage(self):\n",
    "        return self._age"
   ]
  },
  {
   "cell_type": "code",
   "execution_count": 13,
   "metadata": {},
   "outputs": [
    {
     "name": "stdout",
     "output_type": "stream",
     "text": [
      "{'_name': '정찬혁', '_age': 31}\n"
     ]
    }
   ],
   "source": [
    "p = Protected(\"정찬혁\", 31)\n",
    "\n",
    "print(p.__dict__)"
   ]
  },
  {
   "cell_type": "code",
   "execution_count": 14,
   "metadata": {},
   "outputs": [
    {
     "name": "stdout",
     "output_type": "stream",
     "text": [
      "정찬혁\n",
      "31\n"
     ]
    }
   ],
   "source": [
    "print(p.getname())\n",
    "print(p.getage())"
   ]
  },
  {
   "cell_type": "code",
   "execution_count": 15,
   "metadata": {},
   "outputs": [
    {
     "name": "stdout",
     "output_type": "stream",
     "text": [
      "정찬혁\n",
      "31\n"
     ]
    }
   ],
   "source": [
    "print(p._name)\n",
    "print(p._age)"
   ]
  },
  {
   "cell_type": "code",
   "execution_count": 16,
   "metadata": {},
   "outputs": [],
   "source": [
    "# p.12"
   ]
  },
  {
   "cell_type": "code",
   "execution_count": 17,
   "metadata": {},
   "outputs": [],
   "source": [
    "class Mangling:\n",
    "    def __init__(self, name, age):\n",
    "        self._set(name, age)\n",
    "        \n",
    "    def _set(self, name, age):\n",
    "        self.__name = name\n",
    "        self.__age = age\n",
    "        \n",
    "    def getname(self):\n",
    "        return self.__name\n",
    "    \n",
    "    def getage(self):\n",
    "        return self.__age"
   ]
  },
  {
   "cell_type": "code",
   "execution_count": 18,
   "metadata": {},
   "outputs": [
    {
     "name": "stdout",
     "output_type": "stream",
     "text": [
      "{'_Mangling__name': '정찬혁', '_Mangling__age': 31}\n"
     ]
    }
   ],
   "source": [
    "p = Mangling(\"정찬혁\", 31)\n",
    "print(p.__dict__)"
   ]
  },
  {
   "cell_type": "code",
   "execution_count": 19,
   "metadata": {},
   "outputs": [
    {
     "name": "stdout",
     "output_type": "stream",
     "text": [
      "정찬혁\n",
      "31\n"
     ]
    }
   ],
   "source": [
    "print(p.getname())\n",
    "print(p.getage())"
   ]
  },
  {
   "cell_type": "code",
   "execution_count": 20,
   "metadata": {},
   "outputs": [],
   "source": [
    "# p.13"
   ]
  },
  {
   "cell_type": "code",
   "execution_count": 21,
   "metadata": {},
   "outputs": [
    {
     "ename": "AttributeError",
     "evalue": "'Mangling' object has no attribute '__name'",
     "output_type": "error",
     "traceback": [
      "\u001b[0;31m---------------------------------------------------------------------------\u001b[0m",
      "\u001b[0;31mAttributeError\u001b[0m                            Traceback (most recent call last)",
      "\u001b[0;32m<ipython-input-21-f8699d141104>\u001b[0m in \u001b[0;36m<module>\u001b[0;34m()\u001b[0m\n\u001b[0;32m----> 1\u001b[0;31m \u001b[0mprint\u001b[0m\u001b[0;34m(\u001b[0m\u001b[0mp\u001b[0m\u001b[0;34m.\u001b[0m\u001b[0m__name\u001b[0m\u001b[0;34m)\u001b[0m\u001b[0;34m\u001b[0m\u001b[0m\n\u001b[0m\u001b[1;32m      2\u001b[0m \u001b[0mprint\u001b[0m\u001b[0;34m(\u001b[0m\u001b[0mp\u001b[0m\u001b[0;34m.\u001b[0m\u001b[0m__age\u001b[0m\u001b[0;34m)\u001b[0m\u001b[0;34m\u001b[0m\u001b[0m\n",
      "\u001b[0;31mAttributeError\u001b[0m: 'Mangling' object has no attribute '__name'"
     ]
    }
   ],
   "source": [
    "print(p.__name)\n",
    "print(p.__age)"
   ]
  },
  {
   "cell_type": "code",
   "execution_count": 22,
   "metadata": {},
   "outputs": [
    {
     "name": "stdout",
     "output_type": "stream",
     "text": [
      "정찬혁\n",
      "31\n"
     ]
    }
   ],
   "source": [
    "print(p._Mangling__name)\n",
    "print(p._Mangling__age)"
   ]
  },
  {
   "cell_type": "code",
   "execution_count": 23,
   "metadata": {},
   "outputs": [],
   "source": [
    "# p.14"
   ]
  },
  {
   "cell_type": "code",
   "execution_count": 24,
   "metadata": {},
   "outputs": [
    {
     "name": "stdout",
     "output_type": "stream",
     "text": [
      "mappingproxy({'__dict__': <attribute '__dict__' of 'Mangling' objects>,\n",
      "              '__doc__': None,\n",
      "              '__init__': <function Mangling.__init__ at 0x10abd18c8>,\n",
      "              '__module__': '__main__',\n",
      "              '__weakref__': <attribute '__weakref__' of 'Mangling' objects>,\n",
      "              '_set': <function Mangling._set at 0x10abd1840>,\n",
      "              'getage': <function Mangling.getage at 0x10abd1730>,\n",
      "              'getname': <function Mangling.getname at 0x10abd17b8>})\n"
     ]
    }
   ],
   "source": [
    "import pprint\n",
    "\n",
    "pprint.pprint(Mangling.__dict__)"
   ]
  },
  {
   "cell_type": "code",
   "execution_count": 25,
   "metadata": {},
   "outputs": [
    {
     "ename": "AttributeError",
     "evalue": "'Mangling' object has no attribute '__set'",
     "output_type": "error",
     "traceback": [
      "\u001b[0;31m---------------------------------------------------------------------------\u001b[0m",
      "\u001b[0;31mAttributeError\u001b[0m                            Traceback (most recent call last)",
      "\u001b[0;32m<ipython-input-25-f954f5bfd8d9>\u001b[0m in \u001b[0;36m<module>\u001b[0;34m()\u001b[0m\n\u001b[0;32m----> 1\u001b[0;31m \u001b[0mp\u001b[0m\u001b[0;34m.\u001b[0m\u001b[0m__set\u001b[0m\u001b[0;34m(\u001b[0m\u001b[0;34m\"맹글링\"\u001b[0m\u001b[0;34m,\u001b[0m \u001b[0;36m55\u001b[0m\u001b[0;34m)\u001b[0m\u001b[0;34m\u001b[0m\u001b[0m\n\u001b[0m",
      "\u001b[0;31mAttributeError\u001b[0m: 'Mangling' object has no attribute '__set'"
     ]
    }
   ],
   "source": [
    "p.__set(\"맹글링\", 55)"
   ]
  },
  {
   "cell_type": "code",
   "execution_count": 26,
   "metadata": {},
   "outputs": [],
   "source": [
    "# p.16"
   ]
  },
  {
   "cell_type": "code",
   "execution_count": 27,
   "metadata": {},
   "outputs": [
    {
     "name": "stdout",
     "output_type": "stream",
     "text": [
      "I have a self method!\n",
      "<class 'method'>\n",
      "I don't a self method\n",
      "<class 'function'>\n"
     ]
    }
   ],
   "source": [
    "class Class:\n",
    "    def method(self):\n",
    "        print(\"I have a self method!\")\n",
    "        \n",
    "\n",
    "def function():\n",
    "    print(\"I don't a self method\")\n",
    "    \n",
    "    \n",
    "instance = Class()\n",
    "instance.method()\n",
    "print(type(instance.method))\n",
    "\n",
    "instance.method = function\n",
    "instance.method()\n",
    "print(type(instance.method))"
   ]
  },
  {
   "cell_type": "code",
   "execution_count": 28,
   "metadata": {},
   "outputs": [],
   "source": [
    "# p.17"
   ]
  },
  {
   "cell_type": "code",
   "execution_count": 29,
   "metadata": {},
   "outputs": [],
   "source": [
    "def getname(self):\n",
    "    return self.name\n",
    "\n",
    "def getage(self):\n",
    "    return self.age"
   ]
  },
  {
   "cell_type": "code",
   "execution_count": 30,
   "metadata": {},
   "outputs": [],
   "source": [
    "class Person:\n",
    "    def __init__(self, name, age):\n",
    "        self.name = name\n",
    "        self.age = age\n",
    "    \n",
    "    getname = getname\n",
    "    getage = getage"
   ]
  },
  {
   "cell_type": "code",
   "execution_count": 31,
   "metadata": {},
   "outputs": [],
   "source": [
    "# p .18"
   ]
  },
  {
   "cell_type": "code",
   "execution_count": 32,
   "metadata": {},
   "outputs": [
    {
     "name": "stdout",
     "output_type": "stream",
     "text": [
      "mappingproxy({'__dict__': <attribute '__dict__' of 'Person' objects>,\n",
      "              '__doc__': None,\n",
      "              '__init__': <function Person.__init__ at 0x10ac14378>,\n",
      "              '__module__': '__main__',\n",
      "              '__weakref__': <attribute '__weakref__' of 'Person' objects>,\n",
      "              'getage': <function getage at 0x10ab9bea0>,\n",
      "              'getname': <function getname at 0x10ab9b950>})\n"
     ]
    }
   ],
   "source": [
    "import pprint\n",
    "\n",
    "pprint.pprint(Person.__dict__)"
   ]
  },
  {
   "cell_type": "code",
   "execution_count": 33,
   "metadata": {},
   "outputs": [],
   "source": [
    "# p.19"
   ]
  },
  {
   "cell_type": "code",
   "execution_count": 34,
   "metadata": {},
   "outputs": [
    {
     "name": "stdout",
     "output_type": "stream",
     "text": [
      "함수\n",
      "함수\n",
      "44\n",
      "44\n"
     ]
    }
   ],
   "source": [
    "p = Person(\"함수\", 44)\n",
    "\n",
    "print(p.getname())\n",
    "print(getname(p))\n",
    "print(p.getage())\n",
    "print(getage(p))"
   ]
  },
  {
   "cell_type": "code",
   "execution_count": 35,
   "metadata": {},
   "outputs": [
    {
     "name": "stdout",
     "output_type": "stream",
     "text": [
      "<bound method getname of <__main__.Person object at 0x10ac01cc0>>\n",
      "<function getname at 0x10ab9b950>\n",
      "True\n",
      "<bound method getage of <__main__.Person object at 0x10ac01cc0>>\n",
      "<function getage at 0x10ab9bea0>\n",
      "True\n"
     ]
    }
   ],
   "source": [
    "print(p.getname)\n",
    "print(getname)\n",
    "print(p.getname.__func__ is getname)\n",
    "print(p.getage)\n",
    "print(getage)\n",
    "print(p.getage.__func__ is getage)"
   ]
  },
  {
   "cell_type": "code",
   "execution_count": 36,
   "metadata": {},
   "outputs": [],
   "source": [
    "# p.22"
   ]
  },
  {
   "cell_type": "code",
   "execution_count": 37,
   "metadata": {},
   "outputs": [
    {
     "name": "stdout",
     "output_type": "stream",
     "text": [
      "{'__module__': '__main__', 'add': <function X.add at 0x10ac14ae8>, '__dict__': <attribute '__dict__' of 'X' objects>, '__weakref__': <attribute '__weakref__' of 'X' objects>, '__doc__': None}\n",
      "5\n",
      "<class 'method'>\n"
     ]
    }
   ],
   "source": [
    "class X:\n",
    "    def add(self):\n",
    "        pass\n",
    "    \n",
    "    def add(self, x):\n",
    "        return x\n",
    "    \n",
    "    \n",
    "x = X()\n",
    "print(X.__dict__)\n",
    "print(x.add(5))\n",
    "print(type(x.add))"
   ]
  },
  {
   "cell_type": "code",
   "execution_count": 38,
   "metadata": {},
   "outputs": [],
   "source": [
    "# p.25"
   ]
  },
  {
   "cell_type": "code",
   "execution_count": 39,
   "metadata": {},
   "outputs": [
    {
     "name": "stdout",
     "output_type": "stream",
     "text": [
      "(<__main__.Init object at 0x10aea0d30>, 'dahl')\n",
      "<__main__.Init object at 0x10aea0d30>\n",
      "dahl\n"
     ]
    }
   ],
   "source": [
    "class Init:\n",
    "    def __init__(*args):\n",
    "        print(args)\n",
    "        args[0].name = args[1]\n",
    "        \n",
    "    def getName(*args):\n",
    "        return args[0].name\n",
    "    \n",
    "\n",
    "c = Init('dahl')\n",
    "\n",
    "print(c)\n",
    "\n",
    "print(c.getName())"
   ]
  },
  {
   "cell_type": "code",
   "execution_count": 40,
   "metadata": {},
   "outputs": [],
   "source": [
    "# p.26"
   ]
  },
  {
   "cell_type": "code",
   "execution_count": 47,
   "metadata": {},
   "outputs": [
    {
     "name": "stdout",
     "output_type": "stream",
     "text": [
      "__self__ <__main__.A object at 0x10ab1d048>\n",
      "['__call__', '__class__', '__delattr__', '__dir__', '__doc__', '__eq__', '__format__', '__func__', '__ge__', '__get__', '__getattribute__', '__gt__', '__hash__', '__init__', '__init_subclass__', '__le__', '__lt__', '__ne__', '__new__', '__reduce__', '__reduce_ex__', '__repr__', '__self__', '__setattr__', '__sizeof__', '__str__', '__subclasshook__']\n",
      "<class 'method'>\n",
      "<function A.__init__ at 0x10ac14a60>\n",
      "<__main__.A object at 0x10ab1d048>\n"
     ]
    }
   ],
   "source": [
    "class A:\n",
    "    def __init__(self, name):\n",
    "        print(\"__self__\", self.__init__.__self__)\n",
    "        self.name = name\n",
    "        \n",
    "\n",
    "a = A('dahl')\n",
    "print(dir(a.__init__))\n",
    "print(a.__init__.__class__)\n",
    "print(a.__init__.__func__)\n",
    "print(a.__init__.__self__)"
   ]
  },
  {
   "cell_type": "code",
   "execution_count": 48,
   "metadata": {},
   "outputs": [],
   "source": [
    "# p.27"
   ]
  },
  {
   "cell_type": "code",
   "execution_count": 51,
   "metadata": {},
   "outputs": [
    {
     "name": "stdout",
     "output_type": "stream",
     "text": [
      "__self__ <__main__.A object at 0x10abfd160>\n",
      "<__main__.A object at 0x10abfd160>\n",
      "<__main__.A object at 0x10abfd160>\n",
      "__self__ <__main__.A object at 0x10abfd1d0>\n",
      "__self__ <__main__.A object at 0x10abfd1d0>\n",
      "<__main__.A object at 0x10abfd1d0>\n",
      "moon\n"
     ]
    }
   ],
   "source": [
    "class A:\n",
    "    def __init__(self, name):\n",
    "        print(\"__self__\", self.__init__.__self__)\n",
    "        self.name = name\n",
    "        \n",
    "a = A(\"dahl\")\n",
    "print(a.__init__.__self__)\n",
    "print(a)\n",
    "\n",
    "# print(A.__init__.__self__) \n",
    "# AttributeError: 'function' object has no attribute '__self__'\n",
    "\n",
    "b = A(\"Moon\")\n",
    "A.__init__(b, \"moon\")\n",
    "print(b)\n",
    "print(b.name)"
   ]
  },
  {
   "cell_type": "code",
   "execution_count": 52,
   "metadata": {},
   "outputs": [],
   "source": [
    "# p.28"
   ]
  },
  {
   "cell_type": "code",
   "execution_count": 53,
   "metadata": {},
   "outputs": [
    {
     "name": "stdout",
     "output_type": "stream",
     "text": [
      "self  <__main__.Person object at 0x10abfccc0>\n",
      "{'name': 'Dahl'}\n",
      "<__main__.Person object at 0x10abfccc0>\n"
     ]
    }
   ],
   "source": [
    "def __init__(self, name):\n",
    "    print('self ', self)\n",
    "    self.name = name\n",
    "    \n",
    "\n",
    "class Person:\n",
    "    __init__ = __init__\n",
    "    \n",
    "    \n",
    "p = Person('Dahl')\n",
    "print(p.__dict__)\n",
    "print(p)"
   ]
  },
  {
   "cell_type": "code",
   "execution_count": 54,
   "metadata": {},
   "outputs": [],
   "source": [
    "# p.29"
   ]
  },
  {
   "cell_type": "code",
   "execution_count": 55,
   "metadata": {},
   "outputs": [],
   "source": [
    "class Self:\n",
    "    attr = (\"name\", 'age')\n",
    "    def __init__(*args):\n",
    "        print(\"__self__ argument \", args[0])\n",
    "        print(\"__self__ attribute \", args[0].__init__.__self__)\n",
    "        \n",
    "        for i in range(1, len(args)):\n",
    "            args[0].__dict__[Self.attr[i-1]] = args[i]\n",
    "            \n",
    "    def get(*args):\n",
    "        print(\"__self__ attribute \", args[0].get.__self__)\n",
    "        return args[0].name, args[0].age"
   ]
  },
  {
   "cell_type": "code",
   "execution_count": 56,
   "metadata": {},
   "outputs": [
    {
     "name": "stdout",
     "output_type": "stream",
     "text": [
      "__self__ argument  <__main__.Self object at 0x10abfde48>\n",
      "__self__ attribute  <__main__.Self object at 0x10abfde48>\n",
      "{'name': 'Dahl', 'age': 22}\n",
      "<__main__.Self object at 0x10abfde48>\n"
     ]
    }
   ],
   "source": [
    "s = Self('Dahl', 22)\n",
    "print(s.__dict__)\n",
    "print(s)"
   ]
  },
  {
   "cell_type": "code",
   "execution_count": 57,
   "metadata": {},
   "outputs": [],
   "source": [
    "# p.31"
   ]
  },
  {
   "cell_type": "code",
   "execution_count": 58,
   "metadata": {},
   "outputs": [
    {
     "name": "stdout",
     "output_type": "stream",
     "text": [
      "class method  <class '__main__.Cls'>\n",
      "dahl\n",
      "<class '__main__.Cls'>\n"
     ]
    }
   ],
   "source": [
    "class Cls:\n",
    "    name = 'dahl'\n",
    "\n",
    "    @classmethod\n",
    "    def getName(*args):\n",
    "        print(\"class method \", args[0])\n",
    "        return args[0].name\n",
    "    \n",
    "\n",
    "print(Cls.getName())\n",
    "print(Cls)"
   ]
  },
  {
   "cell_type": "code",
   "execution_count": 59,
   "metadata": {},
   "outputs": [],
   "source": [
    "# p.32"
   ]
  },
  {
   "cell_type": "code",
   "execution_count": 60,
   "metadata": {},
   "outputs": [],
   "source": [
    "class ClsKlass:\n",
    "    name = \"클래스\"\n",
    "    def __init__(self, name):\n",
    "        self.name = name\n",
    "        \n",
    "    @classmethod\n",
    "    def getname(cls):\n",
    "        return cls.name"
   ]
  },
  {
   "cell_type": "code",
   "execution_count": 61,
   "metadata": {},
   "outputs": [
    {
     "name": "stdout",
     "output_type": "stream",
     "text": [
      "<bound method ClsKlass.getname of <class '__main__.ClsKlass'>>\n"
     ]
    }
   ],
   "source": [
    "a = ClsKlass(\"인스턴스\")\n",
    "\n",
    "print(ClsKlass.getname)"
   ]
  },
  {
   "cell_type": "code",
   "execution_count": 62,
   "metadata": {},
   "outputs": [],
   "source": [
    "# p.33"
   ]
  },
  {
   "cell_type": "code",
   "execution_count": 63,
   "metadata": {},
   "outputs": [
    {
     "name": "stdout",
     "output_type": "stream",
     "text": [
      "{'__self__', '__func__'}\n"
     ]
    }
   ],
   "source": [
    "s = set(dir(ClsKlass.__init__))\n",
    "c = set(dir(ClsKlass.getname))\n",
    "\n",
    "print(c - s)"
   ]
  },
  {
   "cell_type": "code",
   "execution_count": 64,
   "metadata": {},
   "outputs": [
    {
     "name": "stdout",
     "output_type": "stream",
     "text": [
      "<class '__main__.ClsKlass'>\n",
      "<class '__main__.ClsKlass'>\n",
      "4472958856\n",
      "4475407896\n"
     ]
    }
   ],
   "source": [
    "print(ClsKlass)\n",
    "print(ClsKlass.getname.__self__)\n",
    "print(id(ClsKlass.getname))\n",
    "print(id(ClsKlass.getname.__func__))"
   ]
  },
  {
   "cell_type": "code",
   "execution_count": 65,
   "metadata": {},
   "outputs": [],
   "source": [
    "# p.34"
   ]
  },
  {
   "cell_type": "code",
   "execution_count": 66,
   "metadata": {},
   "outputs": [
    {
     "name": "stdout",
     "output_type": "stream",
     "text": [
      "cls bound <class '__main__.B'>\n",
      "name\n"
     ]
    }
   ],
   "source": [
    "class B:\n",
    "    @classmethod\n",
    "    def init(cls, name):\n",
    "        self = B()\n",
    "        setattr(self, 'name', name)\n",
    "        print('cls bound', B.init.__self__)\n",
    "        return self\n",
    "    \n",
    "b = B.init('name')\n",
    "print(b.name)"
   ]
  },
  {
   "cell_type": "code",
   "execution_count": 67,
   "metadata": {},
   "outputs": [],
   "source": [
    "# p.37"
   ]
  },
  {
   "cell_type": "code",
   "execution_count": 69,
   "metadata": {},
   "outputs": [
    {
     "name": "stdout",
     "output_type": "stream",
     "text": [
      "static bound  None\n",
      "<__main__.C object at 0x10ad284a8>\n",
      "['__annotations__', '__call__', '__class__', '__closure__', '__code__', '__defaults__', '__delattr__', '__dict__', '__dir__', '__doc__', '__eq__', '__format__', '__ge__', '__get__', '__getattribute__', '__globals__', '__gt__', '__hash__', '__init__', '__init_subclass__', '__kwdefaults__', '__le__', '__lt__', '__module__', '__name__', '__ne__', '__new__', '__qualname__', '__reduce__', '__reduce_ex__', '__repr__', '__setattr__', '__sizeof__', '__str__', '__subclasshook__']\n"
     ]
    }
   ],
   "source": [
    "class C:\n",
    "    @staticmethod\n",
    "    def init(name):\n",
    "        self = C()\n",
    "        setattr(self, 'name', name)\n",
    "        print(\"static bound \", getattr(C.init, \"__self__\", None))\n",
    "        return self\n",
    "    \n",
    "    \n",
    "c = C.init('Park')\n",
    "print(c)\n",
    "print(dir(C.init))"
   ]
  },
  {
   "cell_type": "code",
   "execution_count": 70,
   "metadata": {},
   "outputs": [],
   "source": [
    "# p.38"
   ]
  },
  {
   "cell_type": "code",
   "execution_count": 72,
   "metadata": {},
   "outputs": [
    {
     "name": "stdout",
     "output_type": "stream",
     "text": [
      "Dahl\n",
      "<__main__.Ins object at 0x10ab08828>\n",
      "Moon\n",
      "<__main__.Ins object at 0x10ab08898>\n",
      "da\n"
     ]
    }
   ],
   "source": [
    "class Ins:\n",
    "    def __init__(self, name):\n",
    "        self.name = name\n",
    "        \n",
    "    def __call__(self):\n",
    "        return self.name\n",
    "    \n",
    "    @staticmethod\n",
    "    def create(name):\n",
    "        a = Ins(name)\n",
    "        return a\n",
    "    \n",
    "a = Ins(\"Dahl\")()\n",
    "print(a)\n",
    "\n",
    "b = Ins('Moon')\n",
    "print(b)\n",
    "print(b())\n",
    "\n",
    "c = Ins.create(\"da\")\n",
    "print(c)\n",
    "print(c())"
   ]
  },
  {
   "cell_type": "code",
   "execution_count": 77,
   "metadata": {},
   "outputs": [],
   "source": [
    "# p.40, 41"
   ]
  },
  {
   "cell_type": "code",
   "execution_count": 79,
   "metadata": {},
   "outputs": [
    {
     "name": "stdout",
     "output_type": "stream",
     "text": [
      "Hello, my name is Peter and I am 21 years old.\n"
     ]
    }
   ],
   "source": [
    "class Person:\n",
    "\n",
    "    def name(self, name):\n",
    "        self.name = name\n",
    "        return self\n",
    "\n",
    "    def age(self, value):\n",
    "        self.age = value\n",
    "        return self\n",
    "\n",
    "    def introduce(self):\n",
    "        print(\"Hello, my name is\", self.name, \"and I am\", self.age, \"years old.\")\n",
    "\n",
    "person = Person()\n",
    "#객체의 메소드를 연속적으로 호출하여 처리\n",
    "\n",
    "person.name(\"Peter\").age(21).introduce()"
   ]
  },
  {
   "cell_type": "code",
   "execution_count": 80,
   "metadata": {},
   "outputs": [],
   "source": [
    "# p.42"
   ]
  },
  {
   "cell_type": "code",
   "execution_count": 81,
   "metadata": {},
   "outputs": [
    {
     "name": "stdout",
     "output_type": "stream",
     "text": [
      "a\n",
      "c\n",
      "b\n",
      "B instance method\n",
      "C instance method\n"
     ]
    }
   ],
   "source": [
    "class A:\n",
    "    def __init__(self):\n",
    "        print(\"a\")\n",
    "        self.b = B()\n",
    "        \n",
    "\n",
    "class B:\n",
    "    def __init__(self):\n",
    "        self.c = C()\n",
    "        print('b')\n",
    "        \n",
    "    def bbb(self):\n",
    "        print(\"B instance method\")\n",
    "        return self.c\n",
    "    \n",
    "\n",
    "class C:\n",
    "    def __init__(self):\n",
    "        print('c')\n",
    "        \n",
    "    def ccc(self):\n",
    "        print(\"C instance method\")\n",
    "        \n",
    "        \n",
    "a = A()\n",
    "\n",
    "a.b.bbb().ccc()"
   ]
  },
  {
   "cell_type": "code",
   "execution_count": 84,
   "metadata": {},
   "outputs": [],
   "source": [
    "# p.44"
   ]
  },
  {
   "cell_type": "code",
   "execution_count": 85,
   "metadata": {},
   "outputs": [
    {
     "name": "stdout",
     "output_type": "stream",
     "text": [
      "4475753608\n",
      "4475426312\n",
      "4475753992\n",
      "30\n",
      "30\n"
     ]
    }
   ],
   "source": [
    "class INT(int):\n",
    "    def __init__(self, value):\n",
    "        self.value = value\n",
    "        \n",
    "    def __add__(self, other):\n",
    "        s = INT(0)\n",
    "        s.value = self.value + other.value\n",
    "        return s\n",
    "    \n",
    "    def __str__(self):\n",
    "        return str(self.value)\n",
    "    \n",
    "    \n",
    "c = INT(10)    \n",
    "d = INT(20)\n",
    "print(id(c))\n",
    "print(id(d))\n",
    "e = c + d\n",
    "print(id(e))\n",
    "print(e)\n",
    "print(e.value)"
   ]
  },
  {
   "cell_type": "code",
   "execution_count": 86,
   "metadata": {},
   "outputs": [],
   "source": [
    "# p.45"
   ]
  },
  {
   "cell_type": "code",
   "execution_count": 87,
   "metadata": {},
   "outputs": [
    {
     "name": "stdout",
     "output_type": "stream",
     "text": [
      "30\n",
      "10\n",
      "200\n"
     ]
    }
   ],
   "source": [
    "class INT(int):\n",
    "    def __init__(self, value):\n",
    "        self = value\n",
    "        \n",
    "    def __add__(self, other):\n",
    "        return int.__add__(self, other)\n",
    "    \n",
    "    def __str__(self):\n",
    "        return str(self)\n",
    "    \n",
    "    \n",
    "c = INT(10)    \n",
    "d = INT(20)\n",
    "\n",
    "e = c + d\n",
    "\n",
    "print(e)\n",
    "print(d - c)\n",
    "print(d*c)"
   ]
  },
  {
   "cell_type": "code",
   "execution_count": 88,
   "metadata": {},
   "outputs": [],
   "source": [
    "# p.49"
   ]
  },
  {
   "cell_type": "code",
   "execution_count": 90,
   "metadata": {},
   "outputs": [
    {
     "name": "stdout",
     "output_type": "stream",
     "text": [
      "<class 'NoneType'>\n",
      "<class 'type'>\n",
      "True\n",
      "True\n"
     ]
    }
   ],
   "source": [
    "print(None.__class__)\n",
    "print(None.__class__.__class__)\n",
    "print(isinstance(None, None.__class__))\n",
    "print(isinstance(None.__class__, type))"
   ]
  },
  {
   "cell_type": "code",
   "execution_count": 91,
   "metadata": {},
   "outputs": [
    {
     "name": "stdout",
     "output_type": "stream",
     "text": [
      "False\n"
     ]
    }
   ],
   "source": [
    "def func():\n",
    "    return None\n",
    "\n",
    "if func():\n",
    "    print(\"True\")\n",
    "else:\n",
    "    print(\"False\")"
   ]
  },
  {
   "cell_type": "code",
   "execution_count": 92,
   "metadata": {},
   "outputs": [],
   "source": [
    "# p.50"
   ]
  },
  {
   "cell_type": "code",
   "execution_count": 93,
   "metadata": {},
   "outputs": [
    {
     "name": "stdout",
     "output_type": "stream",
     "text": [
      "<class 'NotImplementedType'>\n",
      "<class 'type'>\n",
      "True\n",
      "True\n"
     ]
    }
   ],
   "source": [
    "print(NotImplemented.__class__)\n",
    "print(NotImplemented.__class__.__class__)\n",
    "print(isinstance(NotImplemented, NotImplemented.__class__))\n",
    "print(isinstance(NotImplemented.__class__, type))"
   ]
  },
  {
   "cell_type": "code",
   "execution_count": 94,
   "metadata": {},
   "outputs": [
    {
     "name": "stdout",
     "output_type": "stream",
     "text": [
      "True\n"
     ]
    }
   ],
   "source": [
    "def func(num=0):\n",
    "    if num == 1:\n",
    "        return NotImplemented\n",
    "    else:\n",
    "        return 0\n",
    "    \n",
    "\n",
    "if func(1):\n",
    "    print(\"True\")\n",
    "else:\n",
    "    print(\"False\")"
   ]
  },
  {
   "cell_type": "code",
   "execution_count": 95,
   "metadata": {},
   "outputs": [],
   "source": [
    "# p.51"
   ]
  },
  {
   "cell_type": "code",
   "execution_count": 99,
   "metadata": {},
   "outputs": [
    {
     "name": "stdout",
     "output_type": "stream",
     "text": [
      "<class 'ellipsis'>\n",
      "<class 'type'>\n",
      "True\n",
      "True\n"
     ]
    }
   ],
   "source": [
    "Ellipsis\n",
    "print(Ellipsis.__class__)\n",
    "print(Ellipsis.__class__.__class__)\n",
    "print(isinstance(Ellipsis, Ellipsis.__class__))\n",
    "print(isinstance(Ellipsis.__class__, type))"
   ]
  },
  {
   "cell_type": "code",
   "execution_count": 100,
   "metadata": {},
   "outputs": [
    {
     "name": "stdout",
     "output_type": "stream",
     "text": [
      "True\n"
     ]
    }
   ],
   "source": [
    "def func(num=0):\n",
    "    if num == 1:\n",
    "        return Ellipsis\n",
    "    else:\n",
    "        return 0\n",
    "    \n",
    "if func(1):\n",
    "    print(\"True\")\n",
    "else:\n",
    "    print(\"False\")"
   ]
  },
  {
   "cell_type": "code",
   "execution_count": 101,
   "metadata": {},
   "outputs": [],
   "source": [
    "# p.52"
   ]
  },
  {
   "cell_type": "code",
   "execution_count": 103,
   "metadata": {},
   "outputs": [
    {
     "name": "stdout",
     "output_type": "stream",
     "text": [
      "(2, 3, 4)\n",
      "(3, 4, 5)\n"
     ]
    }
   ],
   "source": [
    "import numpy as np\n",
    "\n",
    "t = np.random.rand(2, 3, 4, 5)\n",
    "\n",
    "# select 1st element from last dimension, copy rest\n",
    "print(t[..., 0].shape)\n",
    "\n",
    "\n",
    "# select 1st element from first dimension, copy rest\n",
    "print(t[0, ...].shape)"
   ]
  },
  {
   "cell_type": "code",
   "execution_count": null,
   "metadata": {},
   "outputs": [],
   "source": []
  }
 ],
 "metadata": {
  "kernelspec": {
   "display_name": "Python 3",
   "language": "python",
   "name": "python3"
  },
  "language_info": {
   "codemirror_mode": {
    "name": "ipython",
    "version": 3
   },
   "file_extension": ".py",
   "mimetype": "text/x-python",
   "name": "python",
   "nbconvert_exporter": "python",
   "pygments_lexer": "ipython3",
   "version": "3.6.4"
  }
 },
 "nbformat": 4,
 "nbformat_minor": 2
}
