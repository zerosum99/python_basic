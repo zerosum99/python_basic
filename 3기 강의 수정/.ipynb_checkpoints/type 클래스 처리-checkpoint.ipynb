{
 "cells": [
  {
   "cell_type": "markdown",
   "metadata": {},
   "source": [
    "## 파이썬 완정정복 스페셜 메소드\n"
   ]
  },
  {
   "cell_type": "code",
   "execution_count": 13,
   "metadata": {},
   "outputs": [],
   "source": [
    "# p.8"
   ]
  },
  {
   "cell_type": "code",
   "execution_count": 14,
   "metadata": {},
   "outputs": [
    {
     "name": "stdout",
     "output_type": "stream",
     "text": [
      "<class '__main__.MyKlass'>\n",
      "{'__module__': '__main__', '__dict__': <attribute '__dict__' of 'MyKlass' objects>, '__weakref__': <attribute '__weakref__' of 'MyKlass' objects>, '__doc__': None}\n"
     ]
    }
   ],
   "source": [
    "MyKlass = type.__new__(type, 'MyKlass', (object,), {})\n",
    "type.__init__(MyKlass, 'MyKlass', (object,), {})\n",
    "\n",
    "print(MyKlass)\n",
    "print(MyKlass.__dict__)"
   ]
  },
  {
   "cell_type": "code",
   "execution_count": 15,
   "metadata": {},
   "outputs": [],
   "source": [
    "# p.9"
   ]
  },
  {
   "cell_type": "code",
   "execution_count": 16,
   "metadata": {},
   "outputs": [
    {
     "name": "stdout",
     "output_type": "stream",
     "text": [
      "<class '__main__.MyKlass'>\n",
      "{'__module__': '__main__', '__dict__': <attribute '__dict__' of 'MyKlass' objects>, '__weakref__': <attribute '__weakref__' of 'MyKlass' objects>, '__doc__': None}\n"
     ]
    }
   ],
   "source": [
    "MyKlass = type.__call__(type, 'MyKlass', (object,), {})\n",
    "print(MyKlass)\n",
    "print(MyKlass.__dict__)"
   ]
  },
  {
   "cell_type": "code",
   "execution_count": 17,
   "metadata": {},
   "outputs": [],
   "source": [
    "# p.10"
   ]
  },
  {
   "cell_type": "code",
   "execution_count": 18,
   "metadata": {},
   "outputs": [
    {
     "name": "stdout",
     "output_type": "stream",
     "text": [
      "Help on built-in function __prepare__:\n",
      "\n",
      "__prepare__(...) method of builtins.type instance\n",
      "    __prepare__() -> dict\n",
      "    used to create the namespace for the class statement\n",
      "\n"
     ]
    }
   ],
   "source": [
    "help(type.__prepare__)"
   ]
  },
  {
   "cell_type": "code",
   "execution_count": 19,
   "metadata": {},
   "outputs": [],
   "source": [
    "# p.11"
   ]
  },
  {
   "cell_type": "code",
   "execution_count": 20,
   "metadata": {},
   "outputs": [
    {
     "name": "stdout",
     "output_type": "stream",
     "text": [
      "{}\n"
     ]
    }
   ],
   "source": [
    "a = type.__prepare__('AClass', (object,))\n",
    "print(a)"
   ]
  },
  {
   "cell_type": "code",
   "execution_count": 21,
   "metadata": {},
   "outputs": [],
   "source": [
    "# p.14"
   ]
  },
  {
   "cell_type": "code",
   "execution_count": 22,
   "metadata": {},
   "outputs": [
    {
     "name": "stdout",
     "output_type": "stream",
     "text": [
      "<__main__.A object at 0x112687550>\n",
      "dahl\n"
     ]
    }
   ],
   "source": [
    "class A:\n",
    "    def __new__(cls):\n",
    "        self = object.__new__(cls)\n",
    "        return self\n",
    "    \n",
    "    def __init__(self, name):\n",
    "        self.name = name\n",
    "        \n",
    "    def __del__(self):\n",
    "        del self\n",
    "        \n",
    "a = A.__new__(A)\n",
    "print(a)\n",
    "A.__init__(a, 'dahl')\n",
    "print(a.name)"
   ]
  },
  {
   "cell_type": "code",
   "execution_count": 23,
   "metadata": {},
   "outputs": [],
   "source": [
    "# p.15"
   ]
  },
  {
   "cell_type": "code",
   "execution_count": 24,
   "metadata": {},
   "outputs": [
    {
     "name": "stdout",
     "output_type": "stream",
     "text": [
      "<class '__main__.A'>\n",
      "{}\n",
      "{'name': 'moon'}\n",
      "<__main__.A object at 0x11264f710>\n",
      "aaaaa\n"
     ]
    }
   ],
   "source": [
    "class A:\n",
    "    def __init__(self, name):\n",
    "        self.name = name\n",
    "        \n",
    "    def amethod(self):\n",
    "        print(\"aaaaa\")\n",
    "        \n",
    "\n",
    "print(A)\n",
    "ai = A.__new__(A)\n",
    "print(ai.__dict__)\n",
    "ai.__init__('moon')\n",
    "print(ai.__dict__)\n",
    "print(ai)\n",
    "ai.amethod()"
   ]
  },
  {
   "cell_type": "code",
   "execution_count": 25,
   "metadata": {},
   "outputs": [],
   "source": [
    "# p.16"
   ]
  },
  {
   "cell_type": "code",
   "execution_count": 26,
   "metadata": {},
   "outputs": [
    {
     "name": "stdout",
     "output_type": "stream",
     "text": [
      "<class '__main__.A'>\n",
      "{'name': 'moon'}\n",
      "<__main__.A object at 0x11264f710>\n",
      "aaaaa\n"
     ]
    }
   ],
   "source": [
    "class A():\n",
    "    def __init__(self, name):\n",
    "        self.name = name\n",
    "        \n",
    "    def amethod(self):\n",
    "        print(\"aaaaa\")\n",
    "        \n",
    "\n",
    "print(A)\n",
    "\n",
    "ac = A('park')\n",
    "print(ai.__dict__)\n",
    "print(ai)\n",
    "ai.amethod()"
   ]
  }
 ],
 "metadata": {
  "kernelspec": {
   "display_name": "Python 3",
   "language": "python",
   "name": "python3"
  },
  "language_info": {
   "codemirror_mode": {
    "name": "ipython",
    "version": 3
   },
   "file_extension": ".py",
   "mimetype": "text/x-python",
   "name": "python",
   "nbconvert_exporter": "python",
   "pygments_lexer": "ipython3",
   "version": "3.6.6"
  }
 },
 "nbformat": 4,
 "nbformat_minor": 2
}
