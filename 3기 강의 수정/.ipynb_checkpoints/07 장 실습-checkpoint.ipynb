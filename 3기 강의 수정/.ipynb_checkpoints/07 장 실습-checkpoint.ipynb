{
 "cells": [
  {
   "cell_type": "markdown",
   "metadata": {},
   "source": [
    "## 파이썬 완정정복 클래스 다형성 및 상속 알아보기\n"
   ]
  },
  {
   "cell_type": "code",
   "execution_count": 1,
   "metadata": {},
   "outputs": [],
   "source": [
    "import sys"
   ]
  },
  {
   "cell_type": "code",
   "execution_count": 2,
   "metadata": {},
   "outputs": [
    {
     "data": {
      "text/plain": [
       "sys.version_info(major=3, minor=6, micro=6, releaselevel='final', serial=0)"
      ]
     },
     "execution_count": 2,
     "metadata": {},
     "output_type": "execute_result"
    }
   ],
   "source": [
    "sys.version_info"
   ]
  },
  {
   "cell_type": "markdown",
   "metadata": {},
   "source": [
    "### 상속 알아보기 "
   ]
  },
  {
   "cell_type": "markdown",
   "metadata": {},
   "source": [
    "#### 부모 클래스와 자식 클래스 정의 "
   ]
  },
  {
   "cell_type": "code",
   "execution_count": 3,
   "metadata": {},
   "outputs": [],
   "source": [
    "class Parent:\n",
    "    def __init__(self, name, age):\n",
    "        self.name = name\n",
    "        self.age = age"
   ]
  },
  {
   "cell_type": "code",
   "execution_count": 4,
   "metadata": {},
   "outputs": [],
   "source": [
    "class Child(Parent):\n",
    "    pass"
   ]
  },
  {
   "cell_type": "code",
   "execution_count": 5,
   "metadata": {},
   "outputs": [
    {
     "name": "stdout",
     "output_type": "stream",
     "text": [
      "mappingproxy({'__dict__': <attribute '__dict__' of 'Parent' objects>,\n",
      "              '__doc__': None,\n",
      "              '__init__': <function Parent.__init__ at 0x00000000067AED08>,\n",
      "              '__module__': '__main__',\n",
      "              '__weakref__': <attribute '__weakref__' of 'Parent' objects>})\n"
     ]
    }
   ],
   "source": [
    "import pprint\n",
    "\n",
    "pprint.pprint(Parent.__dict__)"
   ]
  },
  {
   "cell_type": "code",
   "execution_count": 6,
   "metadata": {},
   "outputs": [
    {
     "name": "stdout",
     "output_type": "stream",
     "text": [
      "mappingproxy({'__module__': '__main__', '__doc__': None})\n"
     ]
    }
   ],
   "source": [
    "import pprint\n",
    "\n",
    "pprint.pprint(Child.__dict__)"
   ]
  },
  {
   "cell_type": "markdown",
   "metadata": {},
   "source": [
    "#### 상속한 자식 클래스로 인스턴스 생성할 때 초기화 오류"
   ]
  },
  {
   "cell_type": "code",
   "execution_count": 7,
   "metadata": {},
   "outputs": [
    {
     "name": "stdout",
     "output_type": "stream",
     "text": [
      "__init__() missing 2 required positional arguments: 'name' and 'age'\n"
     ]
    }
   ],
   "source": [
    "try :\n",
    "    c = Child()\n",
    "    print(c)\n",
    "except Exception as e :\n",
    "    print(e)"
   ]
  },
  {
   "cell_type": "markdown",
   "metadata": {},
   "source": [
    "#### 상속을 해서 초기화 처리가 필요"
   ]
  },
  {
   "cell_type": "code",
   "execution_count": 29,
   "metadata": {},
   "outputs": [
    {
     "name": "stdout",
     "output_type": "stream",
     "text": [
      "<__main__.Child object at 0x11083cfd0>\n",
      "{'name': '자식', 'age': 33}\n"
     ]
    }
   ],
   "source": [
    "c = Child(\"자식\", 33)\n",
    "print(c)\n",
    "print(c.__dict__)"
   ]
  },
  {
   "cell_type": "markdown",
   "metadata": {},
   "source": [
    "### 상속관계 확인하기 "
   ]
  },
  {
   "cell_type": "markdown",
   "metadata": {},
   "source": [
    "#### 3 개의 클래스를 정의하고 상속하기 "
   ]
  },
  {
   "cell_type": "code",
   "execution_count": 8,
   "metadata": {},
   "outputs": [],
   "source": [
    "class GrandParent:\n",
    "    def __init__(self, name, age):\n",
    "        self.name = name\n",
    "        self.age = age"
   ]
  },
  {
   "cell_type": "code",
   "execution_count": 9,
   "metadata": {},
   "outputs": [],
   "source": [
    "class Parent(GrandParent):\n",
    "    def getname(self):\n",
    "        return self.name\n",
    "    def getage(self):\n",
    "        return self.age"
   ]
  },
  {
   "cell_type": "code",
   "execution_count": 10,
   "metadata": {},
   "outputs": [],
   "source": [
    "class Child(Parent):\n",
    "    pass"
   ]
  },
  {
   "cell_type": "markdown",
   "metadata": {},
   "source": [
    "#### 상속관계 알아보기 "
   ]
  },
  {
   "cell_type": "code",
   "execution_count": 35,
   "metadata": {},
   "outputs": [
    {
     "name": "stdout",
     "output_type": "stream",
     "text": [
      "(<class 'object'>,)\n",
      "(<class '__main__.GrandParent'>,)\n",
      "(<class '__main__.Parent'>,)\n"
     ]
    }
   ],
   "source": [
    "print(GrandParent.__bases__)\n",
    "print(Parent.__bases__)\n",
    "print(Child.__bases__)\n"
   ]
  },
  {
   "cell_type": "code",
   "execution_count": 11,
   "metadata": {},
   "outputs": [
    {
     "name": "stdout",
     "output_type": "stream",
     "text": [
      "True\n",
      "True\n",
      "True\n"
     ]
    }
   ],
   "source": [
    "print(issubclass(Parent, GrandParent))\n",
    "print(issubclass(Child, Parent))\n",
    "print(issubclass(Child, GrandParent))"
   ]
  },
  {
   "cell_type": "markdown",
   "metadata": {},
   "source": [
    "#### 3 개의 클래스 각각 인스턴스 만들기 "
   ]
  },
  {
   "cell_type": "code",
   "execution_count": 12,
   "metadata": {},
   "outputs": [],
   "source": [
    "g = GrandParent('조부모', 80)\n",
    "p = Parent(\"부모\", 40)\n",
    "c = Child('손자', 10)"
   ]
  },
  {
   "cell_type": "code",
   "execution_count": 13,
   "metadata": {},
   "outputs": [
    {
     "name": "stdout",
     "output_type": "stream",
     "text": [
      "부모 40\n",
      "손자 10\n"
     ]
    }
   ],
   "source": [
    "print(p.getname(), p.getage())\n",
    "print(c.getname(), c.getage())"
   ]
  },
  {
   "cell_type": "markdown",
   "metadata": {},
   "source": [
    "#### 하위 클래스 메소드를 상위에서 호출해 보기"
   ]
  },
  {
   "cell_type": "code",
   "execution_count": 14,
   "metadata": {},
   "outputs": [
    {
     "name": "stdout",
     "output_type": "stream",
     "text": [
      "'GrandParent' object has no attribute 'getname'\n"
     ]
    }
   ],
   "source": [
    "try :\n",
    "    print(g.getname(), g.getage())\n",
    "except Exception as e :\n",
    "    print(e)"
   ]
  },
  {
   "cell_type": "markdown",
   "metadata": {},
   "source": [
    "### 클래스를 정의하고 네임스페이스 접근 순서 알아보기"
   ]
  },
  {
   "cell_type": "code",
   "execution_count": 18,
   "metadata": {},
   "outputs": [],
   "source": [
    "class A:\n",
    "    A_cls = \"A 클래스 속성\"\n",
    "    \n",
    "    \n",
    "class B(A):\n",
    "    pass\n",
    "\n",
    "\n",
    "class C(A):\n",
    "    pass"
   ]
  },
  {
   "cell_type": "markdown",
   "metadata": {},
   "source": [
    "#### 하위 클래스에서 상위 접근"
   ]
  },
  {
   "cell_type": "code",
   "execution_count": 19,
   "metadata": {},
   "outputs": [
    {
     "name": "stdout",
     "output_type": "stream",
     "text": [
      "A 클래스 속성\n",
      "A 클래스 속성\n"
     ]
    }
   ],
   "source": [
    "print(B.A_cls)\n",
    "print(C.A_cls)"
   ]
  },
  {
   "cell_type": "markdown",
   "metadata": {},
   "source": [
    "#### 중간 클래스에 상속한 클래스의 속성과 동일한 이름 추가"
   ]
  },
  {
   "cell_type": "code",
   "execution_count": 20,
   "metadata": {},
   "outputs": [
    {
     "name": "stdout",
     "output_type": "stream",
     "text": [
      "B 클래스 속성\n",
      "A 클래스 속성\n"
     ]
    }
   ],
   "source": [
    "B.A_cls = \"B 클래스 속성\"\n",
    "\n",
    "print(B.A_cls)\n",
    "print(C.A_cls)"
   ]
  },
  {
   "cell_type": "markdown",
   "metadata": {},
   "source": [
    "### 클래스를 정의할 때 부모와 동일한 메소드 정의"
   ]
  },
  {
   "cell_type": "code",
   "execution_count": 21,
   "metadata": {},
   "outputs": [],
   "source": [
    "class Shape:\n",
    "    def __init__(self, shape_name):\n",
    "        self.shape = shape_name\n",
    "        \n",
    "\n",
    "class Rectangle(Shape):\n",
    "    def __init__(self, name):\n",
    "        self.shape = name\n",
    "        "
   ]
  },
  {
   "cell_type": "markdown",
   "metadata": {},
   "source": [
    "#### 상위를 참조하기 않고 자기 클래스 내의 초기화 메소드 호출"
   ]
  },
  {
   "cell_type": "code",
   "execution_count": 22,
   "metadata": {},
   "outputs": [
    {
     "name": "stdout",
     "output_type": "stream",
     "text": [
      "<__main__.Rectangle object at 0x0000000006A772E8> {'shape': 'rect'}\n"
     ]
    }
   ],
   "source": [
    "r = Rectangle('rect')\n",
    "print(r, r.__dict__)"
   ]
  },
  {
   "cell_type": "markdown",
   "metadata": {},
   "source": [
    "### 상위 클래스에 초기화 없이 특정 메소드를 지정하고 상속하ㅣ"
   ]
  },
  {
   "cell_type": "code",
   "execution_count": 23,
   "metadata": {},
   "outputs": [],
   "source": [
    "class Shape:\n",
    "    def go(self):\n",
    "        raise NotImplementedError(\"Please Implement this method\")\n",
    "        \n",
    "        \n",
    "class Rectangle(Shape):\n",
    "    def __init__(self, name):\n",
    "        self.shape = name\n",
    "    def go(self):\n",
    "        print(\"Consider me implemented\", self.shape)\n",
    "        \n"
   ]
  },
  {
   "cell_type": "markdown",
   "metadata": {},
   "source": [
    "#### 상위 클래스의 go 메소드는 호출되지 않는다."
   ]
  },
  {
   "cell_type": "code",
   "execution_count": 24,
   "metadata": {},
   "outputs": [
    {
     "name": "stdout",
     "output_type": "stream",
     "text": [
      "<__main__.Rectangle object at 0x0000000006A04278> {'shape': 'rect'}\n",
      "Consider me implemented rect\n"
     ]
    }
   ],
   "source": [
    "r = Rectangle('rect')\n",
    "print(r, r.__dict__)\n",
    "r.go()"
   ]
  },
  {
   "cell_type": "markdown",
   "metadata": {},
   "source": [
    "### 다중 상속을 할 경우 메소드 호출"
   ]
  },
  {
   "cell_type": "code",
   "execution_count": 31,
   "metadata": {},
   "outputs": [],
   "source": [
    "#### 초기화가 있는 두개의 부모클래스를 지정한다"
   ]
  },
  {
   "cell_type": "code",
   "execution_count": 25,
   "metadata": {},
   "outputs": [],
   "source": [
    "class Parent1:\n",
    "    def __init__(self, name):\n",
    "        print(\"Parent1\")\n",
    "        self.name = name\n",
    "        \n",
    "\n",
    "class Parent2:\n",
    "    def __init__(self, name):\n",
    "        print(\"Parent\")\n",
    "        self.name = name"
   ]
  },
  {
   "cell_type": "markdown",
   "metadata": {},
   "source": [
    "#### 다중 상속을 한다"
   ]
  },
  {
   "cell_type": "code",
   "execution_count": 26,
   "metadata": {},
   "outputs": [],
   "source": [
    "class Child(Parent1, Parent2):\n",
    "    pass"
   ]
  },
  {
   "cell_type": "markdown",
   "metadata": {},
   "source": [
    "#### mro 메소드를 이용하면 클래스 접근 순위가 결정된다"
   ]
  },
  {
   "cell_type": "code",
   "execution_count": 27,
   "metadata": {},
   "outputs": [
    {
     "name": "stdout",
     "output_type": "stream",
     "text": [
      "[<class '__main__.Child'>,\n",
      " <class '__main__.Parent1'>,\n",
      " <class '__main__.Parent2'>,\n",
      " <class 'object'>]\n"
     ]
    }
   ],
   "source": [
    "import pprint\n",
    "\n",
    "pprint.pprint(Child.mro())"
   ]
  },
  {
   "cell_type": "markdown",
   "metadata": {},
   "source": [
    "### 다중 상속 클래스의 순서 확인 "
   ]
  },
  {
   "cell_type": "code",
   "execution_count": 52,
   "metadata": {},
   "outputs": [],
   "source": [
    "class Parent1:\n",
    "    def __init__(self, name):\n",
    "        print(\"Parent1\")\n",
    "        self.name = name\n",
    "        \n",
    "\n",
    "class Parent2:\n",
    "    def __init__(self, name, age):\n",
    "        print(\"Parent2\")\n",
    "        self.name = name\n",
    "        self.age = age"
   ]
  },
  {
   "cell_type": "markdown",
   "metadata": {},
   "source": [
    "#### 일단 자식클래스에서 사용하는 메소드에 따라 로직을 넣고 처리"
   ]
  },
  {
   "cell_type": "code",
   "execution_count": 75,
   "metadata": {},
   "outputs": [],
   "source": [
    "class Child2(Parent1, Parent2):\n",
    "    def __init__(self, name, age=None):\n",
    "        if age is None:\n",
    "            super(Child2,self).__init__(name)\n",
    "        else:\n",
    "            Parent2.__init__(self, name, age)"
   ]
  },
  {
   "cell_type": "markdown",
   "metadata": {},
   "source": [
    "#### 이름으롼 호출하면 첫번째 클래스만 처리"
   ]
  },
  {
   "cell_type": "code",
   "execution_count": 76,
   "metadata": {},
   "outputs": [
    {
     "name": "stdout",
     "output_type": "stream",
     "text": [
      "Parent1\n",
      "{'name': '다중상속'}\n"
     ]
    }
   ],
   "source": [
    "c1 = Child2(\"다중상속\")\n",
    "print(c1.__dict__)"
   ]
  },
  {
   "cell_type": "markdown",
   "metadata": {},
   "source": [
    "### 부모 클래스를 호출하는 슈퍼클래스 알아보기"
   ]
  },
  {
   "cell_type": "code",
   "execution_count": 43,
   "metadata": {},
   "outputs": [
    {
     "name": "stdout",
     "output_type": "stream",
     "text": [
      "<class 'super'>\n"
     ]
    }
   ],
   "source": [
    "print(super)"
   ]
  },
  {
   "cell_type": "markdown",
   "metadata": {},
   "source": [
    "#### 도움말을 가져와서 내부 예시만 참조"
   ]
  },
  {
   "cell_type": "code",
   "execution_count": 44,
   "metadata": {},
   "outputs": [
    {
     "name": "stdout",
     "output_type": "stream",
     "text": [
      "super() -> same as super(__class__, <first argument>)\n",
      "super(type) -> unbound super object\n",
      "super(type, obj) -> bound super object; requires isinstance(obj, type)\n",
      "super(type, type2) -> bound super object; requires issubclass(type2, type)\n",
      "Typical use to call a cooperative superclass method:\n",
      "\n"
     ]
    }
   ],
   "source": [
    "for i in super.__doc__[:289].split(\"\\n\"):\n",
    "    print(i)"
   ]
  },
  {
   "cell_type": "markdown",
   "metadata": {},
   "source": [
    "#### 클래스와 인스턴스 정보로 클래스를 가져오려면 \n",
    "\n",
    "      상위 클래스를 가져오려면 하위 클래스와 자기 인스턴스를 넣어서 처리해야 한단계 높은 순위를 가져온다.\n",
    "      "
   ]
  },
  {
   "cell_type": "code",
   "execution_count": 90,
   "metadata": {},
   "outputs": [
    {
     "data": {
      "text/plain": [
       "[__main__.Child2, __main__.Parent1, __main__.Parent2, object]"
      ]
     },
     "execution_count": 90,
     "metadata": {},
     "output_type": "execute_result"
    }
   ],
   "source": [
    "Child2.mro()"
   ]
  },
  {
   "cell_type": "code",
   "execution_count": 77,
   "metadata": {},
   "outputs": [
    {
     "data": {
      "text/plain": [
       "<super: __main__.Child2, <__main__.Child2 at 0x6a5d588>>"
      ]
     },
     "execution_count": 77,
     "metadata": {},
     "output_type": "execute_result"
    }
   ],
   "source": [
    "super(Child2,c1)"
   ]
  },
  {
   "cell_type": "code",
   "execution_count": 78,
   "metadata": {},
   "outputs": [],
   "source": [
    "a = super(Child2,c1)"
   ]
  },
  {
   "cell_type": "code",
   "execution_count": 79,
   "metadata": {},
   "outputs": [
    {
     "data": {
      "text/plain": [
       "<super: __main__.Child2, <__main__.Child2 at 0x6a5d588>>"
      ]
     },
     "execution_count": 79,
     "metadata": {},
     "output_type": "execute_result"
    }
   ],
   "source": [
    "a"
   ]
  },
  {
   "cell_type": "code",
   "execution_count": 80,
   "metadata": {},
   "outputs": [
    {
     "name": "stdout",
     "output_type": "stream",
     "text": [
      "Parent1\n"
     ]
    }
   ],
   "source": [
    "a.__init__(\"조현웅\")"
   ]
  },
  {
   "cell_type": "code",
   "execution_count": 81,
   "metadata": {},
   "outputs": [
    {
     "data": {
      "text/plain": [
       "{'name': '조현웅'}"
      ]
     },
     "execution_count": 81,
     "metadata": {},
     "output_type": "execute_result"
    }
   ],
   "source": [
    "c1.__dict__"
   ]
  },
  {
   "cell_type": "code",
   "execution_count": 82,
   "metadata": {},
   "outputs": [],
   "source": [
    "b = super(Parent1,c1)"
   ]
  },
  {
   "cell_type": "code",
   "execution_count": 83,
   "metadata": {},
   "outputs": [
    {
     "data": {
      "text/plain": [
       "<super: __main__.Parent1, <__main__.Child2 at 0x6a5d588>>"
      ]
     },
     "execution_count": 83,
     "metadata": {},
     "output_type": "execute_result"
    }
   ],
   "source": [
    "b"
   ]
  },
  {
   "cell_type": "code",
   "execution_count": 84,
   "metadata": {},
   "outputs": [
    {
     "name": "stdout",
     "output_type": "stream",
     "text": [
      "Parent2\n"
     ]
    }
   ],
   "source": [
    "b.__init__(\"강감찬\",55)"
   ]
  },
  {
   "cell_type": "code",
   "execution_count": 86,
   "metadata": {},
   "outputs": [
    {
     "data": {
      "text/plain": [
       "{'age': 55, 'name': '강감찬'}"
      ]
     },
     "execution_count": 86,
     "metadata": {},
     "output_type": "execute_result"
    }
   ],
   "source": [
    "c1.__dict__"
   ]
  },
  {
   "cell_type": "markdown",
   "metadata": {},
   "source": [
    "####  클래스와 클래스를 넣어서 처리하면 더 상위 클래스를 가져온다 "
   ]
  },
  {
   "cell_type": "code",
   "execution_count": 91,
   "metadata": {},
   "outputs": [],
   "source": [
    "s1 = super(Parent1,Child2)"
   ]
  },
  {
   "cell_type": "code",
   "execution_count": 92,
   "metadata": {},
   "outputs": [
    {
     "data": {
      "text/plain": [
       "<super: __main__.Parent1, __main__.Child2>"
      ]
     },
     "execution_count": 92,
     "metadata": {},
     "output_type": "execute_result"
    }
   ],
   "source": [
    "s1"
   ]
  },
  {
   "cell_type": "code",
   "execution_count": 93,
   "metadata": {},
   "outputs": [
    {
     "name": "stdout",
     "output_type": "stream",
     "text": [
      "Parent2\n"
     ]
    }
   ],
   "source": [
    "s1.__init__(c1, \"달문\",'53')"
   ]
  },
  {
   "cell_type": "code",
   "execution_count": 95,
   "metadata": {},
   "outputs": [
    {
     "data": {
      "text/plain": [
       "{'age': '53', 'name': '달문'}"
      ]
     },
     "execution_count": 95,
     "metadata": {},
     "output_type": "execute_result"
    }
   ],
   "source": [
    "c1.__dict__"
   ]
  },
  {
   "cell_type": "code",
   "execution_count": 97,
   "metadata": {},
   "outputs": [],
   "source": [
    "s2 = super(Parent2,Child2)"
   ]
  },
  {
   "cell_type": "code",
   "execution_count": 100,
   "metadata": {},
   "outputs": [
    {
     "data": {
      "text/plain": [
       "<super: __main__.Parent2, __main__.Child2>"
      ]
     },
     "execution_count": 100,
     "metadata": {},
     "output_type": "execute_result"
    }
   ],
   "source": [
    "s2"
   ]
  },
  {
   "cell_type": "markdown",
   "metadata": {},
   "source": [
    "####  더 상위 메소드를 가져오므로 실제 object 내의 메소드 조회"
   ]
  },
  {
   "cell_type": "code",
   "execution_count": 102,
   "metadata": {},
   "outputs": [
    {
     "name": "stdout",
     "output_type": "stream",
     "text": [
      "object.__init__() takes no parameters\n"
     ]
    }
   ],
   "source": [
    "try :\n",
    "    s2.__init__(c1,\"e\")\n",
    "    \n",
    "except Exception as e :\n",
    "    print(e)"
   ]
  },
  {
   "cell_type": "markdown",
   "metadata": {},
   "source": [
    "### 클래스 속성 참조 하는 법 알아보기"
   ]
  },
  {
   "cell_type": "code",
   "execution_count": 103,
   "metadata": {},
   "outputs": [],
   "source": [
    "class A:\n",
    "    def __init__(self, name):\n",
    "        self.name = name\n",
    "        \n",
    "    def hasattr(self, attrname):\n",
    "        if hasattr(self, attrname):\n",
    "            val = \"B\" # 최상위\n",
    "            if attrname in A.__dict__:\n",
    "                val = \"A\" # 클래스\n",
    "            if attrname in self.__dict__:\n",
    "                val = \"S\" # 인스턴스\n",
    "        else:\n",
    "            val = 'N'\n",
    "        return val\n",
    "    "
   ]
  },
  {
   "cell_type": "code",
   "execution_count": 104,
   "metadata": {},
   "outputs": [
    {
     "name": "stdout",
     "output_type": "stream",
     "text": [
      "True\n",
      "True\n",
      "True\n"
     ]
    }
   ],
   "source": [
    "a = A('Dahl')\n",
    "\n",
    "print(hasattr(a, 'name'))\n",
    "print(hasattr(a, \"__str__\"))\n",
    "print(hasattr(object, \"__str__\"))\n"
   ]
  },
  {
   "cell_type": "markdown",
   "metadata": {},
   "source": [
    "####  __str__은 object 내에 있는 것을 검색"
   ]
  },
  {
   "cell_type": "code",
   "execution_count": 106,
   "metadata": {},
   "outputs": [
    {
     "name": "stdout",
     "output_type": "stream",
     "text": [
      "B\n"
     ]
    }
   ],
   "source": [
    "print(a.hasattr(\"__str__\"))"
   ]
  },
  {
   "cell_type": "markdown",
   "metadata": {},
   "source": [
    "#### 인스턴스  존재"
   ]
  },
  {
   "cell_type": "code",
   "execution_count": 107,
   "metadata": {},
   "outputs": [
    {
     "name": "stdout",
     "output_type": "stream",
     "text": [
      "S\n"
     ]
    }
   ],
   "source": [
    "print(a.hasattr(\"name\"))\n"
   ]
  },
  {
   "cell_type": "markdown",
   "metadata": {},
   "source": [
    "#### 부모클래스에 존재"
   ]
  },
  {
   "cell_type": "code",
   "execution_count": 108,
   "metadata": {},
   "outputs": [
    {
     "name": "stdout",
     "output_type": "stream",
     "text": [
      "A\n"
     ]
    }
   ],
   "source": [
    "print(a.hasattr(\"__init__\"))"
   ]
  },
  {
   "cell_type": "markdown",
   "metadata": {},
   "source": [
    "### 상속된 메소드 호출할 때 바인딩 기준 알아보기"
   ]
  },
  {
   "cell_type": "code",
   "execution_count": 109,
   "metadata": {},
   "outputs": [],
   "source": [
    "class Bird:\n",
    "    def __init__(self):\n",
    "        self.hungry = True\n",
    "    \n",
    "    def eat(self):\n",
    "        if self.hungry:\n",
    "            print(\"Aaaah...\")\n",
    "            self.hungry = False\n",
    "        else:\n",
    "            print(\"No, Thanks!\")\n",
    "            "
   ]
  },
  {
   "cell_type": "markdown",
   "metadata": {},
   "source": [
    "#### 상속을 했지만 SUPER 없이 사용해서 매개변수에 인스턴스를 넣어 줌"
   ]
  },
  {
   "cell_type": "code",
   "execution_count": 111,
   "metadata": {},
   "outputs": [],
   "source": [
    "class SongBird(Bird):\n",
    "    def __init__(self):\n",
    "        Bird.__init__(self)\n",
    "        self.sound = 'Squawk'\n",
    "        \n",
    "    def sing(self):\n",
    "        print(self.sound)\n"
   ]
  },
  {
   "cell_type": "code",
   "execution_count": 112,
   "metadata": {},
   "outputs": [
    {
     "name": "stdout",
     "output_type": "stream",
     "text": [
      "{'hungry': True, 'sound': 'Squawk'}\n"
     ]
    }
   ],
   "source": [
    "sb = SongBird()\n",
    "print(sb.__dict__)"
   ]
  },
  {
   "cell_type": "markdown",
   "metadata": {},
   "source": [
    "#### super를 이용해서 바인딩 처리함 \n",
    "\n",
    "      현재 위치를 super에 정의하면 다음 순서를 가져온다."
   ]
  },
  {
   "cell_type": "code",
   "execution_count": 113,
   "metadata": {},
   "outputs": [],
   "source": [
    "class SongBird_(Bird):\n",
    "    def __init__(self):\n",
    "        super(SongBird_, self).__init__()\n",
    "        self.sound = 'Squawk'\n",
    "        \n",
    "    def sing(self):\n",
    "        print(self.sound)"
   ]
  },
  {
   "cell_type": "code",
   "execution_count": 114,
   "metadata": {},
   "outputs": [
    {
     "name": "stdout",
     "output_type": "stream",
     "text": [
      "{'hungry': True, 'sound': 'Squawk'}\n"
     ]
    }
   ],
   "source": [
    "sb_ = SongBird_()\n",
    "print(sb_.__dict__)"
   ]
  },
  {
   "cell_type": "markdown",
   "metadata": {},
   "source": [
    "### 슈퍼 클래스에 정의된 것을 하위클래스에 지정해 처리 "
   ]
  },
  {
   "cell_type": "code",
   "execution_count": 116,
   "metadata": {},
   "outputs": [],
   "source": [
    "class Bird1:\n",
    "    def __init__(self):\n",
    "        self.hungry = True\n",
    "        \n",
    "    def eat(self):\n",
    "        if self.hungry:\n",
    "            print('Aaaah')\n",
    "            self.hungry = False\n",
    "        else:\n",
    "            print(\"No, Thanks!\")\n",
    "            "
   ]
  },
  {
   "cell_type": "markdown",
   "metadata": {},
   "source": [
    "#### 오버라이딩 대신 상위 클래스에 메소드를 할당해도 오버라이딩으로 인식 "
   ]
  },
  {
   "cell_type": "code",
   "execution_count": 120,
   "metadata": {},
   "outputs": [],
   "source": [
    "class SongBird1(Bird1):\n",
    "    def __init__(self):\n",
    "        Bird1.__init__(self)\n",
    "        self.sound = \"Squawk!\"\n",
    "            \n",
    "    def sing(self):\n",
    "        print(self.sound)\n",
    "        \n",
    "    eat = Bird1.eat"
   ]
  },
  {
   "cell_type": "code",
   "execution_count": 121,
   "metadata": {},
   "outputs": [
    {
     "name": "stdout",
     "output_type": "stream",
     "text": [
      "{'hungry': True, 'sound': 'Squawk!'}\n"
     ]
    }
   ],
   "source": [
    "sb1 = SongBird1()\n",
    "print(sb1.__dict__)"
   ]
  },
  {
   "cell_type": "code",
   "execution_count": 122,
   "metadata": {},
   "outputs": [
    {
     "name": "stdout",
     "output_type": "stream",
     "text": [
      "Aaaah\n"
     ]
    }
   ],
   "source": [
    "sb1.eat()"
   ]
  },
  {
   "cell_type": "markdown",
   "metadata": {},
   "source": [
    "### 상위클래스의 메소드를 바로 이용해서 처리 "
   ]
  },
  {
   "cell_type": "code",
   "execution_count": 123,
   "metadata": {},
   "outputs": [],
   "source": [
    "class Bird2:\n",
    "    def __init__(self):\n",
    "        self.hungry = True\n",
    "        \n",
    "    def eat(self):\n",
    "        if self.hungry:\n",
    "            print('Aaaah')\n",
    "            self.hungry = False\n",
    "        else:\n",
    "            print(\"No, Thanks!\")\n",
    "            "
   ]
  },
  {
   "cell_type": "markdown",
   "metadata": {},
   "source": [
    "#### 오버라이딩 하지 않고 처리 "
   ]
  },
  {
   "cell_type": "code",
   "execution_count": 124,
   "metadata": {},
   "outputs": [],
   "source": [
    "class SongBird2(Bird2):\n",
    "    def __init__(self):\n",
    "        Bird2.__init__(self)\n",
    "        self.sound = \"Squawk!\"\n",
    "            \n",
    "    def sing(self):\n",
    "        print(self.sound)"
   ]
  },
  {
   "cell_type": "code",
   "execution_count": 125,
   "metadata": {},
   "outputs": [
    {
     "name": "stdout",
     "output_type": "stream",
     "text": [
      "{'hungry': True, 'sound': 'Squawk!'}\n",
      "Aaaah\n"
     ]
    }
   ],
   "source": [
    "sb2 = SongBird2()\n",
    "print(sb2.__dict__)\n",
    "sb2.eat()"
   ]
  },
  {
   "cell_type": "markdown",
   "metadata": {},
   "source": [
    "### 오버로딩 모듈을 이용해서 클래스 내의 동일 메소드를 여러 개 처리"
   ]
  },
  {
   "cell_type": "code",
   "execution_count": 127,
   "metadata": {},
   "outputs": [
    {
     "name": "stdout",
     "output_type": "stream",
     "text": [
      "Collecting overload\n",
      "  Downloading https://files.pythonhosted.org/packages/39/49/241d870d1f93fcd9c6d426254128ed0bc3ca524cf963d8f5414540482853/overload-1.1.tar.gz\n",
      "Building wheels for collected packages: overload\n",
      "  Running setup.py bdist_wheel for overload: started\n",
      "  Running setup.py bdist_wheel for overload: finished with status 'done'\n",
      "  Stored in directory: C:\\Users\\06411\\AppData\\Local\\pip\\Cache\\wheels\\bd\\bd\\06\\69680a1b3ad39f87369affc3e999eb0773ffddbb9b50533d61\n",
      "Successfully built overload\n",
      "Installing collected packages: overload\n",
      "Successfully installed overload-1.1\n"
     ]
    }
   ],
   "source": [
    "!pip install overload"
   ]
  },
  {
   "cell_type": "code",
   "execution_count": 128,
   "metadata": {},
   "outputs": [],
   "source": [
    "from overload import overload\n",
    "\n",
    "\n",
    "class A:\n",
    "    @overload\n",
    "    def method(self):\n",
    "        print(\"no args method\")\n",
    "        \n",
    "    @method.add\n",
    "    def method(self, x):\n",
    "        print(\"one args method \" + x)\n",
    "        \n",
    "    @method.add\n",
    "    def method(self, x, y):\n",
    "        print(\"two args method \" + x, y)"
   ]
  },
  {
   "cell_type": "code",
   "execution_count": 130,
   "metadata": {},
   "outputs": [
    {
     "data": {
      "text/plain": [
       "mappingproxy({'__dict__': <attribute '__dict__' of 'A' objects>,\n",
       "              '__doc__': None,\n",
       "              '__module__': '__main__',\n",
       "              '__weakref__': <attribute '__weakref__' of 'A' objects>,\n",
       "              'method': <function __main__.A.method>})"
      ]
     },
     "execution_count": 130,
     "metadata": {},
     "output_type": "execute_result"
    }
   ],
   "source": [
    "A.__dict__"
   ]
  },
  {
   "cell_type": "code",
   "execution_count": 131,
   "metadata": {},
   "outputs": [
    {
     "name": "stdout",
     "output_type": "stream",
     "text": [
      "no args method\n",
      "one args method hello\n",
      "two args method hello world\n"
     ]
    }
   ],
   "source": [
    "a = A()\n",
    "\n",
    "a.method()\n",
    "a.method(\"hello\")\n",
    "a.method(\"hello\", \"world\")"
   ]
  },
  {
   "cell_type": "markdown",
   "metadata": {},
   "source": [
    "#### 정의되지 않은 것을 호출하면 예외발생 "
   ]
  },
  {
   "cell_type": "code",
   "execution_count": 132,
   "metadata": {},
   "outputs": [
    {
     "name": "stdout",
     "output_type": "stream",
     "text": [
      "invalid call argument(s)\n"
     ]
    }
   ],
   "source": [
    "try :\n",
    "    a.method(1,2,3)\n",
    "except Exception as e :\n",
    "    print(e)"
   ]
  },
  {
   "cell_type": "markdown",
   "metadata": {},
   "source": [
    "### 컴포지션 관계 확인하기 "
   ]
  },
  {
   "cell_type": "markdown",
   "metadata": {},
   "source": [
    "#### 컴포지션 대상 클래스 정의"
   ]
  },
  {
   "cell_type": "code",
   "execution_count": 134,
   "metadata": {},
   "outputs": [],
   "source": [
    "class Salary:\n",
    "    def __init__(self, pay):\n",
    "        self.pay = pay\n",
    "        \n",
    "    def get_total(self):\n",
    "        return (self.pay * 12)"
   ]
  },
  {
   "cell_type": "markdown",
   "metadata": {},
   "source": [
    "#### 클래스 내부에 속성에 컴포지션 대상 인스턴스를 넣는다"
   ]
  },
  {
   "cell_type": "code",
   "execution_count": 135,
   "metadata": {},
   "outputs": [],
   "source": [
    "class Employee:\n",
    "    def __init__(self, pay, bonus):\n",
    "        self.pay = pay\n",
    "        self.bonus = bonus\n",
    "        self.obj_salary = Salary(self.pay)\n",
    "        \n",
    "    def annual_salary(self):\n",
    "        return \"Total: \" + str(self.obj_salary.get_total() + self.bonus)\n",
    "    "
   ]
  },
  {
   "cell_type": "markdown",
   "metadata": {},
   "source": [
    "#### 인스턴스를 생성해서 메소드를 호출한다."
   ]
  },
  {
   "cell_type": "code",
   "execution_count": 136,
   "metadata": {},
   "outputs": [
    {
     "name": "stdout",
     "output_type": "stream",
     "text": [
      "Total: 1210\n"
     ]
    }
   ],
   "source": [
    "obj_emp = Employee(100, 10)\n",
    "print(obj_emp.annual_salary())"
   ]
  },
  {
   "cell_type": "markdown",
   "metadata": {},
   "source": [
    "#### 삭제시 같이 삭제 된다"
   ]
  },
  {
   "cell_type": "code",
   "execution_count": 137,
   "metadata": {},
   "outputs": [],
   "source": [
    "del obj_emp"
   ]
  },
  {
   "cell_type": "markdown",
   "metadata": {},
   "source": [
    "### 집계 관계 처리하기 "
   ]
  },
  {
   "cell_type": "markdown",
   "metadata": {},
   "source": [
    "#### 집계 클래스 정의"
   ]
  },
  {
   "cell_type": "code",
   "execution_count": 138,
   "metadata": {},
   "outputs": [],
   "source": [
    "class Salary:\n",
    "    def __init__(self, pay):\n",
    "        self.pay = pay\n",
    "        \n",
    "    def get_total(self):\n",
    "        return (self.pay * 12)"
   ]
  },
  {
   "cell_type": "code",
   "execution_count": 139,
   "metadata": {},
   "outputs": [],
   "source": [
    "class Employee:\n",
    "    def __init__(self, pay, bonus):\n",
    "        self.pay = pay\n",
    "        self.bonus = bonus\n",
    "        \n",
    "    def annual_salary(self):\n",
    "        return \"Total : \" + str(self.pay.get_total() + self.bonus)"
   ]
  },
  {
   "cell_type": "code",
   "execution_count": 142,
   "metadata": {},
   "outputs": [],
   "source": [
    "obj_sal = Salary(100)"
   ]
  },
  {
   "cell_type": "code",
   "execution_count": 143,
   "metadata": {},
   "outputs": [
    {
     "name": "stdout",
     "output_type": "stream",
     "text": [
      "Total : 1210\n"
     ]
    }
   ],
   "source": [
    "\n",
    "obj_emp = Employee(obj_sal, 10)\n",
    "print(obj_emp.annual_salary())"
   ]
  },
  {
   "cell_type": "markdown",
   "metadata": {},
   "source": [
    "#### 삭제해도 전달된 클래스의 인스턴스는 남든다"
   ]
  },
  {
   "cell_type": "code",
   "execution_count": 144,
   "metadata": {},
   "outputs": [
    {
     "name": "stdout",
     "output_type": "stream",
     "text": [
      "<__main__.Salary object at 0x0000000006A6FC50>\n"
     ]
    }
   ],
   "source": [
    "del obj_emp\n",
    "print(obj_sal)"
   ]
  },
  {
   "cell_type": "markdown",
   "metadata": {},
   "source": [
    "### 의존관계 확인하기 "
   ]
  },
  {
   "cell_type": "code",
   "execution_count": 146,
   "metadata": {},
   "outputs": [],
   "source": [
    "class B:\n",
    "    def __init__(self):\n",
    "        print('b')\n",
    "        \n",
    "    def bbb(self):\n",
    "        print(\"B instance method\")"
   ]
  },
  {
   "cell_type": "code",
   "execution_count": 145,
   "metadata": {},
   "outputs": [],
   "source": [
    "class C:\n",
    "    def __init__(self):\n",
    "        print(\"a\")\n",
    "        \n",
    "    def ccc(self, b):\n",
    "        return b.bbb()\n",
    "    "
   ]
  },
  {
   "cell_type": "markdown",
   "metadata": {},
   "source": [
    "#### 의존관계는 실제 메소드에 전달할 때 인스턴스로 전달"
   ]
  },
  {
   "cell_type": "code",
   "execution_count": 147,
   "metadata": {},
   "outputs": [
    {
     "name": "stdout",
     "output_type": "stream",
     "text": [
      "a\n",
      "b\n",
      "B instance method\n"
     ]
    }
   ],
   "source": [
    "a = C()\n",
    "a.ccc(B())"
   ]
  },
  {
   "cell_type": "markdown",
   "metadata": {},
   "source": [
    "### 위임관계 처리하기 "
   ]
  },
  {
   "cell_type": "markdown",
   "metadata": {},
   "source": [
    "#### 위임을 처리하는 클래스를 정의한다"
   ]
  },
  {
   "cell_type": "code",
   "execution_count": 123,
   "metadata": {},
   "outputs": [],
   "source": [
    "class Person:\n",
    "    def __init__(self, name, age):\n",
    "        self.name = name\n",
    "        self.age = age\n",
    "        \n",
    "    def getname(self):\n",
    "        return self.name\n",
    "    \n",
    "    def getage(self):\n",
    "        return self.age"
   ]
  },
  {
   "cell_type": "markdown",
   "metadata": {},
   "source": [
    "#### 인스턴스를 만들 때 세부 정보를 위임 클래스에서 생성된 결과로 처리"
   ]
  },
  {
   "cell_type": "code",
   "execution_count": 124,
   "metadata": {},
   "outputs": [],
   "source": [
    "class Student:\n",
    "    def __init__(self, name, age, college):\n",
    "        self.person = Person(name, age)\n",
    "        self.college = college\n",
    "        \n",
    "    def getname(self):\n",
    "        return self.person.getname()\n",
    "    \n",
    "    def getage(self):\n",
    "        return self.person.getage()"
   ]
  },
  {
   "cell_type": "markdown",
   "metadata": {},
   "source": [
    "#### 인스턴스를 만들고 실제 값을 읽어오면 위임 클래스에서 만든 인스턴스에서 조회한다"
   ]
  },
  {
   "cell_type": "code",
   "execution_count": 125,
   "metadata": {},
   "outputs": [
    {
     "name": "stdout",
     "output_type": "stream",
     "text": [
      "위임\n",
      "22\n"
     ]
    }
   ],
   "source": [
    "s = Student(\"위임\", 22, \"숭실대\")\n",
    "print(s.getname())\n",
    "print(s.getage())"
   ]
  },
  {
   "cell_type": "markdown",
   "metadata": {},
   "source": [
    "### 덕 타입 이해하기 : 함수로 정의하기"
   ]
  },
  {
   "cell_type": "markdown",
   "metadata": {},
   "source": [
    "#### 함수를 정의해서 여러 클래스에서 사용하는 인터페이스를 정의 "
   ]
  },
  {
   "cell_type": "code",
   "execution_count": 149,
   "metadata": {},
   "outputs": [],
   "source": [
    "def in_the_forest(duck):\n",
    "    duck.quack()\n",
    "    duck.feathers()"
   ]
  },
  {
   "cell_type": "code",
   "execution_count": 148,
   "metadata": {},
   "outputs": [],
   "source": [
    "   \n",
    "class Duck:\n",
    "    def quack(self):\n",
    "        print(\"Quaaaaaaack!\")\n",
    "\n",
    "    def feathers(self):\n",
    "        print(\"The duck has white and gray feathers.\")\n",
    "        \n",
    "        \n",
    "class Person:\n",
    "    def quack(self):\n",
    "        print(\"The person imitates a duck.\")\n",
    "        \n",
    "    def feathers(self):\n",
    "        print(\"The person takes a feather from the ground and shows it.\")\n",
    "    \n",
    "    def name(self):\n",
    "        print(\"John Smith\")"
   ]
  },
  {
   "cell_type": "code",
   "execution_count": 150,
   "metadata": {},
   "outputs": [
    {
     "name": "stdout",
     "output_type": "stream",
     "text": [
      "Quaaaaaaack!\n",
      "The duck has white and gray feathers.\n"
     ]
    }
   ],
   "source": [
    "in_the_forest(Duck())"
   ]
  },
  {
   "cell_type": "code",
   "execution_count": 151,
   "metadata": {},
   "outputs": [
    {
     "name": "stdout",
     "output_type": "stream",
     "text": [
      "The person imitates a duck.\n",
      "The person takes a feather from the ground and shows it.\n"
     ]
    }
   ],
   "source": [
    "in_the_forest(Person())"
   ]
  },
  {
   "cell_type": "markdown",
   "metadata": {},
   "source": [
    "#### 별도의 함수를 정의해서 덕타임된 함수를 호출"
   ]
  },
  {
   "cell_type": "code",
   "execution_count": 153,
   "metadata": {},
   "outputs": [],
   "source": [
    "def game():\n",
    "    donald = Duck()\n",
    "    john = Person()\n",
    "    in_the_forest(donald)\n",
    "    in_the_forest(john)\n",
    "    "
   ]
  },
  {
   "cell_type": "code",
   "execution_count": 154,
   "metadata": {},
   "outputs": [
    {
     "name": "stdout",
     "output_type": "stream",
     "text": [
      "function duck typing\n",
      "Quaaaaaaack!\n",
      "The duck has white and gray feathers.\n",
      "The person imitates a duck.\n",
      "The person takes a feather from the ground and shows it.\n"
     ]
    }
   ],
   "source": [
    "print(\"function duck typing\")\n",
    "game()"
   ]
  },
  {
   "cell_type": "markdown",
   "metadata": {},
   "source": [
    "### 덕타입핑 이해하기 : 클래스로 정의"
   ]
  },
  {
   "cell_type": "markdown",
   "metadata": {},
   "source": [
    "#### 인터페이스를 클래스로 정의"
   ]
  },
  {
   "cell_type": "code",
   "execution_count": 158,
   "metadata": {},
   "outputs": [],
   "source": [
    "class InTheForest:\n",
    "    @staticmethod\n",
    "    def quack(self):\n",
    "        self.quack()\n",
    "        \n",
    "    @staticmethod\n",
    "    def feathers(self):\n",
    "        self.feathers()\n",
    "        \n",
    "    @classmethod\n",
    "    def all(cls, self):\n",
    "        cls.quack(self)\n",
    "        cls.feathers(self)"
   ]
  },
  {
   "cell_type": "code",
   "execution_count": 156,
   "metadata": {},
   "outputs": [],
   "source": [
    "\n",
    "class Duck:\n",
    "    def quack(self):\n",
    "        print(\"Quaaaaaaaaack!\")\n",
    "    def feathers(self):\n",
    "        print(\"The duck has white and gray feathers.\")\n",
    "        \n",
    "class Person:\n",
    "    def quack(self):\n",
    "        print(\"The person imitates a duck.\")\n",
    "    def feathers(self):\n",
    "        print(\"The person takes a feather from the ground and shows it.\")\n",
    "    def name(self):\n",
    "        print(\"John Smith\")"
   ]
  },
  {
   "cell_type": "markdown",
   "metadata": {},
   "source": [
    "#### 함수를 호출하지만 내부의 덕타이핑은 클래스의 정적메소드 "
   ]
  },
  {
   "cell_type": "code",
   "execution_count": 159,
   "metadata": {},
   "outputs": [
    {
     "name": "stdout",
     "output_type": "stream",
     "text": [
      "Class duck typing\n",
      "Quaaaaaaaaack!\n",
      "The duck has white and gray feathers.\n",
      "The person imitates a duck.\n",
      "The person takes a feather from the ground and shows it.\n"
     ]
    }
   ],
   "source": [
    "def gameC():\n",
    "    donald = Duck()\n",
    "    john = Person()\n",
    "    InTheForest.all(donald)\n",
    "    InTheForest.all(john)\n",
    "    \n",
    "print(\"Class duck typing\")\n",
    "gameC()"
   ]
  },
  {
   "cell_type": "markdown",
   "metadata": {},
   "source": [
    "### 믹스인 이해하기 "
   ]
  },
  {
   "cell_type": "code",
   "execution_count": 160,
   "metadata": {},
   "outputs": [],
   "source": [
    "class AMixin:\n",
    "    def method(self):\n",
    "        return 'A Mixin'\n",
    "    \n",
    "class BMixin:\n",
    "    def method(self):\n",
    "        return \"B Mixin\""
   ]
  },
  {
   "cell_type": "code",
   "execution_count": 161,
   "metadata": {},
   "outputs": [],
   "source": [
    "class A(AMixin, BMixin):\n",
    "    pass"
   ]
  },
  {
   "cell_type": "code",
   "execution_count": 162,
   "metadata": {},
   "outputs": [
    {
     "name": "stdout",
     "output_type": "stream",
     "text": [
      "A Mixin\n"
     ]
    }
   ],
   "source": [
    "a = A()\n",
    "print(a.method())"
   ]
  },
  {
   "cell_type": "code",
   "execution_count": null,
   "metadata": {},
   "outputs": [],
   "source": []
  },
  {
   "cell_type": "code",
   "execution_count": null,
   "metadata": {},
   "outputs": [],
   "source": []
  }
 ],
 "metadata": {
  "kernelspec": {
   "display_name": "Python 3",
   "language": "python",
   "name": "python3"
  },
  "language_info": {
   "codemirror_mode": {
    "name": "ipython",
    "version": 3
   },
   "file_extension": ".py",
   "mimetype": "text/x-python",
   "name": "python",
   "nbconvert_exporter": "python",
   "pygments_lexer": "ipython3",
   "version": "3.6.6"
  }
 },
 "nbformat": 4,
 "nbformat_minor": 2
}
