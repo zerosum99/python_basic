{
 "cells": [
  {
   "cell_type": "markdown",
   "metadata": {},
   "source": [
    "## 파이썬 완정정복  추상클래스\n"
   ]
  },
  {
   "cell_type": "code",
   "execution_count": 1,
   "metadata": {},
   "outputs": [],
   "source": [
    "import sys"
   ]
  },
  {
   "cell_type": "code",
   "execution_count": 2,
   "metadata": {},
   "outputs": [
    {
     "data": {
      "text/plain": [
       "sys.version_info(major=3, minor=6, micro=6, releaselevel='final', serial=0)"
      ]
     },
     "execution_count": 2,
     "metadata": {},
     "output_type": "execute_result"
    }
   ],
   "source": [
    "sys.version_info"
   ]
  },
  {
   "cell_type": "markdown",
   "metadata": {},
   "source": [
    "### 추상클래스 정의 없이 추상클래스를 만들기 "
   ]
  },
  {
   "cell_type": "code",
   "execution_count": 3,
   "metadata": {},
   "outputs": [],
   "source": [
    "class Base:\n",
    "    def foo(self):\n",
    "        raise NotImplementedError(\"not Imp\")\n",
    "        \n",
    "    def bar(self):\n",
    "        raise NotImplementedError(\"not Imp\")"
   ]
  },
  {
   "cell_type": "markdown",
   "metadata": {},
   "source": [
    "#### 클래스를 상속해서 메소드 하나만 정의"
   ]
  },
  {
   "cell_type": "code",
   "execution_count": 4,
   "metadata": {},
   "outputs": [],
   "source": [
    "class Concrete(Base):\n",
    "    def foo(self):\n",
    "        return \"foo() called\""
   ]
  },
  {
   "cell_type": "markdown",
   "metadata": {},
   "source": [
    "#### 인스턴스 만들기"
   ]
  },
  {
   "cell_type": "code",
   "execution_count": 5,
   "metadata": {},
   "outputs": [
    {
     "data": {
      "text/plain": [
       "'foo() called'"
      ]
     },
     "execution_count": 5,
     "metadata": {},
     "output_type": "execute_result"
    }
   ],
   "source": [
    "c = Concrete()\n",
    "c.foo()\n"
   ]
  },
  {
   "cell_type": "code",
   "execution_count": 6,
   "metadata": {},
   "outputs": [
    {
     "name": "stdout",
     "output_type": "stream",
     "text": [
      "not Imp\n"
     ]
    }
   ],
   "source": [
    "try :\n",
    "    c.bar()\n",
    "except Exception as e :\n",
    "    print(e)"
   ]
  },
  {
   "cell_type": "markdown",
   "metadata": {},
   "source": [
    "#### 일반클래스이므로 인스턴스 생성이 가능"
   ]
  },
  {
   "cell_type": "code",
   "execution_count": 7,
   "metadata": {},
   "outputs": [],
   "source": [
    "b = Base()"
   ]
  },
  {
   "cell_type": "code",
   "execution_count": 8,
   "metadata": {},
   "outputs": [
    {
     "name": "stdout",
     "output_type": "stream",
     "text": [
      "not Imp\n"
     ]
    }
   ],
   "source": [
    "try :\n",
    "    b.foo()\n",
    "except Exception as e :\n",
    "    print(e)"
   ]
  },
  {
   "cell_type": "markdown",
   "metadata": {},
   "source": [
    "### 추상클래스 모듈을 확인하기 "
   ]
  },
  {
   "cell_type": "code",
   "execution_count": 9,
   "metadata": {},
   "outputs": [
    {
     "name": "stdout",
     "output_type": "stream",
     "text": [
      "ABC\n",
      "ABCMeta\n",
      "WeakSet\n",
      "abstractclassmethod\n",
      "abstractmethod\n",
      "abstractproperty\n",
      "abstractstaticmethod\n",
      "get_cache_token\n"
     ]
    }
   ],
   "source": [
    "import abc\n",
    "\n",
    "for i in dir(abc):\n",
    "    if not i.startswith(\"_\"):\n",
    "        print(i)"
   ]
  },
  {
   "cell_type": "markdown",
   "metadata": {},
   "source": [
    "#### 메타클래스가 존재하면 메타클래스가 추상메타클래스를 만든 것을 알 수 있다."
   ]
  },
  {
   "cell_type": "code",
   "execution_count": 10,
   "metadata": {},
   "outputs": [
    {
     "name": "stdout",
     "output_type": "stream",
     "text": [
      "<class 'abc.ABCMeta'>\n",
      "<class 'type'>\n",
      "(<class 'type'>,)\n"
     ]
    }
   ],
   "source": [
    "print(abc.ABCMeta)\n",
    "print(abc.ABCMeta.__class__)\n",
    "print(abc.ABCMeta.__bases__)"
   ]
  },
  {
   "cell_type": "markdown",
   "metadata": {},
   "source": [
    "#### 메타클래스 내의 상속관계 확인"
   ]
  },
  {
   "cell_type": "code",
   "execution_count": 11,
   "metadata": {},
   "outputs": [
    {
     "name": "stdout",
     "output_type": "stream",
     "text": [
      "(<class 'type'>,)\n",
      "[<class 'abc.ABCMeta'>, <class 'type'>, <class 'object'>]\n"
     ]
    }
   ],
   "source": [
    "from abc import ABCMeta\n",
    "\n",
    "\n",
    "print(ABCMeta.__bases__)\n",
    "print(ABCMeta.mro(ABCMeta))"
   ]
  },
  {
   "cell_type": "markdown",
   "metadata": {},
   "source": [
    "### 사용자 추상 클래스 정의 "
   ]
  },
  {
   "cell_type": "code",
   "execution_count": 12,
   "metadata": {},
   "outputs": [],
   "source": [
    "from abc import ABCMeta\n",
    "\n",
    "class MyABC(metaclass=ABCMeta):\n",
    "    pass\n"
   ]
  },
  {
   "cell_type": "markdown",
   "metadata": {},
   "source": [
    "#### 추상클래스를 가지고 상속 : 내부에 아무것도 존재하지 않는다. "
   ]
  },
  {
   "cell_type": "code",
   "execution_count": 13,
   "metadata": {},
   "outputs": [],
   "source": [
    "class MyCon(MyABC):\n",
    "    pass"
   ]
  },
  {
   "cell_type": "code",
   "execution_count": 14,
   "metadata": {},
   "outputs": [
    {
     "data": {
      "text/plain": [
       "abc.ABCMeta"
      ]
     },
     "execution_count": 14,
     "metadata": {},
     "output_type": "execute_result"
    }
   ],
   "source": [
    "type(MyCon)"
   ]
  },
  {
   "cell_type": "code",
   "execution_count": 15,
   "metadata": {},
   "outputs": [],
   "source": [
    "a = MyCon()"
   ]
  },
  {
   "cell_type": "code",
   "execution_count": 16,
   "metadata": {},
   "outputs": [
    {
     "data": {
      "text/plain": [
       "<__main__.MyCon at 0x65ec828>"
      ]
     },
     "execution_count": 16,
     "metadata": {},
     "output_type": "execute_result"
    }
   ],
   "source": [
    "a"
   ]
  },
  {
   "cell_type": "code",
   "execution_count": 17,
   "metadata": {},
   "outputs": [
    {
     "name": "stdout",
     "output_type": "stream",
     "text": [
      "<class 'abc.ABCMeta'>\n",
      "<class 'abc.ABCMeta'>\n"
     ]
    }
   ],
   "source": [
    "print(type(MyABC))\n",
    "print(type(MyCon))"
   ]
  },
  {
   "cell_type": "code",
   "execution_count": 18,
   "metadata": {},
   "outputs": [
    {
     "name": "stdout",
     "output_type": "stream",
     "text": [
      "(<class '__main__.MyABC'>,)\n",
      "True\n",
      "True\n"
     ]
    }
   ],
   "source": [
    "print(MyCon.__bases__)\n",
    "print(issubclass(MyCon, MyABC))\n",
    "print(isinstance(a, MyABC))"
   ]
  },
  {
   "cell_type": "markdown",
   "metadata": {},
   "source": [
    "#### 추상클래스 내부 관계 확인하기"
   ]
  },
  {
   "cell_type": "code",
   "execution_count": 19,
   "metadata": {},
   "outputs": [
    {
     "name": "stdout",
     "output_type": "stream",
     "text": [
      "<class 'abc.ABC'>\n",
      "<class 'abc.ABCMeta'>\n",
      "(<class 'object'>,)\n"
     ]
    }
   ],
   "source": [
    "print(abc.ABC)\n",
    "print(abc.ABC.__class__)\n",
    "print(abc.ABC.__bases__)"
   ]
  },
  {
   "cell_type": "code",
   "execution_count": 20,
   "metadata": {},
   "outputs": [],
   "source": [
    "import pprint"
   ]
  },
  {
   "cell_type": "code",
   "execution_count": 21,
   "metadata": {},
   "outputs": [
    {
     "name": "stdout",
     "output_type": "stream",
     "text": [
      "{'__abstractmethods__',\n",
      " '__dict__',\n",
      " '__module__',\n",
      " '__weakref__',\n",
      " '_abc_cache',\n",
      " '_abc_negative_cache',\n",
      " '_abc_negative_cache_version',\n",
      " '_abc_registry'}\n"
     ]
    }
   ],
   "source": [
    "a = set(dir(abc.ABC))\n",
    "o = set(dir(object))\n",
    "\n",
    "pprint.pprint(a - o)"
   ]
  },
  {
   "cell_type": "markdown",
   "metadata": {},
   "source": [
    "### 인스턴스 메소드가 있는 추상클래스 만들기"
   ]
  },
  {
   "cell_type": "code",
   "execution_count": 22,
   "metadata": {},
   "outputs": [],
   "source": [
    "from abc import ABCMeta, abstractmethod\n",
    "\n",
    "\n",
    "class Base(metaclass=ABCMeta):\n",
    "    @abstractmethod\n",
    "    def foo(self):\n",
    "        return NotImplemented\n",
    "    \n",
    "    @abstractmethod\n",
    "    def bar(self):\n",
    "        return NotImplemented"
   ]
  },
  {
   "cell_type": "markdown",
   "metadata": {},
   "source": [
    "#### 추상클래스를 전부 구현클래스에 미정의 "
   ]
  },
  {
   "cell_type": "code",
   "execution_count": 23,
   "metadata": {},
   "outputs": [],
   "source": [
    "class Concrete(Base):\n",
    "    def foo(self):\n",
    "        pass"
   ]
  },
  {
   "cell_type": "markdown",
   "metadata": {},
   "source": [
    "#### 전부 구현하지 않고 인스턴스 메소드 처리 "
   ]
  },
  {
   "cell_type": "code",
   "execution_count": 24,
   "metadata": {
    "scrolled": true
   },
   "outputs": [
    {
     "name": "stdout",
     "output_type": "stream",
     "text": [
      "Can't instantiate abstract class Concrete with abstract methods bar\n"
     ]
    }
   ],
   "source": [
    "try :\n",
    "    c = Concrete()\n",
    "except Exception as e :\n",
    "    print(e)"
   ]
  },
  {
   "cell_type": "markdown",
   "metadata": {},
   "source": [
    "### 추상클래스를 상속한 후 구현 메소드 전부 정의"
   ]
  },
  {
   "cell_type": "code",
   "execution_count": 25,
   "metadata": {},
   "outputs": [],
   "source": [
    "class Concrete_(Base):\n",
    "    def foo(self):\n",
    "        pass\n",
    "    \n",
    "    def bar(self):\n",
    "        pass"
   ]
  },
  {
   "cell_type": "code",
   "execution_count": 26,
   "metadata": {},
   "outputs": [
    {
     "name": "stdout",
     "output_type": "stream",
     "text": [
      "<__main__.Concrete_ object at 0x00000000065F99E8>\n",
      "True\n",
      "True\n"
     ]
    }
   ],
   "source": [
    "c = Concrete_()\n",
    "print(c)\n",
    "\n",
    "print(issubclass(Concrete_, Base))\n",
    "print(isinstance(c, Base))"
   ]
  },
  {
   "cell_type": "markdown",
   "metadata": {},
   "source": [
    "### 추상 클래스 내에 모든 메소드 정의 "
   ]
  },
  {
   "cell_type": "code",
   "execution_count": 27,
   "metadata": {},
   "outputs": [],
   "source": [
    "from abc import ABCMeta, abstractmethod\n",
    "\n",
    "\n",
    "class BaseCS(metaclass=ABCMeta):\n",
    "    @abstractmethod\n",
    "    def foo(self):\n",
    "        pass\n",
    "    \n",
    "    @abstractmethod\n",
    "    def bar(self):\n",
    "        pass\n",
    "    \n",
    "    @classmethod\n",
    "    @abstractmethod\n",
    "    def clsmethod(cls):\n",
    "        pass\n",
    "    \n",
    "    @staticmethod\n",
    "    @abstractmethod\n",
    "    def stamethod(a):\n",
    "        pass\n",
    "    \n",
    "    @property\n",
    "    @abstractmethod\n",
    "    def propmethod(self):\n",
    "        pass"
   ]
  },
  {
   "cell_type": "markdown",
   "metadata": {},
   "source": [
    "#### 구현 클래스에 일부만 정의"
   ]
  },
  {
   "cell_type": "code",
   "execution_count": 28,
   "metadata": {},
   "outputs": [],
   "source": [
    "class Concrete_CS(BaseCS):\n",
    "    def foo(self):\n",
    "        pass\n",
    "    \n",
    "    def bar(self):\n",
    "        pass"
   ]
  },
  {
   "cell_type": "code",
   "execution_count": 29,
   "metadata": {},
   "outputs": [
    {
     "name": "stdout",
     "output_type": "stream",
     "text": [
      "Can't instantiate abstract class Concrete_CS with abstract methods clsmethod, propmethod, stamethod\n"
     ]
    }
   ],
   "source": [
    "try :\n",
    "    c = Concrete_CS()\n",
    "except Exception as e :\n",
    "    print(e)"
   ]
  },
  {
   "cell_type": "markdown",
   "metadata": {},
   "source": [
    "### 구현클래스에 전부 정의 "
   ]
  },
  {
   "cell_type": "code",
   "execution_count": 30,
   "metadata": {},
   "outputs": [],
   "source": [
    "class Concrete_CS1(BaseCS):\n",
    "    def foo(self):\n",
    "        pass\n",
    "    \n",
    "    def bar(self):\n",
    "        pass\n",
    "    \n",
    "    @classmethod\n",
    "    def clsmethod(cls):\n",
    "        pass\n",
    "    \n",
    "    @staticmethod\n",
    "    def stamethod(a):\n",
    "        pass\n",
    "    \n",
    "    @property\n",
    "    def propmethod(self):\n",
    "        pass"
   ]
  },
  {
   "cell_type": "code",
   "execution_count": 31,
   "metadata": {},
   "outputs": [
    {
     "name": "stdout",
     "output_type": "stream",
     "text": [
      "True\n",
      "True\n"
     ]
    }
   ],
   "source": [
    "cs1 = Concrete_CS1()\n",
    "print(issubclass(Concrete_CS1, BaseCS))\n",
    "print(isinstance(cs1, BaseCS))"
   ]
  },
  {
   "cell_type": "markdown",
   "metadata": {},
   "source": [
    "### 추상클래스에 프로퍼티 정의 "
   ]
  },
  {
   "cell_type": "code",
   "execution_count": 32,
   "metadata": {},
   "outputs": [],
   "source": [
    "from abc import abstractmethod\n",
    "\n",
    "class C(metaclass=abc.ABCMeta):\n",
    "    @property\n",
    "    @abstractmethod\n",
    "    def foo(self):\n",
    "        pass\n",
    "    \n",
    "    @foo.setter\n",
    "    @abstractmethod\n",
    "    def foo(self, value):\n",
    "        pass    "
   ]
  },
  {
   "cell_type": "markdown",
   "metadata": {},
   "source": [
    "#### 구현 클래스에 프로퍼티 정의 "
   ]
  },
  {
   "cell_type": "code",
   "execution_count": 33,
   "metadata": {},
   "outputs": [],
   "source": [
    "class D(C):\n",
    "    @property\n",
    "    def foo(self):\n",
    "        return 3\n",
    "    \n",
    "    @foo.setter\n",
    "    def foo(self, value):\n",
    "        pass"
   ]
  },
  {
   "cell_type": "code",
   "execution_count": 34,
   "metadata": {},
   "outputs": [
    {
     "name": "stdout",
     "output_type": "stream",
     "text": [
      "3\n"
     ]
    }
   ],
   "source": [
    "d = D()\n",
    "print(d.foo)"
   ]
  },
  {
   "cell_type": "markdown",
   "metadata": {},
   "source": [
    "### 추상클래스 상속없이 등록하기 "
   ]
  },
  {
   "cell_type": "code",
   "execution_count": 35,
   "metadata": {},
   "outputs": [],
   "source": [
    "from abc import ABC, ABCMeta\n",
    "\n",
    "\n",
    "class MyABC(ABC):\n",
    "    pass"
   ]
  },
  {
   "cell_type": "code",
   "execution_count": 36,
   "metadata": {},
   "outputs": [
    {
     "name": "stdout",
     "output_type": "stream",
     "text": [
      "True\n",
      "<class 'abc.ABCMeta'>\n",
      "(<class 'abc.ABC'>,)\n"
     ]
    }
   ],
   "source": [
    "print(issubclass(MyABC, ABC))\n",
    "print(MyABC.__class__)\n",
    "print(MyABC.__bases__)"
   ]
  },
  {
   "cell_type": "code",
   "execution_count": 37,
   "metadata": {},
   "outputs": [
    {
     "name": "stdout",
     "output_type": "stream",
     "text": [
      "mro\n",
      "register\n"
     ]
    }
   ],
   "source": [
    "for i in dir(ABCMeta):\n",
    "    if not i.startswith(\"_\"):\n",
    "        print(i)"
   ]
  },
  {
   "cell_type": "markdown",
   "metadata": {},
   "source": [
    "#### 등록하는 메소드 확인 "
   ]
  },
  {
   "cell_type": "code",
   "execution_count": 38,
   "metadata": {},
   "outputs": [
    {
     "data": {
      "text/plain": [
       "<bound method ABCMeta.register of <class '__main__.MyABC'>>"
      ]
     },
     "execution_count": 38,
     "metadata": {},
     "output_type": "execute_result"
    }
   ],
   "source": [
    "MyABC.register"
   ]
  },
  {
   "cell_type": "markdown",
   "metadata": {},
   "source": [
    "#### 임의의 등록하기"
   ]
  },
  {
   "cell_type": "code",
   "execution_count": 39,
   "metadata": {},
   "outputs": [
    {
     "name": "stdout",
     "output_type": "stream",
     "text": [
      "True\n",
      "True\n"
     ]
    }
   ],
   "source": [
    "MyABC.register(tuple)\n",
    "\n",
    "print(issubclass(tuple, MyABC))\n",
    "print(isinstance(tuple(), MyABC))"
   ]
  },
  {
   "cell_type": "markdown",
   "metadata": {},
   "source": [
    "### 추상클래스 만들고 사용자 정의 클래스 등록하기 "
   ]
  },
  {
   "cell_type": "code",
   "execution_count": 40,
   "metadata": {},
   "outputs": [],
   "source": [
    "import abc\n",
    "\n",
    "\n",
    "class PB(metaclass=abc.ABCMeta):\n",
    "    \n",
    "    @abc.abstractmethod\n",
    "    def load(self, input):\n",
    "        \"\"\"Retrieve data from the input source\n",
    "        and return an object\"\"\"\n",
    "        \n",
    "    @abc.abstractmethod\n",
    "    def save(self, output, data):\n",
    "        \"\"\"Save data object to the output\"\"\"\n",
    "        \n",
    "        "
   ]
  },
  {
   "cell_type": "markdown",
   "metadata": {},
   "source": [
    "#### 일반 부모 클래스 정의  "
   ]
  },
  {
   "cell_type": "code",
   "execution_count": 41,
   "metadata": {},
   "outputs": [],
   "source": [
    "class LocalBaseClass:\n",
    "    pass"
   ]
  },
  {
   "cell_type": "markdown",
   "metadata": {},
   "source": [
    "#### 일반 클래스 정의하고 데코레이터를 통해 추상클래스 등록하기"
   ]
  },
  {
   "cell_type": "code",
   "execution_count": 42,
   "metadata": {},
   "outputs": [],
   "source": [
    "@PB.register\n",
    "class RegImp(LocalBaseClass):\n",
    "    def load(self, input):\n",
    "        return input.read()\n",
    "    \n",
    "    def save(self, output, data):\n",
    "        return output.write(data)\n",
    "    "
   ]
  },
  {
   "cell_type": "markdown",
   "metadata": {},
   "source": [
    "#### 부모 클래스는 추상클래스에 등록하지 않아서 상속관계가 아님 "
   ]
  },
  {
   "cell_type": "code",
   "execution_count": 43,
   "metadata": {},
   "outputs": [
    {
     "name": "stdout",
     "output_type": "stream",
     "text": [
      "Subclass: False\n",
      "Instance: False\n"
     ]
    }
   ],
   "source": [
    "print(\"Subclass:\", issubclass(LocalBaseClass, PB))\n",
    "print(\"Instance:\", isinstance(LocalBaseClass(), PB))"
   ]
  },
  {
   "cell_type": "markdown",
   "metadata": {},
   "source": [
    "#### 등록된 클래스는 추상클래스를 상속"
   ]
  },
  {
   "cell_type": "code",
   "execution_count": 44,
   "metadata": {},
   "outputs": [
    {
     "name": "stdout",
     "output_type": "stream",
     "text": [
      "Subclass: True\n",
      "Instance: True\n"
     ]
    }
   ],
   "source": [
    "print(\"Subclass:\", issubclass(RegImp, PB))\n",
    "print(\"Instance:\", isinstance(RegImp(), PB))"
   ]
  },
  {
   "cell_type": "markdown",
   "metadata": {},
   "source": [
    "### 상속관계를 나타내는 클래스를 오버라이딩 하기"
   ]
  },
  {
   "cell_type": "code",
   "execution_count": 45,
   "metadata": {},
   "outputs": [],
   "source": [
    "import abc\n",
    "\n",
    "class ABCD(abc.ABC):\n",
    "    def __len__(self):\n",
    "        return NotImplemented\n",
    "    \n",
    "    @classmethod\n",
    "    def __subclasshook__(cls, C):\n",
    "        print(\"__subclasshook__\")\n",
    "        if any(\"__len__\" in B.__dict__ for B in C.__mro__):\n",
    "            return True\n",
    "        else:\n",
    "            return False"
   ]
  },
  {
   "cell_type": "code",
   "execution_count": 46,
   "metadata": {},
   "outputs": [],
   "source": [
    "class Seq(ABCD):\n",
    "    def __init__(self, seqs):\n",
    "        self.seqs = seqs\n",
    "        \n",
    "    def __len__(self):\n",
    "        print(\" Seq __len__ \")\n",
    "        return str.__len__(self.seqs)"
   ]
  },
  {
   "cell_type": "markdown",
   "metadata": {},
   "source": [
    "#### 상속관계 확인하기 "
   ]
  },
  {
   "cell_type": "code",
   "execution_count": 47,
   "metadata": {},
   "outputs": [
    {
     "name": "stdout",
     "output_type": "stream",
     "text": [
      "__subclasshook__\n",
      "True\n",
      "True\n",
      " Seq __len__ \n",
      "3\n"
     ]
    }
   ],
   "source": [
    "s = Seq(\"문자열\")\n",
    "\n",
    "print(issubclass(Seq, ABCD))\n",
    "print(isinstance(s, ABCD))\n",
    "\n",
    "print(len(s))"
   ]
  },
  {
   "cell_type": "code",
   "execution_count": 48,
   "metadata": {},
   "outputs": [
    {
     "name": "stdout",
     "output_type": "stream",
     "text": [
      "(<class '__main__.Not_seq'>, <class 'object'>)\n"
     ]
    }
   ],
   "source": [
    "class Not_seq:\n",
    "    pass\n",
    "\n",
    "\n",
    "print(Not_seq.__mro__)"
   ]
  },
  {
   "cell_type": "code",
   "execution_count": 49,
   "metadata": {},
   "outputs": [
    {
     "name": "stdout",
     "output_type": "stream",
     "text": [
      "__subclasshook__\n",
      "False\n",
      "False\n"
     ]
    }
   ],
   "source": [
    "print(issubclass(Not_seq, ABCD))\n",
    "print(isinstance(Not_seq(), ABCD))"
   ]
  },
  {
   "cell_type": "markdown",
   "metadata": {},
   "source": [
    "### 인스턴스 관계 조정하기 "
   ]
  },
  {
   "cell_type": "code",
   "execution_count": 50,
   "metadata": {},
   "outputs": [],
   "source": [
    "import abc\n",
    "\n",
    "class Enumeration(abc.ABCMeta):\n",
    "    def __instancecheck__(self, other):\n",
    "        print('hi')\n",
    "        if type(other) == type(self):\n",
    "            return True\n",
    "        else:\n",
    "            return False"
   ]
  },
  {
   "cell_type": "markdown",
   "metadata": {},
   "source": [
    "####  추상클래스를 정의 "
   ]
  },
  {
   "cell_type": "code",
   "execution_count": 51,
   "metadata": {},
   "outputs": [
    {
     "name": "stdout",
     "output_type": "stream",
     "text": [
      "hi\n",
      "False\n",
      "hi\n",
      "True\n"
     ]
    }
   ],
   "source": [
    "class EnumInt(metaclass=Enumeration):\n",
    "    pass\n",
    "\n",
    "\n",
    "print(isinstance('abc', EnumInt))\n",
    "print(isinstance(EnumInt, EnumInt))"
   ]
  },
  {
   "cell_type": "markdown",
   "metadata": {},
   "source": [
    "#### 인스턴스 관계를 확인하기 "
   ]
  },
  {
   "cell_type": "code",
   "execution_count": 52,
   "metadata": {},
   "outputs": [
    {
     "name": "stdout",
     "output_type": "stream",
     "text": [
      "True\n"
     ]
    }
   ],
   "source": [
    "c = EnumInt()\n",
    "print(isinstance(c, EnumInt))"
   ]
  },
  {
   "cell_type": "code",
   "execution_count": 53,
   "metadata": {},
   "outputs": [
    {
     "name": "stdout",
     "output_type": "stream",
     "text": [
      "hi\n"
     ]
    },
    {
     "data": {
      "text/plain": [
       "True"
      ]
     },
     "execution_count": 53,
     "metadata": {},
     "output_type": "execute_result"
    }
   ],
   "source": [
    "Enumeration.__instancecheck__(c, c)"
   ]
  },
  {
   "cell_type": "code",
   "execution_count": null,
   "metadata": {},
   "outputs": [],
   "source": []
  }
 ],
 "metadata": {
  "kernelspec": {
   "display_name": "Python 3",
   "language": "python",
   "name": "python3"
  },
  "language_info": {
   "codemirror_mode": {
    "name": "ipython",
    "version": 3
   },
   "file_extension": ".py",
   "mimetype": "text/x-python",
   "name": "python",
   "nbconvert_exporter": "python",
   "pygments_lexer": "ipython3",
   "version": "3.6.6"
  }
 },
 "nbformat": 4,
 "nbformat_minor": 2
}
