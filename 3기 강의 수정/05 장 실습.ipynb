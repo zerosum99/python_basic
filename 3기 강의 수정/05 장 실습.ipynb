{
 "cells": [
  {
   "cell_type": "markdown",
   "metadata": {},
   "source": [
    "## 파이썬 완정정복 클래스 내부 메소드 생성 규칙 및 정보은닉 처리 알아보기\n"
   ]
  },
  {
   "cell_type": "code",
   "execution_count": 1,
   "metadata": {},
   "outputs": [],
   "source": [
    "import sys"
   ]
  },
  {
   "cell_type": "code",
   "execution_count": 2,
   "metadata": {},
   "outputs": [
    {
     "data": {
      "text/plain": [
       "sys.version_info(major=3, minor=6, micro=6, releaselevel='final', serial=0)"
      ]
     },
     "execution_count": 2,
     "metadata": {},
     "output_type": "execute_result"
    }
   ],
   "source": [
    "sys.version_info"
   ]
  },
  {
   "cell_type": "markdown",
   "metadata": {},
   "source": [
    "### 클래스 네임스페이스 알아보기"
   ]
  },
  {
   "cell_type": "code",
   "execution_count": 3,
   "metadata": {},
   "outputs": [],
   "source": [
    "class Person:\n",
    "    def __init__(self, name, age):\n",
    "        self.name = name\n",
    "        self.age = age\n",
    "        \n",
    "    def getPerson(self):\n",
    "        return self.name, self.age\n",
    "    \n"
   ]
  },
  {
   "cell_type": "markdown",
   "metadata": {},
   "source": [
    "#### 사용자 클래스와 object 클래스 네임스페이스 비교"
   ]
  },
  {
   "cell_type": "code",
   "execution_count": 4,
   "metadata": {},
   "outputs": [
    {
     "name": "stdout",
     "output_type": "stream",
     "text": [
      "{'__module__', '__dict__', '__weakref__', 'getPerson'}\n"
     ]
    }
   ],
   "source": [
    "p = set(Person.__dict__)    \n",
    "o = set(object.__dict__)\n",
    "\n",
    "print(p - o)\n"
   ]
  },
  {
   "cell_type": "markdown",
   "metadata": {},
   "source": [
    "####  공통 요소 확인 "
   ]
  },
  {
   "cell_type": "code",
   "execution_count": 5,
   "metadata": {},
   "outputs": [
    {
     "name": "stdout",
     "output_type": "stream",
     "text": [
      "{'__doc__', '__init__'}\n"
     ]
    }
   ],
   "source": [
    "print(p & o)"
   ]
  },
  {
   "cell_type": "markdown",
   "metadata": {},
   "source": [
    "### 인스턴스 네임스페이스 확인 "
   ]
  },
  {
   "cell_type": "code",
   "execution_count": 6,
   "metadata": {},
   "outputs": [],
   "source": [
    "class Person:\n",
    "    def __init__(self, name, age):\n",
    "        self.name = name\n",
    "        self.age = age\n",
    "        \n",
    "    def getPerson(self):\n",
    "        return self.name, self.age\n"
   ]
  },
  {
   "cell_type": "markdown",
   "metadata": {},
   "source": [
    "#### 인스턴스 네임스페이스는 기본적으로 초기화 내부의 속성을 가진다."
   ]
  },
  {
   "cell_type": "code",
   "execution_count": 7,
   "metadata": {},
   "outputs": [
    {
     "name": "stdout",
     "output_type": "stream",
     "text": [
      "<__main__.Person object at 0x00000000065B6E48>\n",
      "{'name': 'dahl', 'age': 50}\n"
     ]
    }
   ],
   "source": [
    "p = Person('dahl', 50)\n",
    "print(p)\n",
    "print(p.__dict__)"
   ]
  },
  {
   "cell_type": "markdown",
   "metadata": {},
   "source": [
    "### 메소드 정의할 때 내부 속성 확인 "
   ]
  },
  {
   "cell_type": "code",
   "execution_count": 8,
   "metadata": {},
   "outputs": [],
   "source": [
    "class Person:\n",
    "    def __init__(self, name, age):\n",
    "        self.name = name\n",
    "        self.age = age\n",
    "        \n",
    "    def getPerson(self):\n",
    "        var_mt = \"method attribute\"\n",
    "        print(\"getPerson\", locals())\n",
    "        return self.name, self.age\n",
    "    "
   ]
  },
  {
   "cell_type": "markdown",
   "metadata": {},
   "source": [
    "#### 정의한 것은 메소드가 아닌 함수이므로 내부 속성을 지역변수"
   ]
  },
  {
   "cell_type": "code",
   "execution_count": 9,
   "metadata": {},
   "outputs": [
    {
     "name": "stdout",
     "output_type": "stream",
     "text": [
      "<__main__.Person object at 0x00000000065BF2B0>\n",
      "{'name': 'dahl', 'age': 50}\n",
      "getPerson {'var_mt': 'method attribute', 'self': <__main__.Person object at 0x00000000065BF2B0>}\n",
      "('dahl', 50)\n"
     ]
    }
   ],
   "source": [
    "p = Person(\"dahl\", 50)\n",
    "print(p)\n",
    "print(p.__dict__)\n",
    "print(p.getPerson())"
   ]
  },
  {
   "cell_type": "markdown",
   "metadata": {},
   "source": [
    "### 보호 속성 확인하기 \n",
    "\n",
    "      관행상 보호 속성이므로 실질적으로는 접근이 가능하다"
   ]
  },
  {
   "cell_type": "markdown",
   "metadata": {},
   "source": [
    "#### 초기화 내부에 보호속성 메소드를 호출해서 보호속성이 인스턴스에 들어가도록 한다"
   ]
  },
  {
   "cell_type": "code",
   "execution_count": 10,
   "metadata": {},
   "outputs": [],
   "source": [
    "class Protected:\n",
    "    def __init__(self, name, age):\n",
    "        self._set(name, age)\n",
    "        \n",
    "    def _set(self, name, age):\n",
    "        self._name = name\n",
    "        self._age = age\n",
    "        \n",
    "    def getname(self):\n",
    "        return self._name\n",
    "    \n",
    "    def getage(self):\n",
    "        return self._age"
   ]
  },
  {
   "cell_type": "markdown",
   "metadata": {},
   "source": [
    "#### 인스턴스에 보호속성이 생성되어 들어간다"
   ]
  },
  {
   "cell_type": "code",
   "execution_count": 11,
   "metadata": {},
   "outputs": [
    {
     "name": "stdout",
     "output_type": "stream",
     "text": [
      "{'_name': '정찬혁', '_age': 31}\n"
     ]
    }
   ],
   "source": [
    "p = Protected(\"정찬혁\", 31)\n",
    "\n",
    "print(p.__dict__)"
   ]
  },
  {
   "cell_type": "markdown",
   "metadata": {},
   "source": [
    "#### 일반 메소드들도 내부에서 보호속성으로 처리하도록 한다"
   ]
  },
  {
   "cell_type": "code",
   "execution_count": 12,
   "metadata": {},
   "outputs": [
    {
     "name": "stdout",
     "output_type": "stream",
     "text": [
      "정찬혁\n",
      "31\n"
     ]
    }
   ],
   "source": [
    "print(p.getname())\n",
    "print(p.getage())"
   ]
  },
  {
   "cell_type": "markdown",
   "metadata": {},
   "source": [
    "#### 직접 접근도 가능하다"
   ]
  },
  {
   "cell_type": "code",
   "execution_count": 13,
   "metadata": {},
   "outputs": [
    {
     "name": "stdout",
     "output_type": "stream",
     "text": [
      "정찬혁\n",
      "31\n"
     ]
    }
   ],
   "source": [
    "print(p._name)\n",
    "print(p._age)"
   ]
  },
  {
   "cell_type": "markdown",
   "metadata": {},
   "source": [
    "### 맹글링으로 속성 보호하기"
   ]
  },
  {
   "cell_type": "code",
   "execution_count": 14,
   "metadata": {},
   "outputs": [],
   "source": [
    "class Mangling:\n",
    "    def __init__(self, name, age):\n",
    "        self.__set(name, age)\n",
    "        \n",
    "    def __set(self, name, age):\n",
    "        self.__name = name\n",
    "        self.__age = age\n",
    "        \n",
    "    def getname(self):\n",
    "        return self.__name\n",
    "    \n",
    "    def getage(self):\n",
    "        return self.__age"
   ]
  },
  {
   "cell_type": "code",
   "execution_count": 15,
   "metadata": {},
   "outputs": [
    {
     "name": "stdout",
     "output_type": "stream",
     "text": [
      "{'_Mangling__name': '정찬혁', '_Mangling__age': 31}\n"
     ]
    }
   ],
   "source": [
    "p = Mangling(\"정찬혁\", 31)\n",
    "print(p.__dict__)"
   ]
  },
  {
   "cell_type": "code",
   "execution_count": 16,
   "metadata": {},
   "outputs": [
    {
     "name": "stdout",
     "output_type": "stream",
     "text": [
      "정찬혁\n",
      "31\n"
     ]
    }
   ],
   "source": [
    "print(p.getname())\n",
    "print(p.getage())"
   ]
  },
  {
   "cell_type": "markdown",
   "metadata": {},
   "source": [
    "#### 실제 접근하면 예외가 발생한다."
   ]
  },
  {
   "cell_type": "code",
   "execution_count": 17,
   "metadata": {},
   "outputs": [
    {
     "name": "stdout",
     "output_type": "stream",
     "text": [
      "'Mangling' object has no attribute '__name'\n"
     ]
    }
   ],
   "source": [
    "try: \n",
    "    p.__name\n",
    "    \n",
    "except Exception as e :\n",
    "    print(e)\n"
   ]
  },
  {
   "cell_type": "markdown",
   "metadata": {},
   "source": [
    "#### 전체 이름으로 접근한다."
   ]
  },
  {
   "cell_type": "code",
   "execution_count": 18,
   "metadata": {},
   "outputs": [
    {
     "name": "stdout",
     "output_type": "stream",
     "text": [
      "정찬혁\n",
      "31\n"
     ]
    }
   ],
   "source": [
    "print(p._Mangling__name)\n",
    "print(p._Mangling__age)"
   ]
  },
  {
   "cell_type": "markdown",
   "metadata": {},
   "source": [
    "#### 맹글링으로 정의된 내부 확인하기 "
   ]
  },
  {
   "cell_type": "code",
   "execution_count": 19,
   "metadata": {},
   "outputs": [
    {
     "name": "stdout",
     "output_type": "stream",
     "text": [
      "mappingproxy({'_Mangling__set': <function Mangling.__set at 0x00000000065C2730>,\n",
      "              '__dict__': <attribute '__dict__' of 'Mangling' objects>,\n",
      "              '__doc__': None,\n",
      "              '__init__': <function Mangling.__init__ at 0x00000000065C27B8>,\n",
      "              '__module__': '__main__',\n",
      "              '__weakref__': <attribute '__weakref__' of 'Mangling' objects>,\n",
      "              'getage': <function Mangling.getage at 0x00000000065C2620>,\n",
      "              'getname': <function Mangling.getname at 0x00000000065C26A8>})\n"
     ]
    }
   ],
   "source": [
    "import pprint\n",
    "\n",
    "pprint.pprint(Mangling.__dict__)"
   ]
  },
  {
   "cell_type": "markdown",
   "metadata": {},
   "source": [
    "#### 인스턴스에서 맹글링 메소드 접근 "
   ]
  },
  {
   "cell_type": "code",
   "execution_count": 20,
   "metadata": {},
   "outputs": [
    {
     "name": "stdout",
     "output_type": "stream",
     "text": [
      "'Mangling' object has no attribute '__set'\n"
     ]
    }
   ],
   "source": [
    "try :\n",
    "    p.__set(\"맹글링\", 55)\n",
    "except Exception as e :\n",
    "    print(e)"
   ]
  },
  {
   "cell_type": "markdown",
   "metadata": {},
   "source": [
    "#### 맹글링 풀 이름으로 메소드 접근하면 실행 가능"
   ]
  },
  {
   "cell_type": "code",
   "execution_count": 21,
   "metadata": {},
   "outputs": [],
   "source": [
    "p._Mangling__set(\"맹글링\", 55)"
   ]
  },
  {
   "cell_type": "code",
   "execution_count": 22,
   "metadata": {},
   "outputs": [
    {
     "data": {
      "text/plain": [
       "{'_Mangling__age': 55, '_Mangling__name': '맹글링'}"
      ]
     },
     "execution_count": 22,
     "metadata": {},
     "output_type": "execute_result"
    }
   ],
   "source": [
    "p.__dict__"
   ]
  },
  {
   "cell_type": "markdown",
   "metadata": {},
   "source": [
    "### 메소드는 오버로딩 불가"
   ]
  },
  {
   "cell_type": "markdown",
   "metadata": {},
   "source": [
    "#### 클래스 내의 함수가 네임스페이스로 갈 때 \n",
    "\n",
    "     이름이 동일하므로 딕셔너리에 첫번째가 할당되고 이후에 두번째의 함수 객체가 값으로 들어간다."
   ]
  },
  {
   "cell_type": "code",
   "execution_count": 23,
   "metadata": {},
   "outputs": [
    {
     "name": "stdout",
     "output_type": "stream",
     "text": [
      "add 1  <function X.add at 0x00000000065C2268>\n",
      "add 2  <function X.add at 0x00000000065C20D0>\n"
     ]
    }
   ],
   "source": [
    "class X:\n",
    "    def add(self):\n",
    "        pass\n",
    "    print(\"add 1 \", add)\n",
    "    def add(self, x):\n",
    "        return x\n",
    "    print(\"add 2 \", add)"
   ]
  },
  {
   "cell_type": "code",
   "execution_count": 24,
   "metadata": {},
   "outputs": [
    {
     "name": "stdout",
     "output_type": "stream",
     "text": [
      "{'__module__': '__main__', 'add': <function X.add at 0x00000000065C20D0>, '__dict__': <attribute '__dict__' of 'X' objects>, '__weakref__': <attribute '__weakref__' of 'X' objects>, '__doc__': None}\n",
      "5\n",
      "<class 'method'>\n"
     ]
    }
   ],
   "source": [
    "x = X()\n",
    "print(X.__dict__)\n",
    "print(x.add(5))\n",
    "print(type(x.add))"
   ]
  },
  {
   "cell_type": "markdown",
   "metadata": {},
   "source": [
    "#### 첫번째 함수를 가진 메소드는 없는 것을 알 수 있다."
   ]
  },
  {
   "cell_type": "code",
   "execution_count": 25,
   "metadata": {},
   "outputs": [
    {
     "name": "stdout",
     "output_type": "stream",
     "text": [
      "add() missing 1 required positional argument: 'x'\n"
     ]
    }
   ],
   "source": [
    "try :\n",
    "    x.add()\n",
    "except Exception as e :\n",
    "    print(e)"
   ]
  },
  {
   "cell_type": "markdown",
   "metadata": {},
   "source": [
    "### 인스턴스 메소드의 self 이해하기"
   ]
  },
  {
   "cell_type": "markdown",
   "metadata": {},
   "source": [
    "#### 클래스 정의할 때 내부의 함수에 self 자리를 없애고 가변인자로 받는다\n",
    "\n",
    "       대신 인스턴스 위치에 가변인자의 첫번째 위치를 가져같다.\n",
    "       클래스 내부에 정의된 인스턴스 메소드는 첫번째 자리가 이름과 상관없이 인스턴스가 들어가는 것을 알 수 있다."
   ]
  },
  {
   "cell_type": "code",
   "execution_count": 26,
   "metadata": {},
   "outputs": [],
   "source": [
    "class Init:\n",
    "    def __init__(*args):\n",
    "        print(args)\n",
    "        args[0].name = args[1]\n",
    "        \n",
    "    def getName(*args):\n",
    "        return args[0].name\n",
    "    "
   ]
  },
  {
   "cell_type": "markdown",
   "metadata": {},
   "source": [
    "####  실제 인스턴스를 만들고 실행해도 잘 처리가 된다"
   ]
  },
  {
   "cell_type": "code",
   "execution_count": 27,
   "metadata": {},
   "outputs": [
    {
     "name": "stdout",
     "output_type": "stream",
     "text": [
      "(<__main__.Init object at 0x00000000065B6978>, 'dahl')\n",
      "<__main__.Init object at 0x00000000065B6978>\n",
      "dahl\n"
     ]
    }
   ],
   "source": [
    "c = Init('dahl')\n",
    "\n",
    "print(c)\n",
    "\n",
    "print(c.getName())"
   ]
  },
  {
   "cell_type": "markdown",
   "metadata": {},
   "source": [
    "### 실제 self 정보를 확인하기 "
   ]
  },
  {
   "cell_type": "code",
   "execution_count": 28,
   "metadata": {},
   "outputs": [],
   "source": [
    "class A:\n",
    "    def __init__(self, name):\n",
    "        print(\"__self__\", self.__init__.__self__)\n",
    "        self.name = name\n"
   ]
  },
  {
   "cell_type": "code",
   "execution_count": 29,
   "metadata": {},
   "outputs": [
    {
     "name": "stdout",
     "output_type": "stream",
     "text": [
      "__self__ <__main__.A object at 0x00000000065BFE48>\n"
     ]
    }
   ],
   "source": [
    "a = A('dahl')\n"
   ]
  },
  {
   "cell_type": "markdown",
   "metadata": {},
   "source": [
    "#### 메소드 내부에 __self__, __func__ 이 생성되어 있다. "
   ]
  },
  {
   "cell_type": "code",
   "execution_count": 30,
   "metadata": {},
   "outputs": [
    {
     "name": "stdout",
     "output_type": "stream",
     "text": [
      "['__call__', '__class__', '__delattr__', '__dir__', '__doc__', '__eq__', '__format__', '__func__', '__ge__', '__get__', '__getattribute__', '__gt__', '__hash__', '__init__', '__init_subclass__', '__le__', '__lt__', '__ne__', '__new__', '__reduce__', '__reduce_ex__', '__repr__', '__self__', '__setattr__', '__sizeof__', '__str__', '__subclasshook__']\n",
      "<class 'method'>\n",
      "<function A.__init__ at 0x00000000065BABF8>\n",
      "<__main__.A object at 0x00000000065BFE48>\n"
     ]
    }
   ],
   "source": [
    "print(dir(a.__init__))\n",
    "print(a.__init__.__class__)\n",
    "print(a.__init__.__func__)\n",
    "print(a.__init__.__self__)"
   ]
  },
  {
   "cell_type": "markdown",
   "metadata": {},
   "source": [
    "### 특정 속성을 정의하고 그 속성으로만 처리해 보기 \n",
    "\n",
    "\n",
    "      slots 처러 처리가 가능한 이유는 실제 인스턴스 속성에 들어가는 것은 항상 런타임에 결정되는 것을 알 수 있다.\n",
    "      "
   ]
  },
  {
   "cell_type": "markdown",
   "metadata": {},
   "source": [
    "#### 클래스 속성에 들어갈 속성 이름만 정의 "
   ]
  },
  {
   "cell_type": "code",
   "execution_count": 31,
   "metadata": {},
   "outputs": [],
   "source": [
    "class Self:\n",
    "    attr = (\"name\", 'age')\n",
    "    def __init__(*args):\n",
    "        print(\"__self__ argument \", args[0])\n",
    "        print(\"__self__ attribute \", args[0].__init__.__self__)\n",
    "        \n",
    "        for i in range(1, len(args)):\n",
    "            args[0].__dict__[Self.attr[i-1]] = args[i]\n",
    "            \n",
    "    def get(*args):\n",
    "        print(\"__self__ attribute \", args[0].get.__self__)\n",
    "        return args[0].name, args[0].age"
   ]
  },
  {
   "cell_type": "markdown",
   "metadata": {},
   "source": [
    "#### 객체를 생성하면 실제 정의된 2개으 속성으로 들어가 있는 것을 볼 수 있다."
   ]
  },
  {
   "cell_type": "code",
   "execution_count": 32,
   "metadata": {},
   "outputs": [
    {
     "name": "stdout",
     "output_type": "stream",
     "text": [
      "__self__ argument  <__main__.Self object at 0x00000000065E9828>\n",
      "__self__ attribute  <__main__.Self object at 0x00000000065E9828>\n",
      "{'name': 'Dahl', 'age': 22}\n",
      "<__main__.Self object at 0x00000000065E9828>\n"
     ]
    }
   ],
   "source": [
    "s = Self('Dahl', 22)\n",
    "print(s.__dict__)\n",
    "print(s)"
   ]
  },
  {
   "cell_type": "markdown",
   "metadata": {},
   "source": [
    "### 클래스 메소드에서 cls 알아보기"
   ]
  },
  {
   "cell_type": "code",
   "execution_count": 33,
   "metadata": {},
   "outputs": [],
   "source": [
    "class Cls:\n",
    "    name = 'dahl'\n",
    "\n",
    "    @classmethod\n",
    "    def getName(*args):\n",
    "        print(\"class method \", args[0])\n",
    "        return args[0].name\n",
    "    "
   ]
  },
  {
   "cell_type": "code",
   "execution_count": 34,
   "metadata": {},
   "outputs": [
    {
     "name": "stdout",
     "output_type": "stream",
     "text": [
      "class method  <class '__main__.Cls'>\n",
      "dahl\n",
      "<class '__main__.Cls'>\n"
     ]
    }
   ],
   "source": [
    "print(Cls.getName())\n",
    "print(Cls)"
   ]
  },
  {
   "cell_type": "code",
   "execution_count": 35,
   "metadata": {},
   "outputs": [
    {
     "data": {
      "text/plain": [
       "['__call__',\n",
       " '__class__',\n",
       " '__delattr__',\n",
       " '__dir__',\n",
       " '__doc__',\n",
       " '__eq__',\n",
       " '__format__',\n",
       " '__func__',\n",
       " '__ge__',\n",
       " '__get__',\n",
       " '__getattribute__',\n",
       " '__gt__',\n",
       " '__hash__',\n",
       " '__init__',\n",
       " '__init_subclass__',\n",
       " '__le__',\n",
       " '__lt__',\n",
       " '__ne__',\n",
       " '__new__',\n",
       " '__reduce__',\n",
       " '__reduce_ex__',\n",
       " '__repr__',\n",
       " '__self__',\n",
       " '__setattr__',\n",
       " '__sizeof__',\n",
       " '__str__',\n",
       " '__subclasshook__']"
      ]
     },
     "execution_count": 35,
     "metadata": {},
     "output_type": "execute_result"
    }
   ],
   "source": [
    "dir(Cls.getName)"
   ]
  },
  {
   "cell_type": "markdown",
   "metadata": {},
   "source": [
    "#### 클래스 메소드 내에도 실제 __self__, __func__이 존재"
   ]
  },
  {
   "cell_type": "code",
   "execution_count": 36,
   "metadata": {},
   "outputs": [
    {
     "data": {
      "text/plain": [
       "__main__.Cls"
      ]
     },
     "execution_count": 36,
     "metadata": {},
     "output_type": "execute_result"
    }
   ],
   "source": [
    "Cls.getName.__self__"
   ]
  },
  {
   "cell_type": "code",
   "execution_count": 37,
   "metadata": {},
   "outputs": [
    {
     "data": {
      "text/plain": [
       "<function __main__.Cls.getName>"
      ]
     },
     "execution_count": 37,
     "metadata": {},
     "output_type": "execute_result"
    }
   ],
   "source": [
    "Cls.getName.__func__"
   ]
  },
  {
   "cell_type": "markdown",
   "metadata": {},
   "source": [
    "### cls 를 사용하는 이유는 관행"
   ]
  },
  {
   "cell_type": "code",
   "execution_count": 38,
   "metadata": {},
   "outputs": [],
   "source": [
    "class ClsKlass:\n",
    "    name = \"클래스\"\n",
    "    def __init__(self, name):\n",
    "        self.name = name\n",
    "        \n",
    "    @classmethod\n",
    "    def getname(cls):\n",
    "        return cls.name"
   ]
  },
  {
   "cell_type": "code",
   "execution_count": 39,
   "metadata": {},
   "outputs": [
    {
     "name": "stdout",
     "output_type": "stream",
     "text": [
      "<bound method ClsKlass.getname of <class '__main__.ClsKlass'>>\n"
     ]
    }
   ],
   "source": [
    "a = ClsKlass(\"인스턴스\")\n",
    "\n",
    "print(ClsKlass.getname)"
   ]
  },
  {
   "cell_type": "markdown",
   "metadata": {},
   "source": [
    "#### 함수와 메소드의 차이를 비교\n",
    "\n",
    "    인스턴스메소드는 런타임 시에 결정되므로 클래스에서 부르면 함수로 처리"
   ]
  },
  {
   "cell_type": "code",
   "execution_count": 40,
   "metadata": {},
   "outputs": [
    {
     "name": "stdout",
     "output_type": "stream",
     "text": [
      "{'__func__', '__self__'}\n"
     ]
    }
   ],
   "source": [
    "s = set(dir(ClsKlass.__init__))\n",
    "c = set(dir(ClsKlass.getname))\n",
    "\n",
    "print(c - s)"
   ]
  },
  {
   "cell_type": "markdown",
   "metadata": {},
   "source": [
    "#### 클래스 메소드는 로딩할 때 만들어지므로 실제 함수는 __func__에만 존재한다"
   ]
  },
  {
   "cell_type": "code",
   "execution_count": 41,
   "metadata": {},
   "outputs": [
    {
     "name": "stdout",
     "output_type": "stream",
     "text": [
      "<class '__main__.ClsKlass'>\n",
      "<class '__main__.ClsKlass'>\n",
      "103491272\n",
      "106702096\n"
     ]
    }
   ],
   "source": [
    "print(ClsKlass)\n",
    "print(ClsKlass.getname.__self__)\n",
    "print(id(ClsKlass.getname))\n",
    "print(id(ClsKlass.getname.__func__))"
   ]
  },
  {
   "cell_type": "markdown",
   "metadata": {},
   "source": [
    "### 클래스 메소드를 이용해서 초기화하기"
   ]
  },
  {
   "cell_type": "code",
   "execution_count": 42,
   "metadata": {},
   "outputs": [],
   "source": [
    "class B:\n",
    "    @classmethod\n",
    "    def init(cls, name):\n",
    "        self = B()\n",
    "        setattr(self, 'name', name)\n",
    "        print('cls bound', B.init.__self__)\n",
    "        return self\n"
   ]
  },
  {
   "cell_type": "code",
   "execution_count": 43,
   "metadata": {},
   "outputs": [
    {
     "name": "stdout",
     "output_type": "stream",
     "text": [
      "cls bound <class '__main__.B'>\n",
      "name\n"
     ]
    }
   ],
   "source": [
    "b = B.init('name')\n",
    "print(b.name)"
   ]
  },
  {
   "cell_type": "code",
   "execution_count": 44,
   "metadata": {},
   "outputs": [
    {
     "data": {
      "text/plain": [
       "{'name': 'name'}"
      ]
     },
     "execution_count": 44,
     "metadata": {},
     "output_type": "execute_result"
    }
   ],
   "source": [
    "b.__dict__"
   ]
  },
  {
   "cell_type": "markdown",
   "metadata": {},
   "source": [
    "### 정적 메소드로 초기화 하기"
   ]
  },
  {
   "cell_type": "code",
   "execution_count": 45,
   "metadata": {},
   "outputs": [],
   "source": [
    "class C:\n",
    "    @staticmethod\n",
    "    def init(name):\n",
    "        self = C()\n",
    "        setattr(self, 'name', name)\n",
    "        print(\"static bound \", getattr(C.init, \"__self__\", None))\n",
    "        return self\n",
    "    "
   ]
  },
  {
   "cell_type": "code",
   "execution_count": 46,
   "metadata": {},
   "outputs": [
    {
     "name": "stdout",
     "output_type": "stream",
     "text": [
      "static bound  None\n",
      "<__main__.C object at 0x00000000065D7B70>\n"
     ]
    }
   ],
   "source": [
    "c = C.init('Park')\n",
    "print(c)"
   ]
  },
  {
   "cell_type": "markdown",
   "metadata": {},
   "source": [
    "#### 정적메소드 확인 "
   ]
  },
  {
   "cell_type": "code",
   "execution_count": 47,
   "metadata": {},
   "outputs": [
    {
     "name": "stdout",
     "output_type": "stream",
     "text": [
      "['__annotations__', '__call__', '__class__', '__closure__', '__code__', '__defaults__', '__delattr__', '__dict__', '__dir__', '__doc__', '__eq__', '__format__', '__ge__', '__get__', '__getattribute__', '__globals__', '__gt__', '__hash__', '__init__', '__init_subclass__', '__kwdefaults__', '__le__', '__lt__', '__module__', '__name__', '__ne__', '__new__', '__qualname__', '__reduce__', '__reduce_ex__', '__repr__', '__setattr__', '__sizeof__', '__str__', '__subclasshook__']\n"
     ]
    }
   ],
   "source": [
    "print(dir(C.init))"
   ]
  },
  {
   "cell_type": "markdown",
   "metadata": {},
   "source": [
    "#### 정적메소드는 일반적인 함수와 동일하지만 클래스나 인스턴스로 처리가 가능한 형태로 변경"
   ]
  },
  {
   "cell_type": "code",
   "execution_count": 48,
   "metadata": {},
   "outputs": [
    {
     "data": {
      "text/plain": [
       "<function __main__.C.init>"
      ]
     },
     "execution_count": 48,
     "metadata": {},
     "output_type": "execute_result"
    }
   ],
   "source": [
    "C.init"
   ]
  },
  {
   "cell_type": "code",
   "execution_count": 49,
   "metadata": {},
   "outputs": [
    {
     "name": "stdout",
     "output_type": "stream",
     "text": [
      "'function' object has no attribute '__self__'\n"
     ]
    }
   ],
   "source": [
    "try :\n",
    "    C.init.__self__\n",
    "except Exception as e :\n",
    "    print(e)"
   ]
  },
  {
   "cell_type": "code",
   "execution_count": 50,
   "metadata": {},
   "outputs": [
    {
     "name": "stdout",
     "output_type": "stream",
     "text": [
      "'function' object has no attribute '__func__'\n"
     ]
    }
   ],
   "source": [
    "try :\n",
    "    C.init.__func__\n",
    "except Exception as e :\n",
    "    print(e)"
   ]
  },
  {
   "cell_type": "markdown",
   "metadata": {},
   "source": [
    "### 클래스 내부에 일반 함수 정의 "
   ]
  },
  {
   "cell_type": "code",
   "execution_count": 51,
   "metadata": {},
   "outputs": [],
   "source": [
    "class Ins:\n",
    "    def __init__(self, name):\n",
    "        self.name = name\n",
    "        \n",
    "    def __call__(self):\n",
    "        return self.name\n",
    "    \n",
    "    def create(name):\n",
    "        a = Ins(name)\n",
    "        return a\n",
    "    \n"
   ]
  },
  {
   "cell_type": "code",
   "execution_count": 52,
   "metadata": {},
   "outputs": [
    {
     "name": "stdout",
     "output_type": "stream",
     "text": [
      "Dahl\n"
     ]
    }
   ],
   "source": [
    "a = Ins(\"Dahl\")()\n",
    "print(a)"
   ]
  },
  {
   "cell_type": "markdown",
   "metadata": {},
   "source": [
    "#### 클래스 내부에 함수를 정의해도 처리결과가 같다."
   ]
  },
  {
   "cell_type": "code",
   "execution_count": 53,
   "metadata": {},
   "outputs": [
    {
     "name": "stdout",
     "output_type": "stream",
     "text": [
      "<__main__.Ins object at 0x00000000065B62E8>\n"
     ]
    }
   ],
   "source": [
    "b = Ins.create(\"Moon\")\n",
    "print(b)"
   ]
  },
  {
   "cell_type": "code",
   "execution_count": 54,
   "metadata": {},
   "outputs": [
    {
     "data": {
      "text/plain": [
       "'Moon'"
      ]
     },
     "execution_count": 54,
     "metadata": {},
     "output_type": "execute_result"
    }
   ],
   "source": [
    "b()"
   ]
  },
  {
   "cell_type": "markdown",
   "metadata": {},
   "source": [
    "### 메소드 체인 처리하기\n",
    "\n",
    "      메소드 반환값에 객체 인스턴스를 리턴하도록 로직을 넣어서 처리한다.\n",
    "      \n",
    "      그러면 인스턴스의 객체에 변경된 것을 로직에서 반영하고 자기 객체만 매번 전달한다.\n",
    "      \n",
    "      단 무한순환이 되지 않도록 마지막은 결과를 종료하도록 반환값을 객체로 전달하지 않는다.\n",
    "      "
   ]
  },
  {
   "cell_type": "code",
   "execution_count": 55,
   "metadata": {},
   "outputs": [],
   "source": [
    "class Person:\n",
    "\n",
    "    def name(self, name):\n",
    "        self.name = name\n",
    "        return self\n",
    "\n",
    "    def age(self, value):\n",
    "        self.age = value\n",
    "        return self\n",
    "\n",
    "    def introduce(self):\n",
    "        print(\"Hello, my name is\", self.name, \"and I am\", self.age, \"years old.\")\n"
   ]
  },
  {
   "cell_type": "markdown",
   "metadata": {},
   "source": [
    "####  인스턴스가 연속적으로 전달되므로 연속해서 처리 가능"
   ]
  },
  {
   "cell_type": "code",
   "execution_count": 56,
   "metadata": {},
   "outputs": [
    {
     "name": "stdout",
     "output_type": "stream",
     "text": [
      "Hello, my name is Peter and I am 21 years old.\n"
     ]
    }
   ],
   "source": [
    "\n",
    "person = Person()\n",
    "#객체의 메소드를 연속적으로 호출하여 처리\n",
    "\n",
    "person.name(\"Peter\").age(21).introduce()"
   ]
  },
  {
   "cell_type": "markdown",
   "metadata": {},
   "source": [
    "#### 인스턴스를 생성하면서 바로 메소드 체인도 처리가 가능"
   ]
  },
  {
   "cell_type": "code",
   "execution_count": 57,
   "metadata": {},
   "outputs": [
    {
     "name": "stdout",
     "output_type": "stream",
     "text": [
      "Hello, my name is 조현웅 and I am 21 years old.\n"
     ]
    }
   ],
   "source": [
    "Person().name(\"조현웅\").age(21).introduce()"
   ]
  },
  {
   "cell_type": "markdown",
   "metadata": {},
   "source": [
    "###  다른 클래스의 인스턴스를 받아서 메소드 체인 처리하기 "
   ]
  },
  {
   "cell_type": "markdown",
   "metadata": {},
   "source": [
    "#### 첫번째 클래스에서는 다른 클래스를 속성으로 생성 "
   ]
  },
  {
   "cell_type": "code",
   "execution_count": 58,
   "metadata": {},
   "outputs": [],
   "source": [
    "class A:\n",
    "    def __init__(self):\n",
    "        print(\"a\")\n",
    "        self.b = B()\n",
    "        \n",
    "    "
   ]
  },
  {
   "cell_type": "markdown",
   "metadata": {},
   "source": [
    "#### 두번째 클래스에서 인스턴스를 만들때 다른 클래스를 속성으로 받고 메소드 처리시에도 리턴을 다른 인스턴스를 넘긴다"
   ]
  },
  {
   "cell_type": "code",
   "execution_count": 59,
   "metadata": {},
   "outputs": [],
   "source": [
    "class B:\n",
    "    def __init__(self):\n",
    "        self.c = C()\n",
    "        print('b')\n",
    "        \n",
    "    def bbb(self):\n",
    "        print(\"B instance method\")\n",
    "        return self.c\n",
    "    "
   ]
  },
  {
   "cell_type": "markdown",
   "metadata": {},
   "source": [
    "#### 마지막을 처리하는 클래스를 정의한다"
   ]
  },
  {
   "cell_type": "code",
   "execution_count": 60,
   "metadata": {},
   "outputs": [],
   "source": [
    "class C:\n",
    "    def __init__(self):\n",
    "        print('c')\n",
    "        \n",
    "    def ccc(self):\n",
    "        print(\"C instance method\")\n",
    "        "
   ]
  },
  {
   "cell_type": "markdown",
   "metadata": {},
   "source": [
    "#### 인스턴스를 만들고 속성에 있는 인스턴스를 호출한 후에 메소드 체인처리"
   ]
  },
  {
   "cell_type": "code",
   "execution_count": 61,
   "metadata": {},
   "outputs": [
    {
     "name": "stdout",
     "output_type": "stream",
     "text": [
      "a\n",
      "c\n",
      "b\n",
      "B instance method\n",
      "C instance method\n"
     ]
    }
   ],
   "source": [
    "a = A()\n",
    "\n",
    "a.b.bbb().ccc()"
   ]
  },
  {
   "cell_type": "markdown",
   "metadata": {},
   "source": [
    "###  메소드 오버로딩 알아보기"
   ]
  },
  {
   "cell_type": "markdown",
   "metadata": {},
   "source": [
    "#### 상속을 받고  add 연산자를 클래스에 정의"
   ]
  },
  {
   "cell_type": "code",
   "execution_count": 62,
   "metadata": {},
   "outputs": [],
   "source": [
    "class INT(int):\n",
    "    def __init__(self, value):\n",
    "        self.value = value\n",
    "        \n",
    "    def __add__(self, other):\n",
    "        s = INT(0)\n",
    "        s.value = self.value + other.value\n",
    "        return s\n",
    "    \n",
    "    def __str__(self):\n",
    "        return str(self.value)\n"
   ]
  },
  {
   "cell_type": "code",
   "execution_count": 63,
   "metadata": {},
   "outputs": [
    {
     "name": "stdout",
     "output_type": "stream",
     "text": [
      "106900296\n",
      "106900360\n"
     ]
    }
   ],
   "source": [
    "c = INT(10)    \n",
    "d = INT(20)\n",
    "print(id(c))\n",
    "print(id(d))\n"
   ]
  },
  {
   "cell_type": "code",
   "execution_count": 64,
   "metadata": {},
   "outputs": [
    {
     "name": "stdout",
     "output_type": "stream",
     "text": [
      "106773768\n",
      "30\n",
      "30\n"
     ]
    }
   ],
   "source": [
    "e = c + d\n",
    "print(id(e))\n",
    "print(e)\n",
    "print(e.value)"
   ]
  },
  {
   "cell_type": "markdown",
   "metadata": {},
   "source": [
    "#### int 클래스를 상속 받아서 모든 연산을 처리가능"
   ]
  },
  {
   "cell_type": "code",
   "execution_count": 65,
   "metadata": {},
   "outputs": [
    {
     "name": "stdout",
     "output_type": "stream",
     "text": [
      "10\n",
      "200\n"
     ]
    }
   ],
   "source": [
    "print(d - c)\n",
    "print(d*c)"
   ]
  },
  {
   "cell_type": "markdown",
   "metadata": {},
   "source": [
    "### 상속없이 연산자 대치하기 "
   ]
  },
  {
   "cell_type": "code",
   "execution_count": 66,
   "metadata": {},
   "outputs": [],
   "source": [
    "class INT_:\n",
    "    def __init__(self, value):\n",
    "        self.value = value\n",
    "        \n",
    "    def __add__(self, other):\n",
    "        return self.value +  other.value\n",
    "    \n",
    "    def __str__(self):\n",
    "        return str(self)\n",
    "    "
   ]
  },
  {
   "cell_type": "code",
   "execution_count": 67,
   "metadata": {},
   "outputs": [
    {
     "name": "stdout",
     "output_type": "stream",
     "text": [
      "30\n"
     ]
    }
   ],
   "source": [
    "c = INT_(10)    \n",
    "d = INT_(20)\n",
    "\n",
    "e = c + d\n",
    "\n",
    "print(e)"
   ]
  },
  {
   "cell_type": "markdown",
   "metadata": {},
   "source": [
    "#### 상속을 받지 않아서 연산자 오버로딩한 것만 처리가 됨"
   ]
  },
  {
   "cell_type": "code",
   "execution_count": 68,
   "metadata": {},
   "outputs": [
    {
     "name": "stdout",
     "output_type": "stream",
     "text": [
      "unsupported operand type(s) for -: 'INT_' and 'INT_'\n"
     ]
    }
   ],
   "source": [
    "try :\n",
    "    \n",
    "    print(d - c)\n",
    "    print(d*c)\n",
    "except Exception as e :\n",
    "    print(e)"
   ]
  },
  {
   "cell_type": "markdown",
   "metadata": {},
   "source": [
    "### 파이썬 기본 클래스 확인하기 "
   ]
  },
  {
   "cell_type": "markdown",
   "metadata": {},
   "source": [
    "#### None 키워드도 실제 클래스의 인스턴스를 보관한다"
   ]
  },
  {
   "cell_type": "code",
   "execution_count": 69,
   "metadata": {},
   "outputs": [
    {
     "name": "stdout",
     "output_type": "stream",
     "text": [
      "<class 'NoneType'>\n",
      "<class 'type'>\n",
      "True\n",
      "True\n"
     ]
    }
   ],
   "source": [
    "print(None.__class__)\n",
    "print(None.__class__.__class__)\n",
    "print(isinstance(None, None.__class__))\n",
    "print(isinstance(None.__class__, type))"
   ]
  },
  {
   "cell_type": "markdown",
   "metadata": {},
   "source": [
    "#### None 값은 조건식으로 처리할 때 False로 인식"
   ]
  },
  {
   "cell_type": "code",
   "execution_count": 70,
   "metadata": {},
   "outputs": [
    {
     "name": "stdout",
     "output_type": "stream",
     "text": [
      "False\n"
     ]
    }
   ],
   "source": [
    "def func():\n",
    "    return None\n",
    "\n",
    "if func():\n",
    "    print(\"True\")\n",
    "else:\n",
    "    print(\"False\")"
   ]
  },
  {
   "cell_type": "markdown",
   "metadata": {},
   "source": [
    "#### NotImplemented도 클래스를 가지고 있다."
   ]
  },
  {
   "cell_type": "code",
   "execution_count": 71,
   "metadata": {},
   "outputs": [
    {
     "name": "stdout",
     "output_type": "stream",
     "text": [
      "<class 'NotImplementedType'>\n",
      "<class 'type'>\n",
      "True\n",
      "True\n"
     ]
    }
   ],
   "source": [
    "print(NotImplemented.__class__)\n",
    "print(NotImplemented.__class__.__class__)\n",
    "print(isinstance(NotImplemented, NotImplemented.__class__))\n",
    "print(isinstance(NotImplemented.__class__, type))"
   ]
  },
  {
   "cell_type": "markdown",
   "metadata": {},
   "source": [
    "#### 반환값으로 사용하면 True로 처리"
   ]
  },
  {
   "cell_type": "code",
   "execution_count": 72,
   "metadata": {},
   "outputs": [
    {
     "name": "stdout",
     "output_type": "stream",
     "text": [
      "True\n"
     ]
    }
   ],
   "source": [
    "def func(num=0):\n",
    "    if num == 1:\n",
    "        return NotImplemented\n",
    "    else:\n",
    "        return 0\n",
    "    \n",
    "\n",
    "if func(1):\n",
    "    print(\"True\")\n",
    "else:\n",
    "    print(\"False\")"
   ]
  },
  {
   "cell_type": "markdown",
   "metadata": {},
   "source": [
    "####  생략기호도 하나의 클래스이다."
   ]
  },
  {
   "cell_type": "code",
   "execution_count": 73,
   "metadata": {},
   "outputs": [
    {
     "name": "stdout",
     "output_type": "stream",
     "text": [
      "<class 'ellipsis'>\n",
      "<class 'type'>\n",
      "True\n",
      "True\n"
     ]
    }
   ],
   "source": [
    "Ellipsis\n",
    "print(Ellipsis.__class__)\n",
    "print(Ellipsis.__class__.__class__)\n",
    "print(isinstance(Ellipsis, Ellipsis.__class__))\n",
    "print(isinstance(Ellipsis.__class__, type))"
   ]
  },
  {
   "cell_type": "markdown",
   "metadata": {},
   "source": [
    "#### 조건식 처리에서는 True 처리"
   ]
  },
  {
   "cell_type": "code",
   "execution_count": 74,
   "metadata": {},
   "outputs": [
    {
     "name": "stdout",
     "output_type": "stream",
     "text": [
      "True\n"
     ]
    }
   ],
   "source": [
    "def func(num=0):\n",
    "    if num == 1:\n",
    "        return Ellipsis\n",
    "    else:\n",
    "        return 0\n",
    "    \n",
    "if func(1):\n",
    "    print(\"True\")\n",
    "else:\n",
    "    print(\"False\")"
   ]
  },
  {
   "cell_type": "markdown",
   "metadata": {},
   "source": [
    "### 생략기호는 넘파이에서 검색할 때 사용도 가능하다\n",
    "\n",
    "     차원에 대한 정보를 잘 모를 경우 생략기호를 사용하면 모든 것을 그대로 가져온다"
   ]
  },
  {
   "cell_type": "code",
   "execution_count": 75,
   "metadata": {},
   "outputs": [
    {
     "name": "stdout",
     "output_type": "stream",
     "text": [
      "(2, 3, 4)\n",
      "(3, 4, 5)\n"
     ]
    }
   ],
   "source": [
    "import numpy as np\n",
    "\n",
    "t = np.random.rand(2, 3, 4, 5)\n",
    "\n",
    "# select 1st element from last dimension, copy rest\n",
    "print(t[..., 0].shape)\n",
    "\n",
    "\n",
    "# select 1st element from first dimension, copy rest\n",
    "print(t[0, ...].shape)"
   ]
  },
  {
   "cell_type": "code",
   "execution_count": null,
   "metadata": {},
   "outputs": [],
   "source": []
  }
 ],
 "metadata": {
  "kernelspec": {
   "display_name": "Python 3",
   "language": "python",
   "name": "python3"
  },
  "language_info": {
   "codemirror_mode": {
    "name": "ipython",
    "version": 3
   },
   "file_extension": ".py",
   "mimetype": "text/x-python",
   "name": "python",
   "nbconvert_exporter": "python",
   "pygments_lexer": "ipython3",
   "version": "3.6.6"
  }
 },
 "nbformat": 4,
 "nbformat_minor": 2
}
