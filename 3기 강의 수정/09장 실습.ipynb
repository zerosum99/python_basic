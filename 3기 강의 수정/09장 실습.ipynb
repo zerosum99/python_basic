{
 "cells": [
  {
   "cell_type": "markdown",
   "metadata": {},
   "source": [
    "## 파이썬 완정정복 스페셜 메소드\n"
   ]
  },
  {
   "cell_type": "code",
   "execution_count": 1,
   "metadata": {},
   "outputs": [],
   "source": [
    "import sys"
   ]
  },
  {
   "cell_type": "code",
   "execution_count": 2,
   "metadata": {},
   "outputs": [
    {
     "data": {
      "text/plain": [
       "sys.version_info(major=3, minor=6, micro=6, releaselevel='final', serial=0)"
      ]
     },
     "execution_count": 2,
     "metadata": {},
     "output_type": "execute_result"
    }
   ],
   "source": [
    "sys.version_info"
   ]
  },
  {
   "cell_type": "code",
   "execution_count": 3,
   "metadata": {},
   "outputs": [],
   "source": [
    "class MyClass :\n",
    "    def __init__(self, name) :\n",
    "        self.name = name"
   ]
  },
  {
   "cell_type": "code",
   "execution_count": 4,
   "metadata": {},
   "outputs": [],
   "source": [
    "x = MyClass(\"dahl\")"
   ]
  },
  {
   "cell_type": "code",
   "execution_count": 5,
   "metadata": {},
   "outputs": [
    {
     "data": {
      "text/plain": [
       "'<__main__.MyClass object at 0x00000000063D1278>'"
      ]
     },
     "execution_count": 5,
     "metadata": {},
     "output_type": "execute_result"
    }
   ],
   "source": [
    "str(x)"
   ]
  },
  {
   "cell_type": "code",
   "execution_count": 6,
   "metadata": {},
   "outputs": [
    {
     "data": {
      "text/plain": [
       "'<__main__.MyClass object at 0x00000000063D1278>'"
      ]
     },
     "execution_count": 6,
     "metadata": {},
     "output_type": "execute_result"
    }
   ],
   "source": [
    "repr(x)"
   ]
  },
  {
   "cell_type": "code",
   "execution_count": 7,
   "metadata": {},
   "outputs": [],
   "source": [
    "class MyClass_ :\n",
    "    def __init__(self, name) :\n",
    "        self.name = name\n",
    "        \n",
    "    def __str__(self) :\n",
    "        return self.__class__.__name__ + self.name\n",
    "    \n",
    "    def __repr__(self) :\n",
    "        s = self.__class__.__name__ + self.name\n",
    "        return \" {} \".format(s)"
   ]
  },
  {
   "cell_type": "code",
   "execution_count": 8,
   "metadata": {},
   "outputs": [],
   "source": [
    "x = MyClass_(\"dahl\")"
   ]
  },
  {
   "cell_type": "code",
   "execution_count": 9,
   "metadata": {},
   "outputs": [
    {
     "data": {
      "text/plain": [
       "'MyClass_dahl'"
      ]
     },
     "execution_count": 9,
     "metadata": {},
     "output_type": "execute_result"
    }
   ],
   "source": [
    "str(x)"
   ]
  },
  {
   "cell_type": "code",
   "execution_count": 10,
   "metadata": {},
   "outputs": [
    {
     "data": {
      "text/plain": [
       "' MyClass_dahl '"
      ]
     },
     "execution_count": 10,
     "metadata": {},
     "output_type": "execute_result"
    }
   ],
   "source": [
    "repr(x)"
   ]
  },
  {
   "cell_type": "code",
   "execution_count": 11,
   "metadata": {},
   "outputs": [
    {
     "name": "stdout",
     "output_type": "stream",
     "text": [
      "Help on wrapper_descriptor:\n",
      "\n",
      "__str__(self, /)\n",
      "    Return str(self).\n",
      "\n",
      "name 'st' is not defined\n"
     ]
    }
   ],
   "source": [
    "help(object.__str__)\n",
    "# str일 경우 변수로 인식\n",
    "\n",
    "try : \n",
    "    v = eval(str('st'))\n",
    "    \n",
    "except Exception as e :\n",
    "    print(e)"
   ]
  },
  {
   "cell_type": "code",
   "execution_count": 12,
   "metadata": {},
   "outputs": [
    {
     "name": "stdout",
     "output_type": "stream",
     "text": [
      "Help on wrapper_descriptor:\n",
      "\n",
      "__repr__(self, /)\n",
      "    Return repr(self).\n",
      "\n",
      "st <class 'str'>\n"
     ]
    }
   ],
   "source": [
    "help(object.__repr__)\n",
    "# repr 사용시 문자열값으로 인식\n",
    "v = eval(repr('st'))\n",
    "print(v, type(v))"
   ]
  },
  {
   "cell_type": "markdown",
   "metadata": {},
   "source": [
    "### 수학산식 처리 "
   ]
  },
  {
   "cell_type": "markdown",
   "metadata": {},
   "source": [
    "#### 좌측 연산과 우측연산에 대해 정의"
   ]
  },
  {
   "cell_type": "code",
   "execution_count": 13,
   "metadata": {},
   "outputs": [],
   "source": [
    "class RInt:\n",
    "    def __init__(self, value):\n",
    "        self.value = value\n",
    "        \n",
    "    def __add__(self, other):\n",
    "        print(\"__add__\")\n",
    "        return self.value + other\n",
    "    \n",
    "    def __radd__(self, other):\n",
    "        print(\"__radd__\")\n",
    "        return other + self.value"
   ]
  },
  {
   "cell_type": "code",
   "execution_count": 14,
   "metadata": {},
   "outputs": [
    {
     "name": "stdout",
     "output_type": "stream",
     "text": [
      "__add__\n",
      "188\n"
     ]
    }
   ],
   "source": [
    "i = RInt(100)\n",
    "print(i + 88)\n"
   ]
  },
  {
   "cell_type": "code",
   "execution_count": 15,
   "metadata": {},
   "outputs": [
    {
     "name": "stdout",
     "output_type": "stream",
     "text": [
      "__radd__\n",
      "199\n"
     ]
    }
   ],
   "source": [
    "i = i.__radd__(99)\n",
    "print(i)"
   ]
  },
  {
   "cell_type": "markdown",
   "metadata": {},
   "source": [
    "#### 정수와 인스턴스에 덧셈 연산을 할 때 할당된 인스턴스를 기준으로 우측연산처리 "
   ]
  },
  {
   "cell_type": "code",
   "execution_count": 16,
   "metadata": {},
   "outputs": [
    {
     "name": "stdout",
     "output_type": "stream",
     "text": [
      "__radd__\n",
      "199\n"
     ]
    }
   ],
   "source": [
    "i = RInt(100)\n",
    "\n",
    "i = 99 + i\n",
    "print(i)"
   ]
  },
  {
   "cell_type": "markdown",
   "metadata": {},
   "source": [
    "### 새로은 클래스를 정의할 때 operator 모듈을 이용해서 정의 "
   ]
  },
  {
   "cell_type": "code",
   "execution_count": 17,
   "metadata": {},
   "outputs": [],
   "source": [
    "import operator as op\n",
    "\n",
    "\n",
    "class Int:\n",
    "    def __init__(self, value):\n",
    "        self.value = value\n",
    "        \n",
    "    def __iadd__(self, other):\n",
    "        print(\"__iadd__\")\n",
    "        return self.value + other\n",
    "    \n",
    "    def __truediv__(self, other):\n",
    "        print(\"__truediv__\")\n",
    "        return op.truediv(self.value, other)\n",
    "    \n",
    "    def __floordiv__(self, other):\n",
    "        print(\"__floordiv__\")\n",
    "        return op.floordiv(self.value, other)\n",
    "    \n",
    "    def __itruediv__(self, other):\n",
    "        print(\"__itruediv__\")\n",
    "        return op.itruediv(self.value, other)\n",
    "    \n",
    "    def __ifloordiv__(self, other):\n",
    "        print(\"__ifloordiv__\")\n",
    "        return op.ifloordiv(self.value, other)"
   ]
  },
  {
   "cell_type": "markdown",
   "metadata": {},
   "source": [
    "#### 인스턴스를 만든다 "
   ]
  },
  {
   "cell_type": "code",
   "execution_count": 18,
   "metadata": {},
   "outputs": [],
   "source": [
    "i = Int(100)"
   ]
  },
  {
   "cell_type": "code",
   "execution_count": 19,
   "metadata": {},
   "outputs": [
    {
     "name": "stdout",
     "output_type": "stream",
     "text": [
      "__iadd__\n",
      "199\n"
     ]
    }
   ],
   "source": [
    "i += 99\n",
    "print(i)"
   ]
  },
  {
   "cell_type": "code",
   "execution_count": 20,
   "metadata": {},
   "outputs": [
    {
     "name": "stdout",
     "output_type": "stream",
     "text": [
      "<class '__main__.Int'>\n",
      "__truediv__\n",
      "33.333333333333336\n",
      "__itruediv__\n",
      "33.333333333333336\n"
     ]
    }
   ],
   "source": [
    "i = Int(100)\n",
    "print(type(i))\n",
    "print(i/3)\n",
    "\n",
    "i /= 3\n",
    "print(i)"
   ]
  },
  {
   "cell_type": "code",
   "execution_count": 21,
   "metadata": {},
   "outputs": [
    {
     "name": "stdout",
     "output_type": "stream",
     "text": [
      "<class '__main__.Int'>\n",
      "__floordiv__\n",
      "33\n",
      "__ifloordiv__\n",
      "33\n"
     ]
    }
   ],
   "source": [
    "i = Int(100)\n",
    "print(type(i))\n",
    "print(i//3)\n",
    "i //= 3\n",
    "print(i)"
   ]
  },
  {
   "cell_type": "markdown",
   "metadata": {},
   "source": [
    "### 클래스 생성에 대한 연산자 "
   ]
  },
  {
   "cell_type": "code",
   "execution_count": 22,
   "metadata": {},
   "outputs": [],
   "source": [
    "class A:\n",
    "    def __new__(cls):\n",
    "        self = object.__new__(cls)\n",
    "        return self\n",
    "    \n",
    "    def __init__(self, name):\n",
    "        self.name = name\n",
    "        \n",
    "    def __del__(self):\n",
    "        del self\n",
    "        "
   ]
  },
  {
   "cell_type": "code",
   "execution_count": 23,
   "metadata": {},
   "outputs": [
    {
     "name": "stdout",
     "output_type": "stream",
     "text": [
      "<__main__.A object at 0x00000000063F59E8>\n",
      "dahl\n"
     ]
    }
   ],
   "source": [
    "a = A.__new__(A)\n",
    "print(a)\n",
    "A.__init__(a, 'dahl')\n",
    "print(a.name)"
   ]
  },
  {
   "cell_type": "code",
   "execution_count": 24,
   "metadata": {},
   "outputs": [],
   "source": [
    "del a"
   ]
  },
  {
   "cell_type": "markdown",
   "metadata": {},
   "source": [
    "### 생성자와 소멸자 미정할 때 처리 방식 "
   ]
  },
  {
   "cell_type": "code",
   "execution_count": 25,
   "metadata": {},
   "outputs": [],
   "source": [
    "class A:\n",
    "    def __init__(self, name):\n",
    "        self.name = name\n",
    "        \n",
    "    def amethod(self):\n",
    "        print(\"aaaaa\")\n",
    "        "
   ]
  },
  {
   "cell_type": "markdown",
   "metadata": {},
   "source": [
    "#### 생성자는 없으면 상위 클래스에서 가져옴"
   ]
  },
  {
   "cell_type": "code",
   "execution_count": 26,
   "metadata": {},
   "outputs": [
    {
     "name": "stdout",
     "output_type": "stream",
     "text": [
      "<class '__main__.A'>\n",
      "{}\n"
     ]
    }
   ],
   "source": [
    "print(A)\n",
    "ai = A.__new__(A)\n",
    "print(ai.__dict__)\n"
   ]
  },
  {
   "cell_type": "markdown",
   "metadata": {},
   "source": [
    "#### 초기화는 사용자 클래스에 정의가 되어야 함 "
   ]
  },
  {
   "cell_type": "code",
   "execution_count": 27,
   "metadata": {},
   "outputs": [
    {
     "name": "stdout",
     "output_type": "stream",
     "text": [
      "{'name': 'moon'}\n"
     ]
    }
   ],
   "source": [
    "ai.__init__('moon')\n",
    "print(ai.__dict__)"
   ]
  },
  {
   "cell_type": "code",
   "execution_count": 28,
   "metadata": {},
   "outputs": [
    {
     "name": "stdout",
     "output_type": "stream",
     "text": [
      "<__main__.A object at 0x00000000063FB438>\n",
      "aaaaa\n"
     ]
    }
   ],
   "source": [
    "print(ai)\n",
    "ai.amethod()"
   ]
  },
  {
   "cell_type": "markdown",
   "metadata": {},
   "source": [
    "#### 소멸자도 상위클래스에서 가져와 처리함"
   ]
  },
  {
   "cell_type": "code",
   "execution_count": 29,
   "metadata": {},
   "outputs": [],
   "source": [
    "del ai"
   ]
  },
  {
   "cell_type": "markdown",
   "metadata": {},
   "source": [
    "### 객체 내부 접근해 보기 \n"
   ]
  },
  {
   "cell_type": "code",
   "execution_count": 30,
   "metadata": {},
   "outputs": [],
   "source": [
    "class Old:\n",
    "    old_a = 'oldstyle'"
   ]
  },
  {
   "cell_type": "code",
   "execution_count": 31,
   "metadata": {},
   "outputs": [],
   "source": [
    "o = Old()"
   ]
  },
  {
   "cell_type": "markdown",
   "metadata": {},
   "source": [
    "#### 점연산자 접근하기"
   ]
  },
  {
   "cell_type": "code",
   "execution_count": 32,
   "metadata": {},
   "outputs": [
    {
     "name": "stdout",
     "output_type": "stream",
     "text": [
      "oldstyle\n"
     ]
    }
   ],
   "source": [
    "print(o.old_a)"
   ]
  },
  {
   "cell_type": "code",
   "execution_count": 33,
   "metadata": {},
   "outputs": [
    {
     "name": "stdout",
     "output_type": "stream",
     "text": [
      "oldstyle\n"
     ]
    }
   ],
   "source": [
    "print(o.__getattribute__('old_a'))"
   ]
  },
  {
   "cell_type": "markdown",
   "metadata": {},
   "source": [
    "#### 변경해서 조회하기 "
   ]
  },
  {
   "cell_type": "code",
   "execution_count": 34,
   "metadata": {},
   "outputs": [
    {
     "name": "stdout",
     "output_type": "stream",
     "text": [
      "None 50\n",
      "{'age': 50}\n"
     ]
    }
   ],
   "source": [
    "print(o.__setattr__(\"age\", 50), o.__getattribute__('age'))\n",
    "print(o.__dict__)"
   ]
  },
  {
   "cell_type": "markdown",
   "metadata": {},
   "source": [
    "#### 삭제해서 확인하기"
   ]
  },
  {
   "cell_type": "code",
   "execution_count": 35,
   "metadata": {},
   "outputs": [
    {
     "name": "stdout",
     "output_type": "stream",
     "text": [
      "None\n",
      "{}\n"
     ]
    }
   ],
   "source": [
    "print(o.__delattr__('age'))\n",
    "print(o.__dict__)"
   ]
  },
  {
   "cell_type": "markdown",
   "metadata": {},
   "source": [
    "### 검색연산자 확인하기 "
   ]
  },
  {
   "cell_type": "code",
   "execution_count": 36,
   "metadata": {},
   "outputs": [],
   "source": [
    "class Indexing:\n",
    "    def __init__(self, content):\n",
    "        self.content = content\n",
    "        \n",
    "    def __getitem__(self, key):\n",
    "        print(\"__getitem__ call\")\n",
    "        result = \"\"\n",
    "        for i in range(len(self.content)):\n",
    "            if i == key:\n",
    "                result = self.content[key]\n",
    "                break\n",
    "        if len(self.content) < key:\n",
    "            raise IndexError(key)\n",
    "        return result"
   ]
  },
  {
   "cell_type": "code",
   "execution_count": 37,
   "metadata": {},
   "outputs": [
    {
     "name": "stdout",
     "output_type": "stream",
     "text": [
      "__getitem__ call\n",
      "I\n"
     ]
    }
   ],
   "source": [
    "s = \"Indexing search\"\n",
    "\n",
    "i = Indexing(s)\n",
    "print(i[0])"
   ]
  },
  {
   "cell_type": "markdown",
   "metadata": {},
   "source": [
    "#### 인덱스 범위가 넘어가면 예외 발생 "
   ]
  },
  {
   "cell_type": "code",
   "execution_count": 38,
   "metadata": {},
   "outputs": [
    {
     "name": "stdout",
     "output_type": "stream",
     "text": [
      "__getitem__ call\n",
      "30\n"
     ]
    }
   ],
   "source": [
    "try :\n",
    "    print(i[30])\n",
    "except Exception as e :\n",
    "    print(e)"
   ]
  },
  {
   "cell_type": "markdown",
   "metadata": {},
   "source": [
    "### 인덱싱 검색에 예외 처리 잡기 "
   ]
  },
  {
   "cell_type": "markdown",
   "metadata": {},
   "source": [
    "#### 인덱싱의 예외를 처리하기 위해 __missing__ 정의"
   ]
  },
  {
   "cell_type": "code",
   "execution_count": 39,
   "metadata": {},
   "outputs": [],
   "source": [
    "class Indexing1:\n",
    "    def __init__(self, content):\n",
    "        self.content = content\n",
    "        \n",
    "    def __getitem__(self, key):\n",
    "        print(\"__getitem__ call\")\n",
    "        try:\n",
    "            result = self.content[key]\n",
    "        except IndexError:\n",
    "            result = self.__missing__(key)\n",
    "        return result\n",
    "    \n",
    "    def __missing__(self, key):\n",
    "        print(\"__missing__\")\n",
    "        return \"no key\" + (key if type(key) == str else str(key))"
   ]
  },
  {
   "cell_type": "code",
   "execution_count": 40,
   "metadata": {},
   "outputs": [
    {
     "name": "stdout",
     "output_type": "stream",
     "text": [
      "__getitem__ call\n",
      "I\n"
     ]
    }
   ],
   "source": [
    "s = \"Indexing search\"\n",
    "\n",
    "i = Indexing1(s)\n",
    "print(i[0])"
   ]
  },
  {
   "cell_type": "code",
   "execution_count": 41,
   "metadata": {},
   "outputs": [
    {
     "name": "stdout",
     "output_type": "stream",
     "text": [
      "__getitem__ call\n",
      "__missing__\n",
      "no key30\n"
     ]
    }
   ],
   "source": [
    "print(i[30])"
   ]
  },
  {
   "cell_type": "markdown",
   "metadata": {},
   "source": [
    "### 갱신과 삭제를 위한 인덱싱 처리 "
   ]
  },
  {
   "cell_type": "markdown",
   "metadata": {},
   "source": [
    "#### 클래스 정의할 때 갱신과 삭제 메소드 정의"
   ]
  },
  {
   "cell_type": "code",
   "execution_count": 42,
   "metadata": {},
   "outputs": [],
   "source": [
    "class Indexing1:\n",
    "    def __init__(self, content):\n",
    "        self.content = content\n",
    "        \n",
    "    def __getitem__(self, key):\n",
    "        return self.content[key]\n",
    "    \n",
    "    def __setitem__(self, key, value):\n",
    "        a = [x for x in self.content]\n",
    "        if a[key] == value:\n",
    "            pass\n",
    "        else:\n",
    "            a.insert(key, value)\n",
    "        self.content = \"\".join(a)\n",
    "    \n",
    "    def __delitem__(self, key):\n",
    "        a = [x for x in self.content if self[key] != x]\n",
    "        self.content = \"\".join(a)"
   ]
  },
  {
   "cell_type": "code",
   "execution_count": 43,
   "metadata": {},
   "outputs": [
    {
     "name": "stdout",
     "output_type": "stream",
     "text": [
      "신 및 삭제\n"
     ]
    }
   ],
   "source": [
    "i = Indexing1(\"갱신 및 삭제\")\n",
    "\n",
    "del i[0]\n",
    "print(i.content)"
   ]
  },
  {
   "cell_type": "markdown",
   "metadata": {},
   "source": [
    "### 포함 관계 및 반복자 처리"
   ]
  },
  {
   "cell_type": "code",
   "execution_count": 44,
   "metadata": {},
   "outputs": [
    {
     "name": "stdout",
     "output_type": "stream",
     "text": [
      "[1, 2, 4] True\n",
      "{'k': 1, 'm': 3, 'l': 2} False\n"
     ]
    }
   ],
   "source": [
    "l = [1, 2, 4]\n",
    "m = {'k': 1, 'm': 3, 'l': 2}\n",
    "\n",
    "print(l, l.__contains__(2))\n",
    "print(m, m.__contains__('1'))\n"
   ]
  },
  {
   "cell_type": "code",
   "execution_count": 45,
   "metadata": {},
   "outputs": [
    {
     "data": {
      "text/plain": [
       "True"
      ]
     },
     "execution_count": 45,
     "metadata": {},
     "output_type": "execute_result"
    }
   ],
   "source": [
    "2 in l"
   ]
  },
  {
   "cell_type": "markdown",
   "metadata": {},
   "source": [
    "#### 딕셔너리는 키만 포함관계 처리"
   ]
  },
  {
   "cell_type": "code",
   "execution_count": 46,
   "metadata": {},
   "outputs": [
    {
     "data": {
      "text/plain": [
       "False"
      ]
     },
     "execution_count": 46,
     "metadata": {},
     "output_type": "execute_result"
    }
   ],
   "source": [
    "'1' in m"
   ]
  },
  {
   "cell_type": "code",
   "execution_count": 47,
   "metadata": {},
   "outputs": [
    {
     "data": {
      "text/plain": [
       "True"
      ]
     },
     "execution_count": 47,
     "metadata": {},
     "output_type": "execute_result"
    }
   ],
   "source": [
    "'k' in m"
   ]
  },
  {
   "cell_type": "markdown",
   "metadata": {},
   "source": [
    "#### 반복자 처리"
   ]
  },
  {
   "cell_type": "code",
   "execution_count": 48,
   "metadata": {},
   "outputs": [
    {
     "name": "stdout",
     "output_type": "stream",
     "text": [
      "<list_reverseiterator object at 0x0000000006405B70> [1, 2, 4]\n",
      "4\n",
      "2\n",
      "1\n",
      "3 3\n"
     ]
    }
   ],
   "source": [
    "lr = l.__reversed__()\n",
    "print(lr, l)\n",
    "for i in lr.__iter__():\n",
    "    print(i)\n",
    "    \n",
    "print(l.__len__(), m.__len__())"
   ]
  },
  {
   "cell_type": "markdown",
   "metadata": {},
   "source": [
    "#### 반복자 함수로 처리하기"
   ]
  },
  {
   "cell_type": "code",
   "execution_count": 49,
   "metadata": {},
   "outputs": [
    {
     "data": {
      "text/plain": [
       "<list_reverseiterator at 0x6405f28>"
      ]
     },
     "execution_count": 49,
     "metadata": {},
     "output_type": "execute_result"
    }
   ],
   "source": [
    "reversed(l)"
   ]
  },
  {
   "cell_type": "code",
   "execution_count": 50,
   "metadata": {},
   "outputs": [
    {
     "name": "stdout",
     "output_type": "stream",
     "text": [
      "4\n",
      "2\n",
      "1\n"
     ]
    }
   ],
   "source": [
    "for i in reversed(l) :\n",
    "    print(i)"
   ]
  },
  {
   "cell_type": "code",
   "execution_count": 51,
   "metadata": {},
   "outputs": [
    {
     "data": {
      "text/plain": [
       "<list_iterator at 0x63fbef0>"
      ]
     },
     "execution_count": 51,
     "metadata": {},
     "output_type": "execute_result"
    }
   ],
   "source": [
    "iter(l)"
   ]
  },
  {
   "cell_type": "code",
   "execution_count": 52,
   "metadata": {},
   "outputs": [
    {
     "name": "stdout",
     "output_type": "stream",
     "text": [
      "1\n",
      "2\n",
      "4\n"
     ]
    }
   ],
   "source": [
    "for i in iter(l) :\n",
    "    print(i)"
   ]
  },
  {
   "cell_type": "markdown",
   "metadata": {},
   "source": [
    "### len 처리하기"
   ]
  },
  {
   "cell_type": "code",
   "execution_count": 53,
   "metadata": {},
   "outputs": [],
   "source": [
    "class Len:\n",
    "    def __init__(self, content):\n",
    "        self.content = content\n",
    "        \n",
    "    def __len__(self):\n",
    "        return len(self.content)\n"
   ]
  },
  {
   "cell_type": "code",
   "execution_count": 54,
   "metadata": {},
   "outputs": [],
   "source": [
    "#### len 함수 처리"
   ]
  },
  {
   "cell_type": "code",
   "execution_count": 55,
   "metadata": {},
   "outputs": [
    {
     "name": "stdout",
     "output_type": "stream",
     "text": [
      "9\n"
     ]
    }
   ],
   "source": [
    "l = Len(\"원소의 갯수 확인\")\n",
    "\n",
    "print(len(l))"
   ]
  },
  {
   "cell_type": "code",
   "execution_count": 56,
   "metadata": {},
   "outputs": [
    {
     "data": {
      "text/plain": [
       "9"
      ]
     },
     "execution_count": 56,
     "metadata": {},
     "output_type": "execute_result"
    }
   ],
   "source": [
    "l.__len__()"
   ]
  },
  {
   "cell_type": "markdown",
   "metadata": {},
   "source": [
    "### 반복자 클래스 만들기"
   ]
  },
  {
   "cell_type": "code",
   "execution_count": 57,
   "metadata": {},
   "outputs": [],
   "source": [
    "class Iter:\n",
    "    count = 0\n",
    "    def __init__(self, d):\n",
    "        self.d = d\n",
    "        \n",
    "    def __iter__(self):\n",
    "        return self\n",
    "    \n",
    "    def __next__(self):\n",
    "        if Iter.count == len(self.d):\n",
    "            raise StopIteration\n",
    "        else:\n",
    "            j = Iter.count\n",
    "            Iter.count += 1\n",
    "            return self.d[j]\n",
    "        "
   ]
  },
  {
   "cell_type": "markdown",
   "metadata": {},
   "source": [
    "#### 예외없이 처리하기"
   ]
  },
  {
   "cell_type": "code",
   "execution_count": 58,
   "metadata": {},
   "outputs": [
    {
     "name": "stdout",
     "output_type": "stream",
     "text": [
      "1\n",
      "2\n",
      "3\n",
      "None\n"
     ]
    }
   ],
   "source": [
    "a = Iter([1, 2, 3])\n",
    "b = iter(a)\n",
    "print(next(b))\n",
    "print(next(b))\n",
    "print(next(b))\n",
    "print(next(b, None))"
   ]
  },
  {
   "cell_type": "code",
   "execution_count": 59,
   "metadata": {},
   "outputs": [
    {
     "name": "stdout",
     "output_type": "stream",
     "text": [
      "\n"
     ]
    }
   ],
   "source": [
    "try :\n",
    "    next(b) \n",
    "except Exception as e :\n",
    "    print(e)"
   ]
  },
  {
   "cell_type": "markdown",
   "metadata": {},
   "source": [
    "### 객체 접근연산 처리 "
   ]
  },
  {
   "cell_type": "code",
   "execution_count": 60,
   "metadata": {},
   "outputs": [],
   "source": [
    "class Dot:\n",
    "    def __init__(self):\n",
    "        self.test = 1\n",
    "        self.test2 = 2\n",
    "        \n",
    "    def __getattribute__(self, attr):\n",
    "        print(\"__getattribute__\", attr)\n",
    "        return object.__getattribute__(self, attr)"
   ]
  },
  {
   "cell_type": "code",
   "execution_count": 61,
   "metadata": {},
   "outputs": [
    {
     "name": "stdout",
     "output_type": "stream",
     "text": [
      "__getattribute__ test\n",
      "1\n",
      "__getattribute__ test2\n",
      "2\n"
     ]
    }
   ],
   "source": [
    "d = Dot()\n",
    "print(d.test)\n",
    "print(d.test2)"
   ]
  },
  {
   "cell_type": "markdown",
   "metadata": {},
   "source": [
    "#### 속성이 없을 경우 처리 "
   ]
  },
  {
   "cell_type": "code",
   "execution_count": 62,
   "metadata": {},
   "outputs": [
    {
     "name": "stdout",
     "output_type": "stream",
     "text": [
      "__getattribute__ test3\n",
      "'Dot' object has no attribute 'test3'\n"
     ]
    }
   ],
   "source": [
    "try :\n",
    "    print(d.test3)\n",
    "    \n",
    "except Exception as e :\n",
    "    print(e)"
   ]
  },
  {
   "cell_type": "markdown",
   "metadata": {},
   "source": [
    "#### object 점연산 메소드 "
   ]
  },
  {
   "cell_type": "code",
   "execution_count": 63,
   "metadata": {},
   "outputs": [
    {
     "name": "stdout",
     "output_type": "stream",
     "text": [
      "Help on wrapper_descriptor:\n",
      "\n",
      "__getattribute__(self, name, /)\n",
      "    Return getattr(self, name).\n",
      "\n"
     ]
    }
   ],
   "source": [
    "help(object.__getattribute__)"
   ]
  },
  {
   "cell_type": "markdown",
   "metadata": {},
   "source": [
    "### 점연산자 예외 처리 추가 "
   ]
  },
  {
   "cell_type": "code",
   "execution_count": 64,
   "metadata": {},
   "outputs": [],
   "source": [
    "class Dot:\n",
    "    def __init__(self):\n",
    "        self.test = 1\n",
    "        self.test2 = 2\n",
    "        \n",
    "    def __getattribute__(self, attr):\n",
    "        print(\"__getattribute__\", attr)\n",
    "        return object.__getattribute__(self, attr)\n",
    "    \n",
    "    def __getattr__(self, attr):\n",
    "        print(\"__getattr__\", attr)\n",
    "        try:\n",
    "            self.__dict__[attr]\n",
    "        except KeyError as e:\n",
    "            return 'Key Error ' + e.args[0]"
   ]
  },
  {
   "cell_type": "code",
   "execution_count": 65,
   "metadata": {},
   "outputs": [
    {
     "name": "stdout",
     "output_type": "stream",
     "text": [
      "__getattribute__ test\n",
      "1\n",
      "__getattribute__ test2\n",
      "2\n"
     ]
    }
   ],
   "source": [
    "d = Dot()\n",
    "print(d.test)\n",
    "print(d.test2)"
   ]
  },
  {
   "cell_type": "markdown",
   "metadata": {},
   "source": [
    "#### 없는 속성을 조회"
   ]
  },
  {
   "cell_type": "code",
   "execution_count": 66,
   "metadata": {},
   "outputs": [
    {
     "name": "stdout",
     "output_type": "stream",
     "text": [
      "__getattribute__ test3\n",
      "__getattr__ test3\n",
      "__getattribute__ __dict__\n",
      "Key Error test3\n"
     ]
    }
   ],
   "source": [
    "print(d.test3)"
   ]
  },
  {
   "cell_type": "markdown",
   "metadata": {},
   "source": [
    "### 점연산자 갱신하기"
   ]
  },
  {
   "cell_type": "code",
   "execution_count": 67,
   "metadata": {},
   "outputs": [
    {
     "name": "stdout",
     "output_type": "stream",
     "text": [
      "Help on wrapper_descriptor:\n",
      "\n",
      "__setattr__(self, name, value, /)\n",
      "    Implement setattr(self, name, value).\n",
      "\n"
     ]
    }
   ],
   "source": [
    "help(object.__setattr__)"
   ]
  },
  {
   "cell_type": "markdown",
   "metadata": {},
   "source": [
    "#### 점연산자 없는 클래스 정의 "
   ]
  },
  {
   "cell_type": "code",
   "execution_count": 68,
   "metadata": {},
   "outputs": [],
   "source": [
    "class Old:\n",
    "    old_a = \"oldstyle\"\n",
    "    "
   ]
  },
  {
   "cell_type": "markdown",
   "metadata": {},
   "source": [
    "#### 상위크래스의 점연산자를 가지고 처리"
   ]
  },
  {
   "cell_type": "code",
   "execution_count": 69,
   "metadata": {},
   "outputs": [
    {
     "name": "stdout",
     "output_type": "stream",
     "text": [
      "{'__module__': '__main__', 'old_a': 'oldstyle', '__dict__': <attribute '__dict__' of 'Old' objects>, '__weakref__': <attribute '__weakref__' of 'Old' objects>, '__doc__': None}\n",
      "oldstyle\n",
      "oldstyle\n",
      "None 50\n",
      "{'age': 50}\n",
      "None\n",
      "{}\n"
     ]
    }
   ],
   "source": [
    "o = Old()\n",
    "print(Old.__dict__)\n",
    "print(o.old_a)\n",
    "print(o.__getattribute__('old_a'))\n",
    "print(o.__setattr__('age', 50), o.__getattribute__('age'))\n",
    "print(o.__dict__)\n",
    "print(o.__delattr__('age'))\n",
    "print(o.__dict__)"
   ]
  },
  {
   "cell_type": "code",
   "execution_count": 70,
   "metadata": {},
   "outputs": [
    {
     "name": "stdout",
     "output_type": "stream",
     "text": [
      "Help on wrapper_descriptor:\n",
      "\n",
      "__delattr__(self, name, /)\n",
      "    Implement delattr(self, name).\n",
      "\n"
     ]
    }
   ],
   "source": [
    "help(object.__delattr__)"
   ]
  },
  {
   "cell_type": "markdown",
   "metadata": {},
   "source": [
    "#### getattr 내장함수를 통해 점연산자 호출"
   ]
  },
  {
   "cell_type": "code",
   "execution_count": 71,
   "metadata": {},
   "outputs": [
    {
     "name": "stdout",
     "output_type": "stream",
     "text": [
      "'Old' object has no attribute 'major'\n"
     ]
    }
   ],
   "source": [
    "try :\n",
    "    getattr(o, \"major\")\n",
    "except Exception as e :\n",
    "    print(e)"
   ]
  },
  {
   "cell_type": "code",
   "execution_count": 72,
   "metadata": {},
   "outputs": [
    {
     "name": "stdout",
     "output_type": "stream",
     "text": [
      "CS\n"
     ]
    }
   ],
   "source": [
    "print(getattr(o, 'major', \"CS\"))"
   ]
  },
  {
   "cell_type": "markdown",
   "metadata": {},
   "source": [
    "### 사용자 클래스에 점 연산자를 접근해서 갱신하기"
   ]
  },
  {
   "cell_type": "code",
   "execution_count": 73,
   "metadata": {},
   "outputs": [],
   "source": [
    "class Empty:\n",
    "    def __setattr__(self, key, value):\n",
    "        print(\"__setattr__\")\n",
    "        self.__dict__[key] = value"
   ]
  },
  {
   "cell_type": "code",
   "execution_count": 74,
   "metadata": {},
   "outputs": [
    {
     "name": "stdout",
     "output_type": "stream",
     "text": [
      "__setattr__\n",
      "__setattr__\n",
      "__setattr__\n",
      "__setattr__\n",
      "__setattr__\n",
      "__setattr__\n"
     ]
    }
   ],
   "source": [
    "d = [\n",
    "    {'name': '홍길동', \"age\": 33},\n",
    "    {'name': '문길동', \"age\": 33},\n",
    "    {'name': '김길동', \"age\": 33}    \n",
    "]\n",
    "\n",
    "e_class = []\n",
    "\n",
    "for elem in d:\n",
    "    e = Empty()\n",
    "    for k, v in elem.items():\n",
    "        setattr(e, k, v)\n",
    "    e_class.append(e)"
   ]
  },
  {
   "cell_type": "markdown",
   "metadata": {},
   "source": [
    "### 호출연산 확인하기"
   ]
  },
  {
   "cell_type": "code",
   "execution_count": 75,
   "metadata": {},
   "outputs": [],
   "source": [
    "class B:\n",
    "    def c(self):\n",
    "        pass\n",
    "\n",
    "\n",
    "def a():\n",
    "    return \"function a\"\n",
    "\n"
   ]
  },
  {
   "cell_type": "code",
   "execution_count": 76,
   "metadata": {},
   "outputs": [
    {
     "name": "stdout",
     "output_type": "stream",
     "text": [
      "True\n",
      "True\n",
      "True\n"
     ]
    }
   ],
   "source": [
    "print(callable(B))\n",
    "print(callable(a))\n",
    "\n",
    "print(callable(B.c))"
   ]
  },
  {
   "cell_type": "markdown",
   "metadata": {},
   "source": [
    "#### 인스턴스 호출 확인하기 "
   ]
  },
  {
   "cell_type": "code",
   "execution_count": 77,
   "metadata": {},
   "outputs": [],
   "source": [
    "class A:\n",
    "    def c(self):\n",
    "        pass\n",
    "    \n",
    "    \n",
    "class B:\n",
    "    def __call__(self):\n",
    "        pass\n",
    "    \n",
    "    def c(self):\n",
    "        pass\n",
    "    "
   ]
  },
  {
   "cell_type": "code",
   "execution_count": 78,
   "metadata": {},
   "outputs": [
    {
     "name": "stdout",
     "output_type": "stream",
     "text": [
      "True\n",
      "False\n"
     ]
    }
   ],
   "source": [
    "b = B()\n",
    "print(callable(b))\n",
    "a = A()\n",
    "print(callable(a))"
   ]
  },
  {
   "cell_type": "markdown",
   "metadata": {},
   "source": [
    "### 컨텍스트 환경에 맞는 처리"
   ]
  },
  {
   "cell_type": "markdown",
   "metadata": {},
   "source": [
    "#### 파일을 처리할 때 실제 클로즈없이 처리 가능"
   ]
  },
  {
   "cell_type": "code",
   "execution_count": 79,
   "metadata": {},
   "outputs": [
    {
     "name": "stdout",
     "output_type": "stream",
     "text": [
      "Life is too short, you need python\n"
     ]
    }
   ],
   "source": [
    "with open(\"foo1.txt\", 'w') as f:\n",
    "    f.write('Life is too short, you need python')\n",
    "    \n",
    "    \n",
    "with open(\"foo1.txt\", 'r') as f1:\n",
    "    for i in f1:\n",
    "        print(i)"
   ]
  },
  {
   "cell_type": "markdown",
   "metadata": {},
   "source": [
    "#### 일반 파일을 읽고 컨텍스트 처리"
   ]
  },
  {
   "cell_type": "code",
   "execution_count": 80,
   "metadata": {},
   "outputs": [],
   "source": [
    "file = open('foo1.txt', 'r')"
   ]
  },
  {
   "cell_type": "code",
   "execution_count": 81,
   "metadata": {},
   "outputs": [
    {
     "name": "stdout",
     "output_type": "stream",
     "text": [
      "Help on built-in function __enter__:\n",
      "\n",
      "__enter__(...) method of _io.TextIOWrapper instance\n",
      "\n",
      "Help on built-in function __exit__:\n",
      "\n",
      "__exit__(...) method of _io.TextIOWrapper instance\n",
      "\n"
     ]
    }
   ],
   "source": [
    "help(file.__enter__)\n",
    "help(file.__exit__)"
   ]
  },
  {
   "cell_type": "code",
   "execution_count": 82,
   "metadata": {},
   "outputs": [],
   "source": [
    "file.__exit__(None, None, None)\n"
   ]
  },
  {
   "cell_type": "code",
   "execution_count": 83,
   "metadata": {},
   "outputs": [
    {
     "name": "stdout",
     "output_type": "stream",
     "text": [
      "I/O operation on closed file.\n"
     ]
    }
   ],
   "source": [
    "try :\n",
    "    print(file.read(1))\n",
    "except Exception as e :\n",
    "    print(e)"
   ]
  },
  {
   "cell_type": "markdown",
   "metadata": {},
   "source": [
    "### Sequence 클래스를 만들어서 확인하기"
   ]
  },
  {
   "cell_type": "code",
   "execution_count": 84,
   "metadata": {},
   "outputs": [],
   "source": [
    "class Seq:\n",
    "    def __init__(self, *args):\n",
    "        self.com = list(args)\n",
    "        \n",
    "    def __len__(self):\n",
    "        return len(self.com)\n",
    "    \n",
    "    def __getitem__(self, index):\n",
    "        return index\n",
    "    "
   ]
  },
  {
   "cell_type": "code",
   "execution_count": 85,
   "metadata": {},
   "outputs": [
    {
     "name": "stdout",
     "output_type": "stream",
     "text": [
      "0\n",
      "slice(1, 2, None)\n",
      "slice(0, 3, 1)\n"
     ]
    }
   ],
   "source": [
    "s = Seq(1, 2, 3, 4)\n",
    "print(s[0])\n",
    "print(s[1:2])\n",
    "print(s[0:3:1])"
   ]
  },
  {
   "cell_type": "markdown",
   "metadata": {},
   "source": [
    "### Sequence 정보 가져오기 "
   ]
  },
  {
   "cell_type": "code",
   "execution_count": 86,
   "metadata": {},
   "outputs": [],
   "source": [
    "class Seq:\n",
    "    def __init__(self, *args):\n",
    "        self.com = list(args)\n",
    "        \n",
    "    def __len__(self):\n",
    "        return len(self.com)\n",
    "    \n",
    "    def __getitem__(self, index):\n",
    "        return self.com[index]\n",
    "    \n"
   ]
  },
  {
   "cell_type": "code",
   "execution_count": 87,
   "metadata": {},
   "outputs": [
    {
     "name": "stdout",
     "output_type": "stream",
     "text": [
      "1\n",
      "[2]\n",
      "[1, 2, 3]\n"
     ]
    }
   ],
   "source": [
    "s = Seq(1, 2, 3, 4)\n",
    "print(s[0])\n",
    "print(s[1:2])\n",
    "print(s[0:3:1])"
   ]
  },
  {
   "cell_type": "code",
   "execution_count": null,
   "metadata": {},
   "outputs": [],
   "source": []
  }
 ],
 "metadata": {
  "kernelspec": {
   "display_name": "Python 3",
   "language": "python",
   "name": "python3"
  },
  "language_info": {
   "codemirror_mode": {
    "name": "ipython",
    "version": 3
   },
   "file_extension": ".py",
   "mimetype": "text/x-python",
   "name": "python",
   "nbconvert_exporter": "python",
   "pygments_lexer": "ipython3",
   "version": "3.6.6"
  }
 },
 "nbformat": 4,
 "nbformat_minor": 2
}
