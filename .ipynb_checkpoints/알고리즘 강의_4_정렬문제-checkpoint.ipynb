{
 "cells": [
  {
   "cell_type": "markdown",
   "metadata": {},
   "source": [
    "# 3. 그리디 알고리즘\n",
    "\n",
    "- 현재 상황에서 지금 당장 좋은 것만 고르는 방법\n",
    "- 창의력 문제 테스트용으로 처리"
   ]
  },
  {
   "cell_type": "markdown",
   "metadata": {},
   "source": [
    "##  잔돈을 처리하는 문제\n",
    "\n",
    "- 큰 돈을 먼저 빼도록 처리\n",
    "- 나머지를 다시 작은 잔돈으로 뺌\n"
   ]
  },
  {
   "cell_type": "code",
   "execution_count": 1,
   "metadata": {},
   "outputs": [
    {
     "name": "stdout",
     "output_type": "stream",
     "text": [
      "(2, 260)\n",
      "(2, 60)\n",
      "(1, 10)\n",
      "(1, 0)\n",
      "6\n"
     ]
    }
   ],
   "source": [
    "n = 1260\n",
    "\n",
    "count = 0\n",
    "coin_types = [ 500, 100, 50, 10]\n",
    "\n",
    "for coin in coin_types :\n",
    "    s = divmod(n, coin)\n",
    "    print(s)\n",
    "    count += s[0]\n",
    "    n %= coin\n",
    "print(count)"
   ]
  },
  {
   "cell_type": "markdown",
   "metadata": {},
   "source": [
    "## 잔돈을 함수로 처리하는 문제\n",
    "\n",
    "- 입력으로 받을 값을 매개변수 처리\n",
    "- 반환할 값은 함수 내부에 정의 \n"
   ]
  },
  {
   "cell_type": "code",
   "execution_count": 2,
   "metadata": {},
   "outputs": [],
   "source": [
    "def changes(amount) :\n",
    "    d = {500:0, 100:0, 50:0, 10:0}\n",
    "    for coin in coin_types :\n",
    "        s = divmod(amount, coin)\n",
    "        d[coin] += s[0]\n",
    "        amount %= coin\n",
    "    \n",
    "    return d "
   ]
  },
  {
   "cell_type": "code",
   "execution_count": 3,
   "metadata": {},
   "outputs": [
    {
     "data": {
      "text/plain": [
       "{500: 2, 100: 2, 50: 1, 10: 1}"
      ]
     },
     "execution_count": 3,
     "metadata": {},
     "output_type": "execute_result"
    }
   ],
   "source": [
    "changes(1260)"
   ]
  },
  {
   "cell_type": "markdown",
   "metadata": {},
   "source": [
    "## 잔돈을 클래스로 처리하는 문제\n",
    "\n",
    "- 속성으로 관리할 변수를 정의 \n",
    "- 계산을 하는 것을 메소드로 변환\n",
    "- 객체를 생성해서 메소드 호출 처리\n"
   ]
  },
  {
   "cell_type": "code",
   "execution_count": 4,
   "metadata": {},
   "outputs": [],
   "source": [
    "class Changes :\n",
    "    def __init__(self,coin_types) :\n",
    "        self.coin_types = coin_types\n",
    "        self.changes = { coin : 0 for coin in self.coin_types }\n",
    "        \n",
    "    def changes_count(self,amount) :\n",
    "    \n",
    "        for coin in self.coin_types :\n",
    "            s = divmod(amount, coin)\n",
    "            self.changes[coin] += s[0]\n",
    "            amount %= coin\n",
    "    \n",
    "        return self.changes"
   ]
  },
  {
   "cell_type": "code",
   "execution_count": 5,
   "metadata": {},
   "outputs": [],
   "source": [
    "c = Changes([500,100,50,10])"
   ]
  },
  {
   "cell_type": "code",
   "execution_count": 6,
   "metadata": {},
   "outputs": [
    {
     "data": {
      "text/plain": [
       "{'coin_types': [500, 100, 50, 10], 'changes': {500: 0, 100: 0, 50: 0, 10: 0}}"
      ]
     },
     "execution_count": 6,
     "metadata": {},
     "output_type": "execute_result"
    }
   ],
   "source": [
    "c.__dict__"
   ]
  },
  {
   "cell_type": "code",
   "execution_count": 7,
   "metadata": {},
   "outputs": [
    {
     "data": {
      "text/plain": [
       "{500: 2, 100: 2, 50: 1, 10: 1}"
      ]
     },
     "execution_count": 7,
     "metadata": {},
     "output_type": "execute_result"
    }
   ],
   "source": [
    "c.changes_count(1260)"
   ]
  },
  {
   "cell_type": "code",
   "execution_count": null,
   "metadata": {},
   "outputs": [],
   "source": []
  }
 ],
 "metadata": {
  "kernelspec": {
   "display_name": "Python 3",
   "language": "python",
   "name": "python3"
  },
  "language_info": {
   "codemirror_mode": {
    "name": "ipython",
    "version": 3
   },
   "file_extension": ".py",
   "mimetype": "text/x-python",
   "name": "python",
   "nbconvert_exporter": "python",
   "pygments_lexer": "ipython3",
   "version": "3.7.9"
  }
 },
 "nbformat": 4,
 "nbformat_minor": 2
}
