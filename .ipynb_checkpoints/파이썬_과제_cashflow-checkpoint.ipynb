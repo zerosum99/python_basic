{
 "cells": [
  {
   "cell_type": "markdown",
   "metadata": {},
   "source": [
    "## CashFlow 클라스 만들기.이 클래스는 다음과 같은 요소들을 가지고 있어야한다.\n",
    "\n",
    "  1.- CashFlow 인스턴스를 선언할때 name 변수가 설정이 되고 값은 \"Jou\"로 설정되어야한다. 또한 assets 변수가 설정이 되고 초기값은 숫자 10000\n",
    "\n",
    "2. set_name 메서드를 만들어서 string을 input으로 받아서 클래스의 name 변수에 저장한다.\n",
    "\n",
    "3. set_assets 메서드를 만들어서 숫자를 input으로 받아서 클래스의 assets 변수에 저장한다.\n",
    "\n",
    "4. income 메서드를 만들어서 수입을 input으로 받아서 asset에 더한다.\n",
    "\n",
    "5. expanse 메서드를 만들어서 지출을 input으로 받아서 입력값이 현재 assets 보다 많은 경우 \"Can't afford\" 메시지를 출력하고  현재 asset 보다 적은 경우 asset에서 지출을 뺀다.\n",
    "\n",
    "6. print_cashflow 메서드를 만들어서 수익과 지출을 입력받은 순서대로 출력한다.   단 수익은 그냥 숫자로 출력하고, 지출은 -를 붙여서 출력한다."
   ]
  },
  {
   "cell_type": "code",
   "execution_count": 28,
   "metadata": {},
   "outputs": [],
   "source": [
    "class CashFlow :\n",
    "    def __init__(self) :\n",
    "        self.name = \"Jou\"\n",
    "        self.assets = 10000\n",
    "        self.cashflow = []\n",
    "        \n",
    "    def set_name(self, name:str) :\n",
    "        self.name = name\n",
    "        \n",
    "    def set_assets(self, assets:int) :\n",
    "        self.assets = assets\n",
    "        \n",
    "    def income(self, income) :\n",
    "        self.assets += income\n",
    "        self.cashflow.append(income)\n",
    "        \n",
    "    def expense(self, expense) :\n",
    "        if expense > self.assets  :\n",
    "            print(\"Can't afford \")\n",
    "        else :\n",
    "            self.cashflow.append(-1 * expense)\n",
    "            self.assets -= expense\n",
    "                  \n",
    "    def print_cashflow(self) :\n",
    "        for i in self.cashflow :\n",
    "            print(i,end=\" \")"
   ]
  },
  {
   "cell_type": "code",
   "execution_count": 29,
   "metadata": {},
   "outputs": [
    {
     "name": "stdout",
     "output_type": "stream",
     "text": [
      "10000\n",
      "ajoucf\n",
      "20000\n",
      "Can't afford \n",
      "20000\n",
      "23000\n",
      "2999\n",
      "3199\n",
      "1699\n",
      "3000 -20001 200 -1500 "
     ]
    }
   ],
   "source": [
    "ajoucf = CashFlow()\n",
    "print(ajoucf.assets)\n",
    "ajoucf.set_assets(20000)\n",
    "ajoucf.set_name(\"ajoucf\")\n",
    "print(ajoucf.name)\n",
    "print(ajoucf.assets)\n",
    "ajoucf.expense(20001)\n",
    "print(ajoucf.assets)\n",
    "ajoucf.income(3000)\n",
    "print(ajoucf.assets)\n",
    "ajoucf.expense(20001)\n",
    "print(ajoucf.assets)\n",
    "ajoucf.income(200)\n",
    "print(ajoucf.assets)\n",
    "ajoucf.expense(1500)\n",
    "print(ajoucf.assets)\n",
    "ajoucf.print_cashflow()"
   ]
  },
  {
   "cell_type": "code",
   "execution_count": null,
   "metadata": {},
   "outputs": [],
   "source": []
  },
  {
   "cell_type": "code",
   "execution_count": null,
   "metadata": {},
   "outputs": [],
   "source": []
  },
  {
   "cell_type": "code",
   "execution_count": null,
   "metadata": {},
   "outputs": [],
   "source": []
  }
 ],
 "metadata": {
  "kernelspec": {
   "display_name": "Python 3",
   "language": "python",
   "name": "python3"
  },
  "language_info": {
   "codemirror_mode": {
    "name": "ipython",
    "version": 3
   },
   "file_extension": ".py",
   "mimetype": "text/x-python",
   "name": "python",
   "nbconvert_exporter": "python",
   "pygments_lexer": "ipython3",
   "version": "3.7.7"
  }
 },
 "nbformat": 4,
 "nbformat_minor": 4
}
