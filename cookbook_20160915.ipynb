{
 "cells": [
  {
   "cell_type": "code",
   "execution_count": 13,
   "metadata": {
    "collapsed": false
   },
   "outputs": [
    {
     "name": "stdout",
     "output_type": "stream",
     "text": [
      "['batchelder', 'beazley', 'hettiner', 'jones']\n"
     ]
    }
   ],
   "source": [
    "name = ['David Beazley', 'Brian Jones', 'Raymond Hettiner','Ned Batchelder']\n",
    "\n",
    "def rev_sort(names) :\n",
    "    return names.split()[-1].lower()\n",
    "\n",
    "l = []\n",
    "for i in name :\n",
    "    l.append(rev_sort(i))\n",
    "    \n",
    "l.sort()\n",
    "print(l)\n"
   ]
  },
  {
   "cell_type": "markdown",
   "metadata": {},
   "source": [
    "## sorted 메소드는 하나의 값에 대한 결과를 처리\n",
    "\n",
    "    내부적으로 하나의 결과값을 비교해서 결과값을 sorted 처리해서 하나의 다른 객체를 구함\n",
    "    "
   ]
  },
  {
   "cell_type": "code",
   "execution_count": 10,
   "metadata": {
    "collapsed": false
   },
   "outputs": [
    {
     "data": {
      "text/plain": [
       "['Ned Batchelder', 'David Beazley', 'Raymond Hettiner', 'Brian Jones']"
      ]
     },
     "execution_count": 10,
     "metadata": {},
     "output_type": "execute_result"
    }
   ],
   "source": [
    "sorted(name, key=lambda name : name.split()[-1].lower() )"
   ]
  },
  {
   "cell_type": "code",
   "execution_count": 15,
   "metadata": {
    "collapsed": false
   },
   "outputs": [
    {
     "data": {
      "text/plain": [
       "['Ned Batchelder', 'David Beazley', 'Raymond Hettiner', 'Brian Jones']"
      ]
     },
     "execution_count": 15,
     "metadata": {},
     "output_type": "execute_result"
    }
   ],
   "source": [
    "sorted(name, key=rev_sort )"
   ]
  },
  {
   "cell_type": "markdown",
   "metadata": {},
   "source": [
    "## 함수의 인자 점검하기\n",
    "\n",
    "   함수에 인자를 받을 때 키워드 인자와 구별할 경우 *만 사용해서 분리할 수 있다.\n",
    "   단지 값을 넣으면 type 에러가 발생"
   ]
  },
  {
   "cell_type": "code",
   "execution_count": 17,
   "metadata": {
    "collapsed": false
   },
   "outputs": [
    {
     "name": "stdout",
     "output_type": "stream",
     "text": [
      "{'args': (2, 3, 4), 'a': 1}\n"
     ]
    }
   ],
   "source": [
    "def f(a,*args) :\n",
    "    return locals()\n",
    "\n",
    "print(f(1,2,3,4))\n"
   ]
  },
  {
   "cell_type": "code",
   "execution_count": 22,
   "metadata": {
    "collapsed": false
   },
   "outputs": [
    {
     "name": "stdout",
     "output_type": "stream",
     "text": [
      "{'args': (), 'a': 1, 'b': 2}\n",
      "{'args': (2,), 'a': 1, 'b': 3}\n"
     ]
    },
    {
     "ename": "TypeError",
     "evalue": "f2() takes 1 positional argument but 2 positional arguments (and 1 keyword-only argument) were given",
     "output_type": "error",
     "traceback": [
      "\u001b[0;31m---------------------------------------------------------------------------\u001b[0m",
      "\u001b[0;31mTypeError\u001b[0m                                 Traceback (most recent call last)",
      "\u001b[0;32m<ipython-input-22-f1ccdda87af1>\u001b[0m in \u001b[0;36m<module>\u001b[0;34m()\u001b[0m\n\u001b[1;32m      9\u001b[0m     \u001b[0;32mreturn\u001b[0m \u001b[0mlocals\u001b[0m\u001b[0;34m(\u001b[0m\u001b[0;34m)\u001b[0m\u001b[0;34m\u001b[0m\u001b[0m\n\u001b[1;32m     10\u001b[0m \u001b[0;34m\u001b[0m\u001b[0m\n\u001b[0;32m---> 11\u001b[0;31m \u001b[0mprint\u001b[0m\u001b[0;34m(\u001b[0m\u001b[0mf2\u001b[0m\u001b[0;34m(\u001b[0m\u001b[0;36m1\u001b[0m\u001b[0;34m,\u001b[0m\u001b[0;36m2\u001b[0m\u001b[0;34m,\u001b[0m\u001b[0mb\u001b[0m\u001b[0;34m=\u001b[0m\u001b[0;36m3\u001b[0m\u001b[0;34m)\u001b[0m\u001b[0;34m)\u001b[0m\u001b[0;34m\u001b[0m\u001b[0m\n\u001b[0m",
      "\u001b[0;31mTypeError\u001b[0m: f2() takes 1 positional argument but 2 positional arguments (and 1 keyword-only argument) were given"
     ]
    }
   ],
   "source": [
    "def f1(a,*args,b) :\n",
    "    return locals()\n",
    "\n",
    "print(f1(1,b=2))\n",
    "\n",
    "print(f1(1,2,b=3))\n",
    "\n",
    "def f2(a,*,b) :\n",
    "    return locals()\n",
    "\n",
    "print(f2(1,2,b=3))"
   ]
  },
  {
   "cell_type": "markdown",
   "metadata": {},
   "source": [
    "## lambda 함수에 초기값인자를 넣는 법응 함수 초기값 인자를 넣는 것과 동일"
   ]
  },
  {
   "cell_type": "code",
   "execution_count": 24,
   "metadata": {
    "collapsed": false
   },
   "outputs": [
    {
     "name": "stdout",
     "output_type": "stream",
     "text": [
      "20\n",
      "30\n"
     ]
    }
   ],
   "source": [
    "a = lambda x,y=10 : x+y\n",
    "print(a(10))\n",
    "print(a(10,20))"
   ]
  },
  {
   "cell_type": "markdown",
   "metadata": {},
   "source": [
    "## 리스트 컴프리헨션 내도 하나의 스코프를 가진다.\n",
    "\n",
    "    컴프리헨션 내의 변수도 하나의 스코프를 가지고 있어 이를 기반으로 생성된 람다함수에서 이를 사용한다.\n",
    "    n이 값은 최종이므로 4가 호출됨.\n",
    "    "
   ]
  },
  {
   "cell_type": "code",
   "execution_count": 25,
   "metadata": {
    "collapsed": false
   },
   "outputs": [
    {
     "name": "stdout",
     "output_type": "stream",
     "text": [
      "4\n",
      "4\n",
      "4\n",
      "4\n",
      "4\n"
     ]
    }
   ],
   "source": [
    "funcs = [lambda x: x+n for n in range(5)]\n",
    "for f in funcs :\n",
    "    print(f(0))"
   ]
  },
  {
   "cell_type": "markdown",
   "metadata": {},
   "source": [
    "## class method, instance method에는 __self__가 존재\n",
    "\n",
    "    class method에는 __self__에 class 객체 주소가 세팅\n",
    "    instance method에는 __self__에 instance 객체 주소가 세팅\n",
    "    \n",
    "    static methoddpsms __self__속성이 존재하지 않아서 일반 함수랑 동일하다.\n",
    "    class 내에서 함수를 사용하기 위해 정의해서 사용함\n",
    "    "
   ]
  },
  {
   "cell_type": "code",
   "execution_count": 35,
   "metadata": {
    "collapsed": false
   },
   "outputs": [
    {
     "name": "stdout",
     "output_type": "stream",
     "text": [
      "['__call__', '__class__', '__delattr__', '__dir__', '__doc__', '__eq__', '__format__', '__func__', '__ge__', '__get__', '__getattribute__', '__gt__', '__hash__', '__init__', '__le__', '__lt__', '__ne__', '__new__', '__reduce__', '__reduce_ex__', '__repr__', '__self__', '__setattr__', '__sizeof__', '__str__', '__subclasshook__']\n",
      "<__main__.A object at 0x104980550>\n",
      "<__main__.A object at 0x104980588>\n",
      "['__call__', '__class__', '__delattr__', '__dir__', '__doc__', '__eq__', '__format__', '__func__', '__ge__', '__get__', '__getattribute__', '__gt__', '__hash__', '__init__', '__le__', '__lt__', '__ne__', '__new__', '__reduce__', '__reduce_ex__', '__repr__', '__self__', '__setattr__', '__sizeof__', '__str__', '__subclasshook__']\n",
      "<class '__main__.A'> <class '__main__.A'>\n",
      "['__annotations__', '__call__', '__class__', '__closure__', '__code__', '__defaults__', '__delattr__', '__dict__', '__dir__', '__doc__', '__eq__', '__format__', '__ge__', '__get__', '__getattribute__', '__globals__', '__gt__', '__hash__', '__init__', '__kwdefaults__', '__le__', '__lt__', '__module__', '__name__', '__ne__', '__new__', '__qualname__', '__reduce__', '__reduce_ex__', '__repr__', '__setattr__', '__sizeof__', '__str__', '__subclasshook__']\n"
     ]
    }
   ],
   "source": [
    "class A() :\n",
    "    def __init__(self,name) :\n",
    "        self.name = name\n",
    "        \n",
    "    def getName(self) :\n",
    "        return self.name\n",
    "    \n",
    "    @classmethod\n",
    "    def getCLS(cls) :\n",
    "        print(\"cls\")\n",
    "        \n",
    "    @staticmethod\n",
    "    def getstat() :\n",
    "        print(\"static\")\n",
    "\n",
    "a = A(\"moon\")\n",
    "print(dir(a.getName))\n",
    "print(A(\"dahl\").getName.__self__)\n",
    "print(A(\"dahl\").__init__.__self__)\n",
    "\n",
    "print(dir(A.getCLS))\n",
    "print(A, A.getCLS.__self__)\n",
    "\n",
    "print(dir(A.getstat))\n"
   ]
  },
  {
   "cell_type": "code",
   "execution_count": null,
   "metadata": {
    "collapsed": true
   },
   "outputs": [],
   "source": []
  }
 ],
 "metadata": {
  "kernelspec": {
   "display_name": "Python 3",
   "language": "python",
   "name": "python3"
  },
  "language_info": {
   "codemirror_mode": {
    "name": "ipython",
    "version": 3
   },
   "file_extension": ".py",
   "mimetype": "text/x-python",
   "name": "python",
   "nbconvert_exporter": "python",
   "pygments_lexer": "ipython3",
   "version": "3.5.2"
  }
 },
 "nbformat": 4,
 "nbformat_minor": 1
}
