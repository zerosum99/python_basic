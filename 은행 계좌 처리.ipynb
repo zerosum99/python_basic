{
 "cells": [
  {
   "cell_type": "code",
   "execution_count": 1,
   "metadata": {},
   "outputs": [],
   "source": [
    "class account:\n",
    "    def __init__(self,name,money):\n",
    "        self.name=name\n",
    "        self.balance=int(money)\n",
    "        print(self.name,self.balance)\n",
    "        print('Great!!')\n",
    "        \n",
    "    def deposit(self,money):\n",
    "        money=int(money)\n",
    "        self.balance+=money\n",
    "        \n",
    "    def withDraw(self,money):\n",
    "        money=int(money)\n",
    "        if self.balance >= money:\n",
    "            self.balance -= money\n",
    "        else:\n",
    "            print(\"잔고가 부족하여\",self.balance,\"만큼만 인출되었습니다.\")\n",
    "            self.balance=0\n",
    "            \n",
    "    def showBalance(self):\n",
    "        return self.name,self.balance\n",
    "    def showName(self):\n",
    "        return self.name\n",
    "    def __del__(self):\n",
    "        print(\"Stupid... bye~~~\")"
   ]
  },
  {
   "cell_type": "code",
   "execution_count": 3,
   "metadata": {},
   "outputs": [
    {
     "name": "stdout",
     "output_type": "stream",
     "text": [
      "******************************MENU************************************************************** \n",
      "1. 개좌 개설     2. 적금     3. 인출     4.잔액조회     5.전계좌 출력     6.계좌 삭제     7.종료\n",
      "Select menu:7 \n"
     ]
    }
   ],
   "source": [
    "\n",
    "\n",
    "dic={}  \n",
    "    \n",
    "while True:\n",
    "    print(\"\"\"******************************MENU************************************************************** \"\"\")\n",
    "    print('''1. 개좌 개설     2. 적금     3. 인출     4.잔액조회     5.전계좌 출력     6.계좌 삭제     7.종료''')\n",
    "    \n",
    "    num=int(input(\"Select menu:\"))\n",
    "    if num==1:\n",
    "        name=  input(\"당신의 이름은?               :\")\n",
    "        money= input(\"통장에 넣을 액수를 입력하세요:\")\n",
    "        number=input(\"원하는 계좌번호를 입력하세요 :\")\n",
    "        asdf='acc'+str(number)\n",
    "        asdf=account(name,money)\n",
    "        dic[number]=asdf\n",
    "        print(type(dic[number]))\n",
    "    elif num==2:\n",
    "        number=input(\"적금할 계좌의 계좌번호를 입력하세요:\")\n",
    "        if number in dic:\n",
    "            money=input(\"적금할 금액을 입력하세요:\")\n",
    "            dic[number].deposit(money)\n",
    "            print('*****NOW*****')\n",
    "            print(number,\" :\",asdf.showBalance())\n",
    "        else:\n",
    "            print(\"없는 계좌입니다. 계좌를 생성하세요\")\n",
    "            continue\n",
    "    elif num==3:\n",
    "        number=input(\"인출할 계좌의 계좌번호를 입력하세요:\")\n",
    "        if number in dic:\n",
    "            money=input(\"인출할 금액을 입력하세요:\")\n",
    "            dic[number].withDraw(money)\n",
    "            print('*****NOW*****')\n",
    "            print(number,\" :\",asdf.showBalance())\n",
    "        else:\n",
    "            print(\"없는 계좌입니다 계좌를 생성하세요\")\n",
    "            continue\n",
    "    elif num==4:\n",
    "        number=input(\"잔고를 확인할 계좌의 계좌번호를 입력하세요:\")\n",
    "        if number in dic:\n",
    "            print('*****NOW*****')\n",
    "            print(dic[number].showBalance())\n",
    "        else:\n",
    "            print(\"없는 계좌입니다 계좌를 생성하세요\")\n",
    "    elif num==5:\n",
    "        print(\"----------All Account-------------\")\n",
    "        acnu=list(dic.keys())\n",
    "        acins=list(dic.values())\n",
    "        acnm=[]\n",
    "        acbl=[]\n",
    "        for i in acins:\n",
    "            acnm.append(i.showName())\n",
    "            acbl.append(i.showBalance())\n",
    "        for i in range(len(acnu)):\n",
    "            print(acnu[i],acnm[i],acbl[i])\n",
    "    elif num==6:\n",
    "        number=input(\"삭제할 계좌의 계좌번호를 입력하세요:\")\n",
    "        if number in dic:\n",
    "            del dic[number]\n",
    "        else:\n",
    "            print(\"없는 계좌입니다 번호를 다시 입력해주세요\")\n",
    "    elif num==7:\n",
    "        break"
   ]
  },
  {
   "cell_type": "code",
   "execution_count": null,
   "metadata": {},
   "outputs": [],
   "source": []
  }
 ],
 "metadata": {
  "kernelspec": {
   "display_name": "Python 3",
   "language": "python",
   "name": "python3"
  },
  "language_info": {
   "codemirror_mode": {
    "name": "ipython",
    "version": 3
   },
   "file_extension": ".py",
   "mimetype": "text/x-python",
   "name": "python",
   "nbconvert_exporter": "python",
   "pygments_lexer": "ipython3",
   "version": "3.6.7"
  }
 },
 "nbformat": 4,
 "nbformat_minor": 2
}
